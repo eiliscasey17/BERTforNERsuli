{
 "cells": [
  {
   "cell_type": "markdown",
   "metadata": {
    "id": "ePokOkwMP9rm"
   },
   "source": [
    "# Install and import libraries"
   ]
  },
  {
   "cell_type": "code",
   "execution_count": 1,
   "metadata": {
    "id": "huXbO1hpiBfz"
   },
   "outputs": [
    {
     "name": "stderr",
     "output_type": "stream",
     "text": [
      "2023-07-05 09:43:05.004063: I tensorflow/core/platform/cpu_feature_guard.cc:182] This TensorFlow binary is optimized to use available CPU instructions in performance-critical operations.\n",
      "To enable the following instructions: AVX2 AVX512F FMA, in other operations, rebuild TensorFlow with the appropriate compiler flags.\n",
      "2023-07-05 09:43:05.526808: W tensorflow/compiler/tf2tensorrt/utils/py_utils.cc:38] TF-TRT Warning: Could not find TensorRT\n"
     ]
    }
   ],
   "source": [
    "import pandas as pd\n",
    "import numpy as np\n",
    "from tqdm import tqdm, trange\n",
    "import csv\n",
    "import matplotlib.pyplot as plt\n",
    "%matplotlib inline\n",
    "import seaborn as sns\n",
    "import statistics\n",
    "\n",
    "import torch\n",
    "from torch.utils.data import TensorDataset, DataLoader, RandomSampler, SequentialSampler\n",
    "from transformers import BertTokenizer, BertConfig\n",
    "\n",
    "from keras_preprocessing.sequence import pad_sequences\n",
    "from sklearn.model_selection import train_test_split\n",
    "\n",
    "import transformers\n",
    "from transformers import BertForTokenClassification, AdamW\n",
    "from transformers import get_linear_schedule_with_warmup\n",
    "\n",
    "from seqeval.metrics import f1_score, accuracy_score"
   ]
  },
  {
   "cell_type": "markdown",
   "metadata": {
    "id": "RitZN9B6RdGR"
   },
   "source": [
    "# Check GPU availability"
   ]
  },
  {
   "cell_type": "code",
   "execution_count": 2,
   "metadata": {
    "colab": {
     "base_uri": "https://localhost:8080/",
     "height": 35
    },
    "id": "bqXRG3DM10am",
    "outputId": "a09e99a5-a6f5-4a23-9e70-91b450061ee6"
   },
   "outputs": [
    {
     "data": {
      "text/plain": [
       "'NVIDIA GeForce RTX 2080 Ti'"
      ]
     },
     "execution_count": 2,
     "metadata": {},
     "output_type": "execute_result"
    }
   ],
   "source": [
    "device = torch.device(\"cuda\" if torch.cuda.is_available() else \"cpu\")\n",
    "n_gpu = torch.cuda.device_count()\n",
    "torch.cuda.get_device_name(0)"
   ]
  },
  {
   "cell_type": "markdown",
   "metadata": {
    "id": "oE4OVxV1LLH1"
   },
   "source": [
    "# **Preprocessing data**"
   ]
  },
  {
   "cell_type": "code",
   "execution_count": 3,
   "metadata": {
    "colab": {
     "base_uri": "https://localhost:8080/"
    },
    "id": "UwdutbL7A3zt",
    "outputId": "e1f76707-19c3-47d3-db09-4705663a4702",
    "scrolled": false
   },
   "outputs": [
    {
     "name": "stdout",
     "output_type": "stream",
     "text": [
      "[{'label': 6, 'start_offset': 17, 'end_offset': 28, 'user': 1, 'created_at': '2023-06-14T14:36:46.643706Z', 'updated_at': '2023-06-14T14:36:46.643737Z'}, {'label': 2, 'start_offset': 89, 'end_offset': 91, 'user': 1, 'created_at': '2023-06-14T14:37:01.615695Z', 'updated_at': '2023-06-26T13:46:16.108486Z'}, {'label': 6, 'start_offset': 247, 'end_offset': 258, 'user': 1, 'created_at': '2023-06-14T14:37:39.635439Z', 'updated_at': '2023-06-14T14:37:39.635488Z'}, {'label': 3, 'start_offset': 461, 'end_offset': 475, 'user': 1, 'created_at': '2023-06-14T14:38:01.779370Z', 'updated_at': '2023-06-14T14:38:01.779403Z'}, {'label': 1, 'start_offset': 477, 'end_offset': 481, 'user': 1, 'created_at': '2023-06-14T14:38:12.949077Z', 'updated_at': '2023-06-26T14:45:46.411185Z'}, {'label': 2, 'start_offset': 498, 'end_offset': 500, 'user': 1, 'created_at': '2023-06-14T14:39:21.688854Z', 'updated_at': '2023-06-26T13:46:09.687470Z'}, {'label': 6, 'start_offset': 540, 'end_offset': 551, 'user': 1, 'created_at': '2023-06-14T14:39:34.338738Z', 'updated_at': '2023-06-14T14:39:34.338768Z'}, {'label': 3, 'start_offset': 573, 'end_offset': 580, 'user': 1, 'created_at': '2023-06-14T14:39:42.590250Z', 'updated_at': '2023-06-14T14:39:42.590279Z'}, {'label': 3, 'start_offset': 608, 'end_offset': 615, 'user': 1, 'created_at': '2023-06-14T14:39:47.557756Z', 'updated_at': '2023-06-14T14:39:47.557783Z'}, {'label': 1, 'start_offset': 375, 'end_offset': 379, 'user': 1, 'created_at': '2023-06-14T14:39:54.769686Z', 'updated_at': '2023-06-26T14:45:43.762086Z'}, {'label': 1, 'start_offset': 328, 'end_offset': 332, 'user': 1, 'created_at': '2023-06-14T14:39:59.229334Z', 'updated_at': '2023-06-26T14:45:45.181608Z'}, {'label': 1, 'start_offset': 133, 'end_offset': 137, 'user': 1, 'created_at': '2023-06-26T14:45:06.175675Z', 'updated_at': '2023-06-26T14:45:42.647564Z'}, {'label': 1, 'start_offset': 116, 'end_offset': 131, 'user': 1, 'created_at': '2023-06-26T14:45:08.822924Z', 'updated_at': '2023-06-26T14:45:41.470871Z'}]\n",
      "The influence of γ-radiation on the physical characteristics and sorption properties for Am of the solid extractant AXIONIT MND 40T (TVEX) synthesized by Axion-Rare and Noble Metals JSC (Perm) was studied. With an increase of the absorbed dose of γ-radiation, the granulometric composition, bulk density, and specific volume of TVEX change insignificantly. The IR spectra of TVEX demonstrate significant radiation degradation at an absorbed radiation dose from 1.4 to 2.5 MGy. TVEX is an effective Am sorbent when irradiated to an absorbed γ-radiation dose of no more than 0.6 MGy. At an irradiation dose of 2.5 MGy sorption capacity is significantly reduced.\n",
      "17\n"
     ]
    }
   ],
   "source": [
    "# Reading data\n",
    "import json\n",
    "\n",
    "\n",
    "#open the file, and format correctly\n",
    "f =open('dataset.jsonl', 'r')\n",
    "json_object = json.dumps(f.readlines(), indent=4)\n",
    "f.close()\n",
    "\n",
    "#save better format into file\n",
    "p = open('sample.txt', 'w')\n",
    "for i in json_object:\n",
    "    p.write(i)\n",
    "p.close()\n",
    "\n",
    "#open new file, and save each \n",
    "j = open('sample.txt', 'r')\n",
    "text = json.loads(j.read())\n",
    "j.close()\n",
    "\n",
    "#compile all json dicts into a list\n",
    "info = []\n",
    "for i in text:\n",
    "    info.append(json.loads(str(i)))\n",
    "    \n",
    "\n",
    "#test it\n",
    "print(info[0]['annotations'])\n",
    "print(info[0]['text'])\n",
    "print(info[0]['annotations'][0]['start_offset'])"
   ]
  },
  {
   "cell_type": "code",
   "execution_count": 4,
   "metadata": {},
   "outputs": [],
   "source": [
    "def labeler1(sent, text, annotations):\n",
    "    #sent will be the already parsed sentence, with everything removed\n",
    "    #text will be the straight sentence, info[i]['text']\n",
    "    #annotations will be the list of labels, must be info[i]['annotations']\n",
    "    \n",
    "    #monitor where in the text we are\n",
    "    text_index = 0\n",
    "    \n",
    "    #monitor which word we are in\n",
    "    sent_index = 0\n",
    "    \n",
    "    #keep track of which annotation label we are applying\n",
    "    annotation_index = 0\n",
    "    \n",
    "    #will return all labels for each words\n",
    "    labels = []\n",
    "  \n",
    "    while text_index < len(text) and sent_index < len(sent):\n",
    "        if annotation_index >= len(annotations):\n",
    "            for i in range(len(labels)-1, len(sent)):\n",
    "                labels.append(data_tags[0])\n",
    "                return labels\n",
    "        \n",
    "        #check if we are at the correct index\n",
    "        if text[text_index]== sent[sent_index][0]:\n",
    "            \n",
    "            #double check\n",
    "            if len(sent[sent_index])==1 or text[text_index+1]== sent[sent_index][1]:\n",
    "                \n",
    "                #if not true and the current label aplies to text behind the index behind current, adjest label that you are looking at\n",
    "                if text_index > annotations[annotation_index]['end_offset']:\n",
    "                    annotation_index +=1\n",
    "                    \n",
    "                else:\n",
    "            \n",
    "                    #check if the current text label falls in a label range.\n",
    "                    #if true, apply correct label and move text_index and sent_index\n",
    "                    if text_index >= annotations[annotation_index]['start_offset'] and text_index <= annotations[annotation_index]['end_offset']:\n",
    "                        if len(labels)==0:\n",
    "                            labels.append(data_tags[2*(annotations[annotation_index]['label'])])\n",
    "                        elif labels[-1] == data_tags[2*(annotations[annotation_index]['label'])] or labels[-1] == data_tags[2*(annotations[annotation_index]['label'])-1]:\n",
    "                            labels.append(data_tags[2*(annotations[annotation_index]['label'])])\n",
    "                        else:\n",
    "                            labels.append(data_tags[2*(annotations[annotation_index]['label'])-1])\n",
    "                    \n",
    "                    #if no label applies, apply '0' tag\n",
    "                    else:\n",
    "                        labels.append(data_tags[0])\n",
    "                    \n",
    "                    #adjust which word you are looking at and text_index\n",
    "                    text_index += len(sent[sent_index])\n",
    "                    sent_index += 1\n",
    "                    \n",
    "                \n",
    "            else:\n",
    "                text_index+=1\n",
    "        else:\n",
    "            text_index+=1\n",
    "            \n",
    "            \n",
    "    return labels\n",
    "        \n",
    " "
   ]
  },
  {
   "cell_type": "code",
   "execution_count": 5,
   "metadata": {},
   "outputs": [],
   "source": [
    "def labeler2(sent, text, annotations):\n",
    "    #sent will be the already parsed sentence, with everything removed\n",
    "    #text will be the straight sentence, info[i]['text']\n",
    "    #annotations will be the list of labels, must be info[i]['annotations']\n",
    "    \n",
    "    #monitor where in the text we are\n",
    "    text_index = 0\n",
    "    \n",
    "    #keep track of which annotation label we are applying\n",
    "    annotation_index = 0\n",
    "    \n",
    "    #will return all labels for each words\n",
    "    labels = []\n",
    "    \n",
    "    for i in range(0, len(sent)):\n",
    "        if len(annotations) ==0:\n",
    "            return [data_tags[0] for j in range(len(sent[i]))]\n",
    "                    \n",
    "        elif text_index == annotations[annotation_index]['start_offset']:\n",
    "            \n",
    "            labels.append(data_tags[2 * annotations[annotation_index]['label']-1])\n",
    "            \n",
    "        elif text_index >= annotations[annotation_index]['start_offset'] and text_index <= annotations[annotation_index]['end_offset']:\n",
    "            if labels[i-1]==data_tags[0]:\n",
    "                \n",
    "                labels.append(data_tags[2 * annotations[annotation_index]['label']-1])\n",
    "            else:\n",
    "               \n",
    "                labels.append(data_tags[(2 * annotations[annotation_index]['label'] ) ])\n",
    "            \n",
    "        elif text_index > annotations[annotation_index]['end_offset']:\n",
    "            if text_index + 1 == annotations[annotation_index]['start_offset']:\n",
    "                \n",
    "                labels.append(data_tags[2 * annotations[annotation_index]['label']-1])\n",
    "            else: \n",
    "                annotation_index+=1\n",
    "               \n",
    "                labels.append(data_tags[0])\n",
    "                if annotation_index>=len(annotations):\n",
    "                    annotation_index = annotation_index -1\n",
    "        else:\n",
    "        \n",
    "            labels.append(data_tags[0])\n",
    "            \n",
    "        text_index+= (len(sent[i])+1)\n",
    "    return labels\n",
    "    "
   ]
  },
  {
   "cell_type": "code",
   "execution_count": 6,
   "metadata": {},
   "outputs": [],
   "source": [
    "def labeler3(sent, text, annotations):\n",
    "    #sent will be the already parsed sentence, with everything removed\n",
    "    #text will be the straight sentence, info[i]['text']\n",
    "    #annotations will be the list of labels, must be info[i]['annotations']\n",
    "    \n",
    "    #monitor where in the text we are\n",
    "    text_index = 0\n",
    "    \n",
    "    #monitor which word we are in\n",
    "    sent_index = 0\n",
    "    \n",
    "    #keep track of which annotation label we are applying\n",
    "    annotation_index = 0\n",
    "    \n",
    "    #will return all labels for each words\n",
    "    labels = []\n",
    "    \n",
    "    "
   ]
  },
  {
   "cell_type": "code",
   "execution_count": 7,
   "metadata": {
    "colab": {
     "base_uri": "https://localhost:8080/",
     "height": 66,
     "referenced_widgets": [
      "90bfea074fb74029988d843be156887d",
      "a73c84059bc649f8b21c25f32662de32",
      "2042a2bd748246de8e33be4c188715ca",
      "79e1052f1ce14de09b93b29f36fcdf26",
      "b14647f6aae14ecc8a519df754f03037",
      "d1144a9b389f47df90b5c127031bfd3a",
      "5cd5dba2aea04e8ab8f4d6571e1d8ad7",
      "f8753b1167d24669982f270213629a70"
     ]
    },
    "id": "qhpKOKSr136j",
    "outputId": "3d599ff1-d06d-43ec-cf91-053d8f241bdf"
   },
   "outputs": [],
   "source": [
    "# To use the BERT, you must use the BERT Tokenizer\n",
    "tokenizer = BertTokenizer.from_pretrained('allenai/scibert_scivocab_uncased', do_lower_case=True)\n"
   ]
  },
  {
   "cell_type": "code",
   "execution_count": 8,
   "metadata": {},
   "outputs": [],
   "source": [
    "import re\n",
    "\n",
    "def splitter1():\n",
    "    return [re.findall(r\"[\\w']+\", info[i]['text']) for i in range(len(info))]\n",
    "\n",
    "def splitter2():\n",
    "    return [info[i]['text'].split() for i in range(len(info))]\n",
    "    \n",
    "def splitter3():\n",
    "    l = []\n",
    "    for i in range(len(info)):\n",
    "        sent = tokenizer.tokenize(info[i]['text'])\n",
    "        for i in range(len(sent)):\n",
    "            if sent[i][0]=='#':\n",
    "                sent[i] = sent[i][2:]\n",
    "        print(sent)       \n",
    "        l.append(sent)\n",
    "    return l\n",
    "        \n",
    "    \n",
    "    "
   ]
  },
  {
   "cell_type": "code",
   "execution_count": 9,
   "metadata": {},
   "outputs": [],
   "source": [
    "def processor(splitmethod, labelmethod):\n",
    "    s = splitmethod()\n",
    "    \n",
    "    l=[]\n",
    "\n",
    "    for i in range(len(s)):\n",
    "        l.append(labelmethod(s[i], info[i]['text'], info[i]['annotations'] ))\n",
    "    \n",
    "    return s, l"
   ]
  },
  {
   "cell_type": "code",
   "execution_count": 10,
   "metadata": {},
   "outputs": [
    {
     "name": "stdout",
     "output_type": "stream",
     "text": [
      "['the', 'influence', 'of', 'γ', '-', 'radiation', 'on', 'the', 'physical', 'characteristics', 'and', 'sorption', 'properties', 'for', 'am', 'of', 'the', 'solid', 'extract', '##ant', 'axi', '##onit', 'mn', '##d', '40', '##t', '(', 'tv', '##ex', ')', 'synthesized', 'by', 'axi', '##on', '-', 'rare', 'and', 'noble', 'metals', 'js', '##c', '(', 'perm', ')', 'was', 'studied', '.', 'with', 'an', 'increase', 'of', 'the', 'absorbed', 'dose', 'of', 'γ', '-', 'radiation', ',', 'the', 'granul', '##ometric', 'composition', ',', 'bulk', 'density', ',', 'and', 'specific', 'volume', 'of', 'tv', '##ex', 'change', 'insignificant', '##ly', '.', 'the', 'ir', 'spectra', 'of', 'tv', '##ex', 'demonstrate', 'significant', 'radiation', 'degradation', 'at', 'an', 'absorbed', 'radiation', 'dose', 'from', '1', '.', '4', 'to', '2', '.', '5', 'mg', '##y', '.', 'tv', '##ex', 'is', 'an', 'effective', 'am', 'sor', '##ben', '##t', 'when', 'irradiated', 'to', 'an', 'absorbed', 'γ', '-', 'radiation', 'dose', 'of', 'no', 'more', 'than', '0', '.', '6', 'mg', '##y', '.', 'at', 'an', 'irradiation', 'dose', 'of', '2', '.', '5', 'mg', '##y', 'sorption', 'capacity', 'is', 'significantly', 'reduced', '.']\n"
     ]
    }
   ],
   "source": [
    "print(tokenizer.tokenize(info[0]['text']))"
   ]
  },
  {
   "cell_type": "code",
   "execution_count": 11,
   "metadata": {},
   "outputs": [
    {
     "name": "stdout",
     "output_type": "stream",
     "text": [
      "['the', 'influence', 'of', 'γ', '-', 'radiation', 'on', 'the', 'physical', 'characteristics', 'and', 'sorption', 'properties', 'for', 'am', 'of', 'the', 'solid', 'extract', 'ant', 'axi', 'onit', 'mn', 'd', '40', 't', '(', 'tv', 'ex', ')', 'synthesized', 'by', 'axi', 'on', '-', 'rare', 'and', 'noble', 'metals', 'js', 'c', '(', 'perm', ')', 'was', 'studied', '.', 'with', 'an', 'increase', 'of', 'the', 'absorbed', 'dose', 'of', 'γ', '-', 'radiation', ',', 'the', 'granul', 'ometric', 'composition', ',', 'bulk', 'density', ',', 'and', 'specific', 'volume', 'of', 'tv', 'ex', 'change', 'insignificant', 'ly', '.', 'the', 'ir', 'spectra', 'of', 'tv', 'ex', 'demonstrate', 'significant', 'radiation', 'degradation', 'at', 'an', 'absorbed', 'radiation', 'dose', 'from', '1', '.', '4', 'to', '2', '.', '5', 'mg', 'y', '.', 'tv', 'ex', 'is', 'an', 'effective', 'am', 'sor', 'ben', 't', 'when', 'irradiated', 'to', 'an', 'absorbed', 'γ', '-', 'radiation', 'dose', 'of', 'no', 'more', 'than', '0', '.', '6', 'mg', 'y', '.', 'at', 'an', 'irradiation', 'dose', 'of', '2', '.', '5', 'mg', 'y', 'sorption', 'capacity', 'is', 'significantly', 'reduced', '.']\n",
      "['basic', 'physicochemical', 'properties', 'of', 'the', 'tv', 'ex', 'sample', 'used', 'in', 'the', 'work', 'are', 'given', 'in', 'table', '1', '.', 'tv', 'ex', 'was', 'synthesized', 'by', 'copolymer', 'ization', 'of', 'st', 'yrene', 'with', 'div', 'in', 'yl', 'benzene', 'in', 'the', 'presence', 'of', 'the', 'active', 'component', '(', 'extract', 'ant', ')', 'n', ',', 'n', ',', '[UNK]', ',', '[UNK]', '-', 'tetra', '-', 'n', '-', 'oct', 'yl', 'amide', 'dig', 'ly', 'col', 'ic', 'acid', '(', '40', 'wt', '%', ')', 'and', 'solvent', '.']\n",
      "['before', 'irradiation', ',', 'tv', 'ex', 'samples', 'were', 'kept', 'in', 'distilled', 'water', 'until', 'complete', 'swelling', 'and', 'then', 'in', 'a', '5', '.', '0', 'm', 'hn', 'o', '3', 'solution', 'for', '24', 'h', '.']\n",
      "['to', 'study', 'the', 'radiation', 'resistance', ',', 'the', 'prepared', 'tv', 'ex', 'samples', 'were', 'irradiated', 'on', 'the', 'iss', 'led', 'ova', 'tel', '’', 'unit', 'with', 'a', '60', 'co', '-', 'radiation', 'source', 'at', 'a', 'dose', 'rate', 'of', '0', '.', '14', 'gy', '/', 's', 'at', 'room', 'temperature', 'until', 'the', 'absorbed', 'dose', '0', '.', '6', ',', '1', '.', '4', ',', 'and', '2', '.', '5', 'mg', 'y', 'was', 'received', '.', 'the', 'irradiation', 'of', 'tv', 'ex', 'samples', 'was', 'performed', 'in', 'a', '5', '.', '0', 'm', 'hn', 'o', '3', 'solution', ',', 'since', 'under', 'real', 'production', 'conditions', ',', 'the', 'radiation', 'field', 'affects', 'not', 'only', 'the', 'sor', 'ben', 't', ',', 'but', 'also', 'the', 'sor', 'ben', 't', '–', 'solution', 'system', '.']\n",
      "['upon', 'irradiation', 'of', 'such', 'a', 'complex', 'heterogeneous', 'system', ',', 'in', 'addition', 'to', 'the', 'direct', 'radiation', 'effect', 'on', 'the', 'sor', 'ben', 't', ',', 'an', 'indirect', 'effect', 'is', 'also', 'observed', ',', 'which', 'consists', 'in', 'the', 'fact', 'that', 'the', 'interaction', 'of', 'the', 'products', 'of', 'radiol', 'ysis', 'of', 'an', 'aqueous', 'solution', 'with', 'the', 'sor', 'ben', 't', ',', 'as', 'a', 'rule', ',', 'enhances', 'radiation', '-', 'chemical', 'damage', 'and', 'leads', 'to', 'a', 'significant', 'decrease', 'in', 'the', 'radiation', 'resistance', 'of', 'the', 'sor', 'ben', 't', 'compared', 'to', 'irradiation', 'in', 'the', 'dry', 'state', '[', '7', ']', '.']\n",
      "['before', 'studying', 'the', 'physical', 'and', 'sorption', 'properties', ',', 'tv', 'ex', 'samples', 'were', 'washed', 'with', 'distilled', 'water', 'and', 'dried', 'in', 'air', 'to', 'constant', 'weight', '.']\n",
      "['in', 'the', 'course', 'of', 'the', 'work', ',', 'the', 'particle', 'size', 'distribution', ',', 'bulk', 'density', '(', 'd', ')', ',', 'specific', 'volume', '(', 'vs', 'p', ')', ',', 'and', 'swelling', 'coefficient', '(', 'ks', 'w', ')', 'of', 'the', 'irradiated', 'tv', 'ex', 'samples', 'were', 'determined', '.']\n",
      "['to', 'assess', 'the', 'change', 'in', 'the', 'tv', 'ex', 'structure', 'under', 'the', 'influence', 'of', 'γ', '-', 'radiation', ',', 'the', 'ir', 'absorption', 'spectra', 'of', 'samples', 'before', 'and', 'after', 'the', 'γ', '-', 'irradiation', 'were', 'measured', 'and', 'compared', '.', 'the', 'measurements', 'were', 'carried', 'out', 'using', 'a', 'nex', 'us', 'ir', '-', 'fourier', 'spectrometer', '.']\n",
      "['the', 'extraction', 'of', 'am', 'on', 'the', 'irradiated', 'tv', 'ex', 'samples', 'was', 'studied', 'in', 'the', 'dynamic', 'mode', 'using', 'prelimin', 'arily', 'prepared', 'real', 'il', 'w', 'of', 'cm', 'p', '.', 'to', 'prepare', 'solutions', 'for', 'the', 'extraction', 'of', 'am', ',', 'preliminary', ',', 'the', 'concentration', 'of', 'hn', 'o', '3', 'solution', 'was', 'adjusted', 'to', '5', '.', '0', 'm', ',', 'and', 'then', 'pu', 'was', 'separated', 'on', 'the', 'pur', 'olite', 's', '95', '7', 'cation', 'exchanger', '.', 'the', 'concentrations', 'of', 'am', 'and', 'pu', 'in', 'solutions', 'were', 'measured', 'by', 'the', 'γ', '-', 'spectrom', 'etric', 'and', 'x', '-', 'ray', 'γ', '-', 'spectrom', 'etric', 'method', ',', 'respectively', ',', 'and', 'the', 'hn', 'o', '3', 'concentration', 'was', 'measured', 'by', 'potenti', 'ometric', 'titration', '.']\n",
      "['to', 'sor', 'b', 'am', ',', 'the', 'prepared', 'solution', 'was', 'passed', 'through', 'a', 'glass', 'sorption', 'column', 'filled', 'with', 'an', 'irradiated', 'tv', 'ex', 'sample', 'at', 'a', 'rate', 'of', '5', 'c', '.', 'v', '.', '/', 'h', '.', 'the', 'am', 'concentration', 'was', 'measured', 'in', 'the', 'fil', 'trate', 's', '.', 'from', 'the', 'obtained', 'values', ',', 'we', 'evaluated', 'the', 'full', 'dynamic', 'exchange', 'capacity', 'of', 'tv', 'ex', 'for', 'am', '(', 'fd', 'eca', 'm', ')', ',', 'corresponding', 'to', 'the', 'concentration', 'of', 'am', 'in', 'the', 'tv', 'ex', 'phase', ',', 'at', 'which', 'the', 'am', 'concentrations', 'in', 'the', 'initial', 'solution', 'and', 'in', 'the', 'fil', 'trate', 'are', 'equal', ',', 'and', 'the', 'capacity', 'of', 'tv', 'ex', 'before', 'the', '“', 'breakthrough', '”', 'of', 'am', 'into', 'the', 'fil', 'trate', '(', 'cb', 'ba', 'm', ')', ',', 'corresponding', 'to', 'the', 'maximum', 'am', 'concentration', 'in', 'the', 'tv', 'ex', 'phase', ',', 'at', 'which', 'the', 'am', 'concentration', 'in', 'the', 'fil', 'trate', 's', 'did', 'not', 'exceed', '0', '.', '02', '5', 'mg', '/', 'l', '.']\n",
      "['the', '“', 'breakthrough', '”', 'point', 'was', 'found', 'experimentally', 'provided', 'that', 'at', 'the', 'concentration', 'of', 'am', 'in', 'the', 'fil', 'trate', 's', 'not', 'exceeding', '0', '.', '02', '5', 'mg', '/', 'l', ',', 'solid', 'wastes', 'resulting', 'from', 'the', 'subsequent', 'processing', 'of', 'fil', 'trate', 's', 'according', 'to', 'the', 'settling', '-', 'filtration', 'technology', 'correspond', 'to', 'the', 'il', 'w', ',', 'which', 'makes', 'it', 'possible', 'to', 'reduce', 'the', 'level', 'of', 'radiation', 'hazard', 'during', 'their', 'production', 'and', 'storage', '[', '1', ',', '2', ']', '.']\n",
      "['before', 'desorption', ',', 'tv', 'ex', 'samples', 'were', 'washed', 'with', 'a', '5', '.', '0', 'm', 'hn', 'o', '3', 'to', 'displ', 'ace', 'the', 'initial', 'solution', '.', 'the', 'concentration', 'of', 'am', 'in', 'the', 'des', 'orb', 'ates', 'was', 'measured', '.', 'to', 'des', 'orb', 'am', 'from', 'the', 'tv', 'ex', 'phase', ',', 'a', 'des', 'orb', 'ing', 'solution', 'with', 'a', 'dt', 'pa', 'concentration', 'of', '10', 'g', '/', 'l', 'and', 'ph', '6', 'was', 'passed', 'at', 'a', 'rate', 'of', '1', 'c', '.', 'v', '.', '/', 'h', '.']\n",
      "['an', 'efficient', 'natural', 'bio', 'extr', 'act', 'ant', ',', 'orange', 'pe', 'el', 'extract', 'ant', ',', 'was', 'applied', 'to', 'recover', 'ur', 'anium', 'as', 'one', 'of', 'hazardous', 'elements', '.', 'batch', 'experiments', 'were', 'carried', 'out', 'to', 'determine', 'the', 'effect', 'of', 'various', 'factors', 'on', 'the', 'ur', 'anium', 'extraction', 'using', 'a', 'synthetic', 'standard', 'solution', '.', 'these', 'factors', 'include', 'the', 'dil', 'uen', 't', 'type', ',', 'ph', ',', 'solvent', 'concentration', ',', 'contact', 'time', ',', 'and', 'temperature', '.', 'under', 'the', 'optimum', 'conditions', '(', 'ph', '4', ',', 'a', '/', 'o', '=', '3', '/', '1', ')', ',', 'the', 'maximum', 'saturation', 'capacity', 'of', 'the', 'orange', 'pe', 'el', 'extract', 'ant', 'for', 'ur', 'anium', 'reaches', 'approximately', '54', '.', '5', 'mg', '/', 'g', '.', 'the', 'extracted', 'ur', 'anium', 'ions', 'were', 'almost', 'completely', 'eluted', 'with', 'nacl', '/', 'h', '2', 'so', '4', '(', '1', 'm', 'each', ')', '.', 'the', 'procedure', 'was', 'applied', 'to', 'real', 'sulfate', 'leach', 'liqu', 'or', 'of', 'a', 'clay', 'stone', 'sample', 'from', 'southeast', 'ern', 'sin', 'ai', ',', 'egypt', '.']\n",
      "['preparation', 'of', 'ur', 'anium', 'standard', 'solution', 'and', 'solutions', 'of', 'interfering', 'metal', 'ions', '.', 'to', 'prepare', 'a', 'synthetic', 'ur', 'anium', 'solution', '(', '100', 'ppm', ')', ',', 'an', 'accurately', 'weighed', 'portion', 'of', 'ur', 'anyl', 'acetate', 'was', 'dissolved', 'in', 'distilled', 'water', 'acid', 'ified', 'with', 'sulfur', 'ic', 'acid', '.']\n",
      "['the', 'ph', 'of', 'the', 'solution', 'was', 'adjusted', 'at', '4', 'with', 'dilute', 'sulfur', 'ic', 'acid', '.', 'weighed', 'portions', 'of', 'compounds', 'of', 'interfering', 'metal', 'ions', 'were', 'dissolved', 'separately', 'in', 'distilled', 'water', 'to', 'obtain', '1000', 'ppm', 'solutions', '.', 'experiments', 'on', 'interfering', 'effect', 'of', 'metal', 'ions', 'were', 'performed', 'with', 'a', '1000', 'ppm', 'ur', 'anium', 'solution', '.']\n",
      "['preparation', 'of', 'orange', 'pe', 'el', 'extract', 'ant', '.', 'a', '20', '-', 'kg', 'portion', 'of', 'orange', 'pe', 'els', 'was', 'placed', 'in', 'a', 'stainless', 'steel', 'extract', 'or', '.', 'extraction', 'was', 'performed', 'with', 'n', '-', 'hexane', ',', 'which', 'was', 'added', 'in', 'an', 'amount', 'sufficient', 'to', 'cover', 'the', 'orange', 'pe', 'els', '.']\n",
      "['the', 'solvent', 'was', 'stirred', 'with', 'the', 'orange', 'pe', 'els', 'in', 'the', 'extract', 'or', 'for', '30', 'min', '(', 'first', 'wash', ')', '.', 'then', ',', 'the', 'solution', 'was', 'transferred', 'from', 'the', 'extract', 'or', 'into', 'the', 'primary', 'evapor', 'ator', ';', 'the', 'solvent', 'was', 'vapor', 'ized', 'using', 'indirect', 'steam', '.', 'the', 'remaining', 'pe', 'els', 'were', 'extracted', 'similarly', 'two', 'or', 'three', 'times', 'more', '(', 'second', ',', 'third', ',', 'fourth', 'wash', ';', 'each', 'contact', 'for', '1', 'h', ')', '.']\n",
      "['the', 'filtration', 'process', 'was', 'followed', 'by', 'evaporation', '.', 'to', 'obtain', 'the', 'final', 'product', ',', 'the', 'solvent', 'was', 'evaporated', 'using', 'heat', 'from', 'indirect', 'steam', 'and', 'then', 'kept', 'in', 'a', 'vacuum', '.', 'the', 'final', 'product', 'yield', 'was', 'about', '150', 'ml', 'of', 'orange', 'pe', 'el', 'extract', 'ant', '.', 'it', 'was', 'stored', 'at', '10', '°', 'c', 'to', 'avoid', 'the', 'decomposition', '.', 'this', 'extract', 'ant', 'has', 'been', 'prepared', 'in', 'hash', 'im', 'brother', 's', 'factory', \"'\", 's', 'laboratories', 'for', 'essential', 'aromatic', 'products', '.']\n",
      "['ur', 'anium', 'extraction', '.', 'in', 'experiments', 'on', 'ur', 'anium', 'extraction', 'from', 'leach', 'liqu', 'or', 'solutions', 'or', 'from', 'the', 'synthetic', 'solution', ',', 'the', 'orange', 'pe', 'el', 'extract', 'ant', 'was', 'diluted', 'with', 'ker', 'osen', 'e', 'to', '10', 'vol', '%', '.', 'the', 'organic', 'and', 'aqueous', 'phases', 'were', 'sha', 'ken', 'in', 'separating', 'funnel', 's', '.', 'the', 'aqueous', 'phase', 'was', 'analyzed', 'for', 'the', 'ur', 'anium', 'content', ',', 'and', 'the', 'ur', 'anium', 'amount', 'in', 'the', 'organic', 'phase', 'was', 'calculated', 'by', 'the', 'difference', '.']\n",
      "['numerous', 'experiments', 'were', 'done', 'to', 'optimize', 'the', 'ur', 'anium', 'loading', 'ext', 'action', '.', 'namely', ',', 'we', 'studied', 'the', 'effects', 'exerted', 'by', 'the', 'dil', 'uen', 't', 'type', ',', 'concentration', 'of', 'orange', 'pe', 'el', 'extract', 'ant', ',', 'ph', ',', 'contact', 'time', ',', 'temperature', ',', 'interfering', 'metal', 'ions', ',', 'and', 'volume', 'ratio', 'of', 'the', 'aqueous', 'and', 'organic', 'phases', '(', 'a', '/', 'o', ')', '.']\n",
      "['the', 'saturation', 'capacity', 'of', 'the', 'orange', 'pe', 'el', 'extract', 'ant', 'for', 'ur', 'anium', 'was', 'also', 'determined', 'using', 'the', 'multiple', 'contact', 'process', '.', 'the', 'temperature', 'in', 'the', 'extraction', 'and', 'stripp', 'ing', 'experiments', 'was', 'kept', 'at', '20', '–', '22', '°', 'c', 'unless', 'otherwise', 'indicated', '.']\n",
      "['ur', 'anium', 'stripp', 'ing', '.', 'several', 'el', 'uen', 'ts', ',', 'namely', ',', 'mineral', 'acids', ',', 'alkali', 's', ',', 'and', '/', 'or', 'nacl', 'were', 'tested', 'for', 'ur', 'anium', 'stripp', 'ing', 'from', 'the', 'loaded', 'orange', 'pe', 'el', 'extract', 'ant', '.', 'we', 'studied', 'the', 'effect', 'exerted', 'on', 'stripp', 'ing', 'by', 'the', 'el', 'uen', 't', ',', 'shaking', 'time', ',', 'temperature', ',', 'and', 'o', '/', 'a', 'phase', 'ratio', '.']\n",
      "['character', 'ization', 'of', 'orange', 'pe', 'el', 'extract', 'ant', '.', 'the', 'orange', 'pe', 'el', 'extract', 'ant', 'was', 'completely', 'analyzed', 'in', 'quality', 'control', 'laboratories', 'of', 'hash', 'em', 'brother', 's', 'for', 'essential', 'and', 'aromatic', 'products', 'using', 'gas', 'chromatography', '–', 'mass', 'spectrometry', '(', 'gc', '-', 'ms', ',', 'hp', '68', '90', 'series', ',', 'agilent', ')', 'using', 'a', 'thermo', 'scientific', '(', 'tr', '-', '5', 'ms', ',', '5', '%', 'phenyl', '–', 'polys', 'il', 'phenyl', 'enes', 'il', 'oxane', ')', 'capillary', 'column', '(', '30', 'm', 'a', '—', '0', '.', '25', 'mm', ',', 'film', 'thickness', '0', '.', '25', '[UNK]', ')', '.', 'the', 'ftir', 'spectra', 'were', 'recorded', 'with', 'a', 'thermo', 'scientific', 'nic', 'olet', 'is', '10', 'device', '.']\n",
      "['ur', 'anium', 'analysis', '.', 'the', 'ur', 'anium', 'analysis', 'in', 'different', 'process', 'streams', 'was', 'performed', 'by', 'oxid', 'imetric', 'titration', 'using', 'ammonium', 'meta', 'van', 'ada', 'te', '.', 'ur', 'anium', 'was', 'prelimin', 'arily', 'reduced', 'with', 'ammonium', 'ferro', 'us', 'sulfate', 'using', 'urea', 'as', 'a', 'masking', 'agent', 'in', 'the', 'presence', 'of', 'diph', 'en', 'yl', 'amines', 'ulf', 'onate', 'as', 'indicator', 'until', 'its', 'color', 'changed', 'to', 'slightly', 'violet', '-', 'red', '[', '16', ']', '.', 'the', 'accuracy', 'and', 'precision', 'were', '±', '2', '%', '.']\n",
      "['the', 'concentrations', 'of', 'interfering', 'metal', 'ions', '(', 'ni', ',', 'cu', ',', 'v', ',', 'etc', '.', ')', 'were', 'determined', 'by', 'atomic', 'absorption', 'spectrometry', 'with', 'the', 'the', 'accuracy', 'and', 'precision', 'of', 'approximately', '±', '2', '%', '(', 'unic', 'am', '196', '9', ',', 'the', 'united', 'kingdom', ')', '.']\n",
      "['characteristics', 'of', 'clay', 'stone', 'ore', '.', 'a', 'clay', 'stone', 'ore', 'sample', 'was', 'subjected', 'to', 'complete', 'chemical', 'analysis', 'for', 'both', 'major', 'and', 'trace', 'elements', '.', 'a', 'suitable', 'representative', 'portion', 'of', 'the', 'clay', 'stone', 'was', 'prepared', 'by', 'cru', 'shi', 'ng', 'and', 'gri', 'nd', 'ing', 'to', '–', '200', 'mesh', 'size', '.']\n",
      "['the', 'major', 'oxides', 'were', 'chemically', 'analyzed', 'using', 'wet', 'analytical', 'procedures', '[', '17', ']', '.', 'this', 'procedure', 'includes', 'the', 'preparation', 'of', 'two', 'solutions', ':', 'an', 'alkaline', 'solution', 'for', 'determining', 'sio', '2', 'and', 'al', '2', 'o', '3', 'and', 'an', 'acid', 'solution', 'for', 'determining', 'other', 'oxides', '(', 'cao', ',', 'mg', 'o', ',', 'total', 'iron', ',', 'na', '2', 'o', ',', 'k', '2', 'o', ',', 'etc', '.', ')', '.']\n",
      "['portions', 'of', 'the', 'sample', 'were', 'also', 'taken', 'for', 'determining', 'the', 'weight', 'loss', 'at', 'various', 'temperatures', 'and', 'estimating', 'the', 'loss', 'on', 'ign', 'ition', '.', 'the', 'trace', 'elements', '(', 'v', ',', 'cr', ',', 'ni', ',', 'cu', ',', 'zn', ',', 'ga', ',', 'rb', ',', 'sr', ',', 'y', ',', 'zr', ',', 'nb', ',', 'pb', ',', 'and', 'ba', ')', 'were', 'examined', 'at', 'the', 'nuclear', 'materials', 'authority', 'laboratories', 'by', 'the', 'x', '-', 'ray', 'fluorescence', 'technique', '(', 'xr', 'f', ')', 'using', 'a', 'philip', 's', 'unique', 'ii', 'unit', 'with', 'a', 'pw', '151', '0', 'automatic', 'sample', 'change', 'r', '(', '30', 'positions', ')', 'connected', 'to', 'a', 'computer', 'system', 'using', 'x', '-', '40', 'program', 'for', 'spectrometry', '.', 'the', 'detection', 'limit', 'of', 'the', 'measured', 'elements', 'was', '5', 'ppm', '.']\n",
      "['ftir', 'spectra', '.', 'in', 'the', 'ftir', 'spectrum', 'of', 'the', 'initial', 'orange', 'pe', 'el', 'extract', 'ant', ',', 'the', 'carboxylic', 'acid', 'o', '–', 'h', 'and', 'c', '–', 'h', 'groups', 'absorb', 'at', '29', '20', 'cm', '–', '1', ';', 'the', 'carbonyl', 'groups', '(', 'c', '=', 'o', ')', ',', 'at', '170', '2', 'cm', '–', '1', ';', 'and', 'aromatic', 'c', '=', 'c', 'bonds', ',', 'at', '147', '5', 'cm', '–', '1', ';', 'there', 'is', 'no', 'peak', 'in', 'the', 'region', 'of', '900', 'cm', '–', '1', '.']\n",
      "['the', 'components', 'were', 'identified', 'by', 'comparison', 'of', 'their', 'mass', 'spectra', 'with', 'those', 'from', 'the', 'w', '9', 'n', '11', '.', 'l', '(', 'minimum', 'quality', ':', '50', ')', 'and', 'nist', '11', '.', 'l', '(', 'minimum', 'quality', ':', '50', ')', 'libraries', 'and', 'with', 'data', 'for', 'some', 'reference', 'compounds', '.', 'the', 'major', 'identified', 'components', 'are', 'given', 'in', 'table', '1', '.']\n",
      "['to', 'study', 'the', 'effect', 'of', 'the', 'dil', 'uen', 't', 'type', 'on', 'the', 'ur', 'anium', 'extraction', 'from', 'the', 'synthetic', 'solution', '(', '100', 'ppm', 'u', ')', ',', 'we', 'took', 'three', 'cheap', 'organic', 'dil', 'uen', 'ts', ':', 'benzene', ',', 'ker', 'osen', 'e', ',', 'and', 'toluene', '.', 'the', 'other', 'conditions', 'were', 'fixed', ':', 'shaking', 'time', '5', 'min', ',', 'ph', '3', '.', '5', '–', '4', ',', 'a', '/', 'o', '=', '3', ':', '1', ',', '20', '–', '22', '°', 'c', ',', 'and', '10', '%', 'concentration', 'of', 'the', 'orange', 'pe', 'el', 'extract', 'ant', '.']\n",
      "['the', 'results', 'obtained', 'show', 'that', 'ker', 'osen', 'e', 'is', 'the', 'best', 'dil', 'uen', 't', '(', '90', '%', 'ur', 'anium', 'extraction', ')', ',', 'whereas', 'with', 'toluene', 'and', 'benzene', 'dil', 'uen', 'ts', 'only', '75', 'and', '70', '%', 'ur', 'anium', 'extraction', 'was', 'reached', ',', 'respectively', '.', 'thus', ',', 'ker', 'osen', 'e', 'was', 'chosen', 'as', 'the', 'best', 'dil', 'uen', 't', 'for', 'all', 'the', 'extraction', 'experiments', '.']\n",
      "['the', 'ph', 'was', 'varied', 'from', '1', 'to', '9', ',', 'keeping', 'the', 'other', 'conditions', 'fixed', ':', 'a', '/', 'o', '=', '3', ':', '1', ',', '10', 'vol', '%', 'orange', 'pe', 'el', 'extract', 'ant', ',', 'contact', 'time', '5', 'min', '.', 'as', 'shown', 'in', 'table', '2', ',', 'at', 'ph', '1', '–', '3', 'the', 'extraction', 'is', 'low', '.', 'it', 'steep', 'ly', 'increases', 'with', 'increasing', 'ph', ',', 'reaching', 'a', 'maximum', 'at', 'ph', '4', '.', 'low', 'extraction', 'at', 'low', 'ph', 'values', 'may', 'be', 'due', 'to', 'the', 'competing', 'effect', 'of', 'h', '+', 'ions', ',', 'which', 'is', 'less', 'pronounced', 'at', 'ph', '4', '.', 'as', 'ph', 'is', 'increased', 'further', ',', 'the', 'extraction', 'decreases', ',', 'probably', 'vec', 'ause', 'of', 'hydrolysis', 'and', 'precipitation', '[', '18', ',', '19', ']', '.']\n",
      "['as', 'shown', 'in', 'table', '3', ',', 'the', 'ur', 'anium', 'extraction', 'efficiency', 'increases', 'from', '50', 'to', '90', '%', 'as', 'the', 'orange', 'pe', 'el', 'extract', 'ant', 'concentration', 'is', 'increased', 'from', '2', 'to', '10', '%', 'under', 'fixed', 'other', 'conditions', ':', 'ph', '4', ',', 'contact', 'time', '5', 'min', ',', '20', '–', '22', '°', 'c', ',', 'ker', 'osen', 'e', 'dil', 'uen', 't', '.', 'at', '10', '%', 'concentration', 'of', 'the', 'orange', 'pe', 'el', 'extract', 'aa', 'nt', ',', 'the', 'ur', 'anium', 'extraction', 'reached', '95', '%', '.']\n",
      "['the', 'results', 'obtained', '(', 'table', '4', ')', 'show', 'that', 'the', 'ur', 'anium', 'extraction', 'is', 'almost', 'complete', 'in', '5', 'min', '(', '95', '%', ')', ',', 'and', 'the', 'maximum', '(', '98', '.', '5', '%', ')', 'is', 'reached', 'in', '12', 'min', '.', 'thus', ',', '12', 'min', 'is', 'the', 'optimum', 'contact', 'time', '.']\n",
      "['the', 'ur', 'anium', 'extraction', 'efficiency', 'reached', '97', 'and', '98', '%', 'at', 'the', 'a', '/', 'o', 'ratios', 'of', '2', '/', '1', 'and', '3', '/', '1', ',', 'respectively', ';', 'that', 'is', ',', '1', 'ml', 'of', 'the', 'orange', 'pe', 'el', 'extract', 'ant', 'takes', 'up', 'about', '0', '.', '194', 'and', '0', '.', '29', '1', 'mg', 'of', 'u', ',', 'respectively', '.']\n",
      "['as', 'shown', 'in', 'fig', '.', '1', ',', 'heating', 'has', 'an', 'adverse', 'effect', 'on', 'the', 'ur', 'anium', 'extraction', 'efficiency', ':', 'it', 'decreases', 'from', '98', 'to', '50', '%', '.', 'this', 'may', 'be', 'due', 'to', 'the', 'decomposition', 'of', 'the', 'organic', 'components', 'of', 'the', 'solvent', '.']\n",
      "['we', 'examined', 'the', 'interfering', 'effect', 'of', 'some', 'metals', 'ions', 'that', 'may', 'be', 'present', 'in', 'the', 'ore', 'together', 'with', 'ur', 'anium', ':', 'mg', ',', 'fe', ',', 'ca', ',', 'k', ',', 'cu', ',', 'ni', ',', 'al', ',', 'v', ',', 'and', 'ba', '.', 'for', 'this', 'purpose', ',', '1000', 'ppm', 'solutions', 'of', 'these', 'elements', 'were', 'prepared', 'separately', '.', '10', '-', 'ml', 'portions', 'of', 'these', 'nine', 'solutions', 'were', 'combined', 'with', '10', 'ml', 'of', 'a', '1000', 'ppm', 'ur', 'anium', 'solution', ',', 'so', 'that', 'the', 'combined', 'solution', 'contained', '100', 'ppm', 'of', 'each', 'element', '.']\n",
      "['the', 'experiments', 'were', 'performed', 'at', '20', '–', '22', '°', 'c', 'and', 'a', '/', 'o', 'ratio', 'of', '3', '/', '1', ';', 'the', 'contact', 'time', 'was', '15', 'min', '.', 'the', 'ph', 'was', 'varied', 'from', '1', 'to', '4', '.', 'as', 'seen', 'from', 'table', '5', ',', 'at', 'the', 'optimum', 'ph', 'value', '(', 'ph', '4', ')', 'the', 'interfering', 'effect', 'is', 'weak', ';', 'it', 'is', 'somewhat', 'more', 'pronounced', 'only', 'for', 'iron', '.']\n",
      "['thus', ',', 'the', 'optimum', 'extraction', 'conditions', 'ensuring', 'approximately', '98', '%', 'ur', 'anium', 'extraction', 'from', 'sulfate', 'solution', 'with', 'orange', 'pe', 'el', 'extract', 'ant', 'are', 'as', 'follows', ':', 'a', '/', 'o', '=', '3', ':', '1', ',', 'contact', 'time', '12', 'min', ',', 'orange', 'pe', 'el', 'extract', 'ant', 'concentration', '10', '%', ',', 'temperature', '20', '–', '22', '°', 'c', ',', 'ph', '4', '.']\n",
      "['the', 'saturation', 'capacity', 'of', 'the', 'orange', 'pe', 'el', 'extract', 'ant', 'for', 'ur', 'anium', 'was', 'estimated', 'by', 'repeated', 'contact', 'with', 'the', 'ur', 'anium', 'synthetic', 'solution', 'under', 'the', 'previously', 'found', 'optimum', 'conditions', 'with', '10', 'vol', '%', 'orange', 'pe', 'els', 'extract', 'ant', 'in', 'ker', 'osen', 'e', '.', 'ur', 'anium', 'was', 'analyzed', 'subsequently', 'in', 'the', 'raf', 'fin', 'ate', 'after', 'each', 'contact', 'until', 'complete', 'saturation', 'of', 'the', 'orange', 'pe', 'el', 'extract', 'ant', 'was', 'reached', '.']\n",
      "['the', 'results', 'obtained', '(', 'table', '6', ')', 'show', 'that', 'the', 'saturation', 'capacity', 'of', 'the', 'orange', 'pe', 'el', 'extract', 'ant', 'for', 'ur', 'anium', 'is', 'about', '55', 'mg', '/', 'g', '.']\n",
      "['ir', 'analysis', 'of', 'the', 'orange', 'pe', 'els', 'after', 'the', 'ur', 'anium', 'loading', '(', 'table', '7', ')', 'reveals', 'some', 'changes', 'in', 'the', 'characteristic', 'peaks', '.', 'for', 'example', ',', 'the', 'band', 'of', 'carboxyl', 'groups', 'is', 'shifted', 'from', '29', '20', 'cm', '–', '1', 'before', 'ur', 'anium', 'extraction', 'of', 'ur', 'anium', 'to', '294', '0', 'cm', '–', '1', 'after', 'the', 'extraction', '.']\n",
      "['on', 'other', 'hand', ',', 'carbonyl', '(', 'c', '=', 'o', ')', 'and', 'aromatic', 'c', '=', 'c', 'bands', 'are', 'shifted', 'from', '170', '2', 'and', '147', '5', 'cm', '–', '1', 'before', 'ur', 'anium', 'extraction', 'to', '173', '0', 'and', '124', '5', 'cm', '–', '1', 'after', 'the', 'extraction', ',', 'respectively', '.', 'it', 'is', 'important', 'that', 'a', 'new', 'peak', 'at', '93', '0', 'cm', '–', '1', ',', 'assign', 'able', 'to', 'ur', 'anyl', 'ions', ',', 'appears', 'after', 'the', 'ur', 'anium', 'extraction', '.']\n",
      "['different', 'stripp', 'ing', 'agents', 'were', 'applied', 'to', 'strip', 'ur', 'anium', 'from', 'the', 'loaded', '10', '%', 'orange', 'pe', 'els', 'extract', 'ant', 'in', 'ker', 'osen', 'e', '.', 'these', 'included', 'distilled', 'water', 'and', '1', 'm', 'solutions', 'of', 'hcl', ',', 'h', '2', 'so', '4', ',', 'hn', 'o', '3', ',', 'na', '2', 'co', '3', ',', 'and', 'naoh', ',', 'as', 'well', 'as', 'mixed', 'solutions', 'of', 'nacl', 'and', 'mineral', 'acids', '(', 'hcl', ',', 'h', '2', 'so', '4', ',', 'or', 'hn', 'o', '3', ')', '.']\n",
      "['the', 'stripp', 'ing', 'experiments', 'were', 'carried', 'out', 'in', 'an', 'o', '/', 'a', 'ratio', 'of', '3', '/', '1', 'for', '10', 'min', 'at', 'room', 'temp', '.', 'the', 'results', 'obtained', '(', 'table', '8', ')', 'show', 'that', 'nacl', 'acid', 'ified', 'with', 'h', '2', 'so', '4', 'at', 'the', 'mentioned', 'molar', 'ity', 'is', 'the', 'most', 'efficient', 'stripp', 'ing', 'agent', 'for', 'ur', 'anium', '(', '95', '%', 'efficiency', ')', '.']\n",
      "['the', 'effect', 'of', 'the', 'nacl', '/', 'h', '2', 'so', '4', 'molar', 'ity', 'on', 'the', 'ur', 'anium', 'stripp', 'ing', 'from', 'the', 'loaded', '10', '%', 'orange', 'pe', 'el', 'extract', 'ant', 'was', 'studied', 'while', 'keeping', 'the', 'other', 'factors', 'constant', ':', 'contact', 'time', '10', 'min', ',', 'settling', 'time', '5', 'min', ',', 'o', '/', 'a', 'phase', 'ratio', '3', '/', '1', '.', 'the', 'results', 'obtained', '(', 'table', '9', ')', 'show', 'that', '1', 'm', 'nacl', '+', '1', 'm', 'h', '2', 'so', '4', 'is', 'the', 'most', 'effective', 'composition', '(', '95', '%', 'stripp', 'ing', 'efficiency', ')', '.']\n",
      "['to', 'increase', 'the', 'ur', 'anium', 'concentration', 'in', 'the', 'stripp', 'ing', 'aqueous', 'phase', ',', 'we', 'studied', 'how', 'the', 'o', '/', 'a', 'phase', 'ratio', 'influences', 'the', 'efficiency', 'of', 'ur', 'anium', 'stripp', 'ing', 'from', 'the', 'loaded', 'orange', 'pe', 'el', 'extract', 'ant', '.', 'the', 'other', 'conditions', 'were', 'fixed', ':', '10', '%', 'orange', 'pe', 'el', 'extract', 'ant', ',', 'contact', 'time', '10', 'min', ',', 'settling', 'time', '5', 'min', ',', '20', '–', '22', '°', 'c', '.', 'as', 'shown', 'in', 'table', '10', ',', 'at', 'the', 'o', '/', 'a', 'ratio', 'from', '1', '/', '1', 'to', '3', '/', '1', 'the', 'degree', 'of', 'ur', 'anium', 'stripp', 'ing', 'is', 'about', '95', '%', ',', 'and', 'only', 'at', 'a', 'larger', 'o', '/', 'a', 'ratio', 'it', 'decreases', '.', 'thus', ',', 'the', 'o', '/', 'a', 'ratio', 'of', '3', '/', '1', 'is', 'optimum', '.']\n",
      "['thus', ',', 'the', 'optimum', 'stripp', 'ing', 'conditions', 'ensuring', 'approximately', '98', '%', 'ur', 'anium', 'stripp', 'ing', 'from', 'the', 'loaded', 'orange', 'pe', 'el', 'extract', 'ant', 'are', 'as', 'follows', ':', 'stripp', 'ing', 'agent', '1', 'm', 'nacl', '+', '1', 'm', 'h', '2', 'so', '4', ';', 'o', '/', 'a', '=', '3', ':', '1', ';', 'contact', 'time', '15', 'min', ';', 'temperature', '20', '–', '22', '°', 'c']\n",
      "['a', 'binary', 'extract', 'ant', 'based', 'on', 'trial', 'ky', 'lb', 'enz', 'yl', 'ammonium', 'and', 'higher', 'isomer', 'ic', 'α', ',', 'α', '′', '-', 'branched', 'carboxylic', 'acids', '(', 'r', '4', 'na', ')', 'was', 'synthesized', '.', 'the', 'extraction', 'of', 'ur', 'anyl', 'nitrate', 'with', '0', '.', '52', 'm', 'solutions', 'of', 'r', '4', 'na', 'and', 'r', '4', 'nn', 'o', '3', 'in', 'toluene', 'was', 'studied', '.', 'the', 'extraction', 'isother', 'ms', 'were', 'constructed', '.', 'the', 'physicochemical', 'and', 'mathematical', 'models', 'of', 'the', 'extraction', 'of', 'ur', 'anyl', 'nitrate', 'were', 'developed', '.', 'the', 'following', 'extract', 'able', 'species', 'were', 'shown', 'to', 'be', 'formed', 'in', 'the', 'organic', 'phase', ':', '(', 'r', '4', 'n', ')', '2', '[', 'u', 'o', '2', '(', 'no', '3', ')', '4', ']', ',', 'r', '4', 'n', '[', 'u', 'o', '2', 'a', '(', 'no', '3', ')', '2', ']', ',', 'and', '(', 'r', '4', 'n', ')', '2', '[', 'u', 'o', '2', 'a', '2', '(', 'no', '3', ')', '2', ']', 'the', 'extraction', 'constants', 'were', 'calculated', '.', 'the', 'organic', 'phase', 'was', 'examined', 'by', 'ir', 'spectroscopy', '.']\n",
      "['the', 'sorption', 'ability', 'of', 'a', 'solid', '-', 'phase', 'extract', 'ant', 'with', 'dip', 'icol', 'inic', 'acid', 'n', ',', 'n', '’', '-', 'diethyl', '-', 'n', ',', 'n', '’', '-', 'di', '(', 'p', '-', 'tol', 'yl', ')', 'diam', 'ide', 'groups', 'on', 'fibrous', 'poly', 'acryl', 'onitrile', '(', 'pan', ')', 'matrix', 'was', 'studied', '.', 'the', 'conditions', 'for', 'immobilization', 'of', 'the', 'reagent', 'on', 'pan', 'disks', 'were', 'determined', ',', 'and', 'the', 'possibility', 'of', 'sorption', 'prec', 'onc', 'entration', 'and', 'separation', 'of', 'u', '(', 'vi', ')', ',', 'pu', '(', 'iv', ')', ',', 'am', '(', 'iii', ')', ',', 'and', 'eu', '(', 'iii', ')', 'from', '2', '–', '6', 'm', 'hn', 'o', '3', 'solutions', 'was', 'examined', '.', 'the', 'solid', '-', 'phase', 'extract', 'ant', 'obtained', 'exhibits', 'good', 'kinetic', 'properties', 'and', 'can', 'be', 'used', 'for', 'separation', 'of', 'am', '(', 'iii', ')', '+', 'eu', '(', 'iii', ')', '.']\n",
      "['thermal', 'properties', 'of', '2', ',', '2', '′', '-', 'bip', 'yr', 'idine', '-', '6', ',', '6', '′', '-', 'dic', 'arbox', 'ylic', 'acid', 'bis', '(', 'n', '-', 'ethyl', '-', '4', '-', 'hex', 'yl', 'anil', 'ide', ')', '(', 'dy', 'p', '-', '7', ')', 'were', 'studied', 'by', 'dsc', '-', 'tg', 'with', 'the', 'aim', 'of', 'evaluating', 'its', 'fire', 'and', 'explosion', 'hazard', '.', 'heating', 'at', 'a', 'rate', 'of', '1', 'k', 'min', '–', '1', 'is', 'accompanied', 'by', 'ex', 'other', 'mic', 'effects', 'with', 'the', 'onset', 'temperatures', 'of', '202', ',', '312', ',', 'and', '43', '2', '°', 'с', 'for', 'the', 'initial', 'extract', 'ant', 'and', '62', ',', '297', ',', 'and', '41', '2', '°', 'с', 'for', 'the', 'extract', 'ant', 'saturated', 'with', 'nitric', 'acid', '.', 'the', 'presence', 'of', 'extracted', 'nitric', 'acid', 'decreases', 'the', 'self', '-', 'ign', 'ition', 'point', 'of', 'dy', 'p', '-', '7', 'by', 'at', 'least', '20', '°', 'с', '.']\n",
      "['the', 'onset', 'temperatures', 'of', 'the', 'ex', 'other', 'mic', 'effects', 'tend', 'to', 'increase', 'with', 'increasing', 'heating', 'rate', '.', 'the', 'extract', 'ant', 'thermo', 'lysis', 'products', 'characteristic', 'of', 'the', 'ex', 'other', 'mic', 'effect', 'with', 'the', 'onset', 'temperature', 'of', '202', '°', 'c', 'were', 'identified', 'by', 'gc', '-', 'ms', '.', 'these', 'are', 'the', 'de', 'ethylation', 'product', ',', '2', ',', '2', '′', '-', 'bip', 'yr', 'idine', '-', '6', ',', '6', '′', '-', 'dic', 'arbox', 'ylic', 'acid', 'n', ',', 'n', '′', '-', 'bis', '(', '4', '-', 'hex', 'yl', 'phenyl', ')', 'amide', ',', 'and', 'product', 'of', 'further', 'de', 'aryl', 'ation', '/', 'reduction', ',', '6', '′', '-', 'form', 'yl', '-', 'n', '-', '(', '4', '-', 'hex', 'yl', 'phenyl', ')', '-', '2', ',', '2', '′', '-', 'bip', 'yr', 'idine', '-', '6', '-', 'carb', 'ox', 'amide', '.']\n",
      "['the', 'extraction', 'of', 'nd', '(', 'iii', ')', ',', 'eu', '(', 'iii', ')', ',', 'sm', '(', 'iii', ')', ',', 'gd', '(', 'iii', ')', ',', 'and', 'dy', '(', 'iii', ')', 'from', 'nitrate', 'solutions', 'with', 'n', ',', 'n', ',', 'n', \"'\", ',', 'n', \"'\", '-', 'tetra', 'butyl', 'suc', 'cin', 'amide', '(', 'tbs', 'a', ')', 'in', 'toluene', 'was', 'studied', '.', 'the', 'distribution', 'ratios', 'of', 'the', 'investigated', 'metal', 'ions', 'were', 'determined', 'in', 'relation', 'to', 'the', 'nitric', 'acid', 'concentration', ',', 'kind', 'of', 'dil', 'uen', 't', ',', 'concentrations', 'of', 'the', 'extract', 'ant', 'and', 'salt', 'ing', '-', 'out', 'agents', ',', 'and', 'temperature', '.', 'the', 'stoichiometry', 'of', 'the', 'tbs', 'a', '–', 'hn', 'o', '3', 'adducts', 'that', 'prev', 'ail', 'under', 'the', 'experimental', 'conditions', 'is', '1', ':', '1', '(', 'hn', 'o', '3', '·', 'tbs', 'a', ')', '.']\n",
      "['the', 'investigated', 'ln', '(', 'iii', ')', 'are', 'poorly', 'extracted', 'with', 'tbs', 'a', 'in', 'the', 'entire', 'range', 'of', 'nitric', 'acid', 'concentration', '(', '0', '.', '1', '–', '7', 'm', ')', '.', 'good', 'separation', 'of', 'u', '(', 'vi', ')', 'or', 'th', '(', 'iv', ')', 'from', 'the', 'investigated', 'lan', 'than', 'ides', 'can', 'be', 'achieved', 'at', 'high', 'nitric', 'acid', 'concentrations', '(', '7', 'm', ')', '.', 'the', 'distribution', 'ratios', 'of', 'the', 'investigated', 'metal', 'ions', 'sharply', 'decrease', 'with', 'increasing', 'nitric', 'acid', 'concentration', 'in', 'the', 'presence', 'of', '5', 'm', 'lin', 'o', '3', '.']\n",
      "['the', 'extract', 'able', 'species', 'of', 'nd', '(', 'iii', ')', ',', 'eu', '(', 'iii', ')', ',', 'sm', '(', 'iii', ')', ',', 'gd', '(', 'iii', ')', ',', 'and', 'dy', '(', 'iii', ')', 'with', 'tbs', 'a', 'were', 'found', 'to', 'be', 'tris', 'ol', 'va', 'tes', '.', 'the', 'extract', 'able', 'species', 'were', 'also', 'studied', 'by', 'ir', 'spectroscopy', '.', 'the', 'thermodynamics', 'functions', 'for', 'the', 'extraction', 'of', 'the', 'investigated', 'ln', '(', 'iii', ')', 'were', 'calculated', '.']\n",
      "['the', 'solvent', 'extraction', 'of', 'the', '90', 'y', '/', '90', 'sr', 'pair', 'from', 'carbonate', 'media', 'with', 'mixtures', 'of', 'aromatic', 'dihydro', 'xy', 'compounds', 'and', 'a', 'quaternary', 'ammonium', 'salt', '—', 'methyl', 'tri', 'oct', 'yl', 'ammonium', 'carbonate', '(', 'mt', 'oac', ')', '—', 'in', 'toluene', 'and', 'but', 'yl', 'acetate', 'was', 'studied', '.', 'it', 'was', 'found', 'that', 'mt', 'oac', 'increases', 'the', 'distribution', 'coefficients', 'of', 'both', 'the', 'extract', 'ant', 'itself', 'and', 'its', 'solv', 'ate', 'with', 'yt', 'tri', 'um', 'due', 'to', 'the', 'formation', 'of', 'a', 'mixed', 'complex', 'of', 'yt', 'tri', 'um', 'and', 'a', 'dihydro', 'xy', 'aro', 'mat', 'ic', 'ligand', 'with', 'mt', 'oac', '.']\n",
      "['during', 'extraction', 'from', 'alkaline', 'carbonate', 'media', 'in', 'the', 'ph', 'range', 'of', '12', '–', '13', '.', '5', 'with', 'mixtures', 'of', '0', '.', '01', 'm', '2', ',', '3', '-', 'dihydro', 'xy', 'nap', 'ht', 'hal', 'ene', 'and', '0', '.', '01', '5', 'm', 'mt', 'oac', 'in', 'but', 'yl', 'acetate', 'or', 'toluene', ',', 'the', 'distribution', 'coefficients', 'of', 'yt', 'tri', 'um', 'exceed', '80', ';', 'the', 'separation', 'factors', 'of', 'the', '90', 'y', '/', '90', 'sr', 'pair', 'under', 'these', 'conditions', 'are', 'more', 'than', '105', '.']\n",
      "['dilute', 'solutions', 'of', 'hydrochlor', 'ic', ',', 'nitric', ',', 'and', 'sulfur', 'ic', 'acids', 'can', 'be', 'used', 'for', 'the', 'complete', 'stripp', 'ing', 'of', 'yt', 'tri', 'um', '.', 'the', 'studied', 'mixtures', 'are', 'chemically', 'stable', 'and', 'do', 'not', 'change', 'the', 'extraction', 'properties', 'upon', 'multiple', 'extraction', '/', 'stripp', 'ing', 'cycles', '.', 'model', 'experiments', 'on', 'the', 'leaching', 'of', 'yt', 'tri', 'um', 'from', 'natural', 'samples', 'showed', 'that', 'the', 'percentage', 'of', 'stable', 'yt', 'tri', 'um', 'extraction', 'from', 'sand', 'is', '70', '–', '80', '%', ',', 'while', 'the', 'percentage', 'of', 'yt', 'tri', 'um', 'extraction', 'from', 'soil', 'is', '50', '–', '60', '%', '.']\n",
      "['the', 'following', 'aromatic', 'dihydro', 'xy', 'compounds', 'were', 'studied', 'in', 'the', 'work', ':', '2', ',', '3', '-', 'dihydro', 'xy', 'nap', 'ht', 'hal', 'ene', '(', '2', ',', '3', 'dh', 'n', ')', ',', 'pyro', 'cat', 'echo', 'l', '(', '1', ',', '2', 'dh', 'b', ')', ',', 'ali', 'za', 'rin', ',', 'and', '4', '-', 'ter', 't', '-', 'but', 'yl', 'pyr', 'oca', 'tech', 'ol', '(', '4', 'tb', 'c', ')', '.']\n",
      "['methyl', 'tri', 'oct', 'yl', 'ammonium', 'carbonate', '(', 'mt', 'oac', ')', 'was', 'used', 'as', 'the', 'alkyl', 'ammonium', 'salt', 'synthesized', 'at', 'the', 'mend', 'ele', 'ev', 'university', 'of', 'chemical', 'technologies', 'of', 'russia', 'according', 'to', 'the', 'original', 'method', 'and', 'provided', 'by', 's', '.', 'i', '.', 'step', 'anov', '.', '2', ',', '3', 'dh', 'n', 'was', 'received', 'from', 'sch', 'uh', 'ardt', '(', 'munich', ',', 'germany', ')', ';', '4', 'tb', 'c', 'was', 'purchased', 'from', 'sigma', '-', 'aldrich', '(', 'germany', ')', ';', '1', ',', '2', 'dh', 'b', 'and', 'ali', 'za', 'rin', 'were', 'manufactured', 'by', 'len', 'rea', 'kt', 'iv', '(', 'russia', ')', '.']\n",
      "['solvents', ',', 'but', 'yl', 'acetate', '(', 'bu', 'ac', ')', ',', 'toluene', '(', 'ph', 'me', ')', ',', 'inorganic', 'salts', 'and', 'acids', 'were', 'produced', 'by', 'ecos', '-', '1', '(', 'russia', ')', '.', 'all', 'reagents', 'were', 'of', 'analytical', 'grade', 'and', 'were', 'used', 'without', 'further', 'purification', '.', 'extract', 'ant', 'solutions', 'were', 'prepared', 'according', 'to', 'their', 'exact', 'weighted', 'portion', '.']\n",
      "['extraction', 'experiments', 'were', 'carried', 'out', 'as', 'follows', ':', '1', 'ml', 'of', 'the', 'aqueous', 'and', 'organic', 'phases', 'were', 'placed', 'into', 'a', '5', '-', 'ml', 'polyp', 'ropy', 'len', 'e', 'tube', ',', 'stirred', 'at', '21', '±', '1', '°', 'c', 'for', '10', 'min', '(', 'sufficient', 'to', 'attain', 'complete', 'equilibrium', 'according', 'to', 'the', 'data', 'of', 'preliminary', 'experiments', ')', ',', 'and', 'the', 'phases', 'were', 'separated', 'by', 'centrifugation', '(', '3000', 'rpm', ',', '5', 'min', ')', '.', 'the', 'concentration', 'of', 'stable', 'stro', 'nt', 'ium', 'and', 'yt', 'tri', 'um', 'was', 'determined', 'on', 'a', 'vari', 'an', '72', '5', '-', 'es', 'optical', 'emission', 'spectrometer', 'with', 'an', 'error', 'of', 'no', 'more', 'than', '5', '%', '.']\n",
      "['the', 'activity', 'of', 'the', '90', 'sr', 'and', '90', 'y', 'isotopes', 'in', 'the', 'initial', 'solution', 'was', 'found', 'on', 'a', 'quant', 'ulus', '122', '0', 'liquid', 'scintillation', 'spectrometer', '(', 'per', 'kin', 'el', 'mer', ')', ',', 'measurement', 'geometry', '4', 'π', ',', 'with', 'an', 'error', 'not', 'exceeding', '10', '%', '.', 'the', 'concentration', 'of', '2', ',', '3', '-', 'dihydro', 'xy', 'nap', 'ht', 'hal', 'ene', 'in', 'the', 'aqueous', 'phase', 'was', 'determined', 'on', 'a', 'shim', 'ad', 'zu', 'uv', '-', '260', '0', 'uv', 'spectrometer', 'by', 'absorbance', 'at', '237', 'nm', '.']\n",
      "['aqueous', 'media', 'with', 'different', 'ph', 'and', 'constant', 'ionic', 'strength', 'were', 'prepared', 'by', 'mixing', 'solutions', 'of', '1', 'm', 'nahco', '3', 'and', '1', 'm', 'naoh', '.', 'the', 'ph', 'values', 'of', 'the', 'solutions', 'were', 'determined', 'using', 'a', 'hann', 'a', 'instruments', 'hi', '-', '83', '14', 'ph', 'meter', 'with', 'an', 'i', '-', '133', '0', 'b', 'micro', 'electrode', '.']\n",
      "['model', 'experiments', 'with', 'natural', 'samples', 'were', 'conducted', 'as', 'follows', '.', 'a', 'sample', 'of', 'building', 'sand', 'was', 'homogenized', ',', 'sift', 'ed', 'through', 'a', 'sie', 've', 'and', 'dried', 'in', 'an', 'oven', '.', 'after', 'that', ',', 'a', 'sample', 'of', 'sand', 'weighing', '1', 'g', 'was', 'taken', '.', 'a', 'solution', 'of', 'stable', 'yt', 'tri', 'um', 'nitrate', 'was', 'added', 'to', 'the', 'sample', 'in', 'such', 'an', 'amount', 'that', 'its', 'concentration', 'in', 'the', 'final', 'sample', 'was', '30', 'mg', '/', 'l', ',', 'everything', 'was', 'thoroughly', 'mixed', 'and', 'dried', 'in', 'an', 'oven', ',', 'after', 'which', '3', 'g', 'of', 'na', '2', 'co', '3', 'and', 'k', '2', 'co', '3', 'were', 'added', 'to', 'the', 'sample', '.']\n",
      "['the', 'resulting', 'mixture', 'was', 'calc', 'ined', 'in', 'a', 'mu', 'ffl', 'e', 'for', '1', 'h', 'at', '500', '°', 'c', '.', 'after', 'cooling', 'the', 'mixture', 'to', 'room', 'temperature', ',', 'the', 'sample', 'was', 'placed', 'in', 'a', 'polyp', 'ropy', 'len', 'e', 'test', 'tube', ',', '50', 'ml', 'of', 'the', 'leaching', 'agent', 'solution', 'was', 'added', 'to', 'the', 'sample', '(', '5', 'leaching', 'agents', 'were', 'tested', 'in', 'total', '—', 'h', '2', 'o', '/', 'h', '2', 'o', '2', '(', '3', ':', '2', ')', ',', 'nahco', '3', '/', 'h', '2', 'o', '2', ',', 'nh', '4', 'hc', 'o', '3', '/', 'h', '2', 'o', '2', ',', 'and', '(', 'nh', '4', ')', '2', 'co', '3', '/', 'h', '2', 'o', '2', ',', '(', 'nh', '4', ')', '2', 'co', '3', ')', '.']\n",
      "['for', '2', 'h', ',', 'a', 'sample', 'of', 'sand', 'was', 'contacted', 'at', 'stirring', 'with', 'the', 'aqueous', 'phase', 'to', 'transfer', 'yt', 'tri', 'um', 'carbonate', 'into', 'the', 'aqueous', 'phase', '.', 'then', 'the', 'aqueous', 'phase', 'was', 'separated', 'and', 'sent', 'for', 'extraction', 'with', 'a', 'mixture', 'of', '0', '.', '01', 'm', '2', '.', '3', 'dh', 'n', '+', '0', '.', '01', '5', 'm', 'mt', 'oac', 'in', 'toluene', 'at', 'a', 'volume', 'ratio', 'of', 'the', 'organic', 'and', 'aqueous', 'phases', 'o', ':', 'a', '=', '1', ':', '1', 'and', 'a', 'contact', 'time', 'of', '10', 'min', '.']\n",
      "['afterwards', ',', 'the', 'phases', 'were', 'separated', 'by', 'centrifugation', '.', 'yt', 'tri', 'um', 'was', 'stripp', 'ed', 'from', 'the', 'organic', 'phase', 'with', 'a', '0', '.', '05', 'm', 'hn', 'o', '3', 'solution', 'at', 'o', ':', 'a', '=', '5', ':', '1', ',', 'after', 'which', 'the', 'nitric', 'acid', 'aqueous', 'solution', 'was', 'separated', 'by', 'centrifugation', '.', 'the', 'content', 'of', 'stable', 'yt', 'tri', 'um', 'was', 'measured', 'therein', 'by', 'the', 'spectrophot', 'ometric', 'method', '.']\n",
      "['a', 'soil', 'sample', '(', '500', 'g', ')', ',', 'taken', 'in', 'a', 'forest', 'belt', 'on', 'the', 'territory', 'of', 'the', 'len', 'ing', 'rad', 'region', ',', 'was', 'homogenized', ',', 'sift', 'ed', 'through', 'a', 'sie', 've', 'and', 'mixed', 'with', 'a', 'radioactive', 'label', 'containing', 'a', '90', 'y', '/', '90', 'sr', 'pair', 'being', 'in', 'radioactive', 'equilibrium', 'with', 'a', 'total', 'activity', 'of', '530', 'bq', '(', 'the', 'specific', 'activity', 'of', 'the', 'soil', 'was', 'about', '1', 'bq', '/', 'g', ')', '.']\n",
      "['a', 'soil', 'sample', 'labelled', 'with', '90', 'y', '/', '90', 'sr', 'was', 'dried', 'in', 'an', 'oven', ',', 'after', 'which', 'a', 'sample', '(', '2', 'g', ')', 'was', 'taken', '.', 'solutions', 'of', 'stable', 'yt', 'tri', 'um', 'and', 'stro', 'nt', 'ium', 'nitrate', 's', 'in', 'the', 'molar', 'ratio', 'y', ':', 'sr', '=', '10', ':', '1', 'were', 'added', 'to', 'the', 'sample', ',', 'everything', 'was', 'thoroughly', 'stirred', 'and', 'dried', 'in', 'an', 'oven', ';', 'then', '10', 'g', 'of', 'na', '2', 'co', '3', 'and', 'k', '2', 'co', '3', 'were', 'added', 'to', 'the', 'sample', '.']\n",
      "['the', 'resulting', 'mixture', 'was', 'calc', 'ined', 'in', 'a', 'mu', 'ffl', 'e', 'for', '1', 'h', 'at', 'a', 'temperature', 'of', '300', '°', 'с', ',', 'and', 'then', 'for', 'another', '4', 'h', 'at', 'a', 'temperature', 'of', '550', '°', 'с', '.', 'after', 'the', 'mixture', 'was', 'cooled', 'to', 'room', 'temperature', ',', 'the', 'sample', 'was', 'placed', 'in', 'a', 'polyp', 'ropy', 'len', 'e', 'test', 'tube', ',', 'and', '50', 'ml', 'of', 'distilled', 'water', 'was', 'added', '.']\n",
      "['the', 'sample', 'was', 'contacted', 'for', '2', 'h', 'at', 'stirring', 'with', 'water', 'to', 'transfer', 'yt', 'tri', 'um', 'carbonate', 'into', 'the', 'aqueous', 'phase', '.', 'then', 'the', 'aqueous', 'phase', 'was', 'separated', '.', 'yt', 'tri', 'um', 'was', 'extracted', 'from', 'it', 'with', 'a', 'mixture', 'of', '0', '.', '01', 'm', '2', '.', '3', 'dh', 'n', '+', '0', '.', '01', '5', 'm', 'mt', 'oac', 'in', 'toluene', 'according', 'to', 'the', 'standard', 'procedure', 'at', 'o', ':', 'a', '=', '1', ':', '1', 'and', 'a', 'contact', 'time', 'of', '10', 'min', '.']\n",
      "['afterwards', ',', 'the', 'phases', 'were', 'separated', 'by', 'centrifugation', '.', 'yt', 'tri', 'um', 'was', 'stripp', 'ed', 'from', 'the', 'organic', 'phase', 'with', 'a', '0', '.', '05', 'm', 'hn', 'o', '3', 'solution', 'at', 'o', ':', 'a', '=', '4', ':', '1', ',', 'then', 'the', 'nitric', 'acid', 'aqueous', 'solution', 'was', 'separated', 'by', 'centrifugation', '.', 'the', 'content', 'of', 'stable', 'yt', 'tri', 'um', 'was', 'measured', 'by', 'the', 'spectrophot', 'ometric', 'method', 'and', 'the', 'content', 'of', 'yt', 'tri', 'um', '-', '90', 'by', 'the', 'radio', 'metric', 'method', 'on', 'a', 'te', 'flo', 'n', 'target', 'using', 'an', 'a', '-', '85', 'radio', 'meter', 'with', 'a', 'plastic', 'scin', 'till', 'ator', '(', 'the', 'counting', 'efficiency', 'was', '25', '%', ',', 'the', 'measurement', 'error', 'at', 'the', 'selected', 'exposure', 'time', 'was', 'no', 'higher', 'than', '5', '%', ')', '.', 'the', 'percentage', 'of', 'yt', 'tri', 'um', '-', '90', 'extraction', 'from', 'the', 'soil', 'was', 'calculated', 'based', 'on', 'the', 'measurement', 'results', '.']\n",
      "['preliminary', 'experiments', 'showed', 'that', 'all', 'the', 'studied', 'aromatic', 'dihydro', 'xy', 'compounds', 'weakly', 'extract', 'yt', 'tri', 'um', 'from', 'alkaline', 'media', '.', 'the', 'low', 'extraction', 'efficiency', 'may', 'be', 'due', 'to', 'the', 'washing', 'out', 'of', 'the', 'extract', 'ant', 'into', 'the', 'aqueous', 'phase', 'because', 'of', 'the', 'formation', 'of', 'hydrophilic', 'sodium', 'phenol', 'ates', '.', 'according', 'to', 'the', 'literature', 'data', '[', '5', ']', ',', '2', ',', '3', '-', 'dihydro', 'xy', 'nap', 'ht', 'hal', 'ene', 'has', 'pka', '1', '=', '8', '.', '8', ',', 'pka', '2', '=', '12', '.', '6', ',', 'which', 'indicates', 'its', 'complete', 'transition', 'to', 'the', 'monos', 'odium', 'salt', 'in', 'highly', 'alkaline', 'media', '.']\n",
      "['the', 'mt', 'oac', 'cation', 'generates', 'hydrophobic', 'salts', 'with', 'the', 'phenol', 'ate', 'anion', 'and', 'helps', 'to', 'reduce', 'the', 'loss', 'of', 'the', 'extract', 'ant', 'with', 'the', 'aqueous', 'phase', '.', 'figure', '1', 'shows', 'data', 'on', 'the', 'distribution', 'of', '2', ',', '3', '-', 'dihydro', 'xy', 'nap', 'ht', 'hal', 'ene', 'and', 'its', 'salt', 'with', 'mt', 'oac', 'between', 'the', 'organic', 'and', 'aqueous', 'phases', '.']\n",
      "['the', 'optimal', 'ratio', 'of', 'mt', 'oac', '/', 'dihydro', 'xy', 'compound', ',', 'which', 'provides', 'the', 'maximum', 'synergistic', 'effect', 'in', 'the', 'yt', 'tri', 'um', 'extraction', ',', 'was', 'determined', 'by', 'the', 'method', 'of', 'iso', 'mol', 'ar', 'series', '(', 'fig', '.', '2', ')', '.', 'it', 'can', 'be', 'seen', 'that', 'a', '1', '.', '5', '-', 'fold', 'excess', 'of', 'mt', 'oac', 'with', 'respect', 'to', '2', ',', '3', 'dh', 'n', 'is', 'optimal', ',', 'which', 'suggests', 'the', 'formation', 'of', 'a', 'solv', 'ate', 'of', 'the', 'composition', '[', 'y', '(', '2', ',', '3', 'dh', 'n', ')', '2', '(', 'mt', 'oac', ')', '3', ']', '[', '6', ']', '.']\n",
      "['the', 'existence', 'of', 'a', 'complex', 'of', 'this', 'composition', 'is', 'confirmed', 'by', 'the', 'ms', '-', 'esi', '(', '–', ')', 'data', ':', 'in', 'addition', 'to', 'the', '2', ',', '3', 'dh', 'n', 'mono', 'ani', 'on', '(', 'm', '/', 'z', '=', '159', '.', '04', '48', ')', ',', 'there', 'is', 'a', 'signal', 'with', 'm', '/', 'z', '=', '40', '4', '.', '87', '23', 'of', 'the', '[', 'y', '(', '2', ',', '3', 'dh', 'n', ')', '2', ']', '–', 'mono', 'ani', 'on', '.', 'the', 'ms', '-', 'esi', '(', '–', ')', 'spectra', 'contain', 'signals', 'from', 'anionic', 'complexes', ',', 'which', ',', 'in', 'addition', 'to', 'yt', 'tri', 'um', 'and', '2', ',', '3', 'dh', 'n', ',', 'include', 'carbonate', 'and', 'hydroxyl', 'groups', 'and', 'water', 'molecules', '.']\n",
      "['as', 'already', 'noted', ',', 'the', 'maximum', 'extraction', 'of', 'yt', 'tri', 'um', 'by', 'mixtures', 'of', 'dihydro', 'xy', 'compounds', 'with', 'mt', 'oac', 'is', 'detected', 'at', 'ph', 'above', '11', '.', 'we', 'found', 'that', 'the', 'specific', 'form', 'of', 'distribution', 'coefficient', 'curve', 'for', 'yt', 'tri', 'um', 'vs', '.', 'ph', 'of', 'the', 'aqueous', 'phase', 'is', 'determined', 'by', 'the', 'type', 'of', 'dihydro', 'xy', 'compound', 'and', 'the', 'type', 'of', 'organic', 'solvent', '(', 'fig', '.', '3', ')', '.']\n",
      "['the', 'most', 'effective', 'extract', 'ant', 'in', 'both', 'solvents', 'is', '2', ',', '3', '-', 'dihydro', 'xy', 'nap', 'ht', 'hal', 'ene', '.', 'the', 'lowest', 'distribution', 'coefficients', 'of', 'yt', 'tri', 'um', ',', 'regardless', 'of', 'the', 'type', 'of', 'solvent', ',', 'are', 'demonstrated', 'by', '4', '-', 'ter', 't', '-', 'but', 'yl', 'pyr', 'oca', 'tech', 'ol', '.', 'its', 'uns', 'ubs', 'tituted', 'analog', ',', 'pyro', 'cat', 'echo', 'l', ',', 'extracts', 'yt', 'tri', 'um', 'well', 'only', 'into', 'toluene', 'solutions', '.']\n",
      "['this', 'may', 'be', 'due', 'to', 'steric', 'factors', ',', 'since', 'the', 'properties', 'of', 'phenolic', 'groups', 'in', 'these', 'extract', 'ants', 'are', 'very', 'similar', '.', 'high', 'distribution', 'coefficients', 'of', 'yt', 'tri', 'um', 'were', 'found', 'in', 'a', 'water', '-', 'soluble', 'chel', 'ating', 'agent', ',', 'ali', 'za', 'rin', ',', 'giving', 'a', 'hydrophobic', 'complex', 'with', 'mt', 'oac', ',', 'which', 'is', 'concentrated', 'in', 'the', 'organic', 'phase', '.']\n",
      "['the', 'possibility', 'of', 'efficient', 'separation', 'of', 'yt', 'tri', 'um', 'and', 'stro', 'nt', 'ium', 'was', 'demonstrated', 'by', 'the', 'example', 'of', '2', ',', '3', 'dh', 'n', ',', 'the', 'most', 'efficient', 'of', 'the', 'studied', 'extract', 'ants', '(', 'fig', '.', '4', ')', '.', 'the', 'data', 'in', 'fig', '.', '4', 'show', 'that', 'at', 'ph', '>', '12', ',', 'y', '/', 'sr', 'pair', 'separation', 'factors', 'exceed', '105', 'in', 'both', 'toluene', 'and', 'but', 'yl', 'acetate', '.', 'such', 'a', 'high', 'selectivity', 'is', 'una', 'tta', 'ina', 'ble', 'in', 'the', 'extraction', 'of', 'stro', 'nt', 'ium', 'with', 'crown', 'ether', 's', '[', '1', ']', 'or', 'yt', 'tri', 'um', 'with', 'alkyl', 'phosphor', 'ic', 'acids', '[', '2', ']', 'from', 'nitric', 'acid', 'solutions', '.']\n",
      "['small', 'differences', 'in', 'the', 'behavior', 'of', 'stable', 'and', 'radioactive', 'isotopes', 'are', 'most', 'likely', 'associated', 'with', 'a', 'high', 'error', 'in', 'determining', 'the', 'low', 'activities', 'of', '90', 'sr', 'and', '90', 'y', 'in', 'saline', 'solutions', '.']\n",
      "['an', 'additional', 'advantage', 'of', 'the', 'studied', 'extraction', 'systems', 'is', 'the', 'simplicity', 'of', 'yt', 'tri', 'um', 'stripp', 'ing', 'with', 'dilute', 'acid', 'solutions', '.', 'for', 'the', 'quantitative', 'stripp', 'ing', 'of', 'yt', 'tri', 'um', ',', 'one', 'contact', 'of', 'the', 'extract', 'with', '0', '.', '05', 'm', 'solutions', 'of', 'inorganic', 'acids', ':', 'hn', 'o', '3', ',', 'hcl', ',', 'and', 'h', '2', 'so', '4', 'is', 'sufficient', '(', 'the', 'equilibrium', 'ph', 'of', 'the', 'strip', 'is', 'not', 'higher', 'than', '1', ')', '.']\n",
      "['the', 'extract', 'ant', 'after', 'stripp', 'ing', 'of', 'yt', 'tri', 'um', 'with', 'acids', 'retains', 'its', 'properties', '.', 'figure', '5', 'shows', 'the', 'results', 'of', 'experiments', 'on', 'multiple', 'extraction', '/', 'stripp', 'ing', 'of', 'yt', 'tri', 'um', 'using', 'a', 'mixture', 'of', '0', '.', '01', 'm', '2', ',', '3', 'dh', 'n', 'with', '0', '.', '01', '5', 'm', 'mt', 'oac', 'in', 'toluene', 'as', 'an', 'extract', 'ant', 'and', '0', '.', '05', 'm', 'hn', 'o', '3', ',', 'hcl', ',', 'and', 'h', '2', 'so', '4', 'solutions', 'as', 'strips', '.', 'it', 'can', 'be', 'seen', 'that', 'a', 'slight', 'decrease', 'in', 'the', 'extraction', 'capacity', 'after', '4', 'extraction', '/', 'stripp', 'ing', 'cycles', 'is', 'observed', 'only', 'in', 'the', 'case', 'of', 'using', 'sulfur', 'ic', 'acid', '(', 'fig', '.', '5', ')', '.']\n",
      "['as', 'can', 'be', 'seen', 'from', 'the', 'data', 'in', 'fig', '.', '6', ',', 'in', 'all', 'the', 'systems', 'studied', ',', 'there', 'is', 'a', 'high', 'percentage', 'of', 'yt', 'tri', 'um', 'extraction', '(', '70', '–', '80', '%', ')', ',', 'there', 'with', 'aqueous', 'phases', 'consisting', 'of', 'ammonium', 'carbonate', 'or', 'sodium', 'bicarbonate', 'with', 'the', 'addition', 'of', 'hydrogen', 'peroxide', 'proved', 'to', 'be', 'more', 'effective', '.', 'the', 'introduction', 'of', 'hydrogen', 'peroxide', 'into', 'the', 'leaching', 'solution', 'was', 'proposed', 'for', 'further', 'oxid', 'izing', 'possible', 'organic', 'residues', '.']\n",
      "['extraction', 'systems', 'based', 'on', 'extraction', 'of', 'tetra', 'fluor', 'ob', 'oric', 'acid', '(', 'hb', 'f', '4', ')', 'with', 'trib', 'ut', 'yl', 'phosphate', '(', 'tb', 'p', ')', 'and', 'tri', 'amyl', 'phosph', 'ine', 'oxide', '(', 'tap', 'o', ')', 'for', 'boron', 'isotope', 'separation', 'were', 'studied', '.', 'tetra', 'fluor', 'ob', 'oric', 'acid', 'was', 'studied', 'in', 'comparison', 'with', 'bor', 'ic', 'acid', '(', 'h', '3', 'bo', '3', ')', '.', 'the', 'extraction', 'isother', 'ms', 'at', '20', '°', 'c', 'for', 'four', 'systems', '(', 'bor', 'ic', 'and', 'tetra', 'fluor', 'ob', 'oric', 'acids', 'extracted', 'with', 'tb', 'p', 'and', 'tap', 'o', 'in', 'o', '-', 'xyl', 'ene', ')', 'were', 'obtained', ',', 'and', 'single', '-', 'stage', 'isotope', 'separation', 'factors', 'for', 'these', 'four', 'systems', 'were', 'determined', '.', 'the', 'lighter', 'boron', 'isotope', '(', '10', 'b', ')', 'is', 'concentrated', 'in', 'the', 'aqueous', 'phase', 'in', 'the', 'systems', 'containing', 'tetra', 'fluor', 'ob', 'oric', 'acid', ',', 'whereas', 'in', 'the', 'systems', 'with', 'bor', 'ic', 'acid', 'it', 'is', 'concentrated', 'in', 'the', 'organic', 'phase', '.']\n",
      "['when', 'recording', 'the', 'extraction', 'isother', 'ms', 'of', 'h', '3', 'bo', '3', 'and', 'hb', 'f', '4', ',', 'the', 'boron', 'concentrations', 'in', 'the', 'equilibrium', 'phases', 'were', 'measured', 'by', 'inductively', 'coupled', 'plasma', 'optical', 'emission', 'spectrometry', '(', 'icp', '-', 'oe', 's', ')', 'with', 'a', 'plasma', 'quant', 'pq', '900', '0', 'device', 'at', 'the', 'kh', 'lo', 'pin', 'radi', 'um', 'institute', '.', 'isotope', 'analysis', 'was', 'performed', 'by', 'inductively', 'coupled', 'plasma', 'mass', 'spectrometry', '(', 'icp', '-', 'ms', ')', 'with', 'an', 'agilent', '79', '00', 'device', '.']\n",
      "['samples', 'for', 'determining', 'the', 'boron', 'isotope', 'composition', 'were', 'prepared', 'by', 'dilution', 'of', 'the', 'initial', 'solutions', 'of', 'boron', '-', 'containing', 'components', '(', 'bor', 'ic', 'and', 'tetra', 'fluor', 'ob', 'oric', 'acids', ')', 'to', 'a', 'boron', 'concentration', 'of', '1', '–', '5', 'mg', '/', 'l', '.', 'in', 'the', 'case', 'of', 'tetra', 'fluor', 'ob', 'oric', 'acid', ',', 'it', 'was', 'subjected', 'to', 'hydrolysis', 'in', 'the', 'presence', 'of', 'cacl', '2', 'to', 'remove', 'fluoride', 'ions', 'interfering', 'with', 'the', 'analysis', '.']\n",
      "['as', 'organic', 'dil', 'uen', 't', 'for', 'the', 'extract', 'ants', 'we', 'chose', 'o', '-', 'xyl', 'ene', ',', 'because', 'this', 'dil', 'uen', 't', 'prevents', 'the', 'third', 'phase', 'formation', 'in', 'extraction', 'systems', 'and', 'favors', 'fast', 'phase', 'separation', ',', 'in', 'contrast', 'to', 'aliphatic', 'dil', 'uen', 'ts', 'such', 'as', 'dod', 'ecan', 'e', '.', 'prior', 'to', 'use', ',', 'o', '-', 'xyl', 'ene', 'was', 'washed', 'four', 'times', 'with', 'equivalent', 'amounts', 'of', 'distilled', 'water', '.', 'chemically', 'pure', 'grade', 'bor', 'ic', 'and', 'tetra', 'fluor', 'ob', 'oric', 'acids', 'were', 'used', 'without', 'additional', 'purification', '.']\n",
      "['tar', 'tar', 'ic', 'acid', 'was', 'recr', 'yst', 'alli', 'zed', 'from', 'water', 'and', 'dried', ';', 'the', 'melting', 'point', 'after', 'the', 'purification', 'was', '167', '°', 'с', '.', 'trib', 'ut', 'yl', 'phosphate', 'was', 'purified', 'as', 'described', 'in', '[', '7', ']', '.', 'tri', 'amyl', 'phosph', 'ine', 'oxide', '(', 'tap', 'o', ')', 'chosen', 'among', 'trial', 'ky', 'lp', 'hos', 'phi', 'ne', 'oxides', 'was', 'purified', 'as', 'described', 'in', '[', '8', ']', '.']\n",
      "['we', 'determined', 'the', 'distribution', 'ratios', 'for', 'each', 'extraction', 'system', '.', 'the', 'highest', 'distribution', 'ratio', 'd', 'is', 'reached', 'in', 'the', 'hb', 'f', '4', '–', 'tap', 'o', 'system', ':', '1', '.', '5', 'at', 'low', 'acid', 'concentrations', '.', 'high', 'distribution', 'ratio', 'd', 'is', 'an', 'advantage', 'in', 'commercial', 'separation', 'of', 'boron', 'isotopes', ',', 'because', 'at', 'one', 'extraction', 'step', 'the', 'larger', 'fraction', 'of', 'the', 'substance', 'is', 'extracted', ',', 'and', 'thus', 'the', 'amount', 'of', 'the', 'enriched', 'product', 'obtained', 'increases', '.']\n",
      "['the', 'extraction', 'mechanism', 'in', 'each', 'system', 'was', 'determined', 'from', 'the', 'shape', 'of', 'the', 'extraction', 'isother', 'm', '.', 'in', 'the', 'h', '3', 'bo', '3', '∙', 'c', '4', 'h', '6', 'o', '6', '–', 'tb', 'p', ',', 'h', '3', 'bo', '3', '∙', 'c', '4', 'h', '6', 'o', '6', '–', 'tap', 'o', ',', 'and', 'hb', 'f', '4', '–', 'tb', 'p', 'systems', ',', 'the', 'substance', 'distribution', 'is', 'mainly', 'physical', '.', 'in', 'the', 'hb', 'f', '4', '–', 'tap', 'o', 'system', ',', 'the', 'extraction', 'occurs', 'by', 'the', 'chemical', 'mechanism', 'with', 'the', 'chemical', 'interaction', 'between', 'hb', 'f', '4', 'and', 'tap', 'o', '.', 'the', 'chemical', 'interaction', 'between', 'the', 'system', 'components', 'is', 'also', 'an', 'advantage', 'for', 'the', 'extraction', ',', 'because', 'it', 'increases', 'the', 'distribution', 'ratio', 'in', 'the', 'system', '.']\n",
      "['we', 'determined', 'the', 'single', '-', 'stage', 'isotope', 'separation', 'factors', 'α', 'for', 'the', 'four', 'extraction', 'systems', '.', 'the', 'isotope', 'separation', 'in', 'the', 'systems', 'with', 'h', '3', 'bo', '3', 'is', 'not', 'so', 'high', ',', 'which', 'may', 'be', 'due', 'to', 'a', 'significant', 'change', 'in', 'ph', 'of', 'the', 'aqueous', 'phase', 'upon', 'first', 'contact', 'and', 'cessation', 'of', 'isotope', 'separation', 'in', 'the', 'second', 'and', 'further', 'extraction', 's', '.', 'on', 'the', 'other', 'hand', ',', 'the', 'enrichment', 'in', 'the', 'systems', 'with', 'hb', 'f', '4', 'is', 'higher', 'than', 'in', 'the', 'systems', 'with', 'h', '3', 'bo', '3', '.']\n",
      "['variation', 'of', 'the', 'extract', 'ants', 'influences', 'the', 'isotope', 'separation', 'not', 'so', 'strongly', 'as', 'the', 'kind', 'of', 'the', 'extract', 'able', 'substance', 'does', '.', 'the', 'isotope', 'separation', 'factors', 'in', 'the', 'hb', 'f', '4', 'tb', 'p', 'and', 'hb', 'f', '4', '–', 'tap', 'o', 'systems', 'are', 'close', 'and', 'coincide', 'within', 'the', 'uncertainty', '.', 'the', 'kind', 'of', 'the', 'extract', 'ant', 'influences', 'to', 'a', 'greater', 'extent', 'the', 'degree', 'of', 'extraction', 'of', 'the', 'acid', 'from', 'the', 'aqueous', 'phase', 'into', 'the', 'organic', 'phase', 'than', 'the', 'isotope', 'effects', '.']\n",
      "['studies', 'of', 'extraction', 'isother', 'ms', 'have', 'shown', 'that', 'the', 'hb', 'f', '4', '–', 'tap', 'o', 'system', 'gives', 'the', 'highest', 'distribution', 'ratio', 'despite', 'the', 'fact', 'that', 'the', 'tap', 'o', 'concentration', 'in', 'the', 'organic', 'phase', '(', '0', '.', '5', 'м', 'solution', 'in', 'o', '-', 'xyl', 'ene', ')', 'in', 'all', 'the', 'experiments', 'was', 'lower', 'than', 'the', 'tb', 'p', 'concentration', '(', '1', '.', '5', 'м', 'solution', 'in', 'o', '-', 'xyl', 'ene', ')', '.']\n",
      "['thus', ',', 'the', 'use', 'of', 'tap', 'o', 'as', 'an', 'extract', 'ant', 'is', 'more', 'advantageous', 'from', 'the', 'viewpoint', 'of', 'the', 'reagent', 'consumption', '.', 'as', 'we', 'found', ',', 'in', 'the', 'extraction', 'of', 'hb', 'f', '4', ',', '10', 'b', 'is', 'accumulated', 'in', 'the', 'aqueous', 'phase', 'in', 'contrast', 'to', 'the', 'systems', 'with', 'h', '3', 'bo', '3', ',', 'in', 'which', '10', 'b', 'is', 'concentrated', 'in', 'the', 'organic', 'phase', '.']\n",
      "['thus', ',', 'it', 'can', 'be', 'concluded', 'that', ',', 'among', 'all', 'the', 'systems', 'under', 'consideration', ',', 'the', 'hb', 'f', '4', '–', 'tap', 'o', 'is', 'the', 'most', 'suitable', 'system', 'for', 'the', 'boron', 'isotope', 'separation', 'by', 'liquid', 'extraction', ',', 'because', 'this', 'system', 'is', 'characterized', 'by', 'the', 'highest', 'distribution', 'ratio', 'd', ',', 'the', 'most', 'efficient', 'reagent', 'consumption', ',', 'and', 'relatively', 'efficient', 'isotope', 'separation', 'at', 'a', 'single', 'stage', '.']\n",
      "['a', 'procedure', 'for', 'studying', 'the', 'extraction', 'kinetics', 'of', 'components', 'of', 'long', '-', 'lived', 'spent', 'nuclear', 'fuel', 'and', 'high', '-', 'level', 'waste', 'by', 'recording', 'the', 'ir', 'absorption', 'spectra', 'in', 'the', 'attenuated', 'total', 'reflection', 'geometry', 'was', 'developed', '.', 'the', 'procedure', 'was', 'applied', 'to', 'the', 'extraction', 'of', 'eu', '(', 'no', '3', ')', '3', 'with', 'tri', 'amyl', 'phosph', 'ine', 'oxide', '(', 'tap', 'o', ')', 'and', 'oct', 'yl', '(', 'phenyl', ')', '-', 'n', ',', 'n', '-', 'di', 'iso', 'butyl', 'carb', 'amo', 'yl', 'methyl', 'phosph', 'ine', 'oxide', '(', 'cm', 'po', ')', '.', 'the', 'extraction', 'rate', 'constant', 'was', 'calculated', 'for', 'the', 'system', 'with', 'tap', 'o', '.', 'a', 'mechanism', 'of', 'the', 'interaction', 'of', 'cm', 'po', 'with', 'eu', '3', '+', 'ions', 'was', 'suggested', '.']\n",
      "['experiments', 'were', 'performed', 'with', 'tri', 'amyl', 'phosph', 'ine', 'oxide', '(', 'tap', 'o', ')', ',', 'oct', 'yl', '(', 'phenyl', ')', '-', 'n', ',', 'n', '-', 'di', 'iso', 'butyl', 'carb', 'amo', 'yl', 'methyl', 'phosph', 'ine', 'oxide', '(', 'cm', 'po', ')', '(', 'ek', 'os', ',', 'russia', ')', ',', 'and', 'eu', '(', 'no', '3', ')', '3', '·', '6', 'h', '2', 'o', '(', 've', 'kt', 'on', ',', 'russia', ')', '.']\n",
      "['the', 'fourier', 'ir', 'absorption', 'spectra', 'were', 'recorded', 'with', 'a', 'sim', 'ex', 'ft', '-', '800', 'spectrometer', 'using', 'a', 'sim', 'ex', 'atr', '-', '[UNK]', 'attachment', 'with', 'a', 'diamond', 'crystal', '(', 'diameter', 'of', 'the', 'working', 'surface', '2', '.', '4', 'mm', ')', '.', 'measurements', 'were', 'performed', 'in', 'the', 'range', '500', '–', '4000', 'cm', '−1', 'with', '2', 'cm', '−1', 'resolution', '.']\n",
      "['an', 'aqueous', '0', '.', '2', 'м', 'eu', '(', 'no', '3', ')', '3', '·', '6', 'h', '2', 'o', 'solution', 'was', 'prepared', 'by', 'dissol', 'ving', 'in', 'distilled', 'water', 'a', 'portion', 'of', 'the', 'salt', 'weighed', 'on', 'an', 'analytical', 'balance', '.', '0', '.', '6', 'м', 'solutions', 'of', 'tap', 'o', 'and', 'cm', 'po', 'in', 'dichlor', 'oe', 'than', 'e', 'were', 'prepared', 'similarly', '.']\n",
      "['complete', 'extraction', 'was', 'performed', 'at', '25°', 'с', 'by', 'stirring', '0', '.', '5', '-', 'ml', 'portions', 'of', 'the', 'solutions', 'of', 'europ', 'ium', 'and', 'one', 'of', 'the', 'extract', 'ants', ';', 'the', 'phase', 'contact', 'time', 'was', '4', 'h', '.', 'after', 'that', ',', 'the', 'residual', 'europ', 'ium', 'content', 'of', 'the', 'aqueous', 'phase', 'was', 'determined', 'by', 'inductively', 'coupled', 'plasma', 'atomic', 'emission', 'spectroscopy', '.']\n",
      "['the', 'experiment', 'was', 'performed', 'in', 'a', 'microc', 'ell', 'in', 'the', 'form', 'of', 'a', 'polyp', 'ropy', 'len', 'e', 'tube', 'with', 'a', 'hole', 'in', 'the', 'upper', 'lateral', 'part', 'for', 'introducing', 'liquid', 'samples', '.', 'when', 'performing', 'the', 'experiments', ',', 'the', 'microc', 'ell', 'was', 'arranged', 'so', 'that', 'the', 'cell', 'material', 'was', 'not', 'in', 'contact', 'with', 'the', 'atr', 'crystal', '.']\n",
      "['then', ',', 'the', 'cell', 'was', 'pressed', 'with', 'a', 'press', 'to', 'reduce', 'the', 'liquid', 'vapor', 'ization', '.', 'a', '50', '-', 'μ', 'l', 'portion', 'of', 'the', 'extract', 'ant', 'solution', 'in', 'dichlor', 'oe', 'than', 'e', 'was', 'introduced', 'into', 'the', 'cell', ',', 'and', 'the', 'initial', 'spectrum', 'was', 'recorded', '.', 'then', ',', '50', 'μ', 'l', 'of', 'the', 'europ', 'ium', 'nitrate', 'solution', 'was', 'introduced', 'into', 'the', 'cell', ',', 'and', 'the', 'spectra', 'were', 'recorded', 'at', '3', '–', 's', 'intervals', '.', 'the', 'recording', 'was', 'stopped', 'when', 'no', 'changes', 'at', 'characteristic', 'wavelengths', 'were', 'observed', 'in', 'the', 'course', 'of', 'four', 'or', 'five', 'scans', '.']\n",
      "['figure', '1', 'shows', 'the', 'range', '1200', '–', '108', '0', 'cm', '–', '1', 'of', 'the', 'fourier', 'ir', 'spectrum', 'of', 'the', 'system', 'consisting', 'of', '0', '.', '6', 'м', 'tap', 'o', 'in', 'dichlor', 'oe', 'than', 'e', 'and', '0', '.', '2', 'м', 'aqueous', 'eu', '(', 'no', '3', ')', '3', '.', 'this', 'range', 'was', 'monitored', 'for', '180', 's', ';', 'the', 'time', 'of', 'recording', 'a', 'single', 'spectrum', 'was', '3', 's', '.', 'this', 'range', 'contains', 'the', 'stretching', 'vibration', 'band', 'ν', 'p', '=', 'o', 'of', 'free', 'tap', 'o', 'molecules', 'at', '115', '2', 'cm', '–', '1', ';', 'its', 'intensity', 'decreases', 'with', 'an', 'increase', 'in', 'the', 'phase', 'contact', 'time', '.', 'also', ',', 'with', 'the', 'start', 'of', 'extraction', ',', 'the', 'stretching', 'vibration', 'band', 'ν', 'p', '=', 'o', 'of', 'tap', 'o', 'solv', 'ates', 'with', 'the', 'eu', '3', '+', 'ion', 'appears', 'at', '112', '4', 'cm', '–', '1', '.']\n",
      "['similar', 'experiment', 'was', 'performed', 'for', 'the', 'system', 'with', 'cm', 'po', '.', 'because', 'of', 'the', 'more', 'complex', 'structure', 'of', 'the', 'extract', 'ant', ',', 'we', 'chose', 'four', 'bands', 'as', 'analytical', 'bands', 'for', 'determining', 'the', 'europ', 'ium', 'extraction', 'kinetics', '.', 'namely', ',', 'we', 'chose', 'the', 'range', '122', '0', '–', '108', '0', 'cm', '–', '1', '(', 'fig', '.', '4', ')', 'containing', 'the', 'stretching', 'vibration', 'band', 'ν', 'p', '=', 'o', 'of', 'free', 'cm', 'po', 'molecules', 'at', '119', '4', 'cm', '–', '1', ',', 'whose', 'intensity', 'decreases', 'with', 'increasing', 'phase', 'contact', 'time', ',', 'and', 'the', 'stretching', 'vibration', 'band', 'ν', 'p', '=', 'o', 'at', '115', '0', 'cm', '–', '1', ',', 'corresponding', 'to', 'vibrations', 'of', 'the', 'coordinated', 'p', '=', 'o', 'groups', 'in', 'solv', 'ates', 'of', 'the', 'extract', 'ant', 'with', 'the', 'eu', '3', '+', 'ion', '.']\n",
      "['also', ',', 'we', 'considered', 'the', 'range', '166', '0', '–', '157', '0', 'cm', '–', '1', '(', 'fig', '.', '5', ')', 'containing', 'the', 'stretching', 'vibration', 'band', 'ν', 'с', '=', 'o', 'of', 'co', 'groups', 'that', 'are', 'not', 'coordinated', 'to', 'the', 'metal', 'ion', 'at', '163', '2', 'cm', '–', '1', '(', 'its', 'intensity', 'decreases', 'upon', 'formation', 'of', 'solv', 'ates', 'with', 'eu', '3', '+', 'ions', ')', 'and', 'the', 'stretching', 'vibration', 'band', 'ν', 'с', '=', 'o', 'at', '159', '0', 'cm', '–', '1', ',', 'corresponding', 'to', 'the', 'vibrations', 'of', 'the', 'cm', 'po', 'molecule', 'coordinated', 'to', 'eu', '3', '+', 'ions', 'via', 'с', '=', 'о', 'groups', '.']\n",
      "['the', 'conditions', 'for', 'the', 'oxidation', 'of', 'am', '(', 'iii', ')', 'to', 'am', '(', 'vi', ')', 'and', 'its', 'reduction', 'to', 'am', '(', 'v', ')', 'are', 'shown', ',', 'and', 'the', 'stability', 'of', 'these', 'forms', 'in', 'a', '0', '.', '1', 'm', 'nitric', 'acid', 'model', 'solution', 'of', 'the', 'actin', 'ide', '-', 'lan', 'than', 'ide', 'fraction', 'of', 'high', '-', 'level', 'waste', '(', 'hl', 'w', ')', 'containing', 'isotopes', 'of', 'americ', 'ium', 'and', 'cur', 'ium', 'and', 'also', 'pras', 'e', 'ody', 'mium', 'as', 'a', 'simul', 'ant', 'of', 'the', 'behavior', 'of', 'fragmented', 'lan', 'than', 'ides', 'is', 'defined', '.']\n",
      "['it', 'was', 'found', 'that', 'about', '30', '%', 'of', 'americ', 'ium', 'in', 'the', 'am', '(', 'v', ')', 'oxidation', 'state', 'of', 'its', 'initial', 'content', 'in', 'a', 'model', 'solution', 'containing', 'a', 'salt', 'ing', '-', 'out', 'agent', '(', 'ammonium', 'nitrate', ')', 'in', 'an', 'amount', 'of', '8', 'm', ',', 'passes', 'into', 'the', 'organic', 'phase', 'in', 'one', 'stage', 'of', 'extraction', 'with', 'a', '30', '%', 'solution', 'of', 'trib', 'ut', 'yl', 'phosphate', 'in', 'isop', 'ar', '-', 'm', '.', 'in', 'this', 'case', ',', 'cm', 'and', 'pr', 'are', 'extracted', 'by', '80', '–', '85', '%', '.', 'the', 'distribution', 'coefficient', 'of', 'am', 'was', 'about', '0', '.', '1', ',', 'of', 'cm', 'and', 'pr', ',', 'about', '1', ',', 'and', 'the', 'separation', 'factor', 'of', 'am', 'from', 'cm', 'and', 'pr', 'was', 'about', '10', '.', 'thus', ',', 'the', 'possibility', 'of', 'selective', 'separation', 'of', 'americ', 'ium', 'from', 'hl', 'w', 'for', 'its', 'subsequent', 'transm', 'uta', 'tion', 'in', 'fast', 'reactors', 'was', 'demonstrated', '.']\n",
      "['deep', 'purification', 'of', 'the', 'stripp', 'ed', '90', 'y', 'obtained', 'after', 'the', '90', 'sr', '/', '90', 'y', 'pair', 'extraction', 'separation', 'with', 'd', '2', 'eh', 'pa', 'from', 'chemical', 'impurities', '(', 'cr', ',', 'mn', ',', 'ni', ',', 'pb', ',', 'fe', ',', 'zr', ')', 'employing', 'the', 'tod', 'ga', '-', 'containing', 'sor', 'ben', 't', 'axi', 'onit', 'mn', 'd', '40', 't', 'was', 'considered', '.', 'also', ',', 'a', 'two', '-', 'stage', 'sorption', 'separation', 'of', 'the', '90', 'sr', '/', '90', 'y', 'pair', 'without', 'using', 'the', 'extraction', 'method', 'was', 'developed', '.', 'at', 'the', 'first', 'stage', 'the', '90', 'y', 'was', 'separated', 'from', '90', 'sr', 'with', 'pur', 'olite', 'd', '50', '41', 'phosphate', 'cation', 'exchange', 'resin', ',', 'and', 'at', 'the', 'second', 'stage', ',', '90', 'y', 'deep', 'purification', 'was', 'carried', 'out', 'on', 'the', 'axi', 'onit', 'mn', 'd', '40', 't', 'sor', 'ben', 't', '.', 'the', 'prepared', '90', 'y', 'in', 'radio', 'chemical', 'purity', 'meets', 'the', 'requirements', 'for', 'radio', 'pharmac', 'eut', 'ical', 's', '.', 'in', 'the', 'extraction', 'separation', 'of', 'the', '90', 'sr', '/', '90', 'y', 'pair', 'using', 'd', '2', 'eh', 'pa', ',', 'the', 'stripp', 'ed', '90', 'y', 'is', 'obtained', 'containing', '5', 'm', 'nitric', 'acid', ',', 'trace', 'amounts', 'of', '90', 'sr', ',', 'and', 'chemical', 'impurities', ',', 'mainly', 'corrosion', 'products', 'of', 'structural', 'materials', '.', 'table', '1', 'shows', 'the', 'composition', 'of', 'the', 'model', 'solution', 'simulating', 'the', 'stripp', 'ed', '90', 'y', '.']\n",
      "['the', 'experiments', 'were', 'carried', 'out', 'under', 'dynamic', 'conditions', 'employing', 'a', 'tod', 'ga', '-', 'containing', 'tv', 'ex', 'of', 'axi', 'onit', 'mn', 'd', '40', 't', 'grade', '(', '“', 'axi', 'on', '–', 'rare', 'and', 'prec', 'ious', 'metals', '”', 'js', 'c', ',', 'russia', ')', '.', 'a', 'st', 'yrene', '–', 'div', 'in', 'yl', 'benzene', 'copolymer', 'was', 'used', 'as', 'a', 'carrier', '.', 'the', 'tod', 'ga', 'content', 'in', 'the', 'sor', 'ben', 't', 'was', '40', 'wt', '%', ',', 'the', 'granule', 'size', 'was', '0', '.', '315', '–', '0', '.', '50', 'mm', '.', 'for', 'purification', ',', 'the', 'initial', 'solution', 'was', 'passed', 'through', 'a', 'plastic', 'column', 'filled', 'with', 'axi', 'onit', 'mn', 'd', '40', 't', 'sor', 'ben', 't', ',', 'the', 'volume', 'of', 'the', 'sor', 'ben', 't', 'in', 'the', 'column', 'was', '4', 'cm', '3', '.']\n",
      "['before', 'the', 'experiments', ',', 'the', 'sor', 'ben', 't', 'was', 'treated', 'in', 'a', 'column', 'with', 'a', '5', 'm', 'nitric', 'acid', 'solution', 'for', '2', 'h', '.', 'at', 'the', 'sorption', 'stage', 'the', 'initial', 'solution', 'was', 'passed', 'through', 'the', 'column', 'at', 'a', 'rate', 'of', '6', '.', '0', 'column', 'volumes', 'per', 'an', 'hour', '[', '(', 'c', '.', 'v', '.', ')', '/', 'h', ']', '.', 'the', 'fil', 'trate', 'at', 'the', 'column', 'outlet', 'was', 'collected', 'and', 'tested', 'for', 'the', 'amounts', 'of', 'chemical', 'impurities', '.']\n",
      "['after', 'the', 'end', 'of', 'the', 'sorption', ',', 'a', '3', 'm', 'hcl', 'solution', 'was', 'passed', 'through', 'the', 'column', 'at', 'a', 'rate', 'of', '3', '.', '0', 'c', '.', 'v', '.', '/', 'h', 'to', 'remove', 'the', 'initial', 'solution', 'residues', '.', 'desorption', 'of', '90', 'y', 'was', 'performed', 'with', '0', '.', '01', 'm', 'hcl', '.', 'the', 'passing', 'rate', 'was', '3', '.', '0', 'c', '.', 'v', '.', '/', 'h', ',', 'the', 'solution', 'volume', 'was', '6', 'c', '.', 'v', '.', 'the', 'supply', 'of', 'the', 'solutions', 'during', 'pre', '-', 'treatment', 'and', 'at', 'all', 'stages', 'was', 'carried', 'out', 'using', 'a', 'peri', 'sta', 'lt', 'ic', 'pump', 'from', 'bottom', 'to', 'top', '.', 'the', 'total', 'time', 'of', 'sorption', 'purification', 'was', '5', '–', '6', 'h', '.']\n",
      "['the', '90', 'sr', '/', '90', 'y', 'pair', 'separation', 'experiments', 'were', 'carried', 'out', 'employing', 'a', 'model', 'solution', 'containing', '1', '.', '5', 'g', '/', 'dm', '3', 'stro', 'nt', 'ium', 'and', '0', '.', '15', 'mg', '/', 'dm', '3', 'yt', 'tri', 'um', 'nitrate', 's', 'and', '0', '.', '01', '–', '0', '.', '3', 'm', 'nitric', 'acid', 'there', 'with', 'a', 'label', 'of', 'the', 'equilibrium', '90', 'sr', '/', '90', 'y', 'pair', 'was', 'introduced', 'into', 'the', 'model', 'solution', 'in', 'an', 'amount', 'of', 'about', '105', 'bq', '/', 'dm', '3', '.']\n",
      "['at', 'the', 'first', 'stage', 'of', 'separation', ',', 'the', 'initial', 'solution', 'was', 'passed', 'through', 'a', 'plastic', 'column', 'filled', 'with', '4', '.', '5', 'cm', '3', 'd', '50', '41', 'phosphate', 'cation', 'exchange', 'resin', '(', 'pur', 'olite', ',', 'great', 'britain', ')', '.', 'then', 'the', 'sor', 'ben', 't', 'was', 'washed', 'with', 'a', '0', '.', '01', '–', '0', '.', '3', 'm', 'hcl', 'solution', 'and', '90', 'y', 'was', 'stripp', 'ed', 'with', 'a', '3', 'm', 'hcl', 'solution', '.', 'the', 'flow', 'rate', 'of', 'the', 'solutions', 'was', '3', '.', '0', 'c', '.', 'v', '.', '/', 'h', ',', 'the', 'solution', 'volume', 'was', '6', 'c', '.', 'v', '.', 'in', 'the', 'fil', 'trate', 'and', 'des', 'orb', 'ate', ',', 'the', 'specific', 'total', 'beta', 'activity', 'was', 'determined', '.']\n",
      "['at', 'the', 'second', 'stage', 'of', 'separation', ',', 'hydrochlor', 'ic', 'acid', 'des', 'orb', 'ate', 'was', 'passed', 'through', 'a', 'plastic', 'column', 'filled', 'with', '4', '.', '5', 'cm', '3', 'axi', 'onit', 'mn', 'd', '40', 't', 'sor', 'ben', 't', '.', 'then', 'the', 'sor', 'ben', 't', 'was', 'washed', 'with', 'a', '3', 'm', 'hcl', 'solution', 'and', '90', 'y', 'was', 'stripp', 'ed', 'with', 'a', '0', '.', '01', 'm', 'hcl', 'solution', '.', 'the', 'flow', 'rate', 'of', 'the', 'solutions', 'was', '3', '.', '0', 'c', '.', 'v', '.', '/', 'h', ',', 'the', 'solution', 'volume', 'was', '6', 'c', '.', 'v', '.', 'in', 'the', 'fil', 'trate', 'and', 'des', 'orb', 'ate', ',', 'the', 'specific', 'total', 'beta', 'activity', 'was', 'determined', 'for', 'at', 'least', '35', 'days', '.', 'the', 'setup', 'scheme', 'is', 'shown', 'in', 'fig', '.', '1', '.']\n",
      "['the', 'analysis', 'of', 'solutions', 'for', 'the', 'content', 'of', 'chemical', 'elements', 'was', 'carried', 'out', 'by', 'mass', 'spectrometry', 'by', 'an', 'agilent', '750', '0', 'ce', 'inductively', 'coupled', 'plasma', 'mass', 'spectrometer', '(', 'icp', '-', 'ms', ')', '(', 'agilent', 'technologies', ',', 'japan', ')', '.', 'the', 'specific', 'activities', 'of', '90', 'sr', 'and', '90', 'y', 'in', 'solutions', 'were', 'determined', 'by', 'a', 'direct', 'radio', 'metric', 'method', 'using', 'an', 'sk', 's', '-', '50', 'm', 'spectrom', 'etric', 'complex', '(', 'green', 'star', 'technologies', ',', 'russia', ')', '.']\n"
     ]
    },
    {
     "name": "stdout",
     "output_type": "stream",
     "text": [
      "['the', 'presented', 'results', 'show', 'that', 'when', 'using', 'the', 'sorption', 'method', 'of', 'purification', ',', 'which', 'includes', 'the', '90', 'y', 'sorption', 'stages', 'on', 'the', 'axi', 'onit', 'mn', 'd', '40', 't', 'sor', 'ben', 't', ',', 'washing', 'and', 'elution', 'of', 'yt', 'tri', 'um', 'with', '0', '.', '01', 'm', 'hcl', ',', 'deep', 'purification', 'of', 'the', 'stripp', 'ed', '90', 'y', 'from', 'residual', 'stro', 'nt', 'ium', 'amounts', 'as', 'well', 'as', 'from', 'equipment', 'corrosion', 'products', ',', 'is', 'observed', '.']\n",
      "['the', 'purification', 'factors', '(', 'kp', 'ur', ')', 'of', 'yt', 'tri', 'um', 'from', 'stro', 'nt', 'ium', ',', 'chromium', ',', 'manganese', ',', 'nickel', ',', 'and', 'lead', 'are', 'more', 'than', '100', '.', 'the', 'kp', 'ur', 'for', 'iron', 'and', 'zircon', 'ium', 'ions', 'is', '54', 'and', '40', ',', 'respectively', '.', 'the', 'lowest', 'purification', 'efficiency', 'is', 'observed', 'for', 'impurities', 'of', 'aluminum', ',', 'phosphorus', ',', 'and', 'calcium', '(', 'kp', 'ur', '=', '2', '.', '7', '–', '3', '.', '9', ')', '.']\n",
      "['the', 'sorption', 'method', 'was', 'tested', 'for', 'direct', 'separation', 'of', 'the', '90', 'sr', '/', '90', 'y', 'pair', 'without', 'using', 'the', 'extraction', 'method', '.', 'the', 'sorption', 'completeness', 'of', '90', 'y', 'and', '90', 'sr', 'on', 'the', 'first', 'column', 'filled', 'with', 'phosphate', 'cation', 'exchange', 'resin', 'd', '50', '41', 'can', 'be', 'evidenced', 'by', 'the', 'change', 'in', 'the', 'relative', 'beta', 'activity', '(', 'a', '/', 'ain', ')', 'of', 'the', 'fil', 'trate', 'over', '35', '–', '50', 'days', '.']\n",
      "['these', 'results', 'demonstrate', 'that', 'sorption', 'from', 'a', '0', '.', '01', 'm', 'hn', 'o', '3', 'solution', 'is', 'accompanied', 'by', 'the', 'combined', 'sorption', 'of', '90', 'sr', 'and', '90', 'y', '.', 'the', 'relative', 'beta', 'activity', 'of', 'the', 'fil', 'trate', 'changes', 'relatively', 'little', 'over', 'time', 'and', 'its', 'equilibrium', 'value', 'is', 'about', '20', '%', 'of', 'the', 'initial', 'value', '.']\n",
      "['with', 'an', 'increase', 'in', 'the', 'nitric', 'acid', 'concentration', 'the', 'time', 'dependence', 'of', 'the', 'a', '/', 'ain', 'value', 'of', 'the', 'fil', 'trate', 'changes', 'sharply', '.', 'at', 'a', '0', '.', '2', '–', '0', '.', '3', 'm', 'hn', 'o', '3', 'concentration', 'at', 'first', 'the', 'a', '/', 'ain', 'value', 'is', '~', '0', '.', '4', ',', 'and', 'the', 'equilibrium', 'value', ',', '0', '.', '8', '–', '0', '.', '9', '.']\n",
      "['this', 'fact', 'indicates', 'that', 'during', 'the', 'sorption', 'of', 'the', 'equilibrium', '90', 'sr', '/', '90', 'y', 'mixture', 'in', 'this', 'acid', 'ity', 'range', ',', 'almost', 'all', '90', 'sr', 'remains', 'in', 'the', 'fil', 'trate', ',', 'and', '90', 'y', 'is', 'completely', 'sor', 'bed', 'on', 'the', 'column', '.', 'when', 'the', 'sor', 'ben', 't', 'is', 'washed', 'after', 'sorption', 'with', '0', '.', '2', '–', '0', '.', '3', 'm', 'hcl', ',', 'additional', 'elution', 'of', 'residual', 'amounts', 'of', '90', 'sr', 'occurs', '.']\n",
      "['the', 'results', 'on', 'fig', '.', '2', 'b', 'show', 'that', 'hydrochlor', 'ic', 'acid', 'des', 'orb', 'ates', 'obtained', 'after', 'the', '90', 'sr', '/', '90', 'y', 'pair', 'sorption', 'by', 'the', 'd', '50', '41', 'cation', 'exchange', 'resin', 'from', '0', '.', '2', '–', '0', '.', '3', 'm', 'hn', 'o', '3', 'solutions', 'and', 'washing', 'with', 'hcl', 'solutions', 'of', 'the', 'same', 'concentrations', 'contain', 'almost', 'pure', '90', 'y', '.', 'the', 'residual', 'activity', 'of', 'des', 'orb', 'ates', 'after', 'keeping', 'for', '45', 'days', 'does', 'not', 'exceed', '0', '.', '1', '%', 'of', 'the', 'initial', 'activity', 'of', 'the', 'solution', ',', 'and', 'the', 'experimental', 'and', 'calculated', 'decomposition', 'curves', 'of', 'des', 'orb', 'ates', 'almost', 'completely', 'coincide', '.']\n",
      "['due', 'to', 'the', 'fact', 'that', 'even', 'deeper', 'purification', 'of', '90', 'y', 'from', '90', 'sr', 'is', 'required', 'for', 'use', 'in', 'the', 'production', 'of', 'radio', 'pharmac', 'eut', 'ical', 's', ',', 'the', 'obtained', 'hydrochlor', 'ic', 'acid', 'des', 'orb', 'ates', 'were', 'subjected', 'to', 'additional', 'purification', 'with', 'the', 'tod', 'ga', '-', 'containing', 'sor', 'ben', 't', 'axi', 'onit', 'mn', 'd', '40', 't', '.']\n",
      "['sor', 'ben', 'ts', 'of', 'this', 'type', 'are', 'capable', 'of', 'efficient', 'sorption', 'of', 'ree', 'and', 'y', 'in', 'strongly', 'acidic', 'media', 'including', 'hydrochlor', 'ic', 'acid', '.', 'in', 'acid', 'solutions', 'with', 'a', 'concentration', 'of', 'less', 'than', '0', '.', '1', 'm', 'the', 'sorption', 'of', 'ree', '(', 'y', ')', 'sharply', 'decreases', ',', 'which', 'makes', 'it', 'possible', 'to', 'carry', 'out', 'their', 'desorption', '.']\n",
      "['to', 'experimentally', 'verify', 'this', 'fact', 'we', 'used', 'hydrochlor', 'ic', 'acid', 'des', 'orb', 'ate', 'obtained', 'after', '90', 'sr', '/', '90', 'y', 'pair', 'sorption', 'by', 'the', 'cation', 'exchange', 'resin', 'd', '50', '41', 'from', 'a', '0', '.', '2', 'm', 'hn', 'o', '3', 'solution', 'and', 'washing', 'with', '0', '.', '2', 'm', 'hcl', '.', 'des', 'orb', 'ate', 'containing', '3', 'm', 'hcl', ',', '90', 'y', 'des', 'orbed', 'from', 'the', 'first', 'column', ',', 'and', 'residual', 'impurities', 'were', 'passed', 'through', 'a', 'plastic', 'column', 'filled', 'with', '4', '.', '5', 'cm', '3', 'axi', 'onit', 'mn', 'd', '40', 't', 'sor', 'ben', 't', '.']\n",
      "['then', 'the', 'sor', 'ben', 't', 'was', 'washed', 'with', 'a', '3', 'm', 'hcl', 'solution', 'and', '90', 'y', 'was', 'des', 'orbed', 'with', 'a', '0', '.', '01', 'm', 'hcl', 'solution', '.', 'the', 'passing', 'rate', 'of', 'solutions', 'was', '3', '.', '0', 'c', '.', 'v', '.', '/', 'h', ',', 'the', 'solution', 'volume', 'was', '6', 'c', '.', 'v', '.', 'figure', '3', 'shows', 'the', 'experimental', 'and', 'calculated', 'curves', 'of', 'the', 'relative', 'beta', 'activity', '(', 'a', '/', 'ain', ')', 'vs', '.', 'the', 'exposure', 'time', 'of', 'the', 'des', 'orb', 'ate', '(', '0', '.', '01', 'm', 'hcl', ')', 'after', 'sorption', 'by', 'the', 'axi', 'onit', 'mn', 'd', '40', 't', 'sor', 'ben', 't', '.']\n",
      "['the', 'results', 'in', 'fig', '.', '3', 'show', 'that', 'hydrochlor', 'ic', 'acid', 'des', 'orb', 'ates', 'obtained', 'after', 'additional', 'purification', 'with', 'the', 'axi', 'onit', 'mn', 'd', '40', 't', 'sor', 'ben', 't', 'contain', 'only', '90', 'y', '.', 'the', 'residual', 'activity', 'of', 'des', 'orb', 'ates', 'after', 'keeping', 'for', '45', 'days', 'is', 'at', 'the', 'near', 'the', 'detection', 'limits', 'of', 'the', 'recording', 'equipment', '.', 'the', 'portion', 'of', '90', 'sr', 'activity', 'in', '90', 'y', '-', 'containing', 'des', 'orb', 'ate', 'is', 'less', 'than', '10', '–', '6', '%', '.']\n",
      "[['the', 'influence', 'of', 'γ', '-', 'radiation', 'on', 'the', 'physical', 'characteristics', 'and', 'sorption', 'properties', 'for', 'am', 'of', 'the', 'solid', 'extract', 'ant', 'axi', 'onit', 'mn', 'd', '40', 't', '(', 'tv', 'ex', ')', 'synthesized', 'by', 'axi', 'on', '-', 'rare', 'and', 'noble', 'metals', 'js', 'c', '(', 'perm', ')', 'was', 'studied', '.', 'with', 'an', 'increase', 'of', 'the', 'absorbed', 'dose', 'of', 'γ', '-', 'radiation', ',', 'the', 'granul', 'ometric', 'composition', ',', 'bulk', 'density', ',', 'and', 'specific', 'volume', 'of', 'tv', 'ex', 'change', 'insignificant', 'ly', '.', 'the', 'ir', 'spectra', 'of', 'tv', 'ex', 'demonstrate', 'significant', 'radiation', 'degradation', 'at', 'an', 'absorbed', 'radiation', 'dose', 'from', '1', '.', '4', 'to', '2', '.', '5', 'mg', 'y', '.', 'tv', 'ex', 'is', 'an', 'effective', 'am', 'sor', 'ben', 't', 'when', 'irradiated', 'to', 'an', 'absorbed', 'γ', '-', 'radiation', 'dose', 'of', 'no', 'more', 'than', '0', '.', '6', 'mg', 'y', '.', 'at', 'an', 'irradiation', 'dose', 'of', '2', '.', '5', 'mg', 'y', 'sorption', 'capacity', 'is', 'significantly', 'reduced', '.'], ['basic', 'physicochemical', 'properties', 'of', 'the', 'tv', 'ex', 'sample', 'used', 'in', 'the', 'work', 'are', 'given', 'in', 'table', '1', '.', 'tv', 'ex', 'was', 'synthesized', 'by', 'copolymer', 'ization', 'of', 'st', 'yrene', 'with', 'div', 'in', 'yl', 'benzene', 'in', 'the', 'presence', 'of', 'the', 'active', 'component', '(', 'extract', 'ant', ')', 'n', ',', 'n', ',', '[UNK]', ',', '[UNK]', '-', 'tetra', '-', 'n', '-', 'oct', 'yl', 'amide', 'dig', 'ly', 'col', 'ic', 'acid', '(', '40', 'wt', '%', ')', 'and', 'solvent', '.'], ['before', 'irradiation', ',', 'tv', 'ex', 'samples', 'were', 'kept', 'in', 'distilled', 'water', 'until', 'complete', 'swelling', 'and', 'then', 'in', 'a', '5', '.', '0', 'm', 'hn', 'o', '3', 'solution', 'for', '24', 'h', '.'], ['to', 'study', 'the', 'radiation', 'resistance', ',', 'the', 'prepared', 'tv', 'ex', 'samples', 'were', 'irradiated', 'on', 'the', 'iss', 'led', 'ova', 'tel', '’', 'unit', 'with', 'a', '60', 'co', '-', 'radiation', 'source', 'at', 'a', 'dose', 'rate', 'of', '0', '.', '14', 'gy', '/', 's', 'at', 'room', 'temperature', 'until', 'the', 'absorbed', 'dose', '0', '.', '6', ',', '1', '.', '4', ',', 'and', '2', '.', '5', 'mg', 'y', 'was', 'received', '.', 'the', 'irradiation', 'of', 'tv', 'ex', 'samples', 'was', 'performed', 'in', 'a', '5', '.', '0', 'm', 'hn', 'o', '3', 'solution', ',', 'since', 'under', 'real', 'production', 'conditions', ',', 'the', 'radiation', 'field', 'affects', 'not', 'only', 'the', 'sor', 'ben', 't', ',', 'but', 'also', 'the', 'sor', 'ben', 't', '–', 'solution', 'system', '.'], ['upon', 'irradiation', 'of', 'such', 'a', 'complex', 'heterogeneous', 'system', ',', 'in', 'addition', 'to', 'the', 'direct', 'radiation', 'effect', 'on', 'the', 'sor', 'ben', 't', ',', 'an', 'indirect', 'effect', 'is', 'also', 'observed', ',', 'which', 'consists', 'in', 'the', 'fact', 'that', 'the', 'interaction', 'of', 'the', 'products', 'of', 'radiol', 'ysis', 'of', 'an', 'aqueous', 'solution', 'with', 'the', 'sor', 'ben', 't', ',', 'as', 'a', 'rule', ',', 'enhances', 'radiation', '-', 'chemical', 'damage', 'and', 'leads', 'to', 'a', 'significant', 'decrease', 'in', 'the', 'radiation', 'resistance', 'of', 'the', 'sor', 'ben', 't', 'compared', 'to', 'irradiation', 'in', 'the', 'dry', 'state', '[', '7', ']', '.'], ['before', 'studying', 'the', 'physical', 'and', 'sorption', 'properties', ',', 'tv', 'ex', 'samples', 'were', 'washed', 'with', 'distilled', 'water', 'and', 'dried', 'in', 'air', 'to', 'constant', 'weight', '.'], ['in', 'the', 'course', 'of', 'the', 'work', ',', 'the', 'particle', 'size', 'distribution', ',', 'bulk', 'density', '(', 'd', ')', ',', 'specific', 'volume', '(', 'vs', 'p', ')', ',', 'and', 'swelling', 'coefficient', '(', 'ks', 'w', ')', 'of', 'the', 'irradiated', 'tv', 'ex', 'samples', 'were', 'determined', '.'], ['to', 'assess', 'the', 'change', 'in', 'the', 'tv', 'ex', 'structure', 'under', 'the', 'influence', 'of', 'γ', '-', 'radiation', ',', 'the', 'ir', 'absorption', 'spectra', 'of', 'samples', 'before', 'and', 'after', 'the', 'γ', '-', 'irradiation', 'were', 'measured', 'and', 'compared', '.', 'the', 'measurements', 'were', 'carried', 'out', 'using', 'a', 'nex', 'us', 'ir', '-', 'fourier', 'spectrometer', '.'], ['the', 'extraction', 'of', 'am', 'on', 'the', 'irradiated', 'tv', 'ex', 'samples', 'was', 'studied', 'in', 'the', 'dynamic', 'mode', 'using', 'prelimin', 'arily', 'prepared', 'real', 'il', 'w', 'of', 'cm', 'p', '.', 'to', 'prepare', 'solutions', 'for', 'the', 'extraction', 'of', 'am', ',', 'preliminary', ',', 'the', 'concentration', 'of', 'hn', 'o', '3', 'solution', 'was', 'adjusted', 'to', '5', '.', '0', 'm', ',', 'and', 'then', 'pu', 'was', 'separated', 'on', 'the', 'pur', 'olite', 's', '95', '7', 'cation', 'exchanger', '.', 'the', 'concentrations', 'of', 'am', 'and', 'pu', 'in', 'solutions', 'were', 'measured', 'by', 'the', 'γ', '-', 'spectrom', 'etric', 'and', 'x', '-', 'ray', 'γ', '-', 'spectrom', 'etric', 'method', ',', 'respectively', ',', 'and', 'the', 'hn', 'o', '3', 'concentration', 'was', 'measured', 'by', 'potenti', 'ometric', 'titration', '.'], ['to', 'sor', 'b', 'am', ',', 'the', 'prepared', 'solution', 'was', 'passed', 'through', 'a', 'glass', 'sorption', 'column', 'filled', 'with', 'an', 'irradiated', 'tv', 'ex', 'sample', 'at', 'a', 'rate', 'of', '5', 'c', '.', 'v', '.', '/', 'h', '.', 'the', 'am', 'concentration', 'was', 'measured', 'in', 'the', 'fil', 'trate', 's', '.', 'from', 'the', 'obtained', 'values', ',', 'we', 'evaluated', 'the', 'full', 'dynamic', 'exchange', 'capacity', 'of', 'tv', 'ex', 'for', 'am', '(', 'fd', 'eca', 'm', ')', ',', 'corresponding', 'to', 'the', 'concentration', 'of', 'am', 'in', 'the', 'tv', 'ex', 'phase', ',', 'at', 'which', 'the', 'am', 'concentrations', 'in', 'the', 'initial', 'solution', 'and', 'in', 'the', 'fil', 'trate', 'are', 'equal', ',', 'and', 'the', 'capacity', 'of', 'tv', 'ex', 'before', 'the', '“', 'breakthrough', '”', 'of', 'am', 'into', 'the', 'fil', 'trate', '(', 'cb', 'ba', 'm', ')', ',', 'corresponding', 'to', 'the', 'maximum', 'am', 'concentration', 'in', 'the', 'tv', 'ex', 'phase', ',', 'at', 'which', 'the', 'am', 'concentration', 'in', 'the', 'fil', 'trate', 's', 'did', 'not', 'exceed', '0', '.', '02', '5', 'mg', '/', 'l', '.'], ['the', '“', 'breakthrough', '”', 'point', 'was', 'found', 'experimentally', 'provided', 'that', 'at', 'the', 'concentration', 'of', 'am', 'in', 'the', 'fil', 'trate', 's', 'not', 'exceeding', '0', '.', '02', '5', 'mg', '/', 'l', ',', 'solid', 'wastes', 'resulting', 'from', 'the', 'subsequent', 'processing', 'of', 'fil', 'trate', 's', 'according', 'to', 'the', 'settling', '-', 'filtration', 'technology', 'correspond', 'to', 'the', 'il', 'w', ',', 'which', 'makes', 'it', 'possible', 'to', 'reduce', 'the', 'level', 'of', 'radiation', 'hazard', 'during', 'their', 'production', 'and', 'storage', '[', '1', ',', '2', ']', '.'], ['before', 'desorption', ',', 'tv', 'ex', 'samples', 'were', 'washed', 'with', 'a', '5', '.', '0', 'm', 'hn', 'o', '3', 'to', 'displ', 'ace', 'the', 'initial', 'solution', '.', 'the', 'concentration', 'of', 'am', 'in', 'the', 'des', 'orb', 'ates', 'was', 'measured', '.', 'to', 'des', 'orb', 'am', 'from', 'the', 'tv', 'ex', 'phase', ',', 'a', 'des', 'orb', 'ing', 'solution', 'with', 'a', 'dt', 'pa', 'concentration', 'of', '10', 'g', '/', 'l', 'and', 'ph', '6', 'was', 'passed', 'at', 'a', 'rate', 'of', '1', 'c', '.', 'v', '.', '/', 'h', '.'], ['an', 'efficient', 'natural', 'bio', 'extr', 'act', 'ant', ',', 'orange', 'pe', 'el', 'extract', 'ant', ',', 'was', 'applied', 'to', 'recover', 'ur', 'anium', 'as', 'one', 'of', 'hazardous', 'elements', '.', 'batch', 'experiments', 'were', 'carried', 'out', 'to', 'determine', 'the', 'effect', 'of', 'various', 'factors', 'on', 'the', 'ur', 'anium', 'extraction', 'using', 'a', 'synthetic', 'standard', 'solution', '.', 'these', 'factors', 'include', 'the', 'dil', 'uen', 't', 'type', ',', 'ph', ',', 'solvent', 'concentration', ',', 'contact', 'time', ',', 'and', 'temperature', '.', 'under', 'the', 'optimum', 'conditions', '(', 'ph', '4', ',', 'a', '/', 'o', '=', '3', '/', '1', ')', ',', 'the', 'maximum', 'saturation', 'capacity', 'of', 'the', 'orange', 'pe', 'el', 'extract', 'ant', 'for', 'ur', 'anium', 'reaches', 'approximately', '54', '.', '5', 'mg', '/', 'g', '.', 'the', 'extracted', 'ur', 'anium', 'ions', 'were', 'almost', 'completely', 'eluted', 'with', 'nacl', '/', 'h', '2', 'so', '4', '(', '1', 'm', 'each', ')', '.', 'the', 'procedure', 'was', 'applied', 'to', 'real', 'sulfate', 'leach', 'liqu', 'or', 'of', 'a', 'clay', 'stone', 'sample', 'from', 'southeast', 'ern', 'sin', 'ai', ',', 'egypt', '.'], ['preparation', 'of', 'ur', 'anium', 'standard', 'solution', 'and', 'solutions', 'of', 'interfering', 'metal', 'ions', '.', 'to', 'prepare', 'a', 'synthetic', 'ur', 'anium', 'solution', '(', '100', 'ppm', ')', ',', 'an', 'accurately', 'weighed', 'portion', 'of', 'ur', 'anyl', 'acetate', 'was', 'dissolved', 'in', 'distilled', 'water', 'acid', 'ified', 'with', 'sulfur', 'ic', 'acid', '.'], ['the', 'ph', 'of', 'the', 'solution', 'was', 'adjusted', 'at', '4', 'with', 'dilute', 'sulfur', 'ic', 'acid', '.', 'weighed', 'portions', 'of', 'compounds', 'of', 'interfering', 'metal', 'ions', 'were', 'dissolved', 'separately', 'in', 'distilled', 'water', 'to', 'obtain', '1000', 'ppm', 'solutions', '.', 'experiments', 'on', 'interfering', 'effect', 'of', 'metal', 'ions', 'were', 'performed', 'with', 'a', '1000', 'ppm', 'ur', 'anium', 'solution', '.'], ['preparation', 'of', 'orange', 'pe', 'el', 'extract', 'ant', '.', 'a', '20', '-', 'kg', 'portion', 'of', 'orange', 'pe', 'els', 'was', 'placed', 'in', 'a', 'stainless', 'steel', 'extract', 'or', '.', 'extraction', 'was', 'performed', 'with', 'n', '-', 'hexane', ',', 'which', 'was', 'added', 'in', 'an', 'amount', 'sufficient', 'to', 'cover', 'the', 'orange', 'pe', 'els', '.'], ['the', 'solvent', 'was', 'stirred', 'with', 'the', 'orange', 'pe', 'els', 'in', 'the', 'extract', 'or', 'for', '30', 'min', '(', 'first', 'wash', ')', '.', 'then', ',', 'the', 'solution', 'was', 'transferred', 'from', 'the', 'extract', 'or', 'into', 'the', 'primary', 'evapor', 'ator', ';', 'the', 'solvent', 'was', 'vapor', 'ized', 'using', 'indirect', 'steam', '.', 'the', 'remaining', 'pe', 'els', 'were', 'extracted', 'similarly', 'two', 'or', 'three', 'times', 'more', '(', 'second', ',', 'third', ',', 'fourth', 'wash', ';', 'each', 'contact', 'for', '1', 'h', ')', '.'], ['the', 'filtration', 'process', 'was', 'followed', 'by', 'evaporation', '.', 'to', 'obtain', 'the', 'final', 'product', ',', 'the', 'solvent', 'was', 'evaporated', 'using', 'heat', 'from', 'indirect', 'steam', 'and', 'then', 'kept', 'in', 'a', 'vacuum', '.', 'the', 'final', 'product', 'yield', 'was', 'about', '150', 'ml', 'of', 'orange', 'pe', 'el', 'extract', 'ant', '.', 'it', 'was', 'stored', 'at', '10', '°', 'c', 'to', 'avoid', 'the', 'decomposition', '.', 'this', 'extract', 'ant', 'has', 'been', 'prepared', 'in', 'hash', 'im', 'brother', 's', 'factory', \"'\", 's', 'laboratories', 'for', 'essential', 'aromatic', 'products', '.'], ['ur', 'anium', 'extraction', '.', 'in', 'experiments', 'on', 'ur', 'anium', 'extraction', 'from', 'leach', 'liqu', 'or', 'solutions', 'or', 'from', 'the', 'synthetic', 'solution', ',', 'the', 'orange', 'pe', 'el', 'extract', 'ant', 'was', 'diluted', 'with', 'ker', 'osen', 'e', 'to', '10', 'vol', '%', '.', 'the', 'organic', 'and', 'aqueous', 'phases', 'were', 'sha', 'ken', 'in', 'separating', 'funnel', 's', '.', 'the', 'aqueous', 'phase', 'was', 'analyzed', 'for', 'the', 'ur', 'anium', 'content', ',', 'and', 'the', 'ur', 'anium', 'amount', 'in', 'the', 'organic', 'phase', 'was', 'calculated', 'by', 'the', 'difference', '.'], ['numerous', 'experiments', 'were', 'done', 'to', 'optimize', 'the', 'ur', 'anium', 'loading', 'ext', 'action', '.', 'namely', ',', 'we', 'studied', 'the', 'effects', 'exerted', 'by', 'the', 'dil', 'uen', 't', 'type', ',', 'concentration', 'of', 'orange', 'pe', 'el', 'extract', 'ant', ',', 'ph', ',', 'contact', 'time', ',', 'temperature', ',', 'interfering', 'metal', 'ions', ',', 'and', 'volume', 'ratio', 'of', 'the', 'aqueous', 'and', 'organic', 'phases', '(', 'a', '/', 'o', ')', '.'], ['the', 'saturation', 'capacity', 'of', 'the', 'orange', 'pe', 'el', 'extract', 'ant', 'for', 'ur', 'anium', 'was', 'also', 'determined', 'using', 'the', 'multiple', 'contact', 'process', '.', 'the', 'temperature', 'in', 'the', 'extraction', 'and', 'stripp', 'ing', 'experiments', 'was', 'kept', 'at', '20', '–', '22', '°', 'c', 'unless', 'otherwise', 'indicated', '.'], ['ur', 'anium', 'stripp', 'ing', '.', 'several', 'el', 'uen', 'ts', ',', 'namely', ',', 'mineral', 'acids', ',', 'alkali', 's', ',', 'and', '/', 'or', 'nacl', 'were', 'tested', 'for', 'ur', 'anium', 'stripp', 'ing', 'from', 'the', 'loaded', 'orange', 'pe', 'el', 'extract', 'ant', '.', 'we', 'studied', 'the', 'effect', 'exerted', 'on', 'stripp', 'ing', 'by', 'the', 'el', 'uen', 't', ',', 'shaking', 'time', ',', 'temperature', ',', 'and', 'o', '/', 'a', 'phase', 'ratio', '.'], ['character', 'ization', 'of', 'orange', 'pe', 'el', 'extract', 'ant', '.', 'the', 'orange', 'pe', 'el', 'extract', 'ant', 'was', 'completely', 'analyzed', 'in', 'quality', 'control', 'laboratories', 'of', 'hash', 'em', 'brother', 's', 'for', 'essential', 'and', 'aromatic', 'products', 'using', 'gas', 'chromatography', '–', 'mass', 'spectrometry', '(', 'gc', '-', 'ms', ',', 'hp', '68', '90', 'series', ',', 'agilent', ')', 'using', 'a', 'thermo', 'scientific', '(', 'tr', '-', '5', 'ms', ',', '5', '%', 'phenyl', '–', 'polys', 'il', 'phenyl', 'enes', 'il', 'oxane', ')', 'capillary', 'column', '(', '30', 'm', 'a', '—', '0', '.', '25', 'mm', ',', 'film', 'thickness', '0', '.', '25', '[UNK]', ')', '.', 'the', 'ftir', 'spectra', 'were', 'recorded', 'with', 'a', 'thermo', 'scientific', 'nic', 'olet', 'is', '10', 'device', '.'], ['ur', 'anium', 'analysis', '.', 'the', 'ur', 'anium', 'analysis', 'in', 'different', 'process', 'streams', 'was', 'performed', 'by', 'oxid', 'imetric', 'titration', 'using', 'ammonium', 'meta', 'van', 'ada', 'te', '.', 'ur', 'anium', 'was', 'prelimin', 'arily', 'reduced', 'with', 'ammonium', 'ferro', 'us', 'sulfate', 'using', 'urea', 'as', 'a', 'masking', 'agent', 'in', 'the', 'presence', 'of', 'diph', 'en', 'yl', 'amines', 'ulf', 'onate', 'as', 'indicator', 'until', 'its', 'color', 'changed', 'to', 'slightly', 'violet', '-', 'red', '[', '16', ']', '.', 'the', 'accuracy', 'and', 'precision', 'were', '±', '2', '%', '.'], ['the', 'concentrations', 'of', 'interfering', 'metal', 'ions', '(', 'ni', ',', 'cu', ',', 'v', ',', 'etc', '.', ')', 'were', 'determined', 'by', 'atomic', 'absorption', 'spectrometry', 'with', 'the', 'the', 'accuracy', 'and', 'precision', 'of', 'approximately', '±', '2', '%', '(', 'unic', 'am', '196', '9', ',', 'the', 'united', 'kingdom', ')', '.'], ['characteristics', 'of', 'clay', 'stone', 'ore', '.', 'a', 'clay', 'stone', 'ore', 'sample', 'was', 'subjected', 'to', 'complete', 'chemical', 'analysis', 'for', 'both', 'major', 'and', 'trace', 'elements', '.', 'a', 'suitable', 'representative', 'portion', 'of', 'the', 'clay', 'stone', 'was', 'prepared', 'by', 'cru', 'shi', 'ng', 'and', 'gri', 'nd', 'ing', 'to', '–', '200', 'mesh', 'size', '.'], ['the', 'major', 'oxides', 'were', 'chemically', 'analyzed', 'using', 'wet', 'analytical', 'procedures', '[', '17', ']', '.', 'this', 'procedure', 'includes', 'the', 'preparation', 'of', 'two', 'solutions', ':', 'an', 'alkaline', 'solution', 'for', 'determining', 'sio', '2', 'and', 'al', '2', 'o', '3', 'and', 'an', 'acid', 'solution', 'for', 'determining', 'other', 'oxides', '(', 'cao', ',', 'mg', 'o', ',', 'total', 'iron', ',', 'na', '2', 'o', ',', 'k', '2', 'o', ',', 'etc', '.', ')', '.'], ['portions', 'of', 'the', 'sample', 'were', 'also', 'taken', 'for', 'determining', 'the', 'weight', 'loss', 'at', 'various', 'temperatures', 'and', 'estimating', 'the', 'loss', 'on', 'ign', 'ition', '.', 'the', 'trace', 'elements', '(', 'v', ',', 'cr', ',', 'ni', ',', 'cu', ',', 'zn', ',', 'ga', ',', 'rb', ',', 'sr', ',', 'y', ',', 'zr', ',', 'nb', ',', 'pb', ',', 'and', 'ba', ')', 'were', 'examined', 'at', 'the', 'nuclear', 'materials', 'authority', 'laboratories', 'by', 'the', 'x', '-', 'ray', 'fluorescence', 'technique', '(', 'xr', 'f', ')', 'using', 'a', 'philip', 's', 'unique', 'ii', 'unit', 'with', 'a', 'pw', '151', '0', 'automatic', 'sample', 'change', 'r', '(', '30', 'positions', ')', 'connected', 'to', 'a', 'computer', 'system', 'using', 'x', '-', '40', 'program', 'for', 'spectrometry', '.', 'the', 'detection', 'limit', 'of', 'the', 'measured', 'elements', 'was', '5', 'ppm', '.'], ['ftir', 'spectra', '.', 'in', 'the', 'ftir', 'spectrum', 'of', 'the', 'initial', 'orange', 'pe', 'el', 'extract', 'ant', ',', 'the', 'carboxylic', 'acid', 'o', '–', 'h', 'and', 'c', '–', 'h', 'groups', 'absorb', 'at', '29', '20', 'cm', '–', '1', ';', 'the', 'carbonyl', 'groups', '(', 'c', '=', 'o', ')', ',', 'at', '170', '2', 'cm', '–', '1', ';', 'and', 'aromatic', 'c', '=', 'c', 'bonds', ',', 'at', '147', '5', 'cm', '–', '1', ';', 'there', 'is', 'no', 'peak', 'in', 'the', 'region', 'of', '900', 'cm', '–', '1', '.'], ['the', 'components', 'were', 'identified', 'by', 'comparison', 'of', 'their', 'mass', 'spectra', 'with', 'those', 'from', 'the', 'w', '9', 'n', '11', '.', 'l', '(', 'minimum', 'quality', ':', '50', ')', 'and', 'nist', '11', '.', 'l', '(', 'minimum', 'quality', ':', '50', ')', 'libraries', 'and', 'with', 'data', 'for', 'some', 'reference', 'compounds', '.', 'the', 'major', 'identified', 'components', 'are', 'given', 'in', 'table', '1', '.'], ['to', 'study', 'the', 'effect', 'of', 'the', 'dil', 'uen', 't', 'type', 'on', 'the', 'ur', 'anium', 'extraction', 'from', 'the', 'synthetic', 'solution', '(', '100', 'ppm', 'u', ')', ',', 'we', 'took', 'three', 'cheap', 'organic', 'dil', 'uen', 'ts', ':', 'benzene', ',', 'ker', 'osen', 'e', ',', 'and', 'toluene', '.', 'the', 'other', 'conditions', 'were', 'fixed', ':', 'shaking', 'time', '5', 'min', ',', 'ph', '3', '.', '5', '–', '4', ',', 'a', '/', 'o', '=', '3', ':', '1', ',', '20', '–', '22', '°', 'c', ',', 'and', '10', '%', 'concentration', 'of', 'the', 'orange', 'pe', 'el', 'extract', 'ant', '.'], ['the', 'results', 'obtained', 'show', 'that', 'ker', 'osen', 'e', 'is', 'the', 'best', 'dil', 'uen', 't', '(', '90', '%', 'ur', 'anium', 'extraction', ')', ',', 'whereas', 'with', 'toluene', 'and', 'benzene', 'dil', 'uen', 'ts', 'only', '75', 'and', '70', '%', 'ur', 'anium', 'extraction', 'was', 'reached', ',', 'respectively', '.', 'thus', ',', 'ker', 'osen', 'e', 'was', 'chosen', 'as', 'the', 'best', 'dil', 'uen', 't', 'for', 'all', 'the', 'extraction', 'experiments', '.'], ['the', 'ph', 'was', 'varied', 'from', '1', 'to', '9', ',', 'keeping', 'the', 'other', 'conditions', 'fixed', ':', 'a', '/', 'o', '=', '3', ':', '1', ',', '10', 'vol', '%', 'orange', 'pe', 'el', 'extract', 'ant', ',', 'contact', 'time', '5', 'min', '.', 'as', 'shown', 'in', 'table', '2', ',', 'at', 'ph', '1', '–', '3', 'the', 'extraction', 'is', 'low', '.', 'it', 'steep', 'ly', 'increases', 'with', 'increasing', 'ph', ',', 'reaching', 'a', 'maximum', 'at', 'ph', '4', '.', 'low', 'extraction', 'at', 'low', 'ph', 'values', 'may', 'be', 'due', 'to', 'the', 'competing', 'effect', 'of', 'h', '+', 'ions', ',', 'which', 'is', 'less', 'pronounced', 'at', 'ph', '4', '.', 'as', 'ph', 'is', 'increased', 'further', ',', 'the', 'extraction', 'decreases', ',', 'probably', 'vec', 'ause', 'of', 'hydrolysis', 'and', 'precipitation', '[', '18', ',', '19', ']', '.'], ['as', 'shown', 'in', 'table', '3', ',', 'the', 'ur', 'anium', 'extraction', 'efficiency', 'increases', 'from', '50', 'to', '90', '%', 'as', 'the', 'orange', 'pe', 'el', 'extract', 'ant', 'concentration', 'is', 'increased', 'from', '2', 'to', '10', '%', 'under', 'fixed', 'other', 'conditions', ':', 'ph', '4', ',', 'contact', 'time', '5', 'min', ',', '20', '–', '22', '°', 'c', ',', 'ker', 'osen', 'e', 'dil', 'uen', 't', '.', 'at', '10', '%', 'concentration', 'of', 'the', 'orange', 'pe', 'el', 'extract', 'aa', 'nt', ',', 'the', 'ur', 'anium', 'extraction', 'reached', '95', '%', '.'], ['the', 'results', 'obtained', '(', 'table', '4', ')', 'show', 'that', 'the', 'ur', 'anium', 'extraction', 'is', 'almost', 'complete', 'in', '5', 'min', '(', '95', '%', ')', ',', 'and', 'the', 'maximum', '(', '98', '.', '5', '%', ')', 'is', 'reached', 'in', '12', 'min', '.', 'thus', ',', '12', 'min', 'is', 'the', 'optimum', 'contact', 'time', '.'], ['the', 'ur', 'anium', 'extraction', 'efficiency', 'reached', '97', 'and', '98', '%', 'at', 'the', 'a', '/', 'o', 'ratios', 'of', '2', '/', '1', 'and', '3', '/', '1', ',', 'respectively', ';', 'that', 'is', ',', '1', 'ml', 'of', 'the', 'orange', 'pe', 'el', 'extract', 'ant', 'takes', 'up', 'about', '0', '.', '194', 'and', '0', '.', '29', '1', 'mg', 'of', 'u', ',', 'respectively', '.'], ['as', 'shown', 'in', 'fig', '.', '1', ',', 'heating', 'has', 'an', 'adverse', 'effect', 'on', 'the', 'ur', 'anium', 'extraction', 'efficiency', ':', 'it', 'decreases', 'from', '98', 'to', '50', '%', '.', 'this', 'may', 'be', 'due', 'to', 'the', 'decomposition', 'of', 'the', 'organic', 'components', 'of', 'the', 'solvent', '.'], ['we', 'examined', 'the', 'interfering', 'effect', 'of', 'some', 'metals', 'ions', 'that', 'may', 'be', 'present', 'in', 'the', 'ore', 'together', 'with', 'ur', 'anium', ':', 'mg', ',', 'fe', ',', 'ca', ',', 'k', ',', 'cu', ',', 'ni', ',', 'al', ',', 'v', ',', 'and', 'ba', '.', 'for', 'this', 'purpose', ',', '1000', 'ppm', 'solutions', 'of', 'these', 'elements', 'were', 'prepared', 'separately', '.', '10', '-', 'ml', 'portions', 'of', 'these', 'nine', 'solutions', 'were', 'combined', 'with', '10', 'ml', 'of', 'a', '1000', 'ppm', 'ur', 'anium', 'solution', ',', 'so', 'that', 'the', 'combined', 'solution', 'contained', '100', 'ppm', 'of', 'each', 'element', '.'], ['the', 'experiments', 'were', 'performed', 'at', '20', '–', '22', '°', 'c', 'and', 'a', '/', 'o', 'ratio', 'of', '3', '/', '1', ';', 'the', 'contact', 'time', 'was', '15', 'min', '.', 'the', 'ph', 'was', 'varied', 'from', '1', 'to', '4', '.', 'as', 'seen', 'from', 'table', '5', ',', 'at', 'the', 'optimum', 'ph', 'value', '(', 'ph', '4', ')', 'the', 'interfering', 'effect', 'is', 'weak', ';', 'it', 'is', 'somewhat', 'more', 'pronounced', 'only', 'for', 'iron', '.'], ['thus', ',', 'the', 'optimum', 'extraction', 'conditions', 'ensuring', 'approximately', '98', '%', 'ur', 'anium', 'extraction', 'from', 'sulfate', 'solution', 'with', 'orange', 'pe', 'el', 'extract', 'ant', 'are', 'as', 'follows', ':', 'a', '/', 'o', '=', '3', ':', '1', ',', 'contact', 'time', '12', 'min', ',', 'orange', 'pe', 'el', 'extract', 'ant', 'concentration', '10', '%', ',', 'temperature', '20', '–', '22', '°', 'c', ',', 'ph', '4', '.'], ['the', 'saturation', 'capacity', 'of', 'the', 'orange', 'pe', 'el', 'extract', 'ant', 'for', 'ur', 'anium', 'was', 'estimated', 'by', 'repeated', 'contact', 'with', 'the', 'ur', 'anium', 'synthetic', 'solution', 'under', 'the', 'previously', 'found', 'optimum', 'conditions', 'with', '10', 'vol', '%', 'orange', 'pe', 'els', 'extract', 'ant', 'in', 'ker', 'osen', 'e', '.', 'ur', 'anium', 'was', 'analyzed', 'subsequently', 'in', 'the', 'raf', 'fin', 'ate', 'after', 'each', 'contact', 'until', 'complete', 'saturation', 'of', 'the', 'orange', 'pe', 'el', 'extract', 'ant', 'was', 'reached', '.'], ['the', 'results', 'obtained', '(', 'table', '6', ')', 'show', 'that', 'the', 'saturation', 'capacity', 'of', 'the', 'orange', 'pe', 'el', 'extract', 'ant', 'for', 'ur', 'anium', 'is', 'about', '55', 'mg', '/', 'g', '.'], ['ir', 'analysis', 'of', 'the', 'orange', 'pe', 'els', 'after', 'the', 'ur', 'anium', 'loading', '(', 'table', '7', ')', 'reveals', 'some', 'changes', 'in', 'the', 'characteristic', 'peaks', '.', 'for', 'example', ',', 'the', 'band', 'of', 'carboxyl', 'groups', 'is', 'shifted', 'from', '29', '20', 'cm', '–', '1', 'before', 'ur', 'anium', 'extraction', 'of', 'ur', 'anium', 'to', '294', '0', 'cm', '–', '1', 'after', 'the', 'extraction', '.'], ['on', 'other', 'hand', ',', 'carbonyl', '(', 'c', '=', 'o', ')', 'and', 'aromatic', 'c', '=', 'c', 'bands', 'are', 'shifted', 'from', '170', '2', 'and', '147', '5', 'cm', '–', '1', 'before', 'ur', 'anium', 'extraction', 'to', '173', '0', 'and', '124', '5', 'cm', '–', '1', 'after', 'the', 'extraction', ',', 'respectively', '.', 'it', 'is', 'important', 'that', 'a', 'new', 'peak', 'at', '93', '0', 'cm', '–', '1', ',', 'assign', 'able', 'to', 'ur', 'anyl', 'ions', ',', 'appears', 'after', 'the', 'ur', 'anium', 'extraction', '.'], ['different', 'stripp', 'ing', 'agents', 'were', 'applied', 'to', 'strip', 'ur', 'anium', 'from', 'the', 'loaded', '10', '%', 'orange', 'pe', 'els', 'extract', 'ant', 'in', 'ker', 'osen', 'e', '.', 'these', 'included', 'distilled', 'water', 'and', '1', 'm', 'solutions', 'of', 'hcl', ',', 'h', '2', 'so', '4', ',', 'hn', 'o', '3', ',', 'na', '2', 'co', '3', ',', 'and', 'naoh', ',', 'as', 'well', 'as', 'mixed', 'solutions', 'of', 'nacl', 'and', 'mineral', 'acids', '(', 'hcl', ',', 'h', '2', 'so', '4', ',', 'or', 'hn', 'o', '3', ')', '.'], ['the', 'stripp', 'ing', 'experiments', 'were', 'carried', 'out', 'in', 'an', 'o', '/', 'a', 'ratio', 'of', '3', '/', '1', 'for', '10', 'min', 'at', 'room', 'temp', '.', 'the', 'results', 'obtained', '(', 'table', '8', ')', 'show', 'that', 'nacl', 'acid', 'ified', 'with', 'h', '2', 'so', '4', 'at', 'the', 'mentioned', 'molar', 'ity', 'is', 'the', 'most', 'efficient', 'stripp', 'ing', 'agent', 'for', 'ur', 'anium', '(', '95', '%', 'efficiency', ')', '.'], ['the', 'effect', 'of', 'the', 'nacl', '/', 'h', '2', 'so', '4', 'molar', 'ity', 'on', 'the', 'ur', 'anium', 'stripp', 'ing', 'from', 'the', 'loaded', '10', '%', 'orange', 'pe', 'el', 'extract', 'ant', 'was', 'studied', 'while', 'keeping', 'the', 'other', 'factors', 'constant', ':', 'contact', 'time', '10', 'min', ',', 'settling', 'time', '5', 'min', ',', 'o', '/', 'a', 'phase', 'ratio', '3', '/', '1', '.', 'the', 'results', 'obtained', '(', 'table', '9', ')', 'show', 'that', '1', 'm', 'nacl', '+', '1', 'm', 'h', '2', 'so', '4', 'is', 'the', 'most', 'effective', 'composition', '(', '95', '%', 'stripp', 'ing', 'efficiency', ')', '.'], ['to', 'increase', 'the', 'ur', 'anium', 'concentration', 'in', 'the', 'stripp', 'ing', 'aqueous', 'phase', ',', 'we', 'studied', 'how', 'the', 'o', '/', 'a', 'phase', 'ratio', 'influences', 'the', 'efficiency', 'of', 'ur', 'anium', 'stripp', 'ing', 'from', 'the', 'loaded', 'orange', 'pe', 'el', 'extract', 'ant', '.', 'the', 'other', 'conditions', 'were', 'fixed', ':', '10', '%', 'orange', 'pe', 'el', 'extract', 'ant', ',', 'contact', 'time', '10', 'min', ',', 'settling', 'time', '5', 'min', ',', '20', '–', '22', '°', 'c', '.', 'as', 'shown', 'in', 'table', '10', ',', 'at', 'the', 'o', '/', 'a', 'ratio', 'from', '1', '/', '1', 'to', '3', '/', '1', 'the', 'degree', 'of', 'ur', 'anium', 'stripp', 'ing', 'is', 'about', '95', '%', ',', 'and', 'only', 'at', 'a', 'larger', 'o', '/', 'a', 'ratio', 'it', 'decreases', '.', 'thus', ',', 'the', 'o', '/', 'a', 'ratio', 'of', '3', '/', '1', 'is', 'optimum', '.'], ['thus', ',', 'the', 'optimum', 'stripp', 'ing', 'conditions', 'ensuring', 'approximately', '98', '%', 'ur', 'anium', 'stripp', 'ing', 'from', 'the', 'loaded', 'orange', 'pe', 'el', 'extract', 'ant', 'are', 'as', 'follows', ':', 'stripp', 'ing', 'agent', '1', 'm', 'nacl', '+', '1', 'm', 'h', '2', 'so', '4', ';', 'o', '/', 'a', '=', '3', ':', '1', ';', 'contact', 'time', '15', 'min', ';', 'temperature', '20', '–', '22', '°', 'c'], ['a', 'binary', 'extract', 'ant', 'based', 'on', 'trial', 'ky', 'lb', 'enz', 'yl', 'ammonium', 'and', 'higher', 'isomer', 'ic', 'α', ',', 'α', '′', '-', 'branched', 'carboxylic', 'acids', '(', 'r', '4', 'na', ')', 'was', 'synthesized', '.', 'the', 'extraction', 'of', 'ur', 'anyl', 'nitrate', 'with', '0', '.', '52', 'm', 'solutions', 'of', 'r', '4', 'na', 'and', 'r', '4', 'nn', 'o', '3', 'in', 'toluene', 'was', 'studied', '.', 'the', 'extraction', 'isother', 'ms', 'were', 'constructed', '.', 'the', 'physicochemical', 'and', 'mathematical', 'models', 'of', 'the', 'extraction', 'of', 'ur', 'anyl', 'nitrate', 'were', 'developed', '.', 'the', 'following', 'extract', 'able', 'species', 'were', 'shown', 'to', 'be', 'formed', 'in', 'the', 'organic', 'phase', ':', '(', 'r', '4', 'n', ')', '2', '[', 'u', 'o', '2', '(', 'no', '3', ')', '4', ']', ',', 'r', '4', 'n', '[', 'u', 'o', '2', 'a', '(', 'no', '3', ')', '2', ']', ',', 'and', '(', 'r', '4', 'n', ')', '2', '[', 'u', 'o', '2', 'a', '2', '(', 'no', '3', ')', '2', ']', 'the', 'extraction', 'constants', 'were', 'calculated', '.', 'the', 'organic', 'phase', 'was', 'examined', 'by', 'ir', 'spectroscopy', '.'], ['the', 'sorption', 'ability', 'of', 'a', 'solid', '-', 'phase', 'extract', 'ant', 'with', 'dip', 'icol', 'inic', 'acid', 'n', ',', 'n', '’', '-', 'diethyl', '-', 'n', ',', 'n', '’', '-', 'di', '(', 'p', '-', 'tol', 'yl', ')', 'diam', 'ide', 'groups', 'on', 'fibrous', 'poly', 'acryl', 'onitrile', '(', 'pan', ')', 'matrix', 'was', 'studied', '.', 'the', 'conditions', 'for', 'immobilization', 'of', 'the', 'reagent', 'on', 'pan', 'disks', 'were', 'determined', ',', 'and', 'the', 'possibility', 'of', 'sorption', 'prec', 'onc', 'entration', 'and', 'separation', 'of', 'u', '(', 'vi', ')', ',', 'pu', '(', 'iv', ')', ',', 'am', '(', 'iii', ')', ',', 'and', 'eu', '(', 'iii', ')', 'from', '2', '–', '6', 'm', 'hn', 'o', '3', 'solutions', 'was', 'examined', '.', 'the', 'solid', '-', 'phase', 'extract', 'ant', 'obtained', 'exhibits', 'good', 'kinetic', 'properties', 'and', 'can', 'be', 'used', 'for', 'separation', 'of', 'am', '(', 'iii', ')', '+', 'eu', '(', 'iii', ')', '.'], ['thermal', 'properties', 'of', '2', ',', '2', '′', '-', 'bip', 'yr', 'idine', '-', '6', ',', '6', '′', '-', 'dic', 'arbox', 'ylic', 'acid', 'bis', '(', 'n', '-', 'ethyl', '-', '4', '-', 'hex', 'yl', 'anil', 'ide', ')', '(', 'dy', 'p', '-', '7', ')', 'were', 'studied', 'by', 'dsc', '-', 'tg', 'with', 'the', 'aim', 'of', 'evaluating', 'its', 'fire', 'and', 'explosion', 'hazard', '.', 'heating', 'at', 'a', 'rate', 'of', '1', 'k', 'min', '–', '1', 'is', 'accompanied', 'by', 'ex', 'other', 'mic', 'effects', 'with', 'the', 'onset', 'temperatures', 'of', '202', ',', '312', ',', 'and', '43', '2', '°', 'с', 'for', 'the', 'initial', 'extract', 'ant', 'and', '62', ',', '297', ',', 'and', '41', '2', '°', 'с', 'for', 'the', 'extract', 'ant', 'saturated', 'with', 'nitric', 'acid', '.', 'the', 'presence', 'of', 'extracted', 'nitric', 'acid', 'decreases', 'the', 'self', '-', 'ign', 'ition', 'point', 'of', 'dy', 'p', '-', '7', 'by', 'at', 'least', '20', '°', 'с', '.'], ['the', 'onset', 'temperatures', 'of', 'the', 'ex', 'other', 'mic', 'effects', 'tend', 'to', 'increase', 'with', 'increasing', 'heating', 'rate', '.', 'the', 'extract', 'ant', 'thermo', 'lysis', 'products', 'characteristic', 'of', 'the', 'ex', 'other', 'mic', 'effect', 'with', 'the', 'onset', 'temperature', 'of', '202', '°', 'c', 'were', 'identified', 'by', 'gc', '-', 'ms', '.', 'these', 'are', 'the', 'de', 'ethylation', 'product', ',', '2', ',', '2', '′', '-', 'bip', 'yr', 'idine', '-', '6', ',', '6', '′', '-', 'dic', 'arbox', 'ylic', 'acid', 'n', ',', 'n', '′', '-', 'bis', '(', '4', '-', 'hex', 'yl', 'phenyl', ')', 'amide', ',', 'and', 'product', 'of', 'further', 'de', 'aryl', 'ation', '/', 'reduction', ',', '6', '′', '-', 'form', 'yl', '-', 'n', '-', '(', '4', '-', 'hex', 'yl', 'phenyl', ')', '-', '2', ',', '2', '′', '-', 'bip', 'yr', 'idine', '-', '6', '-', 'carb', 'ox', 'amide', '.'], ['the', 'extraction', 'of', 'nd', '(', 'iii', ')', ',', 'eu', '(', 'iii', ')', ',', 'sm', '(', 'iii', ')', ',', 'gd', '(', 'iii', ')', ',', 'and', 'dy', '(', 'iii', ')', 'from', 'nitrate', 'solutions', 'with', 'n', ',', 'n', ',', 'n', \"'\", ',', 'n', \"'\", '-', 'tetra', 'butyl', 'suc', 'cin', 'amide', '(', 'tbs', 'a', ')', 'in', 'toluene', 'was', 'studied', '.', 'the', 'distribution', 'ratios', 'of', 'the', 'investigated', 'metal', 'ions', 'were', 'determined', 'in', 'relation', 'to', 'the', 'nitric', 'acid', 'concentration', ',', 'kind', 'of', 'dil', 'uen', 't', ',', 'concentrations', 'of', 'the', 'extract', 'ant', 'and', 'salt', 'ing', '-', 'out', 'agents', ',', 'and', 'temperature', '.', 'the', 'stoichiometry', 'of', 'the', 'tbs', 'a', '–', 'hn', 'o', '3', 'adducts', 'that', 'prev', 'ail', 'under', 'the', 'experimental', 'conditions', 'is', '1', ':', '1', '(', 'hn', 'o', '3', '·', 'tbs', 'a', ')', '.'], ['the', 'investigated', 'ln', '(', 'iii', ')', 'are', 'poorly', 'extracted', 'with', 'tbs', 'a', 'in', 'the', 'entire', 'range', 'of', 'nitric', 'acid', 'concentration', '(', '0', '.', '1', '–', '7', 'm', ')', '.', 'good', 'separation', 'of', 'u', '(', 'vi', ')', 'or', 'th', '(', 'iv', ')', 'from', 'the', 'investigated', 'lan', 'than', 'ides', 'can', 'be', 'achieved', 'at', 'high', 'nitric', 'acid', 'concentrations', '(', '7', 'm', ')', '.', 'the', 'distribution', 'ratios', 'of', 'the', 'investigated', 'metal', 'ions', 'sharply', 'decrease', 'with', 'increasing', 'nitric', 'acid', 'concentration', 'in', 'the', 'presence', 'of', '5', 'm', 'lin', 'o', '3', '.'], ['the', 'extract', 'able', 'species', 'of', 'nd', '(', 'iii', ')', ',', 'eu', '(', 'iii', ')', ',', 'sm', '(', 'iii', ')', ',', 'gd', '(', 'iii', ')', ',', 'and', 'dy', '(', 'iii', ')', 'with', 'tbs', 'a', 'were', 'found', 'to', 'be', 'tris', 'ol', 'va', 'tes', '.', 'the', 'extract', 'able', 'species', 'were', 'also', 'studied', 'by', 'ir', 'spectroscopy', '.', 'the', 'thermodynamics', 'functions', 'for', 'the', 'extraction', 'of', 'the', 'investigated', 'ln', '(', 'iii', ')', 'were', 'calculated', '.'], ['the', 'solvent', 'extraction', 'of', 'the', '90', 'y', '/', '90', 'sr', 'pair', 'from', 'carbonate', 'media', 'with', 'mixtures', 'of', 'aromatic', 'dihydro', 'xy', 'compounds', 'and', 'a', 'quaternary', 'ammonium', 'salt', '—', 'methyl', 'tri', 'oct', 'yl', 'ammonium', 'carbonate', '(', 'mt', 'oac', ')', '—', 'in', 'toluene', 'and', 'but', 'yl', 'acetate', 'was', 'studied', '.', 'it', 'was', 'found', 'that', 'mt', 'oac', 'increases', 'the', 'distribution', 'coefficients', 'of', 'both', 'the', 'extract', 'ant', 'itself', 'and', 'its', 'solv', 'ate', 'with', 'yt', 'tri', 'um', 'due', 'to', 'the', 'formation', 'of', 'a', 'mixed', 'complex', 'of', 'yt', 'tri', 'um', 'and', 'a', 'dihydro', 'xy', 'aro', 'mat', 'ic', 'ligand', 'with', 'mt', 'oac', '.'], ['during', 'extraction', 'from', 'alkaline', 'carbonate', 'media', 'in', 'the', 'ph', 'range', 'of', '12', '–', '13', '.', '5', 'with', 'mixtures', 'of', '0', '.', '01', 'm', '2', ',', '3', '-', 'dihydro', 'xy', 'nap', 'ht', 'hal', 'ene', 'and', '0', '.', '01', '5', 'm', 'mt', 'oac', 'in', 'but', 'yl', 'acetate', 'or', 'toluene', ',', 'the', 'distribution', 'coefficients', 'of', 'yt', 'tri', 'um', 'exceed', '80', ';', 'the', 'separation', 'factors', 'of', 'the', '90', 'y', '/', '90', 'sr', 'pair', 'under', 'these', 'conditions', 'are', 'more', 'than', '105', '.'], ['dilute', 'solutions', 'of', 'hydrochlor', 'ic', ',', 'nitric', ',', 'and', 'sulfur', 'ic', 'acids', 'can', 'be', 'used', 'for', 'the', 'complete', 'stripp', 'ing', 'of', 'yt', 'tri', 'um', '.', 'the', 'studied', 'mixtures', 'are', 'chemically', 'stable', 'and', 'do', 'not', 'change', 'the', 'extraction', 'properties', 'upon', 'multiple', 'extraction', '/', 'stripp', 'ing', 'cycles', '.', 'model', 'experiments', 'on', 'the', 'leaching', 'of', 'yt', 'tri', 'um', 'from', 'natural', 'samples', 'showed', 'that', 'the', 'percentage', 'of', 'stable', 'yt', 'tri', 'um', 'extraction', 'from', 'sand', 'is', '70', '–', '80', '%', ',', 'while', 'the', 'percentage', 'of', 'yt', 'tri', 'um', 'extraction', 'from', 'soil', 'is', '50', '–', '60', '%', '.'], ['the', 'following', 'aromatic', 'dihydro', 'xy', 'compounds', 'were', 'studied', 'in', 'the', 'work', ':', '2', ',', '3', '-', 'dihydro', 'xy', 'nap', 'ht', 'hal', 'ene', '(', '2', ',', '3', 'dh', 'n', ')', ',', 'pyro', 'cat', 'echo', 'l', '(', '1', ',', '2', 'dh', 'b', ')', ',', 'ali', 'za', 'rin', ',', 'and', '4', '-', 'ter', 't', '-', 'but', 'yl', 'pyr', 'oca', 'tech', 'ol', '(', '4', 'tb', 'c', ')', '.'], ['methyl', 'tri', 'oct', 'yl', 'ammonium', 'carbonate', '(', 'mt', 'oac', ')', 'was', 'used', 'as', 'the', 'alkyl', 'ammonium', 'salt', 'synthesized', 'at', 'the', 'mend', 'ele', 'ev', 'university', 'of', 'chemical', 'technologies', 'of', 'russia', 'according', 'to', 'the', 'original', 'method', 'and', 'provided', 'by', 's', '.', 'i', '.', 'step', 'anov', '.', '2', ',', '3', 'dh', 'n', 'was', 'received', 'from', 'sch', 'uh', 'ardt', '(', 'munich', ',', 'germany', ')', ';', '4', 'tb', 'c', 'was', 'purchased', 'from', 'sigma', '-', 'aldrich', '(', 'germany', ')', ';', '1', ',', '2', 'dh', 'b', 'and', 'ali', 'za', 'rin', 'were', 'manufactured', 'by', 'len', 'rea', 'kt', 'iv', '(', 'russia', ')', '.'], ['solvents', ',', 'but', 'yl', 'acetate', '(', 'bu', 'ac', ')', ',', 'toluene', '(', 'ph', 'me', ')', ',', 'inorganic', 'salts', 'and', 'acids', 'were', 'produced', 'by', 'ecos', '-', '1', '(', 'russia', ')', '.', 'all', 'reagents', 'were', 'of', 'analytical', 'grade', 'and', 'were', 'used', 'without', 'further', 'purification', '.', 'extract', 'ant', 'solutions', 'were', 'prepared', 'according', 'to', 'their', 'exact', 'weighted', 'portion', '.'], ['extraction', 'experiments', 'were', 'carried', 'out', 'as', 'follows', ':', '1', 'ml', 'of', 'the', 'aqueous', 'and', 'organic', 'phases', 'were', 'placed', 'into', 'a', '5', '-', 'ml', 'polyp', 'ropy', 'len', 'e', 'tube', ',', 'stirred', 'at', '21', '±', '1', '°', 'c', 'for', '10', 'min', '(', 'sufficient', 'to', 'attain', 'complete', 'equilibrium', 'according', 'to', 'the', 'data', 'of', 'preliminary', 'experiments', ')', ',', 'and', 'the', 'phases', 'were', 'separated', 'by', 'centrifugation', '(', '3000', 'rpm', ',', '5', 'min', ')', '.', 'the', 'concentration', 'of', 'stable', 'stro', 'nt', 'ium', 'and', 'yt', 'tri', 'um', 'was', 'determined', 'on', 'a', 'vari', 'an', '72', '5', '-', 'es', 'optical', 'emission', 'spectrometer', 'with', 'an', 'error', 'of', 'no', 'more', 'than', '5', '%', '.'], ['the', 'activity', 'of', 'the', '90', 'sr', 'and', '90', 'y', 'isotopes', 'in', 'the', 'initial', 'solution', 'was', 'found', 'on', 'a', 'quant', 'ulus', '122', '0', 'liquid', 'scintillation', 'spectrometer', '(', 'per', 'kin', 'el', 'mer', ')', ',', 'measurement', 'geometry', '4', 'π', ',', 'with', 'an', 'error', 'not', 'exceeding', '10', '%', '.', 'the', 'concentration', 'of', '2', ',', '3', '-', 'dihydro', 'xy', 'nap', 'ht', 'hal', 'ene', 'in', 'the', 'aqueous', 'phase', 'was', 'determined', 'on', 'a', 'shim', 'ad', 'zu', 'uv', '-', '260', '0', 'uv', 'spectrometer', 'by', 'absorbance', 'at', '237', 'nm', '.'], ['aqueous', 'media', 'with', 'different', 'ph', 'and', 'constant', 'ionic', 'strength', 'were', 'prepared', 'by', 'mixing', 'solutions', 'of', '1', 'm', 'nahco', '3', 'and', '1', 'm', 'naoh', '.', 'the', 'ph', 'values', 'of', 'the', 'solutions', 'were', 'determined', 'using', 'a', 'hann', 'a', 'instruments', 'hi', '-', '83', '14', 'ph', 'meter', 'with', 'an', 'i', '-', '133', '0', 'b', 'micro', 'electrode', '.'], ['model', 'experiments', 'with', 'natural', 'samples', 'were', 'conducted', 'as', 'follows', '.', 'a', 'sample', 'of', 'building', 'sand', 'was', 'homogenized', ',', 'sift', 'ed', 'through', 'a', 'sie', 've', 'and', 'dried', 'in', 'an', 'oven', '.', 'after', 'that', ',', 'a', 'sample', 'of', 'sand', 'weighing', '1', 'g', 'was', 'taken', '.', 'a', 'solution', 'of', 'stable', 'yt', 'tri', 'um', 'nitrate', 'was', 'added', 'to', 'the', 'sample', 'in', 'such', 'an', 'amount', 'that', 'its', 'concentration', 'in', 'the', 'final', 'sample', 'was', '30', 'mg', '/', 'l', ',', 'everything', 'was', 'thoroughly', 'mixed', 'and', 'dried', 'in', 'an', 'oven', ',', 'after', 'which', '3', 'g', 'of', 'na', '2', 'co', '3', 'and', 'k', '2', 'co', '3', 'were', 'added', 'to', 'the', 'sample', '.'], ['the', 'resulting', 'mixture', 'was', 'calc', 'ined', 'in', 'a', 'mu', 'ffl', 'e', 'for', '1', 'h', 'at', '500', '°', 'c', '.', 'after', 'cooling', 'the', 'mixture', 'to', 'room', 'temperature', ',', 'the', 'sample', 'was', 'placed', 'in', 'a', 'polyp', 'ropy', 'len', 'e', 'test', 'tube', ',', '50', 'ml', 'of', 'the', 'leaching', 'agent', 'solution', 'was', 'added', 'to', 'the', 'sample', '(', '5', 'leaching', 'agents', 'were', 'tested', 'in', 'total', '—', 'h', '2', 'o', '/', 'h', '2', 'o', '2', '(', '3', ':', '2', ')', ',', 'nahco', '3', '/', 'h', '2', 'o', '2', ',', 'nh', '4', 'hc', 'o', '3', '/', 'h', '2', 'o', '2', ',', 'and', '(', 'nh', '4', ')', '2', 'co', '3', '/', 'h', '2', 'o', '2', ',', '(', 'nh', '4', ')', '2', 'co', '3', ')', '.'], ['for', '2', 'h', ',', 'a', 'sample', 'of', 'sand', 'was', 'contacted', 'at', 'stirring', 'with', 'the', 'aqueous', 'phase', 'to', 'transfer', 'yt', 'tri', 'um', 'carbonate', 'into', 'the', 'aqueous', 'phase', '.', 'then', 'the', 'aqueous', 'phase', 'was', 'separated', 'and', 'sent', 'for', 'extraction', 'with', 'a', 'mixture', 'of', '0', '.', '01', 'm', '2', '.', '3', 'dh', 'n', '+', '0', '.', '01', '5', 'm', 'mt', 'oac', 'in', 'toluene', 'at', 'a', 'volume', 'ratio', 'of', 'the', 'organic', 'and', 'aqueous', 'phases', 'o', ':', 'a', '=', '1', ':', '1', 'and', 'a', 'contact', 'time', 'of', '10', 'min', '.'], ['afterwards', ',', 'the', 'phases', 'were', 'separated', 'by', 'centrifugation', '.', 'yt', 'tri', 'um', 'was', 'stripp', 'ed', 'from', 'the', 'organic', 'phase', 'with', 'a', '0', '.', '05', 'm', 'hn', 'o', '3', 'solution', 'at', 'o', ':', 'a', '=', '5', ':', '1', ',', 'after', 'which', 'the', 'nitric', 'acid', 'aqueous', 'solution', 'was', 'separated', 'by', 'centrifugation', '.', 'the', 'content', 'of', 'stable', 'yt', 'tri', 'um', 'was', 'measured', 'therein', 'by', 'the', 'spectrophot', 'ometric', 'method', '.'], ['a', 'soil', 'sample', '(', '500', 'g', ')', ',', 'taken', 'in', 'a', 'forest', 'belt', 'on', 'the', 'territory', 'of', 'the', 'len', 'ing', 'rad', 'region', ',', 'was', 'homogenized', ',', 'sift', 'ed', 'through', 'a', 'sie', 've', 'and', 'mixed', 'with', 'a', 'radioactive', 'label', 'containing', 'a', '90', 'y', '/', '90', 'sr', 'pair', 'being', 'in', 'radioactive', 'equilibrium', 'with', 'a', 'total', 'activity', 'of', '530', 'bq', '(', 'the', 'specific', 'activity', 'of', 'the', 'soil', 'was', 'about', '1', 'bq', '/', 'g', ')', '.'], ['a', 'soil', 'sample', 'labelled', 'with', '90', 'y', '/', '90', 'sr', 'was', 'dried', 'in', 'an', 'oven', ',', 'after', 'which', 'a', 'sample', '(', '2', 'g', ')', 'was', 'taken', '.', 'solutions', 'of', 'stable', 'yt', 'tri', 'um', 'and', 'stro', 'nt', 'ium', 'nitrate', 's', 'in', 'the', 'molar', 'ratio', 'y', ':', 'sr', '=', '10', ':', '1', 'were', 'added', 'to', 'the', 'sample', ',', 'everything', 'was', 'thoroughly', 'stirred', 'and', 'dried', 'in', 'an', 'oven', ';', 'then', '10', 'g', 'of', 'na', '2', 'co', '3', 'and', 'k', '2', 'co', '3', 'were', 'added', 'to', 'the', 'sample', '.'], ['the', 'resulting', 'mixture', 'was', 'calc', 'ined', 'in', 'a', 'mu', 'ffl', 'e', 'for', '1', 'h', 'at', 'a', 'temperature', 'of', '300', '°', 'с', ',', 'and', 'then', 'for', 'another', '4', 'h', 'at', 'a', 'temperature', 'of', '550', '°', 'с', '.', 'after', 'the', 'mixture', 'was', 'cooled', 'to', 'room', 'temperature', ',', 'the', 'sample', 'was', 'placed', 'in', 'a', 'polyp', 'ropy', 'len', 'e', 'test', 'tube', ',', 'and', '50', 'ml', 'of', 'distilled', 'water', 'was', 'added', '.'], ['the', 'sample', 'was', 'contacted', 'for', '2', 'h', 'at', 'stirring', 'with', 'water', 'to', 'transfer', 'yt', 'tri', 'um', 'carbonate', 'into', 'the', 'aqueous', 'phase', '.', 'then', 'the', 'aqueous', 'phase', 'was', 'separated', '.', 'yt', 'tri', 'um', 'was', 'extracted', 'from', 'it', 'with', 'a', 'mixture', 'of', '0', '.', '01', 'm', '2', '.', '3', 'dh', 'n', '+', '0', '.', '01', '5', 'm', 'mt', 'oac', 'in', 'toluene', 'according', 'to', 'the', 'standard', 'procedure', 'at', 'o', ':', 'a', '=', '1', ':', '1', 'and', 'a', 'contact', 'time', 'of', '10', 'min', '.'], ['afterwards', ',', 'the', 'phases', 'were', 'separated', 'by', 'centrifugation', '.', 'yt', 'tri', 'um', 'was', 'stripp', 'ed', 'from', 'the', 'organic', 'phase', 'with', 'a', '0', '.', '05', 'm', 'hn', 'o', '3', 'solution', 'at', 'o', ':', 'a', '=', '4', ':', '1', ',', 'then', 'the', 'nitric', 'acid', 'aqueous', 'solution', 'was', 'separated', 'by', 'centrifugation', '.', 'the', 'content', 'of', 'stable', 'yt', 'tri', 'um', 'was', 'measured', 'by', 'the', 'spectrophot', 'ometric', 'method', 'and', 'the', 'content', 'of', 'yt', 'tri', 'um', '-', '90', 'by', 'the', 'radio', 'metric', 'method', 'on', 'a', 'te', 'flo', 'n', 'target', 'using', 'an', 'a', '-', '85', 'radio', 'meter', 'with', 'a', 'plastic', 'scin', 'till', 'ator', '(', 'the', 'counting', 'efficiency', 'was', '25', '%', ',', 'the', 'measurement', 'error', 'at', 'the', 'selected', 'exposure', 'time', 'was', 'no', 'higher', 'than', '5', '%', ')', '.', 'the', 'percentage', 'of', 'yt', 'tri', 'um', '-', '90', 'extraction', 'from', 'the', 'soil', 'was', 'calculated', 'based', 'on', 'the', 'measurement', 'results', '.'], ['preliminary', 'experiments', 'showed', 'that', 'all', 'the', 'studied', 'aromatic', 'dihydro', 'xy', 'compounds', 'weakly', 'extract', 'yt', 'tri', 'um', 'from', 'alkaline', 'media', '.', 'the', 'low', 'extraction', 'efficiency', 'may', 'be', 'due', 'to', 'the', 'washing', 'out', 'of', 'the', 'extract', 'ant', 'into', 'the', 'aqueous', 'phase', 'because', 'of', 'the', 'formation', 'of', 'hydrophilic', 'sodium', 'phenol', 'ates', '.', 'according', 'to', 'the', 'literature', 'data', '[', '5', ']', ',', '2', ',', '3', '-', 'dihydro', 'xy', 'nap', 'ht', 'hal', 'ene', 'has', 'pka', '1', '=', '8', '.', '8', ',', 'pka', '2', '=', '12', '.', '6', ',', 'which', 'indicates', 'its', 'complete', 'transition', 'to', 'the', 'monos', 'odium', 'salt', 'in', 'highly', 'alkaline', 'media', '.'], ['the', 'mt', 'oac', 'cation', 'generates', 'hydrophobic', 'salts', 'with', 'the', 'phenol', 'ate', 'anion', 'and', 'helps', 'to', 'reduce', 'the', 'loss', 'of', 'the', 'extract', 'ant', 'with', 'the', 'aqueous', 'phase', '.', 'figure', '1', 'shows', 'data', 'on', 'the', 'distribution', 'of', '2', ',', '3', '-', 'dihydro', 'xy', 'nap', 'ht', 'hal', 'ene', 'and', 'its', 'salt', 'with', 'mt', 'oac', 'between', 'the', 'organic', 'and', 'aqueous', 'phases', '.'], ['the', 'optimal', 'ratio', 'of', 'mt', 'oac', '/', 'dihydro', 'xy', 'compound', ',', 'which', 'provides', 'the', 'maximum', 'synergistic', 'effect', 'in', 'the', 'yt', 'tri', 'um', 'extraction', ',', 'was', 'determined', 'by', 'the', 'method', 'of', 'iso', 'mol', 'ar', 'series', '(', 'fig', '.', '2', ')', '.', 'it', 'can', 'be', 'seen', 'that', 'a', '1', '.', '5', '-', 'fold', 'excess', 'of', 'mt', 'oac', 'with', 'respect', 'to', '2', ',', '3', 'dh', 'n', 'is', 'optimal', ',', 'which', 'suggests', 'the', 'formation', 'of', 'a', 'solv', 'ate', 'of', 'the', 'composition', '[', 'y', '(', '2', ',', '3', 'dh', 'n', ')', '2', '(', 'mt', 'oac', ')', '3', ']', '[', '6', ']', '.'], ['the', 'existence', 'of', 'a', 'complex', 'of', 'this', 'composition', 'is', 'confirmed', 'by', 'the', 'ms', '-', 'esi', '(', '–', ')', 'data', ':', 'in', 'addition', 'to', 'the', '2', ',', '3', 'dh', 'n', 'mono', 'ani', 'on', '(', 'm', '/', 'z', '=', '159', '.', '04', '48', ')', ',', 'there', 'is', 'a', 'signal', 'with', 'm', '/', 'z', '=', '40', '4', '.', '87', '23', 'of', 'the', '[', 'y', '(', '2', ',', '3', 'dh', 'n', ')', '2', ']', '–', 'mono', 'ani', 'on', '.', 'the', 'ms', '-', 'esi', '(', '–', ')', 'spectra', 'contain', 'signals', 'from', 'anionic', 'complexes', ',', 'which', ',', 'in', 'addition', 'to', 'yt', 'tri', 'um', 'and', '2', ',', '3', 'dh', 'n', ',', 'include', 'carbonate', 'and', 'hydroxyl', 'groups', 'and', 'water', 'molecules', '.'], ['as', 'already', 'noted', ',', 'the', 'maximum', 'extraction', 'of', 'yt', 'tri', 'um', 'by', 'mixtures', 'of', 'dihydro', 'xy', 'compounds', 'with', 'mt', 'oac', 'is', 'detected', 'at', 'ph', 'above', '11', '.', 'we', 'found', 'that', 'the', 'specific', 'form', 'of', 'distribution', 'coefficient', 'curve', 'for', 'yt', 'tri', 'um', 'vs', '.', 'ph', 'of', 'the', 'aqueous', 'phase', 'is', 'determined', 'by', 'the', 'type', 'of', 'dihydro', 'xy', 'compound', 'and', 'the', 'type', 'of', 'organic', 'solvent', '(', 'fig', '.', '3', ')', '.'], ['the', 'most', 'effective', 'extract', 'ant', 'in', 'both', 'solvents', 'is', '2', ',', '3', '-', 'dihydro', 'xy', 'nap', 'ht', 'hal', 'ene', '.', 'the', 'lowest', 'distribution', 'coefficients', 'of', 'yt', 'tri', 'um', ',', 'regardless', 'of', 'the', 'type', 'of', 'solvent', ',', 'are', 'demonstrated', 'by', '4', '-', 'ter', 't', '-', 'but', 'yl', 'pyr', 'oca', 'tech', 'ol', '.', 'its', 'uns', 'ubs', 'tituted', 'analog', ',', 'pyro', 'cat', 'echo', 'l', ',', 'extracts', 'yt', 'tri', 'um', 'well', 'only', 'into', 'toluene', 'solutions', '.'], ['this', 'may', 'be', 'due', 'to', 'steric', 'factors', ',', 'since', 'the', 'properties', 'of', 'phenolic', 'groups', 'in', 'these', 'extract', 'ants', 'are', 'very', 'similar', '.', 'high', 'distribution', 'coefficients', 'of', 'yt', 'tri', 'um', 'were', 'found', 'in', 'a', 'water', '-', 'soluble', 'chel', 'ating', 'agent', ',', 'ali', 'za', 'rin', ',', 'giving', 'a', 'hydrophobic', 'complex', 'with', 'mt', 'oac', ',', 'which', 'is', 'concentrated', 'in', 'the', 'organic', 'phase', '.'], ['the', 'possibility', 'of', 'efficient', 'separation', 'of', 'yt', 'tri', 'um', 'and', 'stro', 'nt', 'ium', 'was', 'demonstrated', 'by', 'the', 'example', 'of', '2', ',', '3', 'dh', 'n', ',', 'the', 'most', 'efficient', 'of', 'the', 'studied', 'extract', 'ants', '(', 'fig', '.', '4', ')', '.', 'the', 'data', 'in', 'fig', '.', '4', 'show', 'that', 'at', 'ph', '>', '12', ',', 'y', '/', 'sr', 'pair', 'separation', 'factors', 'exceed', '105', 'in', 'both', 'toluene', 'and', 'but', 'yl', 'acetate', '.', 'such', 'a', 'high', 'selectivity', 'is', 'una', 'tta', 'ina', 'ble', 'in', 'the', 'extraction', 'of', 'stro', 'nt', 'ium', 'with', 'crown', 'ether', 's', '[', '1', ']', 'or', 'yt', 'tri', 'um', 'with', 'alkyl', 'phosphor', 'ic', 'acids', '[', '2', ']', 'from', 'nitric', 'acid', 'solutions', '.'], ['small', 'differences', 'in', 'the', 'behavior', 'of', 'stable', 'and', 'radioactive', 'isotopes', 'are', 'most', 'likely', 'associated', 'with', 'a', 'high', 'error', 'in', 'determining', 'the', 'low', 'activities', 'of', '90', 'sr', 'and', '90', 'y', 'in', 'saline', 'solutions', '.'], ['an', 'additional', 'advantage', 'of', 'the', 'studied', 'extraction', 'systems', 'is', 'the', 'simplicity', 'of', 'yt', 'tri', 'um', 'stripp', 'ing', 'with', 'dilute', 'acid', 'solutions', '.', 'for', 'the', 'quantitative', 'stripp', 'ing', 'of', 'yt', 'tri', 'um', ',', 'one', 'contact', 'of', 'the', 'extract', 'with', '0', '.', '05', 'm', 'solutions', 'of', 'inorganic', 'acids', ':', 'hn', 'o', '3', ',', 'hcl', ',', 'and', 'h', '2', 'so', '4', 'is', 'sufficient', '(', 'the', 'equilibrium', 'ph', 'of', 'the', 'strip', 'is', 'not', 'higher', 'than', '1', ')', '.'], ['the', 'extract', 'ant', 'after', 'stripp', 'ing', 'of', 'yt', 'tri', 'um', 'with', 'acids', 'retains', 'its', 'properties', '.', 'figure', '5', 'shows', 'the', 'results', 'of', 'experiments', 'on', 'multiple', 'extraction', '/', 'stripp', 'ing', 'of', 'yt', 'tri', 'um', 'using', 'a', 'mixture', 'of', '0', '.', '01', 'm', '2', ',', '3', 'dh', 'n', 'with', '0', '.', '01', '5', 'm', 'mt', 'oac', 'in', 'toluene', 'as', 'an', 'extract', 'ant', 'and', '0', '.', '05', 'm', 'hn', 'o', '3', ',', 'hcl', ',', 'and', 'h', '2', 'so', '4', 'solutions', 'as', 'strips', '.', 'it', 'can', 'be', 'seen', 'that', 'a', 'slight', 'decrease', 'in', 'the', 'extraction', 'capacity', 'after', '4', 'extraction', '/', 'stripp', 'ing', 'cycles', 'is', 'observed', 'only', 'in', 'the', 'case', 'of', 'using', 'sulfur', 'ic', 'acid', '(', 'fig', '.', '5', ')', '.'], ['as', 'can', 'be', 'seen', 'from', 'the', 'data', 'in', 'fig', '.', '6', ',', 'in', 'all', 'the', 'systems', 'studied', ',', 'there', 'is', 'a', 'high', 'percentage', 'of', 'yt', 'tri', 'um', 'extraction', '(', '70', '–', '80', '%', ')', ',', 'there', 'with', 'aqueous', 'phases', 'consisting', 'of', 'ammonium', 'carbonate', 'or', 'sodium', 'bicarbonate', 'with', 'the', 'addition', 'of', 'hydrogen', 'peroxide', 'proved', 'to', 'be', 'more', 'effective', '.', 'the', 'introduction', 'of', 'hydrogen', 'peroxide', 'into', 'the', 'leaching', 'solution', 'was', 'proposed', 'for', 'further', 'oxid', 'izing', 'possible', 'organic', 'residues', '.'], ['extraction', 'systems', 'based', 'on', 'extraction', 'of', 'tetra', 'fluor', 'ob', 'oric', 'acid', '(', 'hb', 'f', '4', ')', 'with', 'trib', 'ut', 'yl', 'phosphate', '(', 'tb', 'p', ')', 'and', 'tri', 'amyl', 'phosph', 'ine', 'oxide', '(', 'tap', 'o', ')', 'for', 'boron', 'isotope', 'separation', 'were', 'studied', '.', 'tetra', 'fluor', 'ob', 'oric', 'acid', 'was', 'studied', 'in', 'comparison', 'with', 'bor', 'ic', 'acid', '(', 'h', '3', 'bo', '3', ')', '.', 'the', 'extraction', 'isother', 'ms', 'at', '20', '°', 'c', 'for', 'four', 'systems', '(', 'bor', 'ic', 'and', 'tetra', 'fluor', 'ob', 'oric', 'acids', 'extracted', 'with', 'tb', 'p', 'and', 'tap', 'o', 'in', 'o', '-', 'xyl', 'ene', ')', 'were', 'obtained', ',', 'and', 'single', '-', 'stage', 'isotope', 'separation', 'factors', 'for', 'these', 'four', 'systems', 'were', 'determined', '.', 'the', 'lighter', 'boron', 'isotope', '(', '10', 'b', ')', 'is', 'concentrated', 'in', 'the', 'aqueous', 'phase', 'in', 'the', 'systems', 'containing', 'tetra', 'fluor', 'ob', 'oric', 'acid', ',', 'whereas', 'in', 'the', 'systems', 'with', 'bor', 'ic', 'acid', 'it', 'is', 'concentrated', 'in', 'the', 'organic', 'phase', '.'], ['when', 'recording', 'the', 'extraction', 'isother', 'ms', 'of', 'h', '3', 'bo', '3', 'and', 'hb', 'f', '4', ',', 'the', 'boron', 'concentrations', 'in', 'the', 'equilibrium', 'phases', 'were', 'measured', 'by', 'inductively', 'coupled', 'plasma', 'optical', 'emission', 'spectrometry', '(', 'icp', '-', 'oe', 's', ')', 'with', 'a', 'plasma', 'quant', 'pq', '900', '0', 'device', 'at', 'the', 'kh', 'lo', 'pin', 'radi', 'um', 'institute', '.', 'isotope', 'analysis', 'was', 'performed', 'by', 'inductively', 'coupled', 'plasma', 'mass', 'spectrometry', '(', 'icp', '-', 'ms', ')', 'with', 'an', 'agilent', '79', '00', 'device', '.'], ['samples', 'for', 'determining', 'the', 'boron', 'isotope', 'composition', 'were', 'prepared', 'by', 'dilution', 'of', 'the', 'initial', 'solutions', 'of', 'boron', '-', 'containing', 'components', '(', 'bor', 'ic', 'and', 'tetra', 'fluor', 'ob', 'oric', 'acids', ')', 'to', 'a', 'boron', 'concentration', 'of', '1', '–', '5', 'mg', '/', 'l', '.', 'in', 'the', 'case', 'of', 'tetra', 'fluor', 'ob', 'oric', 'acid', ',', 'it', 'was', 'subjected', 'to', 'hydrolysis', 'in', 'the', 'presence', 'of', 'cacl', '2', 'to', 'remove', 'fluoride', 'ions', 'interfering', 'with', 'the', 'analysis', '.'], ['as', 'organic', 'dil', 'uen', 't', 'for', 'the', 'extract', 'ants', 'we', 'chose', 'o', '-', 'xyl', 'ene', ',', 'because', 'this', 'dil', 'uen', 't', 'prevents', 'the', 'third', 'phase', 'formation', 'in', 'extraction', 'systems', 'and', 'favors', 'fast', 'phase', 'separation', ',', 'in', 'contrast', 'to', 'aliphatic', 'dil', 'uen', 'ts', 'such', 'as', 'dod', 'ecan', 'e', '.', 'prior', 'to', 'use', ',', 'o', '-', 'xyl', 'ene', 'was', 'washed', 'four', 'times', 'with', 'equivalent', 'amounts', 'of', 'distilled', 'water', '.', 'chemically', 'pure', 'grade', 'bor', 'ic', 'and', 'tetra', 'fluor', 'ob', 'oric', 'acids', 'were', 'used', 'without', 'additional', 'purification', '.'], ['tar', 'tar', 'ic', 'acid', 'was', 'recr', 'yst', 'alli', 'zed', 'from', 'water', 'and', 'dried', ';', 'the', 'melting', 'point', 'after', 'the', 'purification', 'was', '167', '°', 'с', '.', 'trib', 'ut', 'yl', 'phosphate', 'was', 'purified', 'as', 'described', 'in', '[', '7', ']', '.', 'tri', 'amyl', 'phosph', 'ine', 'oxide', '(', 'tap', 'o', ')', 'chosen', 'among', 'trial', 'ky', 'lp', 'hos', 'phi', 'ne', 'oxides', 'was', 'purified', 'as', 'described', 'in', '[', '8', ']', '.'], ['we', 'determined', 'the', 'distribution', 'ratios', 'for', 'each', 'extraction', 'system', '.', 'the', 'highest', 'distribution', 'ratio', 'd', 'is', 'reached', 'in', 'the', 'hb', 'f', '4', '–', 'tap', 'o', 'system', ':', '1', '.', '5', 'at', 'low', 'acid', 'concentrations', '.', 'high', 'distribution', 'ratio', 'd', 'is', 'an', 'advantage', 'in', 'commercial', 'separation', 'of', 'boron', 'isotopes', ',', 'because', 'at', 'one', 'extraction', 'step', 'the', 'larger', 'fraction', 'of', 'the', 'substance', 'is', 'extracted', ',', 'and', 'thus', 'the', 'amount', 'of', 'the', 'enriched', 'product', 'obtained', 'increases', '.'], ['the', 'extraction', 'mechanism', 'in', 'each', 'system', 'was', 'determined', 'from', 'the', 'shape', 'of', 'the', 'extraction', 'isother', 'm', '.', 'in', 'the', 'h', '3', 'bo', '3', '∙', 'c', '4', 'h', '6', 'o', '6', '–', 'tb', 'p', ',', 'h', '3', 'bo', '3', '∙', 'c', '4', 'h', '6', 'o', '6', '–', 'tap', 'o', ',', 'and', 'hb', 'f', '4', '–', 'tb', 'p', 'systems', ',', 'the', 'substance', 'distribution', 'is', 'mainly', 'physical', '.', 'in', 'the', 'hb', 'f', '4', '–', 'tap', 'o', 'system', ',', 'the', 'extraction', 'occurs', 'by', 'the', 'chemical', 'mechanism', 'with', 'the', 'chemical', 'interaction', 'between', 'hb', 'f', '4', 'and', 'tap', 'o', '.', 'the', 'chemical', 'interaction', 'between', 'the', 'system', 'components', 'is', 'also', 'an', 'advantage', 'for', 'the', 'extraction', ',', 'because', 'it', 'increases', 'the', 'distribution', 'ratio', 'in', 'the', 'system', '.'], ['we', 'determined', 'the', 'single', '-', 'stage', 'isotope', 'separation', 'factors', 'α', 'for', 'the', 'four', 'extraction', 'systems', '.', 'the', 'isotope', 'separation', 'in', 'the', 'systems', 'with', 'h', '3', 'bo', '3', 'is', 'not', 'so', 'high', ',', 'which', 'may', 'be', 'due', 'to', 'a', 'significant', 'change', 'in', 'ph', 'of', 'the', 'aqueous', 'phase', 'upon', 'first', 'contact', 'and', 'cessation', 'of', 'isotope', 'separation', 'in', 'the', 'second', 'and', 'further', 'extraction', 's', '.', 'on', 'the', 'other', 'hand', ',', 'the', 'enrichment', 'in', 'the', 'systems', 'with', 'hb', 'f', '4', 'is', 'higher', 'than', 'in', 'the', 'systems', 'with', 'h', '3', 'bo', '3', '.'], ['variation', 'of', 'the', 'extract', 'ants', 'influences', 'the', 'isotope', 'separation', 'not', 'so', 'strongly', 'as', 'the', 'kind', 'of', 'the', 'extract', 'able', 'substance', 'does', '.', 'the', 'isotope', 'separation', 'factors', 'in', 'the', 'hb', 'f', '4', 'tb', 'p', 'and', 'hb', 'f', '4', '–', 'tap', 'o', 'systems', 'are', 'close', 'and', 'coincide', 'within', 'the', 'uncertainty', '.', 'the', 'kind', 'of', 'the', 'extract', 'ant', 'influences', 'to', 'a', 'greater', 'extent', 'the', 'degree', 'of', 'extraction', 'of', 'the', 'acid', 'from', 'the', 'aqueous', 'phase', 'into', 'the', 'organic', 'phase', 'than', 'the', 'isotope', 'effects', '.'], ['studies', 'of', 'extraction', 'isother', 'ms', 'have', 'shown', 'that', 'the', 'hb', 'f', '4', '–', 'tap', 'o', 'system', 'gives', 'the', 'highest', 'distribution', 'ratio', 'despite', 'the', 'fact', 'that', 'the', 'tap', 'o', 'concentration', 'in', 'the', 'organic', 'phase', '(', '0', '.', '5', 'м', 'solution', 'in', 'o', '-', 'xyl', 'ene', ')', 'in', 'all', 'the', 'experiments', 'was', 'lower', 'than', 'the', 'tb', 'p', 'concentration', '(', '1', '.', '5', 'м', 'solution', 'in', 'o', '-', 'xyl', 'ene', ')', '.'], ['thus', ',', 'the', 'use', 'of', 'tap', 'o', 'as', 'an', 'extract', 'ant', 'is', 'more', 'advantageous', 'from', 'the', 'viewpoint', 'of', 'the', 'reagent', 'consumption', '.', 'as', 'we', 'found', ',', 'in', 'the', 'extraction', 'of', 'hb', 'f', '4', ',', '10', 'b', 'is', 'accumulated', 'in', 'the', 'aqueous', 'phase', 'in', 'contrast', 'to', 'the', 'systems', 'with', 'h', '3', 'bo', '3', ',', 'in', 'which', '10', 'b', 'is', 'concentrated', 'in', 'the', 'organic', 'phase', '.'], ['thus', ',', 'it', 'can', 'be', 'concluded', 'that', ',', 'among', 'all', 'the', 'systems', 'under', 'consideration', ',', 'the', 'hb', 'f', '4', '–', 'tap', 'o', 'is', 'the', 'most', 'suitable', 'system', 'for', 'the', 'boron', 'isotope', 'separation', 'by', 'liquid', 'extraction', ',', 'because', 'this', 'system', 'is', 'characterized', 'by', 'the', 'highest', 'distribution', 'ratio', 'd', ',', 'the', 'most', 'efficient', 'reagent', 'consumption', ',', 'and', 'relatively', 'efficient', 'isotope', 'separation', 'at', 'a', 'single', 'stage', '.'], ['a', 'procedure', 'for', 'studying', 'the', 'extraction', 'kinetics', 'of', 'components', 'of', 'long', '-', 'lived', 'spent', 'nuclear', 'fuel', 'and', 'high', '-', 'level', 'waste', 'by', 'recording', 'the', 'ir', 'absorption', 'spectra', 'in', 'the', 'attenuated', 'total', 'reflection', 'geometry', 'was', 'developed', '.', 'the', 'procedure', 'was', 'applied', 'to', 'the', 'extraction', 'of', 'eu', '(', 'no', '3', ')', '3', 'with', 'tri', 'amyl', 'phosph', 'ine', 'oxide', '(', 'tap', 'o', ')', 'and', 'oct', 'yl', '(', 'phenyl', ')', '-', 'n', ',', 'n', '-', 'di', 'iso', 'butyl', 'carb', 'amo', 'yl', 'methyl', 'phosph', 'ine', 'oxide', '(', 'cm', 'po', ')', '.', 'the', 'extraction', 'rate', 'constant', 'was', 'calculated', 'for', 'the', 'system', 'with', 'tap', 'o', '.', 'a', 'mechanism', 'of', 'the', 'interaction', 'of', 'cm', 'po', 'with', 'eu', '3', '+', 'ions', 'was', 'suggested', '.'], ['experiments', 'were', 'performed', 'with', 'tri', 'amyl', 'phosph', 'ine', 'oxide', '(', 'tap', 'o', ')', ',', 'oct', 'yl', '(', 'phenyl', ')', '-', 'n', ',', 'n', '-', 'di', 'iso', 'butyl', 'carb', 'amo', 'yl', 'methyl', 'phosph', 'ine', 'oxide', '(', 'cm', 'po', ')', '(', 'ek', 'os', ',', 'russia', ')', ',', 'and', 'eu', '(', 'no', '3', ')', '3', '·', '6', 'h', '2', 'o', '(', 've', 'kt', 'on', ',', 'russia', ')', '.'], ['the', 'fourier', 'ir', 'absorption', 'spectra', 'were', 'recorded', 'with', 'a', 'sim', 'ex', 'ft', '-', '800', 'spectrometer', 'using', 'a', 'sim', 'ex', 'atr', '-', '[UNK]', 'attachment', 'with', 'a', 'diamond', 'crystal', '(', 'diameter', 'of', 'the', 'working', 'surface', '2', '.', '4', 'mm', ')', '.', 'measurements', 'were', 'performed', 'in', 'the', 'range', '500', '–', '4000', 'cm', '−1', 'with', '2', 'cm', '−1', 'resolution', '.'], ['an', 'aqueous', '0', '.', '2', 'м', 'eu', '(', 'no', '3', ')', '3', '·', '6', 'h', '2', 'o', 'solution', 'was', 'prepared', 'by', 'dissol', 'ving', 'in', 'distilled', 'water', 'a', 'portion', 'of', 'the', 'salt', 'weighed', 'on', 'an', 'analytical', 'balance', '.', '0', '.', '6', 'м', 'solutions', 'of', 'tap', 'o', 'and', 'cm', 'po', 'in', 'dichlor', 'oe', 'than', 'e', 'were', 'prepared', 'similarly', '.'], ['complete', 'extraction', 'was', 'performed', 'at', '25°', 'с', 'by', 'stirring', '0', '.', '5', '-', 'ml', 'portions', 'of', 'the', 'solutions', 'of', 'europ', 'ium', 'and', 'one', 'of', 'the', 'extract', 'ants', ';', 'the', 'phase', 'contact', 'time', 'was', '4', 'h', '.', 'after', 'that', ',', 'the', 'residual', 'europ', 'ium', 'content', 'of', 'the', 'aqueous', 'phase', 'was', 'determined', 'by', 'inductively', 'coupled', 'plasma', 'atomic', 'emission', 'spectroscopy', '.'], ['the', 'experiment', 'was', 'performed', 'in', 'a', 'microc', 'ell', 'in', 'the', 'form', 'of', 'a', 'polyp', 'ropy', 'len', 'e', 'tube', 'with', 'a', 'hole', 'in', 'the', 'upper', 'lateral', 'part', 'for', 'introducing', 'liquid', 'samples', '.', 'when', 'performing', 'the', 'experiments', ',', 'the', 'microc', 'ell', 'was', 'arranged', 'so', 'that', 'the', 'cell', 'material', 'was', 'not', 'in', 'contact', 'with', 'the', 'atr', 'crystal', '.'], ['then', ',', 'the', 'cell', 'was', 'pressed', 'with', 'a', 'press', 'to', 'reduce', 'the', 'liquid', 'vapor', 'ization', '.', 'a', '50', '-', 'μ', 'l', 'portion', 'of', 'the', 'extract', 'ant', 'solution', 'in', 'dichlor', 'oe', 'than', 'e', 'was', 'introduced', 'into', 'the', 'cell', ',', 'and', 'the', 'initial', 'spectrum', 'was', 'recorded', '.', 'then', ',', '50', 'μ', 'l', 'of', 'the', 'europ', 'ium', 'nitrate', 'solution', 'was', 'introduced', 'into', 'the', 'cell', ',', 'and', 'the', 'spectra', 'were', 'recorded', 'at', '3', '–', 's', 'intervals', '.', 'the', 'recording', 'was', 'stopped', 'when', 'no', 'changes', 'at', 'characteristic', 'wavelengths', 'were', 'observed', 'in', 'the', 'course', 'of', 'four', 'or', 'five', 'scans', '.'], ['figure', '1', 'shows', 'the', 'range', '1200', '–', '108', '0', 'cm', '–', '1', 'of', 'the', 'fourier', 'ir', 'spectrum', 'of', 'the', 'system', 'consisting', 'of', '0', '.', '6', 'м', 'tap', 'o', 'in', 'dichlor', 'oe', 'than', 'e', 'and', '0', '.', '2', 'м', 'aqueous', 'eu', '(', 'no', '3', ')', '3', '.', 'this', 'range', 'was', 'monitored', 'for', '180', 's', ';', 'the', 'time', 'of', 'recording', 'a', 'single', 'spectrum', 'was', '3', 's', '.', 'this', 'range', 'contains', 'the', 'stretching', 'vibration', 'band', 'ν', 'p', '=', 'o', 'of', 'free', 'tap', 'o', 'molecules', 'at', '115', '2', 'cm', '–', '1', ';', 'its', 'intensity', 'decreases', 'with', 'an', 'increase', 'in', 'the', 'phase', 'contact', 'time', '.', 'also', ',', 'with', 'the', 'start', 'of', 'extraction', ',', 'the', 'stretching', 'vibration', 'band', 'ν', 'p', '=', 'o', 'of', 'tap', 'o', 'solv', 'ates', 'with', 'the', 'eu', '3', '+', 'ion', 'appears', 'at', '112', '4', 'cm', '–', '1', '.'], ['similar', 'experiment', 'was', 'performed', 'for', 'the', 'system', 'with', 'cm', 'po', '.', 'because', 'of', 'the', 'more', 'complex', 'structure', 'of', 'the', 'extract', 'ant', ',', 'we', 'chose', 'four', 'bands', 'as', 'analytical', 'bands', 'for', 'determining', 'the', 'europ', 'ium', 'extraction', 'kinetics', '.', 'namely', ',', 'we', 'chose', 'the', 'range', '122', '0', '–', '108', '0', 'cm', '–', '1', '(', 'fig', '.', '4', ')', 'containing', 'the', 'stretching', 'vibration', 'band', 'ν', 'p', '=', 'o', 'of', 'free', 'cm', 'po', 'molecules', 'at', '119', '4', 'cm', '–', '1', ',', 'whose', 'intensity', 'decreases', 'with', 'increasing', 'phase', 'contact', 'time', ',', 'and', 'the', 'stretching', 'vibration', 'band', 'ν', 'p', '=', 'o', 'at', '115', '0', 'cm', '–', '1', ',', 'corresponding', 'to', 'vibrations', 'of', 'the', 'coordinated', 'p', '=', 'o', 'groups', 'in', 'solv', 'ates', 'of', 'the', 'extract', 'ant', 'with', 'the', 'eu', '3', '+', 'ion', '.'], ['also', ',', 'we', 'considered', 'the', 'range', '166', '0', '–', '157', '0', 'cm', '–', '1', '(', 'fig', '.', '5', ')', 'containing', 'the', 'stretching', 'vibration', 'band', 'ν', 'с', '=', 'o', 'of', 'co', 'groups', 'that', 'are', 'not', 'coordinated', 'to', 'the', 'metal', 'ion', 'at', '163', '2', 'cm', '–', '1', '(', 'its', 'intensity', 'decreases', 'upon', 'formation', 'of', 'solv', 'ates', 'with', 'eu', '3', '+', 'ions', ')', 'and', 'the', 'stretching', 'vibration', 'band', 'ν', 'с', '=', 'o', 'at', '159', '0', 'cm', '–', '1', ',', 'corresponding', 'to', 'the', 'vibrations', 'of', 'the', 'cm', 'po', 'molecule', 'coordinated', 'to', 'eu', '3', '+', 'ions', 'via', 'с', '=', 'о', 'groups', '.'], ['the', 'conditions', 'for', 'the', 'oxidation', 'of', 'am', '(', 'iii', ')', 'to', 'am', '(', 'vi', ')', 'and', 'its', 'reduction', 'to', 'am', '(', 'v', ')', 'are', 'shown', ',', 'and', 'the', 'stability', 'of', 'these', 'forms', 'in', 'a', '0', '.', '1', 'm', 'nitric', 'acid', 'model', 'solution', 'of', 'the', 'actin', 'ide', '-', 'lan', 'than', 'ide', 'fraction', 'of', 'high', '-', 'level', 'waste', '(', 'hl', 'w', ')', 'containing', 'isotopes', 'of', 'americ', 'ium', 'and', 'cur', 'ium', 'and', 'also', 'pras', 'e', 'ody', 'mium', 'as', 'a', 'simul', 'ant', 'of', 'the', 'behavior', 'of', 'fragmented', 'lan', 'than', 'ides', 'is', 'defined', '.'], ['it', 'was', 'found', 'that', 'about', '30', '%', 'of', 'americ', 'ium', 'in', 'the', 'am', '(', 'v', ')', 'oxidation', 'state', 'of', 'its', 'initial', 'content', 'in', 'a', 'model', 'solution', 'containing', 'a', 'salt', 'ing', '-', 'out', 'agent', '(', 'ammonium', 'nitrate', ')', 'in', 'an', 'amount', 'of', '8', 'm', ',', 'passes', 'into', 'the', 'organic', 'phase', 'in', 'one', 'stage', 'of', 'extraction', 'with', 'a', '30', '%', 'solution', 'of', 'trib', 'ut', 'yl', 'phosphate', 'in', 'isop', 'ar', '-', 'm', '.', 'in', 'this', 'case', ',', 'cm', 'and', 'pr', 'are', 'extracted', 'by', '80', '–', '85', '%', '.', 'the', 'distribution', 'coefficient', 'of', 'am', 'was', 'about', '0', '.', '1', ',', 'of', 'cm', 'and', 'pr', ',', 'about', '1', ',', 'and', 'the', 'separation', 'factor', 'of', 'am', 'from', 'cm', 'and', 'pr', 'was', 'about', '10', '.', 'thus', ',', 'the', 'possibility', 'of', 'selective', 'separation', 'of', 'americ', 'ium', 'from', 'hl', 'w', 'for', 'its', 'subsequent', 'transm', 'uta', 'tion', 'in', 'fast', 'reactors', 'was', 'demonstrated', '.'], ['deep', 'purification', 'of', 'the', 'stripp', 'ed', '90', 'y', 'obtained', 'after', 'the', '90', 'sr', '/', '90', 'y', 'pair', 'extraction', 'separation', 'with', 'd', '2', 'eh', 'pa', 'from', 'chemical', 'impurities', '(', 'cr', ',', 'mn', ',', 'ni', ',', 'pb', ',', 'fe', ',', 'zr', ')', 'employing', 'the', 'tod', 'ga', '-', 'containing', 'sor', 'ben', 't', 'axi', 'onit', 'mn', 'd', '40', 't', 'was', 'considered', '.', 'also', ',', 'a', 'two', '-', 'stage', 'sorption', 'separation', 'of', 'the', '90', 'sr', '/', '90', 'y', 'pair', 'without', 'using', 'the', 'extraction', 'method', 'was', 'developed', '.', 'at', 'the', 'first', 'stage', 'the', '90', 'y', 'was', 'separated', 'from', '90', 'sr', 'with', 'pur', 'olite', 'd', '50', '41', 'phosphate', 'cation', 'exchange', 'resin', ',', 'and', 'at', 'the', 'second', 'stage', ',', '90', 'y', 'deep', 'purification', 'was', 'carried', 'out', 'on', 'the', 'axi', 'onit', 'mn', 'd', '40', 't', 'sor', 'ben', 't', '.', 'the', 'prepared', '90', 'y', 'in', 'radio', 'chemical', 'purity', 'meets', 'the', 'requirements', 'for', 'radio', 'pharmac', 'eut', 'ical', 's', '.', 'in', 'the', 'extraction', 'separation', 'of', 'the', '90', 'sr', '/', '90', 'y', 'pair', 'using', 'd', '2', 'eh', 'pa', ',', 'the', 'stripp', 'ed', '90', 'y', 'is', 'obtained', 'containing', '5', 'm', 'nitric', 'acid', ',', 'trace', 'amounts', 'of', '90', 'sr', ',', 'and', 'chemical', 'impurities', ',', 'mainly', 'corrosion', 'products', 'of', 'structural', 'materials', '.', 'table', '1', 'shows', 'the', 'composition', 'of', 'the', 'model', 'solution', 'simulating', 'the', 'stripp', 'ed', '90', 'y', '.'], ['the', 'experiments', 'were', 'carried', 'out', 'under', 'dynamic', 'conditions', 'employing', 'a', 'tod', 'ga', '-', 'containing', 'tv', 'ex', 'of', 'axi', 'onit', 'mn', 'd', '40', 't', 'grade', '(', '“', 'axi', 'on', '–', 'rare', 'and', 'prec', 'ious', 'metals', '”', 'js', 'c', ',', 'russia', ')', '.', 'a', 'st', 'yrene', '–', 'div', 'in', 'yl', 'benzene', 'copolymer', 'was', 'used', 'as', 'a', 'carrier', '.', 'the', 'tod', 'ga', 'content', 'in', 'the', 'sor', 'ben', 't', 'was', '40', 'wt', '%', ',', 'the', 'granule', 'size', 'was', '0', '.', '315', '–', '0', '.', '50', 'mm', '.', 'for', 'purification', ',', 'the', 'initial', 'solution', 'was', 'passed', 'through', 'a', 'plastic', 'column', 'filled', 'with', 'axi', 'onit', 'mn', 'd', '40', 't', 'sor', 'ben', 't', ',', 'the', 'volume', 'of', 'the', 'sor', 'ben', 't', 'in', 'the', 'column', 'was', '4', 'cm', '3', '.'], ['before', 'the', 'experiments', ',', 'the', 'sor', 'ben', 't', 'was', 'treated', 'in', 'a', 'column', 'with', 'a', '5', 'm', 'nitric', 'acid', 'solution', 'for', '2', 'h', '.', 'at', 'the', 'sorption', 'stage', 'the', 'initial', 'solution', 'was', 'passed', 'through', 'the', 'column', 'at', 'a', 'rate', 'of', '6', '.', '0', 'column', 'volumes', 'per', 'an', 'hour', '[', '(', 'c', '.', 'v', '.', ')', '/', 'h', ']', '.', 'the', 'fil', 'trate', 'at', 'the', 'column', 'outlet', 'was', 'collected', 'and', 'tested', 'for', 'the', 'amounts', 'of', 'chemical', 'impurities', '.'], ['after', 'the', 'end', 'of', 'the', 'sorption', ',', 'a', '3', 'm', 'hcl', 'solution', 'was', 'passed', 'through', 'the', 'column', 'at', 'a', 'rate', 'of', '3', '.', '0', 'c', '.', 'v', '.', '/', 'h', 'to', 'remove', 'the', 'initial', 'solution', 'residues', '.', 'desorption', 'of', '90', 'y', 'was', 'performed', 'with', '0', '.', '01', 'm', 'hcl', '.', 'the', 'passing', 'rate', 'was', '3', '.', '0', 'c', '.', 'v', '.', '/', 'h', ',', 'the', 'solution', 'volume', 'was', '6', 'c', '.', 'v', '.', 'the', 'supply', 'of', 'the', 'solutions', 'during', 'pre', '-', 'treatment', 'and', 'at', 'all', 'stages', 'was', 'carried', 'out', 'using', 'a', 'peri', 'sta', 'lt', 'ic', 'pump', 'from', 'bottom', 'to', 'top', '.', 'the', 'total', 'time', 'of', 'sorption', 'purification', 'was', '5', '–', '6', 'h', '.'], ['the', '90', 'sr', '/', '90', 'y', 'pair', 'separation', 'experiments', 'were', 'carried', 'out', 'employing', 'a', 'model', 'solution', 'containing', '1', '.', '5', 'g', '/', 'dm', '3', 'stro', 'nt', 'ium', 'and', '0', '.', '15', 'mg', '/', 'dm', '3', 'yt', 'tri', 'um', 'nitrate', 's', 'and', '0', '.', '01', '–', '0', '.', '3', 'm', 'nitric', 'acid', 'there', 'with', 'a', 'label', 'of', 'the', 'equilibrium', '90', 'sr', '/', '90', 'y', 'pair', 'was', 'introduced', 'into', 'the', 'model', 'solution', 'in', 'an', 'amount', 'of', 'about', '105', 'bq', '/', 'dm', '3', '.'], ['at', 'the', 'first', 'stage', 'of', 'separation', ',', 'the', 'initial', 'solution', 'was', 'passed', 'through', 'a', 'plastic', 'column', 'filled', 'with', '4', '.', '5', 'cm', '3', 'd', '50', '41', 'phosphate', 'cation', 'exchange', 'resin', '(', 'pur', 'olite', ',', 'great', 'britain', ')', '.', 'then', 'the', 'sor', 'ben', 't', 'was', 'washed', 'with', 'a', '0', '.', '01', '–', '0', '.', '3', 'm', 'hcl', 'solution', 'and', '90', 'y', 'was', 'stripp', 'ed', 'with', 'a', '3', 'm', 'hcl', 'solution', '.', 'the', 'flow', 'rate', 'of', 'the', 'solutions', 'was', '3', '.', '0', 'c', '.', 'v', '.', '/', 'h', ',', 'the', 'solution', 'volume', 'was', '6', 'c', '.', 'v', '.', 'in', 'the', 'fil', 'trate', 'and', 'des', 'orb', 'ate', ',', 'the', 'specific', 'total', 'beta', 'activity', 'was', 'determined', '.'], ['at', 'the', 'second', 'stage', 'of', 'separation', ',', 'hydrochlor', 'ic', 'acid', 'des', 'orb', 'ate', 'was', 'passed', 'through', 'a', 'plastic', 'column', 'filled', 'with', '4', '.', '5', 'cm', '3', 'axi', 'onit', 'mn', 'd', '40', 't', 'sor', 'ben', 't', '.', 'then', 'the', 'sor', 'ben', 't', 'was', 'washed', 'with', 'a', '3', 'm', 'hcl', 'solution', 'and', '90', 'y', 'was', 'stripp', 'ed', 'with', 'a', '0', '.', '01', 'm', 'hcl', 'solution', '.', 'the', 'flow', 'rate', 'of', 'the', 'solutions', 'was', '3', '.', '0', 'c', '.', 'v', '.', '/', 'h', ',', 'the', 'solution', 'volume', 'was', '6', 'c', '.', 'v', '.', 'in', 'the', 'fil', 'trate', 'and', 'des', 'orb', 'ate', ',', 'the', 'specific', 'total', 'beta', 'activity', 'was', 'determined', 'for', 'at', 'least', '35', 'days', '.', 'the', 'setup', 'scheme', 'is', 'shown', 'in', 'fig', '.', '1', '.'], ['the', 'analysis', 'of', 'solutions', 'for', 'the', 'content', 'of', 'chemical', 'elements', 'was', 'carried', 'out', 'by', 'mass', 'spectrometry', 'by', 'an', 'agilent', '750', '0', 'ce', 'inductively', 'coupled', 'plasma', 'mass', 'spectrometer', '(', 'icp', '-', 'ms', ')', '(', 'agilent', 'technologies', ',', 'japan', ')', '.', 'the', 'specific', 'activities', 'of', '90', 'sr', 'and', '90', 'y', 'in', 'solutions', 'were', 'determined', 'by', 'a', 'direct', 'radio', 'metric', 'method', 'using', 'an', 'sk', 's', '-', '50', 'm', 'spectrom', 'etric', 'complex', '(', 'green', 'star', 'technologies', ',', 'russia', ')', '.'], ['the', 'presented', 'results', 'show', 'that', 'when', 'using', 'the', 'sorption', 'method', 'of', 'purification', ',', 'which', 'includes', 'the', '90', 'y', 'sorption', 'stages', 'on', 'the', 'axi', 'onit', 'mn', 'd', '40', 't', 'sor', 'ben', 't', ',', 'washing', 'and', 'elution', 'of', 'yt', 'tri', 'um', 'with', '0', '.', '01', 'm', 'hcl', ',', 'deep', 'purification', 'of', 'the', 'stripp', 'ed', '90', 'y', 'from', 'residual', 'stro', 'nt', 'ium', 'amounts', 'as', 'well', 'as', 'from', 'equipment', 'corrosion', 'products', ',', 'is', 'observed', '.'], ['the', 'purification', 'factors', '(', 'kp', 'ur', ')', 'of', 'yt', 'tri', 'um', 'from', 'stro', 'nt', 'ium', ',', 'chromium', ',', 'manganese', ',', 'nickel', ',', 'and', 'lead', 'are', 'more', 'than', '100', '.', 'the', 'kp', 'ur', 'for', 'iron', 'and', 'zircon', 'ium', 'ions', 'is', '54', 'and', '40', ',', 'respectively', '.', 'the', 'lowest', 'purification', 'efficiency', 'is', 'observed', 'for', 'impurities', 'of', 'aluminum', ',', 'phosphorus', ',', 'and', 'calcium', '(', 'kp', 'ur', '=', '2', '.', '7', '–', '3', '.', '9', ')', '.'], ['the', 'sorption', 'method', 'was', 'tested', 'for', 'direct', 'separation', 'of', 'the', '90', 'sr', '/', '90', 'y', 'pair', 'without', 'using', 'the', 'extraction', 'method', '.', 'the', 'sorption', 'completeness', 'of', '90', 'y', 'and', '90', 'sr', 'on', 'the', 'first', 'column', 'filled', 'with', 'phosphate', 'cation', 'exchange', 'resin', 'd', '50', '41', 'can', 'be', 'evidenced', 'by', 'the', 'change', 'in', 'the', 'relative', 'beta', 'activity', '(', 'a', '/', 'ain', ')', 'of', 'the', 'fil', 'trate', 'over', '35', '–', '50', 'days', '.'], ['these', 'results', 'demonstrate', 'that', 'sorption', 'from', 'a', '0', '.', '01', 'm', 'hn', 'o', '3', 'solution', 'is', 'accompanied', 'by', 'the', 'combined', 'sorption', 'of', '90', 'sr', 'and', '90', 'y', '.', 'the', 'relative', 'beta', 'activity', 'of', 'the', 'fil', 'trate', 'changes', 'relatively', 'little', 'over', 'time', 'and', 'its', 'equilibrium', 'value', 'is', 'about', '20', '%', 'of', 'the', 'initial', 'value', '.'], ['with', 'an', 'increase', 'in', 'the', 'nitric', 'acid', 'concentration', 'the', 'time', 'dependence', 'of', 'the', 'a', '/', 'ain', 'value', 'of', 'the', 'fil', 'trate', 'changes', 'sharply', '.', 'at', 'a', '0', '.', '2', '–', '0', '.', '3', 'm', 'hn', 'o', '3', 'concentration', 'at', 'first', 'the', 'a', '/', 'ain', 'value', 'is', '~', '0', '.', '4', ',', 'and', 'the', 'equilibrium', 'value', ',', '0', '.', '8', '–', '0', '.', '9', '.'], ['this', 'fact', 'indicates', 'that', 'during', 'the', 'sorption', 'of', 'the', 'equilibrium', '90', 'sr', '/', '90', 'y', 'mixture', 'in', 'this', 'acid', 'ity', 'range', ',', 'almost', 'all', '90', 'sr', 'remains', 'in', 'the', 'fil', 'trate', ',', 'and', '90', 'y', 'is', 'completely', 'sor', 'bed', 'on', 'the', 'column', '.', 'when', 'the', 'sor', 'ben', 't', 'is', 'washed', 'after', 'sorption', 'with', '0', '.', '2', '–', '0', '.', '3', 'm', 'hcl', ',', 'additional', 'elution', 'of', 'residual', 'amounts', 'of', '90', 'sr', 'occurs', '.'], ['the', 'results', 'on', 'fig', '.', '2', 'b', 'show', 'that', 'hydrochlor', 'ic', 'acid', 'des', 'orb', 'ates', 'obtained', 'after', 'the', '90', 'sr', '/', '90', 'y', 'pair', 'sorption', 'by', 'the', 'd', '50', '41', 'cation', 'exchange', 'resin', 'from', '0', '.', '2', '–', '0', '.', '3', 'm', 'hn', 'o', '3', 'solutions', 'and', 'washing', 'with', 'hcl', 'solutions', 'of', 'the', 'same', 'concentrations', 'contain', 'almost', 'pure', '90', 'y', '.', 'the', 'residual', 'activity', 'of', 'des', 'orb', 'ates', 'after', 'keeping', 'for', '45', 'days', 'does', 'not', 'exceed', '0', '.', '1', '%', 'of', 'the', 'initial', 'activity', 'of', 'the', 'solution', ',', 'and', 'the', 'experimental', 'and', 'calculated', 'decomposition', 'curves', 'of', 'des', 'orb', 'ates', 'almost', 'completely', 'coincide', '.'], ['due', 'to', 'the', 'fact', 'that', 'even', 'deeper', 'purification', 'of', '90', 'y', 'from', '90', 'sr', 'is', 'required', 'for', 'use', 'in', 'the', 'production', 'of', 'radio', 'pharmac', 'eut', 'ical', 's', ',', 'the', 'obtained', 'hydrochlor', 'ic', 'acid', 'des', 'orb', 'ates', 'were', 'subjected', 'to', 'additional', 'purification', 'with', 'the', 'tod', 'ga', '-', 'containing', 'sor', 'ben', 't', 'axi', 'onit', 'mn', 'd', '40', 't', '.'], ['sor', 'ben', 'ts', 'of', 'this', 'type', 'are', 'capable', 'of', 'efficient', 'sorption', 'of', 'ree', 'and', 'y', 'in', 'strongly', 'acidic', 'media', 'including', 'hydrochlor', 'ic', 'acid', '.', 'in', 'acid', 'solutions', 'with', 'a', 'concentration', 'of', 'less', 'than', '0', '.', '1', 'm', 'the', 'sorption', 'of', 'ree', '(', 'y', ')', 'sharply', 'decreases', ',', 'which', 'makes', 'it', 'possible', 'to', 'carry', 'out', 'their', 'desorption', '.'], ['to', 'experimentally', 'verify', 'this', 'fact', 'we', 'used', 'hydrochlor', 'ic', 'acid', 'des', 'orb', 'ate', 'obtained', 'after', '90', 'sr', '/', '90', 'y', 'pair', 'sorption', 'by', 'the', 'cation', 'exchange', 'resin', 'd', '50', '41', 'from', 'a', '0', '.', '2', 'm', 'hn', 'o', '3', 'solution', 'and', 'washing', 'with', '0', '.', '2', 'm', 'hcl', '.', 'des', 'orb', 'ate', 'containing', '3', 'm', 'hcl', ',', '90', 'y', 'des', 'orbed', 'from', 'the', 'first', 'column', ',', 'and', 'residual', 'impurities', 'were', 'passed', 'through', 'a', 'plastic', 'column', 'filled', 'with', '4', '.', '5', 'cm', '3', 'axi', 'onit', 'mn', 'd', '40', 't', 'sor', 'ben', 't', '.'], ['then', 'the', 'sor', 'ben', 't', 'was', 'washed', 'with', 'a', '3', 'm', 'hcl', 'solution', 'and', '90', 'y', 'was', 'des', 'orbed', 'with', 'a', '0', '.', '01', 'm', 'hcl', 'solution', '.', 'the', 'passing', 'rate', 'of', 'solutions', 'was', '3', '.', '0', 'c', '.', 'v', '.', '/', 'h', ',', 'the', 'solution', 'volume', 'was', '6', 'c', '.', 'v', '.', 'figure', '3', 'shows', 'the', 'experimental', 'and', 'calculated', 'curves', 'of', 'the', 'relative', 'beta', 'activity', '(', 'a', '/', 'ain', ')', 'vs', '.', 'the', 'exposure', 'time', 'of', 'the', 'des', 'orb', 'ate', '(', '0', '.', '01', 'm', 'hcl', ')', 'after', 'sorption', 'by', 'the', 'axi', 'onit', 'mn', 'd', '40', 't', 'sor', 'ben', 't', '.'], ['the', 'results', 'in', 'fig', '.', '3', 'show', 'that', 'hydrochlor', 'ic', 'acid', 'des', 'orb', 'ates', 'obtained', 'after', 'additional', 'purification', 'with', 'the', 'axi', 'onit', 'mn', 'd', '40', 't', 'sor', 'ben', 't', 'contain', 'only', '90', 'y', '.', 'the', 'residual', 'activity', 'of', 'des', 'orb', 'ates', 'after', 'keeping', 'for', '45', 'days', 'is', 'at', 'the', 'near', 'the', 'detection', 'limits', 'of', 'the', 'recording', 'equipment', '.', 'the', 'portion', 'of', '90', 'sr', 'activity', 'in', '90', 'y', '-', 'containing', 'des', 'orb', 'ate', 'is', 'less', 'than', '10', '–', '6', '%', '.']]\n"
     ]
    }
   ],
   "source": [
    "\n",
    "\n",
    "print(splitter3())\n",
    "\n",
    "#create labels\n",
    "data_tags = ['0','C', 'C-cont' , 'M', 'M-cont', 'Q', 'Q-cont', 'T' , 'T-cont', 'A' , 'A-cont', 'R', 'R-cont']\n",
    "\n",
    "sentences, labels = processor(splitter1, labeler1)\n",
    "\n"
   ]
  },
  {
   "cell_type": "code",
   "execution_count": 12,
   "metadata": {
    "id": "iipz8_yRZ39E"
   },
   "outputs": [
    {
     "name": "stdout",
     "output_type": "stream",
     "text": [
      "['0', 'C', 'C-cont', 'M', 'M-cont', 'Q', 'Q-cont', 'T', 'T-cont', 'A', 'A-cont', 'R', 'R-cont']\n",
      "['0', 'C', 'C-cont', 'M', 'M-cont', 'Q', 'Q-cont', 'T', 'T-cont', 'A', 'A-cont', 'R', 'R-cont', 'PAD']\n",
      "{'0': 0, 'C': 1, 'C-cont': 2, 'M': 3, 'M-cont': 4, 'Q': 5, 'Q-cont': 6, 'T': 7, 'T-cont': 8, 'A': 9, 'A-cont': 10, 'R': 11, 'R-cont': 12, 'PAD': 13}\n"
     ]
    }
   ],
   "source": [
    "\n",
    "# Determine the list of tags\n",
    "tag_values = data_tags\n",
    "print(tag_values)\n",
    "\n",
    "tag_values.append(\"PAD\")\n",
    "print(tag_values)\n",
    "\n",
    "tag2idx = {t: i for i, t in enumerate(tag_values)}\n",
    "print(tag2idx)\n",
    "     "
   ]
  },
  {
   "cell_type": "code",
   "execution_count": 13,
   "metadata": {
    "colab": {
     "base_uri": "https://localhost:8080/"
    },
    "id": "kXahgP-Vao7q",
    "outputId": "1b6313f7-b619-4a2b-e714-8f585a8f3b50"
   },
   "outputs": [
    {
     "name": "stdout",
     "output_type": "stream",
     "text": [
      "Experiments 0\n",
      "were 0\n",
      "performed 0\n",
      "with 0\n",
      "triamylphosphine 0\n",
      "oxide A\n",
      "TAPO A-cont\n",
      "octyl A-cont\n",
      "phenyl A-cont\n",
      "N A-cont\n",
      "N A-cont\n",
      "diisobutylcarbamoylmethylphosphine A-cont\n",
      "oxide A-cont\n",
      "CMPO A-cont\n",
      "Ekos 0\n",
      "Russia 0\n",
      "and 0\n",
      "Eu C\n",
      "NO3 C-cont\n",
      "3 C-cont\n",
      "6H2O C-cont\n",
      "Vekton 0\n"
     ]
    }
   ],
   "source": [
    "for i in range(len(labels[99])):\n",
    "    print(sentences[99][i],labels[99][i])"
   ]
  },
  {
   "cell_type": "code",
   "execution_count": null,
   "metadata": {
    "colab": {
     "base_uri": "https://localhost:8080/"
    },
    "id": "UqdCmpI0XWbN",
    "outputId": "2f94e3d1-7416-4f05-f2ff-51651567bad4"
   },
   "outputs": [],
   "source": []
  },
  {
   "cell_type": "code",
   "execution_count": 14,
   "metadata": {
    "id": "4UEvE5GD19Yp"
   },
   "outputs": [],
   "source": [
    "def tokenize_and_preserve_labels(sentence, text_labels):\n",
    "    tokenized_sentence = []\n",
    "    labels = []\n",
    "\n",
    "    for word, label in zip(sentence, text_labels):\n",
    "\n",
    "        # Tokenize the word and count # of subwords the word is broken into\n",
    "        tokenized_word = tokenizer.tokenize(word)\n",
    "        n_subwords = len(tokenized_word)\n",
    "\n",
    "        # Add the tokenized word to the final tokenized word list\n",
    "        tokenized_sentence.extend(tokenized_word)\n",
    "\n",
    "        # Add the same label to the new list of labels `n_subwords` times\n",
    "        labels.extend([label] * n_subwords)\n",
    "\n",
    "    return tokenized_sentence, labels\n"
   ]
  },
  {
   "cell_type": "code",
   "execution_count": 15,
   "metadata": {
    "id": "SOZqX8q52BOr"
   },
   "outputs": [],
   "source": [
    "tokenized_texts_and_labels = [ tokenize_and_preserve_labels(sent, labs) for sent, labs in zip(sentences, labels)]\n",
    "\n",
    "tokenized_texts = [token_label_pair[0] for token_label_pair in tokenized_texts_and_labels]\n",
    "labels = [token_label_pair[1] for token_label_pair in tokenized_texts_and_labels]"
   ]
  },
  {
   "cell_type": "code",
   "execution_count": 16,
   "metadata": {
    "id": "7pJxaAwrXMCr"
   },
   "outputs": [],
   "source": [
    "# MAX_LEN is the maximum length of a sequence\n",
    "MAX_LEN = 64 # 64 or 128 or ...\n",
    "bs = 5 # batch size\n"
   ]
  },
  {
   "cell_type": "code",
   "execution_count": 17,
   "metadata": {
    "id": "ACWaTEQ12T_q"
   },
   "outputs": [],
   "source": [
    "# Use Padding to equalize the length of sentences\n",
    "input_ids = pad_sequences([tokenizer.convert_tokens_to_ids(txt) for txt in tokenized_texts],\n",
    "                          maxlen=MAX_LEN, dtype=\"long\", value=0.0,\n",
    "                          truncating=\"post\", padding=\"post\")\n",
    "\n",
    "tags = pad_sequences([[tag2idx.get(l) for l in lab] for lab in labels],\n",
    "                     maxlen=MAX_LEN, value=tag2idx[\"PAD\"], padding=\"post\",\n",
    "                     dtype=\"long\", truncating=\"post\")\n"
   ]
  },
  {
   "cell_type": "code",
   "execution_count": 18,
   "metadata": {
    "id": "HK8j0_fU2Xc7"
   },
   "outputs": [],
   "source": [
    "# Do not mask values that are zero\n",
    "attention_masks = [[float(i != 0.0) for i in ii] for ii in input_ids]"
   ]
  },
  {
   "cell_type": "code",
   "execution_count": 19,
   "metadata": {
    "id": "8MgKNvMf2e4x"
   },
   "outputs": [
    {
     "name": "stdout",
     "output_type": "stream",
     "text": [
      "<torch.utils.data.sampler.RandomSampler object at 0x7f2e5c11a2e0>\n"
     ]
    }
   ],
   "source": [
    "# Split data to train and validation. %90 for train and %10 for validation\n",
    "tr_inputs, val_inputs, tr_tags, val_tags = train_test_split(input_ids, tags,\n",
    "                                                            random_state=2018, test_size=0.1)\n",
    "\n",
    "# Each mask contains 10% of a sentence\n",
    "tr_masks, val_masks, _, _ = train_test_split(attention_masks, input_ids,\n",
    "                                             random_state=2018, test_size=0.1)\n",
    "\n",
    "# The input of the BERT should be the tensors produced using PyTorch\n",
    "# So convert all inputs and labels into torch tensors\n",
    "tr_inputs = torch.tensor(tr_inputs)\n",
    "val_inputs = torch.tensor(val_inputs)\n",
    "\n",
    "tr_tags = torch.tensor(tr_tags)\n",
    "val_tags = torch.tensor(val_tags)\n",
    "\n",
    "tr_masks = torch.tensor(tr_masks)\n",
    "val_masks = torch.tensor(val_masks)\n",
    "\n",
    "# Create the DataLoader for our training set\n",
    "train_data = TensorDataset(tr_inputs, tr_masks, tr_tags)\n",
    "train_sampler = RandomSampler(train_data)\n",
    "train_dataloader = DataLoader(train_data, sampler=train_sampler, batch_size=bs)\n",
    "\n",
    "print(train_sampler)\n",
    "\n",
    "# Create the DataLoader for our validation set\n",
    "valid_data = TensorDataset(val_inputs, val_masks, val_tags)\n",
    "valid_sampler = SequentialSampler(valid_data)\n",
    "valid_dataloader = DataLoader(valid_data, sampler=valid_sampler, batch_size=bs)\n"
   ]
  },
  {
   "cell_type": "markdown",
   "metadata": {
    "id": "fIlayjaxK1ac"
   },
   "source": [
    "# **Build model**"
   ]
  },
  {
   "cell_type": "code",
   "execution_count": 20,
   "metadata": {
    "colab": {
     "base_uri": "https://localhost:8080/",
     "height": 218,
     "referenced_widgets": [
      "185d34a6bb6b4439814040da0f2853dc",
      "c1cd492626094c28a241545b0fd13a58",
      "04bec66c474c43b2abf55df9493c1ad3",
      "28c5ada5e413494d875958479bce1bf8",
      "153c7c4195394cd987cd27224c076792",
      "0aa2f68932aa46e08d79b503cdb066d5",
      "e8ccc221de014f9589d4c01db1576bee",
      "a21058481d204b6a98739c21527b9b53",
      "3a57498cc92f475289ed438778ad901a",
      "339741a64cde4ae781225b14a9c2cb76",
      "53b2be4adc4e42879082de9dc5e7e288",
      "93df6238747f46a687b94eaa17a756f2",
      "0e77fed9e8004154922761880363a58f",
      "e51c5802ddc848b68a80aa74f8ac7c81",
      "cf5ab30e45634ad8834f8ba8130e11ad",
      "8c7006c2c348458d881cd0f82191e03c"
     ]
    },
    "id": "wruwJ-wz4HxW",
    "outputId": "193933c8-307c-4f72-92c0-98cabc3f134b",
    "scrolled": true
   },
   "outputs": [
    {
     "name": "stderr",
     "output_type": "stream",
     "text": [
      "Some weights of the model checkpoint at allenai/scibert_scivocab_uncased were not used when initializing BertForTokenClassification: ['cls.predictions.transform.LayerNorm.weight', 'cls.predictions.transform.LayerNorm.bias', 'cls.predictions.transform.dense.weight', 'cls.predictions.bias', 'cls.predictions.transform.dense.bias', 'cls.seq_relationship.bias', 'cls.predictions.decoder.weight', 'cls.seq_relationship.weight', 'cls.predictions.decoder.bias']\n",
      "- This IS expected if you are initializing BertForTokenClassification from the checkpoint of a model trained on another task or with another architecture (e.g. initializing a BertForSequenceClassification model from a BertForPreTraining model).\n",
      "- This IS NOT expected if you are initializing BertForTokenClassification from the checkpoint of a model that you expect to be exactly identical (initializing a BertForSequenceClassification model from a BertForSequenceClassification model).\n",
      "Some weights of BertForTokenClassification were not initialized from the model checkpoint at allenai/scibert_scivocab_uncased and are newly initialized: ['classifier.weight', 'classifier.bias']\n",
      "You should probably TRAIN this model on a down-stream task to be able to use it for predictions and inference.\n"
     ]
    }
   ],
   "source": [
    "# Load BERT Model\n",
    "\n",
    "model = BertForTokenClassification.from_pretrained(\n",
    "    \"allenai/scibert_scivocab_uncased\",\n",
    "    num_labels=len(tag2idx), # The number of output labels\n",
    "    output_attentions = False, # Whether the model returns attention weights.\n",
    "    output_hidden_states = False # Whether the model returns all hidden-states.\n",
    ")"
   ]
  },
  {
   "cell_type": "code",
   "execution_count": 21,
   "metadata": {
    "id": "WybQNyPM4Ks0"
   },
   "outputs": [],
   "source": [
    "# Tell PyTorch to run this model on the GPU\n",
    "model.cuda();"
   ]
  },
  {
   "cell_type": "code",
   "execution_count": 22,
   "metadata": {
    "id": "dhWWhnfV4Vl-"
   },
   "outputs": [
    {
     "name": "stderr",
     "output_type": "stream",
     "text": [
      "/home/ecasey/anaconda3/envs/torch/lib/python3.8/site-packages/transformers/optimization.py:411: FutureWarning: This implementation of AdamW is deprecated and will be removed in a future version. Use the PyTorch implementation torch.optim.AdamW instead, or set `no_deprecation_warning=True` to disable this warning\n",
      "  warnings.warn(\n"
     ]
    }
   ],
   "source": [
    "FULL_FINETUNING = True\n",
    "if FULL_FINETUNING:\n",
    "    param_optimizer = list(model.named_parameters())\n",
    "    no_decay = ['bias', 'gamma', 'beta']\n",
    "    optimizer_grouped_parameters = [\n",
    "        {'params': [p for n, p in param_optimizer if not any(nd in n for nd in no_decay)],\n",
    "         'weight_decay_rate': 0.01},\n",
    "        {'params': [p for n, p in param_optimizer if any(nd in n for nd in no_decay)],\n",
    "         'weight_decay_rate': 0.0}\n",
    "    ]\n",
    "else:\n",
    "    param_optimizer = list(model.classifier.named_parameters())\n",
    "    optimizer_grouped_parameters = [{\"params\": [p for n, p in param_optimizer]}]\n",
    "\n",
    "optimizer = AdamW(\n",
    "    optimizer_grouped_parameters,\n",
    "    lr= 1e-5, # learning-rate default is 3e-5\n",
    "    eps=1e-8 # adam-epsilon default is 1e-8\n",
    ")\n"
   ]
  },
  {
   "cell_type": "code",
   "execution_count": 23,
   "metadata": {
    "id": "oKuYyYbY4dJP"
   },
   "outputs": [],
   "source": [
    "epochs = 100\n",
    "\n",
    "max_grad_norm = 1.0\n",
    "\n",
    "# Total number of training steps is number of batches * number of epochs.\n",
    "total_steps = len(train_dataloader) * epochs\n",
    "\n",
    "# Create the learning rate scheduler.\n",
    "scheduler = get_linear_schedule_with_warmup(\n",
    "    optimizer,\n",
    "    num_warmup_steps=0,\n",
    "    num_training_steps=total_steps\n",
    ")"
   ]
  },
  {
   "cell_type": "markdown",
   "metadata": {
    "id": "POhQTWIpJwlb"
   },
   "source": [
    "# **Training**"
   ]
  },
  {
   "cell_type": "code",
   "execution_count": 24,
   "metadata": {
    "id": "74x245VwbjzK"
   },
   "outputs": [],
   "source": [
    "def acc():\n",
    "    accuracy_list = []\n",
    "    \n",
    "    for i in range(len(sentences)):\n",
    "\n",
    "        tokenized_sentence = tokenizer.encode(sentences[i])\n",
    "        input_ids = torch.tensor([tokenized_sentence]).cuda()\n",
    "\n",
    "        with torch.no_grad():\n",
    "            output = model(input_ids)\n",
    "\n",
    "        label_indices = np.argmax(output[0].to('cpu').numpy(), axis=2)\n",
    "\n",
    "        # join bpe split tokens\n",
    "        tokens = tokenizer.convert_ids_to_tokens(input_ids.to('cpu').numpy()[0])\n",
    "        new_tokens, new_labels = [], []\n",
    "        for token, label_idx in zip(tokens, label_indices[0]):\n",
    "            if token.startswith(\"##\"):\n",
    "                new_tokens[-1] = new_tokens[-1] + token[2:]\n",
    "            else:\n",
    "                new_labels.append(tag_values[label_idx])\n",
    "                new_tokens.append(token)\n",
    "\n",
    "        new_labels = new_labels[1:-2]\n",
    "        accuracy_list.append(accuracy_score(new_labels, labels[i]))\n",
    "\n",
    "        #print(\"\\nPredict labels: \",new_labels)\n",
    "        #print(\"Actual labels: \",labels[i])\n",
    "\n",
    "    return statistics.mean(accuracy_list)\n",
    "\n"
   ]
  },
  {
   "cell_type": "code",
   "execution_count": null,
   "metadata": {
    "colab": {
     "base_uri": "https://localhost:8080/"
    },
    "id": "7I9lOiM94kKg",
    "outputId": "eac63c54-d19d-4261-8de8-1ef85d09fb77"
   },
   "outputs": [
    {
     "name": "stderr",
     "output_type": "stream",
     "text": [
      "\r",
      "Epoch:   0%|                                                                                                 | 0/100 [00:00<?, ?it/s]"
     ]
    },
    {
     "name": "stdout",
     "output_type": "stream",
     "text": [
      "\n",
      "Average train loss: 1.639241762459278\n",
      "\n",
      "Validation loss: 0.899729331334432\n",
      "Validation Accuracy: 0.7295208655332303\n",
      "\n"
     ]
    },
    {
     "name": "stderr",
     "output_type": "stream",
     "text": [
      "\r",
      "Epoch:   1%|▉                                                                                        | 1/100 [00:06<10:12,  6.18s/it]"
     ]
    },
    {
     "name": "stdout",
     "output_type": "stream",
     "text": [
      "\n",
      "Average train loss: 0.8746523521840572\n",
      "\n",
      "Validation loss: 0.5155617992083231\n",
      "Validation Accuracy: 0.8330757341576507\n",
      "\n"
     ]
    },
    {
     "name": "stderr",
     "output_type": "stream",
     "text": [
      "\r",
      "Epoch:   2%|█▊                                                                                       | 2/100 [00:08<06:06,  3.74s/it]"
     ]
    },
    {
     "name": "stdout",
     "output_type": "stream",
     "text": [
      "\n",
      "Average train loss: 0.5609012419978777\n",
      "\n",
      "Validation loss: 0.3366503218809764\n",
      "Validation Accuracy: 0.8871715610510046\n",
      "\n"
     ]
    },
    {
     "name": "stderr",
     "output_type": "stream",
     "text": [
      "\r",
      "Epoch:   3%|██▋                                                                                      | 3/100 [00:10<04:45,  2.94s/it]"
     ]
    },
    {
     "name": "stdout",
     "output_type": "stream",
     "text": [
      "\n",
      "Average train loss: 0.43025059004624683\n",
      "\n",
      "Validation loss: 0.27501854797204334\n",
      "Validation Accuracy: 0.8887171561051005\n",
      "\n"
     ]
    },
    {
     "name": "stderr",
     "output_type": "stream",
     "text": [
      "\r",
      "Epoch:   4%|███▌                                                                                     | 4/100 [00:12<04:07,  2.57s/it]"
     ]
    },
    {
     "name": "stdout",
     "output_type": "stream",
     "text": [
      "\n",
      "Average train loss: 0.3455988659212987\n",
      "\n",
      "Validation loss: 0.2224027415116628\n",
      "Validation Accuracy: 0.9149922720247295\n",
      "\n"
     ]
    },
    {
     "name": "stderr",
     "output_type": "stream",
     "text": [
      "\r",
      "Epoch:   5%|████▍                                                                                    | 5/100 [00:14<03:44,  2.37s/it]"
     ]
    },
    {
     "name": "stdout",
     "output_type": "stream",
     "text": [
      "\n",
      "Average train loss: 0.27957949104408425\n",
      "\n",
      "Validation loss: 0.19490516682465872\n",
      "Validation Accuracy: 0.9227202472952086\n",
      "\n"
     ]
    },
    {
     "name": "stderr",
     "output_type": "stream",
     "text": [
      "\r",
      "Epoch:   6%|█████▎                                                                                   | 6/100 [00:16<03:30,  2.24s/it]"
     ]
    },
    {
     "name": "stdout",
     "output_type": "stream",
     "text": [
      "\n",
      "Average train loss: 0.21426561971505484\n",
      "\n",
      "Validation loss: 0.17249630888303122\n",
      "Validation Accuracy: 0.9335394126738794\n",
      "\n"
     ]
    },
    {
     "name": "stderr",
     "output_type": "stream",
     "text": [
      "\r",
      "Epoch:   7%|██████▏                                                                                  | 7/100 [00:18<03:20,  2.16s/it]"
     ]
    },
    {
     "name": "stdout",
     "output_type": "stream",
     "text": [
      "\n",
      "Average train loss: 0.19174767968555292\n",
      "\n",
      "Validation loss: 0.16346793373425803\n",
      "Validation Accuracy: 0.9428129829984544\n",
      "\n"
     ]
    },
    {
     "name": "stderr",
     "output_type": "stream",
     "text": [
      "\r",
      "Epoch:   8%|███████                                                                                  | 8/100 [00:20<03:13,  2.11s/it]"
     ]
    },
    {
     "name": "stdout",
     "output_type": "stream",
     "text": [
      "\n",
      "Average train loss: 0.1422386788763106\n",
      "\n",
      "Validation loss: 0.16596812506516775\n",
      "Validation Accuracy: 0.9381761978361669\n",
      "\n"
     ]
    },
    {
     "name": "stderr",
     "output_type": "stream",
     "text": [
      "\r",
      "Epoch:   9%|████████                                                                                 | 9/100 [00:22<03:08,  2.07s/it]"
     ]
    },
    {
     "name": "stdout",
     "output_type": "stream",
     "text": [
      "\n",
      "Average train loss: 0.12000035618742307\n",
      "\n",
      "Validation loss: 0.16998890042304993\n",
      "Validation Accuracy: 0.9397217928902627\n",
      "\n"
     ]
    },
    {
     "name": "stderr",
     "output_type": "stream",
     "text": [
      "\r",
      "Epoch:  10%|████████▊                                                                               | 10/100 [00:24<03:04,  2.05s/it]"
     ]
    },
    {
     "name": "stdout",
     "output_type": "stream",
     "text": [
      "\n",
      "Average train loss: 0.09122922954459985\n",
      "\n",
      "Validation loss: 0.15200828512509665\n",
      "Validation Accuracy: 0.9474497681607419\n",
      "\n"
     ]
    },
    {
     "name": "stderr",
     "output_type": "stream",
     "text": [
      "\r",
      "Epoch:  11%|█████████▋                                                                              | 11/100 [00:26<03:00,  2.03s/it]"
     ]
    },
    {
     "name": "stdout",
     "output_type": "stream",
     "text": [
      "\n",
      "Average train loss: 0.08022135267189394\n",
      "\n",
      "Validation loss: 0.16418791810671488\n",
      "Validation Accuracy: 0.9489953632148377\n",
      "\n"
     ]
    },
    {
     "name": "stderr",
     "output_type": "stream",
     "text": [
      "\r",
      "Epoch:  12%|██████████▌                                                                             | 12/100 [00:28<02:57,  2.02s/it]"
     ]
    },
    {
     "name": "stdout",
     "output_type": "stream",
     "text": [
      "\n",
      "Average train loss: 0.06377744286631544\n",
      "\n",
      "Validation loss: 0.15601861973603567\n",
      "Validation Accuracy: 0.9459041731066461\n",
      "\n"
     ]
    },
    {
     "name": "stderr",
     "output_type": "stream",
     "text": [
      "\r",
      "Epoch:  13%|███████████▍                                                                            | 13/100 [00:30<02:55,  2.02s/it]"
     ]
    },
    {
     "name": "stdout",
     "output_type": "stream",
     "text": [
      "\n",
      "Average train loss: 0.05009651824366301\n",
      "\n",
      "Validation loss: 0.17165042956670126\n",
      "Validation Accuracy: 0.9567233384853169\n",
      "\n"
     ]
    },
    {
     "name": "stderr",
     "output_type": "stream",
     "text": [
      "\r",
      "Epoch:  14%|████████████▎                                                                           | 14/100 [00:32<02:52,  2.01s/it]"
     ]
    },
    {
     "name": "stdout",
     "output_type": "stream",
     "text": [
      "\n",
      "Average train loss: 0.03891702233037601\n",
      "\n",
      "Validation loss: 0.1667157163222631\n",
      "Validation Accuracy: 0.955177743431221\n",
      "\n"
     ]
    },
    {
     "name": "stderr",
     "output_type": "stream",
     "text": [
      "\r",
      "Epoch:  15%|█████████████▏                                                                          | 15/100 [00:34<02:50,  2.01s/it]"
     ]
    },
    {
     "name": "stdout",
     "output_type": "stream",
     "text": [
      "\n",
      "Average train loss: 0.05158974884155517\n",
      "\n",
      "Validation loss: 0.16039980699618658\n",
      "Validation Accuracy: 0.9567233384853169\n",
      "\n"
     ]
    },
    {
     "name": "stderr",
     "output_type": "stream",
     "text": [
      "\r",
      "Epoch:  16%|██████████████                                                                          | 16/100 [00:36<02:48,  2.00s/it]"
     ]
    },
    {
     "name": "stdout",
     "output_type": "stream",
     "text": [
      "\n",
      "Average train loss: 0.03189979260787368\n",
      "\n",
      "Validation loss: 0.17182369281848273\n",
      "Validation Accuracy: 0.9582689335394127\n",
      "\n"
     ]
    },
    {
     "name": "stderr",
     "output_type": "stream",
     "text": [
      "\r",
      "Epoch:  17%|██████████████▉                                                                         | 17/100 [00:38<02:46,  2.00s/it]"
     ]
    },
    {
     "name": "stdout",
     "output_type": "stream",
     "text": [
      "\n",
      "Average train loss: 0.028443207828483235\n",
      "\n",
      "Validation loss: 0.17091330885887146\n",
      "Validation Accuracy: 0.9567233384853169\n",
      "\n"
     ]
    },
    {
     "name": "stderr",
     "output_type": "stream",
     "text": [
      "\r",
      "Epoch:  18%|███████████████▊                                                                        | 18/100 [00:40<02:44,  2.00s/it]"
     ]
    },
    {
     "name": "stdout",
     "output_type": "stream",
     "text": [
      "\n",
      "Average train loss: 0.02501273824600503\n",
      "\n",
      "Validation loss: 0.17311565081278482\n",
      "Validation Accuracy: 0.9582689335394127\n",
      "\n"
     ]
    },
    {
     "name": "stderr",
     "output_type": "stream",
     "text": [
      "\r",
      "Epoch:  19%|████████████████▋                                                                       | 19/100 [00:42<02:41,  2.00s/it]"
     ]
    },
    {
     "name": "stdout",
     "output_type": "stream",
     "text": [
      "\n",
      "Average train loss: 0.018267698159130912\n",
      "\n",
      "Validation loss: 0.1759713739156723\n",
      "Validation Accuracy: 0.9582689335394127\n",
      "\n"
     ]
    },
    {
     "name": "stderr",
     "output_type": "stream",
     "text": [
      "\r",
      "Epoch:  20%|█████████████████▌                                                                      | 20/100 [00:44<02:39,  2.00s/it]"
     ]
    },
    {
     "name": "stdout",
     "output_type": "stream",
     "text": [
      "\n",
      "Average train loss: 0.014815816325911632\n",
      "\n",
      "Validation loss: 0.17166831096013388\n",
      "Validation Accuracy: 0.9613601236476044\n",
      "\n"
     ]
    },
    {
     "name": "stderr",
     "output_type": "stream",
     "text": [
      "\r",
      "Epoch:  21%|██████████████████▍                                                                     | 21/100 [00:46<02:37,  2.00s/it]"
     ]
    },
    {
     "name": "stdout",
     "output_type": "stream",
     "text": [
      "\n",
      "Average train loss: 0.012226517787591243\n",
      "\n",
      "Validation loss: 0.1771363914012909\n",
      "Validation Accuracy: 0.9582689335394127\n",
      "\n"
     ]
    },
    {
     "name": "stderr",
     "output_type": "stream",
     "text": [
      "\r",
      "Epoch:  22%|███████████████████▎                                                                    | 22/100 [00:48<02:35,  2.00s/it]"
     ]
    },
    {
     "name": "stdout",
     "output_type": "stream",
     "text": [
      "\n",
      "Average train loss: 0.014019993492790187\n",
      "\n",
      "Validation loss: 0.17595145603020987\n",
      "Validation Accuracy: 0.9598145285935085\n",
      "\n"
     ]
    },
    {
     "name": "stderr",
     "output_type": "stream",
     "text": [
      "\r",
      "Epoch:  23%|████████████████████▏                                                                   | 23/100 [00:50<02:33,  1.99s/it]"
     ]
    },
    {
     "name": "stdout",
     "output_type": "stream",
     "text": [
      "\n",
      "Average train loss: 0.012170280126156285\n",
      "\n",
      "Validation loss: 0.18975297113259634\n",
      "Validation Accuracy: 0.9582689335394127\n",
      "\n"
     ]
    },
    {
     "name": "stderr",
     "output_type": "stream",
     "text": [
      "\r",
      "Epoch:  24%|█████████████████████                                                                   | 24/100 [00:52<02:31,  1.99s/it]"
     ]
    },
    {
     "name": "stdout",
     "output_type": "stream",
     "text": [
      "\n",
      "Average train loss: 0.018871708811881643\n",
      "\n",
      "Validation loss: 0.18558746576309204\n",
      "Validation Accuracy: 0.9582689335394127\n",
      "\n"
     ]
    },
    {
     "name": "stderr",
     "output_type": "stream",
     "text": [
      "\r",
      "Epoch:  25%|██████████████████████                                                                  | 25/100 [00:54<02:29,  1.99s/it]"
     ]
    },
    {
     "name": "stdout",
     "output_type": "stream",
     "text": [
      "\n",
      "Average train loss: 0.008822530430431167\n",
      "\n",
      "Validation loss: 0.1881543199221293\n",
      "Validation Accuracy: 0.9582689335394127\n",
      "\n"
     ]
    },
    {
     "name": "stderr",
     "output_type": "stream",
     "text": [
      "\r",
      "Epoch:  26%|██████████████████████▉                                                                 | 26/100 [00:56<02:27,  2.00s/it]"
     ]
    },
    {
     "name": "stdout",
     "output_type": "stream",
     "text": [
      "\n",
      "Average train loss: 0.007943488293676637\n",
      "\n",
      "Validation loss: 0.19139292339483896\n",
      "Validation Accuracy: 0.9582689335394127\n",
      "\n"
     ]
    },
    {
     "name": "stderr",
     "output_type": "stream",
     "text": [
      "\r",
      "Epoch:  27%|███████████████████████▊                                                                | 27/100 [00:58<02:25,  2.00s/it]"
     ]
    },
    {
     "name": "stdout",
     "output_type": "stream",
     "text": [
      "\n",
      "Average train loss: 0.007832351785812838\n",
      "\n",
      "Validation loss: 0.2044950028260549\n",
      "Validation Accuracy: 0.955177743431221\n",
      "\n"
     ]
    },
    {
     "name": "stderr",
     "output_type": "stream",
     "text": [
      "\r",
      "Epoch:  28%|████████████████████████▋                                                               | 28/100 [01:00<02:23,  2.00s/it]"
     ]
    },
    {
     "name": "stdout",
     "output_type": "stream",
     "text": [
      "\n",
      "Average train loss: 0.006691114462834473\n",
      "\n",
      "Validation loss: 0.2015978048245112\n",
      "Validation Accuracy: 0.9567233384853169\n",
      "\n"
     ]
    },
    {
     "name": "stderr",
     "output_type": "stream",
     "text": [
      "\r",
      "Epoch:  29%|█████████████████████████▌                                                              | 29/100 [01:02<02:21,  1.99s/it]"
     ]
    },
    {
     "name": "stdout",
     "output_type": "stream",
     "text": [
      "\n",
      "Average train loss: 0.005874107451139328\n",
      "\n",
      "Validation loss: 0.19785297413667044\n",
      "Validation Accuracy: 0.9613601236476044\n",
      "\n"
     ]
    },
    {
     "name": "stderr",
     "output_type": "stream",
     "text": [
      "\r",
      "Epoch:  30%|██████████████████████████▍                                                             | 30/100 [01:04<02:19,  2.00s/it]"
     ]
    },
    {
     "name": "stdout",
     "output_type": "stream",
     "text": [
      "\n",
      "Average train loss: 0.005332662054570392\n",
      "\n",
      "Validation loss: 0.1988672912120819\n",
      "Validation Accuracy: 0.9598145285935085\n",
      "\n"
     ]
    },
    {
     "name": "stderr",
     "output_type": "stream",
     "text": [
      "\r",
      "Epoch:  31%|███████████████████████████▎                                                            | 31/100 [01:06<02:18,  2.00s/it]"
     ]
    },
    {
     "name": "stdout",
     "output_type": "stream",
     "text": [
      "\n",
      "Average train loss: 0.0044394467428598245\n",
      "\n",
      "Validation loss: 0.20073494811852774\n",
      "Validation Accuracy: 0.9582689335394127\n",
      "\n"
     ]
    },
    {
     "name": "stderr",
     "output_type": "stream",
     "text": [
      "\r",
      "Epoch:  32%|████████████████████████████▏                                                           | 32/100 [01:08<02:16,  2.00s/it]"
     ]
    },
    {
     "name": "stdout",
     "output_type": "stream",
     "text": [
      "\n",
      "Average train loss: 0.005471442891575862\n",
      "\n",
      "Validation loss: 0.20597976446151733\n",
      "Validation Accuracy: 0.9582689335394127\n",
      "\n"
     ]
    },
    {
     "name": "stderr",
     "output_type": "stream",
     "text": [
      "\r",
      "Epoch:  33%|█████████████████████████████                                                           | 33/100 [01:10<02:14,  2.00s/it]"
     ]
    },
    {
     "name": "stdout",
     "output_type": "stream",
     "text": [
      "\n",
      "Average train loss: 0.002769832305299739\n",
      "\n",
      "Validation loss: 0.20840243498484293\n",
      "Validation Accuracy: 0.955177743431221\n",
      "\n"
     ]
    },
    {
     "name": "stderr",
     "output_type": "stream",
     "text": [
      "\r",
      "Epoch:  34%|█████████████████████████████▉                                                          | 34/100 [01:12<02:12,  2.00s/it]"
     ]
    },
    {
     "name": "stdout",
     "output_type": "stream",
     "text": [
      "\n",
      "Average train loss: 0.005044706810925466\n",
      "\n",
      "Validation loss: 0.2163312037785848\n",
      "Validation Accuracy: 0.9567233384853169\n",
      "\n"
     ]
    },
    {
     "name": "stderr",
     "output_type": "stream",
     "text": [
      "\r",
      "Epoch:  35%|██████████████████████████████▊                                                         | 35/100 [01:14<02:09,  2.00s/it]"
     ]
    },
    {
     "name": "stdout",
     "output_type": "stream",
     "text": [
      "\n",
      "Average train loss: 0.0032752768723488166\n",
      "\n",
      "Validation loss: 0.233489528298378\n",
      "Validation Accuracy: 0.9567233384853169\n",
      "\n"
     ]
    },
    {
     "name": "stderr",
     "output_type": "stream",
     "text": [
      "\r",
      "Epoch:  36%|███████████████████████████████▋                                                        | 36/100 [01:16<02:07,  2.00s/it]"
     ]
    },
    {
     "name": "stdout",
     "output_type": "stream",
     "text": [
      "\n",
      "Average train loss: 0.003090718516129224\n",
      "\n",
      "Validation loss: 0.21393460035324097\n",
      "Validation Accuracy: 0.9567233384853169\n",
      "\n"
     ]
    },
    {
     "name": "stderr",
     "output_type": "stream",
     "text": [
      "\r",
      "Epoch:  37%|████████████████████████████████▌                                                       | 37/100 [01:18<02:05,  2.00s/it]"
     ]
    },
    {
     "name": "stdout",
     "output_type": "stream",
     "text": [
      "\n",
      "Average train loss: 0.002966004093953719\n",
      "\n",
      "Validation loss: 0.22200683752695718\n",
      "Validation Accuracy: 0.9567233384853169\n",
      "\n"
     ]
    },
    {
     "name": "stderr",
     "output_type": "stream",
     "text": [
      "\r",
      "Epoch:  38%|█████████████████████████████████▍                                                      | 38/100 [01:20<02:03,  2.00s/it]"
     ]
    },
    {
     "name": "stdout",
     "output_type": "stream",
     "text": [
      "\n",
      "Average train loss: 0.0032312140416858406\n",
      "\n",
      "Validation loss: 0.21918849150339761\n",
      "Validation Accuracy: 0.9567233384853169\n",
      "\n"
     ]
    },
    {
     "name": "stderr",
     "output_type": "stream",
     "text": [
      "\r",
      "Epoch:  39%|██████████████████████████████████▎                                                     | 39/100 [01:22<02:01,  2.00s/it]"
     ]
    },
    {
     "name": "stdout",
     "output_type": "stream",
     "text": [
      "\n",
      "Average train loss: 0.004220862598837509\n",
      "\n",
      "Validation loss: 0.21142209072907767\n",
      "Validation Accuracy: 0.9582689335394127\n",
      "\n"
     ]
    },
    {
     "name": "stderr",
     "output_type": "stream",
     "text": [
      "\r",
      "Epoch:  40%|███████████████████████████████████▏                                                    | 40/100 [01:24<02:00,  2.00s/it]"
     ]
    },
    {
     "name": "stdout",
     "output_type": "stream",
     "text": [
      "\n",
      "Average train loss: 0.012118343343900051\n",
      "\n",
      "Validation loss: 0.22072971860567728\n",
      "Validation Accuracy: 0.9582689335394127\n",
      "\n"
     ]
    },
    {
     "name": "stderr",
     "output_type": "stream",
     "text": [
      "\r",
      "Epoch:  41%|████████████████████████████████████                                                    | 41/100 [01:26<01:58,  2.00s/it]"
     ]
    },
    {
     "name": "stdout",
     "output_type": "stream",
     "text": [
      "\n",
      "Average train loss: 0.0022075978510353402\n",
      "\n",
      "Validation loss: 0.21693932513395944\n",
      "Validation Accuracy: 0.9582689335394127\n",
      "\n"
     ]
    },
    {
     "name": "stderr",
     "output_type": "stream",
     "text": [
      "\r",
      "Epoch:  42%|████████████████████████████████████▉                                                   | 42/100 [01:28<01:56,  2.00s/it]"
     ]
    },
    {
     "name": "stdout",
     "output_type": "stream",
     "text": [
      "\n",
      "Average train loss: 0.0018271576591359917\n",
      "\n",
      "Validation loss: 0.21260392169157663\n",
      "Validation Accuracy: 0.9613601236476044\n",
      "\n"
     ]
    },
    {
     "name": "stderr",
     "output_type": "stream",
     "text": [
      "\r",
      "Epoch:  43%|█████████████████████████████████████▊                                                  | 43/100 [01:30<01:54,  2.01s/it]"
     ]
    },
    {
     "name": "stdout",
     "output_type": "stream",
     "text": [
      "\n",
      "Average train loss: 0.0034867387124298452\n",
      "\n",
      "Validation loss: 0.22456643482049307\n",
      "Validation Accuracy: 0.9613601236476044\n",
      "\n"
     ]
    },
    {
     "name": "stderr",
     "output_type": "stream",
     "text": [
      "\r",
      "Epoch:  44%|██████████████████████████████████████▋                                                 | 44/100 [01:32<01:52,  2.01s/it]"
     ]
    },
    {
     "name": "stdout",
     "output_type": "stream",
     "text": [
      "\n",
      "Average train loss: 0.0016944443971927587\n",
      "\n",
      "Validation loss: 0.2227553129196167\n",
      "Validation Accuracy: 0.9613601236476044\n",
      "\n"
     ]
    },
    {
     "name": "stderr",
     "output_type": "stream",
     "text": [
      "\r",
      "Epoch:  45%|███████████████████████████████████████▌                                                | 45/100 [01:34<01:50,  2.00s/it]"
     ]
    },
    {
     "name": "stdout",
     "output_type": "stream",
     "text": [
      "\n",
      "Average train loss: 0.0023555291845696047\n",
      "\n",
      "Validation loss: 0.21240463852882385\n",
      "Validation Accuracy: 0.9629057187017002\n",
      "\n"
     ]
    },
    {
     "name": "stderr",
     "output_type": "stream",
     "text": [
      "\r",
      "Epoch:  46%|████████████████████████████████████████▍                                               | 46/100 [01:36<01:47,  2.00s/it]"
     ]
    },
    {
     "name": "stdout",
     "output_type": "stream",
     "text": [
      "\n",
      "Average train loss: 0.0026975512082572095\n",
      "\n",
      "Validation loss: 0.21585353215535483\n",
      "Validation Accuracy: 0.9598145285935085\n",
      "\n"
     ]
    },
    {
     "name": "stderr",
     "output_type": "stream",
     "text": [
      "\r",
      "Epoch:  47%|█████████████████████████████████████████▎                                              | 47/100 [01:38<01:45,  2.00s/it]"
     ]
    },
    {
     "name": "stdout",
     "output_type": "stream",
     "text": [
      "\n",
      "Average train loss: 0.002208928359323181\n",
      "\n",
      "Validation loss: 0.21061816811561584\n",
      "Validation Accuracy: 0.9582689335394127\n",
      "\n"
     ]
    },
    {
     "name": "stderr",
     "output_type": "stream",
     "text": [
      "\r",
      "Epoch:  48%|██████████████████████████████████████████▏                                             | 48/100 [01:40<01:43,  2.00s/it]"
     ]
    },
    {
     "name": "stdout",
     "output_type": "stream",
     "text": [
      "\n",
      "Average train loss: 0.0014012032188475132\n",
      "\n",
      "Validation loss: 0.2139584720134735\n",
      "Validation Accuracy: 0.9598145285935085\n",
      "\n"
     ]
    },
    {
     "name": "stderr",
     "output_type": "stream",
     "text": [
      "\r",
      "Epoch:  49%|███████████████████████████████████████████                                             | 49/100 [01:42<01:42,  2.00s/it]"
     ]
    },
    {
     "name": "stdout",
     "output_type": "stream",
     "text": [
      "\n",
      "Average train loss: 0.0021669763773388695\n",
      "\n",
      "Validation loss: 0.2052423357963562\n",
      "Validation Accuracy: 0.9598145285935085\n",
      "\n"
     ]
    },
    {
     "name": "stderr",
     "output_type": "stream",
     "text": [
      "\r",
      "Epoch:  50%|████████████████████████████████████████████                                            | 50/100 [01:44<01:40,  2.00s/it]"
     ]
    },
    {
     "name": "stdout",
     "output_type": "stream",
     "text": [
      "\n",
      "Average train loss: 0.0023709053348284215\n",
      "\n",
      "Validation loss: 0.20516179502010345\n",
      "Validation Accuracy: 0.9629057187017002\n",
      "\n"
     ]
    },
    {
     "name": "stderr",
     "output_type": "stream",
     "text": [
      "\r",
      "Epoch:  51%|████████████████████████████████████████████▉                                           | 51/100 [01:46<01:38,  2.00s/it]"
     ]
    },
    {
     "name": "stdout",
     "output_type": "stream",
     "text": [
      "\n",
      "Average train loss: 0.003480498660792364\n",
      "\n",
      "Validation loss: 0.21277877191702524\n",
      "Validation Accuracy: 0.964451313755796\n",
      "\n"
     ]
    },
    {
     "name": "stderr",
     "output_type": "stream",
     "text": [
      "\r",
      "Epoch:  52%|█████████████████████████████████████████████▊                                          | 52/100 [01:48<01:35,  2.00s/it]"
     ]
    },
    {
     "name": "stdout",
     "output_type": "stream",
     "text": [
      "\n",
      "Average train loss: 0.0010516528200241737\n",
      "\n",
      "Validation loss: 0.21949456135431925\n",
      "Validation Accuracy: 0.964451313755796\n",
      "\n"
     ]
    },
    {
     "name": "stderr",
     "output_type": "stream",
     "text": [
      "\r",
      "Epoch:  53%|██████████████████████████████████████████████▋                                         | 53/100 [01:50<01:33,  2.00s/it]"
     ]
    },
    {
     "name": "stdout",
     "output_type": "stream",
     "text": [
      "\n",
      "Average train loss: 0.0012343213359902923\n",
      "\n",
      "Validation loss: 0.21587463716665903\n",
      "Validation Accuracy: 0.9629057187017002\n",
      "\n"
     ]
    },
    {
     "name": "stderr",
     "output_type": "stream",
     "text": [
      "\r",
      "Epoch:  54%|███████████████████████████████████████████████▌                                        | 54/100 [01:52<01:31,  2.00s/it]"
     ]
    },
    {
     "name": "stdout",
     "output_type": "stream",
     "text": [
      "\n",
      "Average train loss: 0.001293593462226757\n",
      "\n",
      "Validation loss: 0.21337157487869263\n",
      "Validation Accuracy: 0.964451313755796\n",
      "\n"
     ]
    },
    {
     "name": "stderr",
     "output_type": "stream",
     "text": [
      "\r",
      "Epoch:  55%|████████████████████████████████████████████████▍                                       | 55/100 [01:54<01:29,  2.00s/it]"
     ]
    },
    {
     "name": "stdout",
     "output_type": "stream",
     "text": [
      "\n",
      "Average train loss: 0.0029610486672027037\n",
      "\n",
      "Validation loss: 0.21833255887031555\n",
      "Validation Accuracy: 0.9629057187017002\n",
      "\n"
     ]
    },
    {
     "name": "stderr",
     "output_type": "stream",
     "text": [
      "\r",
      "Epoch:  56%|█████████████████████████████████████████████████▎                                      | 56/100 [01:56<01:28,  2.00s/it]"
     ]
    },
    {
     "name": "stdout",
     "output_type": "stream",
     "text": [
      "\n",
      "Average train loss: 0.002840568695925564\n",
      "\n",
      "Validation loss: 0.2187610069910685\n",
      "Validation Accuracy: 0.964451313755796\n",
      "\n"
     ]
    },
    {
     "name": "stderr",
     "output_type": "stream",
     "text": [
      "\r",
      "Epoch:  57%|██████████████████████████████████████████████████▏                                     | 57/100 [01:58<01:26,  2.00s/it]"
     ]
    },
    {
     "name": "stdout",
     "output_type": "stream",
     "text": [
      "\n",
      "Average train loss: 0.001113100483053131\n",
      "\n",
      "Validation loss: 0.22086352109909058\n",
      "Validation Accuracy: 0.964451313755796\n",
      "\n"
     ]
    },
    {
     "name": "stderr",
     "output_type": "stream",
     "text": [
      "\r",
      "Epoch:  58%|███████████████████████████████████████████████████                                     | 58/100 [02:00<01:24,  2.00s/it]"
     ]
    },
    {
     "name": "stdout",
     "output_type": "stream",
     "text": [
      "\n",
      "Average train loss: 0.0008006718817341607\n",
      "\n",
      "Validation loss: 0.22055717309316\n",
      "Validation Accuracy: 0.964451313755796\n",
      "\n"
     ]
    },
    {
     "name": "stderr",
     "output_type": "stream",
     "text": [
      "\r",
      "Epoch:  59%|███████████████████████████████████████████████████▉                                    | 59/100 [02:02<01:22,  2.00s/it]"
     ]
    },
    {
     "name": "stdout",
     "output_type": "stream",
     "text": [
      "\n",
      "Average train loss: 0.0008451214065037979\n",
      "\n",
      "Validation loss: 0.22044210135936737\n",
      "Validation Accuracy: 0.964451313755796\n",
      "\n"
     ]
    },
    {
     "name": "stderr",
     "output_type": "stream",
     "text": [
      "\r",
      "Epoch:  60%|████████████████████████████████████████████████████▊                                   | 60/100 [02:04<01:19,  2.00s/it]"
     ]
    },
    {
     "name": "stdout",
     "output_type": "stream",
     "text": [
      "\n",
      "Average train loss: 0.0010784264911004964\n",
      "\n",
      "Validation loss: 0.22162332634131113\n",
      "Validation Accuracy: 0.964451313755796\n",
      "\n"
     ]
    },
    {
     "name": "stderr",
     "output_type": "stream",
     "text": [
      "\r",
      "Epoch:  61%|█████████████████████████████████████████████████████▋                                  | 61/100 [02:06<01:18,  2.00s/it]"
     ]
    },
    {
     "name": "stdout",
     "output_type": "stream",
     "text": [
      "\n",
      "Average train loss: 0.0008203151786195425\n",
      "\n",
      "Validation loss: 0.22448078294595084\n",
      "Validation Accuracy: 0.964451313755796\n",
      "\n"
     ]
    },
    {
     "name": "stderr",
     "output_type": "stream",
     "text": [
      "\r",
      "Epoch:  62%|██████████████████████████████████████████████████████▌                                 | 62/100 [02:08<01:16,  2.00s/it]"
     ]
    },
    {
     "name": "stdout",
     "output_type": "stream",
     "text": [
      "\n",
      "Average train loss: 0.0021415715467204186\n",
      "\n",
      "Validation loss: 0.2166027973095576\n",
      "Validation Accuracy: 0.9675425038639877\n",
      "\n"
     ]
    },
    {
     "name": "stderr",
     "output_type": "stream",
     "text": [
      "\r",
      "Epoch:  63%|███████████████████████████████████████████████████████▍                                | 63/100 [02:10<01:14,  2.00s/it]"
     ]
    },
    {
     "name": "stdout",
     "output_type": "stream",
     "text": [
      "\n",
      "Average train loss: 0.0020704703565570526\n",
      "\n",
      "Validation loss: 0.21611667176087698\n",
      "Validation Accuracy: 0.9659969088098919\n",
      "\n"
     ]
    },
    {
     "name": "stderr",
     "output_type": "stream",
     "text": [
      "\r",
      "Epoch:  64%|████████████████████████████████████████████████████████▎                               | 64/100 [02:12<01:11,  2.00s/it]"
     ]
    }
   ],
   "source": [
    "## Store the average loss after each epoch so we can plot them.\n",
    "import copy\n",
    "loss_values, validation_loss_values = [], []\n",
    "\n",
    "test_acc = []\n",
    "\n",
    "max_test = 0\n",
    "\n",
    "for e in trange(epochs, desc=\"Epoch\"):\n",
    "    \n",
    "    \n",
    "    \n",
    "    # ========================================\n",
    "    #               Training\n",
    "    # ========================================\n",
    "    # Perform one full pass over the training set.\n",
    "\n",
    "    # Put the model into training mode.\n",
    "    model.train()\n",
    "    # Reset the total loss for this epoch.\n",
    "    total_loss = 0\n",
    "\n",
    "    # Training loop\n",
    "    for step, batch in enumerate(train_dataloader):\n",
    "        # add batch to gpu\n",
    "        batch = tuple(t.to(device) for t in batch)\n",
    "        b_input_ids, b_input_mask, b_labels = batch\n",
    "        # Always clear any previously calculated gradients before performing a backward pass.\n",
    "        model.zero_grad()\n",
    "        # forward pass\n",
    "        # This will return the loss (rather than the model output)\n",
    "        # because we have provided the `labels`.\n",
    "        outputs = model(b_input_ids, token_type_ids=None,\n",
    "                        attention_mask=b_input_mask, labels=b_labels)\n",
    "        # get the loss\n",
    "        loss = outputs[0]\n",
    "        # Perform a backward pass to calculate the gradients.\n",
    "        loss.backward()\n",
    "        # track train loss\n",
    "        total_loss += loss.item()\n",
    "        # Clip the norm of the gradient\n",
    "        # This is to help prevent the \"exploding gradients\" problem.\n",
    "        torch.nn.utils.clip_grad_norm_(parameters=model.parameters(), max_norm=max_grad_norm)\n",
    "        # update parameters\n",
    "        optimizer.step()\n",
    "        # Update the learning rate.\n",
    "        scheduler.step()\n",
    "\n",
    "    # Calculate the average loss over the training data.\n",
    "    avg_train_loss = total_loss / len(train_dataloader)\n",
    "    print(\"\\nAverage train loss: {}\".format(avg_train_loss))\n",
    "\n",
    "    # Store the loss value for plotting the learning curve.\n",
    "    loss_values.append(avg_train_loss)\n",
    "\n",
    "\n",
    "    # ========================================\n",
    "    #               Validation\n",
    "    # ========================================\n",
    "    # After the completion of each training epoch, measure our performance on\n",
    "    # our validation set.\n",
    "\n",
    "    # Put the model into evaluation mode\n",
    "    model.eval()\n",
    "    # Reset the validation loss for this epoch.\n",
    "    eval_loss, eval_accuracy = 0, 0\n",
    "    nb_eval_steps, nb_eval_examples = 0, 0\n",
    "    predictions , true_labels = [], []\n",
    "    for batch in valid_dataloader:\n",
    "        batch = tuple(t.to(device) for t in batch)\n",
    "        b_input_ids, b_input_mask, b_labels = batch\n",
    "\n",
    "        # Telling the model not to compute or store gradients,\n",
    "        # saving memory and speeding up validation\n",
    "        with torch.no_grad():\n",
    "            # Forward pass, calculate logit predictions.\n",
    "            # This will return the logits rather than the loss because we have not provided labels.\n",
    "            outputs = model(b_input_ids, token_type_ids=None,\n",
    "                            attention_mask=b_input_mask, labels=b_labels)\n",
    "        # Move logits and labels to CPU\n",
    "        logits = outputs[1].detach().cpu().numpy()\n",
    "        label_ids = b_labels.to('cpu').numpy()\n",
    "\n",
    "        # Calculate the accuracy for this batch of test sentences.\n",
    "        eval_loss += outputs[0].mean().item()\n",
    "        predictions.extend([list(p) for p in np.argmax(logits, axis=2)])\n",
    "        true_labels.extend(label_ids)\n",
    "\n",
    "    eval_loss = eval_loss / len(valid_dataloader)\n",
    "    validation_loss_values.append(eval_loss)\n",
    "    print(\"\\nValidation loss: {}\".format(eval_loss))\n",
    "    pred_tags = [tag_values[p_i] for p, l in zip(predictions, true_labels)\n",
    "                                 for p_i, l_i in zip(p, l) if tag_values[l_i] != \"PAD\"]\n",
    "    valid_tags = [tag_values[l_i] for l in true_labels\n",
    "                                  for l_i in l if tag_values[l_i] != \"PAD\"]\n",
    "\n",
    "    print(\"Validation Accuracy: {}\".format(accuracy_score(pred_tags, valid_tags)))\n",
    "    #print(\"Validation F1-Score: {}\".format(f1_score(pred_tags, valid_tags)))\n",
    "    print()\n",
    "    a = acc()\n",
    "    test_acc.append(a)\n",
    "    if a * .99 >= max_test:\n",
    "        max_test = a\n",
    "        torch.save(model, \"test.ck\")\n",
    "    "
   ]
  },
  {
   "cell_type": "code",
   "execution_count": null,
   "metadata": {
    "colab": {
     "base_uri": "https://localhost:8080/",
     "height": 427
    },
    "id": "DY0dJeiF5Xao",
    "outputId": "ff5516fd-e7c1-4817-a764-1709cf212126"
   },
   "outputs": [],
   "source": [
    "# Use plot styling from seaborn.\n",
    "sns.set(style='darkgrid')\n",
    "\n",
    "# Increase the plot size and font size.\n",
    "sns.set(font_scale=1.5)\n",
    "plt.rcParams[\"figure.figsize\"] = (12,6)\n",
    "\n",
    "# Plot the learning curve.\n",
    "plt.plot(loss_values, 'b-o', label=\"training loss\")\n",
    "plt.plot(validation_loss_values, 'r-o', label=\"validation loss\")\n",
    "\n",
    "# Label the plot.\n",
    "plt.title(\"Learning curve\")\n",
    "plt.xlabel(\"Epoch\")\n",
    "plt.ylabel(\"Loss\")\n",
    "plt.legend()\n",
    "\n",
    "plt.show()"
   ]
  },
  {
   "cell_type": "markdown",
   "metadata": {
    "id": "cOYQWNFEJeHC"
   },
   "source": [
    "# Performance on test data"
   ]
  },
  {
   "cell_type": "code",
   "execution_count": null,
   "metadata": {
    "colab": {
     "base_uri": "https://localhost:8080/"
    },
    "id": "0B82QAERQMpJ",
    "outputId": "9874451d-4769-408a-d83c-72cbca107e97"
   },
   "outputs": [],
   "source": [
    "model = torch.load(\"test.ck\")\n",
    "model.eval()\n",
    "\n",
    "print(acc())"
   ]
  },
  {
   "cell_type": "code",
   "execution_count": null,
   "metadata": {
    "colab": {
     "base_uri": "https://localhost:8080/"
    },
    "id": "8WcmlxmjWXz2",
    "outputId": "77aade8e-a9ce-4e06-dfb7-2055864ddc57"
   },
   "outputs": [],
   "source": [
    "print(test_acc)"
   ]
  },
  {
   "cell_type": "code",
   "execution_count": null,
   "metadata": {},
   "outputs": [],
   "source": [
    "sns.set(style='darkgrid')\n",
    "\n",
    "# Increase the plot size and font size.\n",
    "sns.set(font_scale=1.5)\n",
    "plt.rcParams[\"figure.figsize\"] = (12,6)\n",
    "\n",
    "# Plot the learning curve.\n",
    "plt.plot(test_acc, 'b-o', label=\"test accuracy\")\n",
    "\n",
    "\n",
    "# Label the plot.\n",
    "plt.title(\"\")\n",
    "plt.xlabel(\"Epoch\")\n",
    "plt.ylabel(\"Test Accuracy\")\n",
    "plt.legend()\n",
    "\n",
    "plt.show()"
   ]
  },
  {
   "cell_type": "code",
   "execution_count": null,
   "metadata": {},
   "outputs": [],
   "source": [
    "acc()\n"
   ]
  },
  {
   "cell_type": "markdown",
   "metadata": {},
   "source": []
  },
  {
   "cell_type": "code",
   "execution_count": null,
   "metadata": {},
   "outputs": [],
   "source": [
    "sentences, labels = processor(splitter2, labeler2)\n",
    "\n",
    "acc()"
   ]
  },
  {
   "cell_type": "code",
   "execution_count": null,
   "metadata": {},
   "outputs": [],
   "source": []
  }
 ],
 "metadata": {
  "accelerator": "GPU",
  "colab": {
   "collapsed_sections": [
    "NZDhhU5ZP1oC",
    "ePokOkwMP9rm",
    "RitZN9B6RdGR",
    "oE4OVxV1LLH1",
    "fIlayjaxK1ac",
    "POhQTWIpJwlb",
    "cOYQWNFEJeHC"
   ],
   "name": "NER.ipynb",
   "provenance": []
  },
  "kernelspec": {
   "display_name": "Python 3 (ipykernel)",
   "language": "python",
   "name": "python3"
  },
  "language_info": {
   "codemirror_mode": {
    "name": "ipython",
    "version": 3
   },
   "file_extension": ".py",
   "mimetype": "text/x-python",
   "name": "python",
   "nbconvert_exporter": "python",
   "pygments_lexer": "ipython3",
   "version": "3.8.16"
  },
  "widgets": {
   "application/vnd.jupyter.widget-state+json": {
    "04bec66c474c43b2abf55df9493c1ad3": {
     "model_module": "@jupyter-widgets/controls",
     "model_name": "FloatProgressModel",
     "state": {
      "_dom_classes": [],
      "_model_module": "@jupyter-widgets/controls",
      "_model_module_version": "1.5.0",
      "_model_name": "FloatProgressModel",
      "_view_count": null,
      "_view_module": "@jupyter-widgets/controls",
      "_view_module_version": "1.5.0",
      "_view_name": "ProgressView",
      "bar_style": "success",
      "description": "Downloading: 100%",
      "description_tooltip": null,
      "layout": "IPY_MODEL_0aa2f68932aa46e08d79b503cdb066d5",
      "max": 440,
      "min": 0,
      "orientation": "horizontal",
      "style": "IPY_MODEL_153c7c4195394cd987cd27224c076792",
      "value": 440
     }
    },
    "0aa2f68932aa46e08d79b503cdb066d5": {
     "model_module": "@jupyter-widgets/base",
     "model_name": "LayoutModel",
     "state": {
      "_model_module": "@jupyter-widgets/base",
      "_model_module_version": "1.2.0",
      "_model_name": "LayoutModel",
      "_view_count": null,
      "_view_module": "@jupyter-widgets/base",
      "_view_module_version": "1.2.0",
      "_view_name": "LayoutView",
      "align_content": null,
      "align_items": null,
      "align_self": null,
      "border": null,
      "bottom": null,
      "display": null,
      "flex": null,
      "flex_flow": null,
      "grid_area": null,
      "grid_auto_columns": null,
      "grid_auto_flow": null,
      "grid_auto_rows": null,
      "grid_column": null,
      "grid_gap": null,
      "grid_row": null,
      "grid_template_areas": null,
      "grid_template_columns": null,
      "grid_template_rows": null,
      "height": null,
      "justify_content": null,
      "justify_items": null,
      "left": null,
      "margin": null,
      "max_height": null,
      "max_width": null,
      "min_height": null,
      "min_width": null,
      "object_fit": null,
      "object_position": null,
      "order": null,
      "overflow": null,
      "overflow_x": null,
      "overflow_y": null,
      "padding": null,
      "right": null,
      "top": null,
      "visibility": null,
      "width": null
     }
    },
    "0e77fed9e8004154922761880363a58f": {
     "model_module": "@jupyter-widgets/controls",
     "model_name": "ProgressStyleModel",
     "state": {
      "_model_module": "@jupyter-widgets/controls",
      "_model_module_version": "1.5.0",
      "_model_name": "ProgressStyleModel",
      "_view_count": null,
      "_view_module": "@jupyter-widgets/base",
      "_view_module_version": "1.2.0",
      "_view_name": "StyleView",
      "bar_color": null,
      "description_width": "initial"
     }
    },
    "153c7c4195394cd987cd27224c076792": {
     "model_module": "@jupyter-widgets/controls",
     "model_name": "ProgressStyleModel",
     "state": {
      "_model_module": "@jupyter-widgets/controls",
      "_model_module_version": "1.5.0",
      "_model_name": "ProgressStyleModel",
      "_view_count": null,
      "_view_module": "@jupyter-widgets/base",
      "_view_module_version": "1.2.0",
      "_view_name": "StyleView",
      "bar_color": null,
      "description_width": "initial"
     }
    },
    "185d34a6bb6b4439814040da0f2853dc": {
     "model_module": "@jupyter-widgets/controls",
     "model_name": "HBoxModel",
     "state": {
      "_dom_classes": [],
      "_model_module": "@jupyter-widgets/controls",
      "_model_module_version": "1.5.0",
      "_model_name": "HBoxModel",
      "_view_count": null,
      "_view_module": "@jupyter-widgets/controls",
      "_view_module_version": "1.5.0",
      "_view_name": "HBoxView",
      "box_style": "",
      "children": [
       "IPY_MODEL_04bec66c474c43b2abf55df9493c1ad3",
       "IPY_MODEL_28c5ada5e413494d875958479bce1bf8"
      ],
      "layout": "IPY_MODEL_c1cd492626094c28a241545b0fd13a58"
     }
    },
    "2042a2bd748246de8e33be4c188715ca": {
     "model_module": "@jupyter-widgets/controls",
     "model_name": "FloatProgressModel",
     "state": {
      "_dom_classes": [],
      "_model_module": "@jupyter-widgets/controls",
      "_model_module_version": "1.5.0",
      "_model_name": "FloatProgressModel",
      "_view_count": null,
      "_view_module": "@jupyter-widgets/controls",
      "_view_module_version": "1.5.0",
      "_view_name": "ProgressView",
      "bar_style": "success",
      "description": "Downloading: 100%",
      "description_tooltip": null,
      "layout": "IPY_MODEL_d1144a9b389f47df90b5c127031bfd3a",
      "max": 1198122,
      "min": 0,
      "orientation": "horizontal",
      "style": "IPY_MODEL_b14647f6aae14ecc8a519df754f03037",
      "value": 1198122
     }
    },
    "28c5ada5e413494d875958479bce1bf8": {
     "model_module": "@jupyter-widgets/controls",
     "model_name": "HTMLModel",
     "state": {
      "_dom_classes": [],
      "_model_module": "@jupyter-widgets/controls",
      "_model_module_version": "1.5.0",
      "_model_name": "HTMLModel",
      "_view_count": null,
      "_view_module": "@jupyter-widgets/controls",
      "_view_module_version": "1.5.0",
      "_view_name": "HTMLView",
      "description": "",
      "description_tooltip": null,
      "layout": "IPY_MODEL_a21058481d204b6a98739c21527b9b53",
      "placeholder": "​",
      "style": "IPY_MODEL_e8ccc221de014f9589d4c01db1576bee",
      "value": " 440/440 [00:00&lt;00:00, 734B/s]"
     }
    },
    "339741a64cde4ae781225b14a9c2cb76": {
     "model_module": "@jupyter-widgets/base",
     "model_name": "LayoutModel",
     "state": {
      "_model_module": "@jupyter-widgets/base",
      "_model_module_version": "1.2.0",
      "_model_name": "LayoutModel",
      "_view_count": null,
      "_view_module": "@jupyter-widgets/base",
      "_view_module_version": "1.2.0",
      "_view_name": "LayoutView",
      "align_content": null,
      "align_items": null,
      "align_self": null,
      "border": null,
      "bottom": null,
      "display": null,
      "flex": null,
      "flex_flow": null,
      "grid_area": null,
      "grid_auto_columns": null,
      "grid_auto_flow": null,
      "grid_auto_rows": null,
      "grid_column": null,
      "grid_gap": null,
      "grid_row": null,
      "grid_template_areas": null,
      "grid_template_columns": null,
      "grid_template_rows": null,
      "height": null,
      "justify_content": null,
      "justify_items": null,
      "left": null,
      "margin": null,
      "max_height": null,
      "max_width": null,
      "min_height": null,
      "min_width": null,
      "object_fit": null,
      "object_position": null,
      "order": null,
      "overflow": null,
      "overflow_x": null,
      "overflow_y": null,
      "padding": null,
      "right": null,
      "top": null,
      "visibility": null,
      "width": null
     }
    },
    "3a57498cc92f475289ed438778ad901a": {
     "model_module": "@jupyter-widgets/controls",
     "model_name": "HBoxModel",
     "state": {
      "_dom_classes": [],
      "_model_module": "@jupyter-widgets/controls",
      "_model_module_version": "1.5.0",
      "_model_name": "HBoxModel",
      "_view_count": null,
      "_view_module": "@jupyter-widgets/controls",
      "_view_module_version": "1.5.0",
      "_view_name": "HBoxView",
      "box_style": "",
      "children": [
       "IPY_MODEL_53b2be4adc4e42879082de9dc5e7e288",
       "IPY_MODEL_93df6238747f46a687b94eaa17a756f2"
      ],
      "layout": "IPY_MODEL_339741a64cde4ae781225b14a9c2cb76"
     }
    },
    "53b2be4adc4e42879082de9dc5e7e288": {
     "model_module": "@jupyter-widgets/controls",
     "model_name": "FloatProgressModel",
     "state": {
      "_dom_classes": [],
      "_model_module": "@jupyter-widgets/controls",
      "_model_module_version": "1.5.0",
      "_model_name": "FloatProgressModel",
      "_view_count": null,
      "_view_module": "@jupyter-widgets/controls",
      "_view_module_version": "1.5.0",
      "_view_name": "ProgressView",
      "bar_style": "success",
      "description": "Downloading: 100%",
      "description_tooltip": null,
      "layout": "IPY_MODEL_e51c5802ddc848b68a80aa74f8ac7c81",
      "max": 654226731,
      "min": 0,
      "orientation": "horizontal",
      "style": "IPY_MODEL_0e77fed9e8004154922761880363a58f",
      "value": 654226731
     }
    },
    "5cd5dba2aea04e8ab8f4d6571e1d8ad7": {
     "model_module": "@jupyter-widgets/controls",
     "model_name": "DescriptionStyleModel",
     "state": {
      "_model_module": "@jupyter-widgets/controls",
      "_model_module_version": "1.5.0",
      "_model_name": "DescriptionStyleModel",
      "_view_count": null,
      "_view_module": "@jupyter-widgets/base",
      "_view_module_version": "1.2.0",
      "_view_name": "StyleView",
      "description_width": ""
     }
    },
    "79e1052f1ce14de09b93b29f36fcdf26": {
     "model_module": "@jupyter-widgets/controls",
     "model_name": "HTMLModel",
     "state": {
      "_dom_classes": [],
      "_model_module": "@jupyter-widgets/controls",
      "_model_module_version": "1.5.0",
      "_model_name": "HTMLModel",
      "_view_count": null,
      "_view_module": "@jupyter-widgets/controls",
      "_view_module_version": "1.5.0",
      "_view_name": "HTMLView",
      "description": "",
      "description_tooltip": null,
      "layout": "IPY_MODEL_f8753b1167d24669982f270213629a70",
      "placeholder": "​",
      "style": "IPY_MODEL_5cd5dba2aea04e8ab8f4d6571e1d8ad7",
      "value": " 1.20M/1.20M [00:03&lt;00:00, 353kB/s]"
     }
    },
    "8c7006c2c348458d881cd0f82191e03c": {
     "model_module": "@jupyter-widgets/base",
     "model_name": "LayoutModel",
     "state": {
      "_model_module": "@jupyter-widgets/base",
      "_model_module_version": "1.2.0",
      "_model_name": "LayoutModel",
      "_view_count": null,
      "_view_module": "@jupyter-widgets/base",
      "_view_module_version": "1.2.0",
      "_view_name": "LayoutView",
      "align_content": null,
      "align_items": null,
      "align_self": null,
      "border": null,
      "bottom": null,
      "display": null,
      "flex": null,
      "flex_flow": null,
      "grid_area": null,
      "grid_auto_columns": null,
      "grid_auto_flow": null,
      "grid_auto_rows": null,
      "grid_column": null,
      "grid_gap": null,
      "grid_row": null,
      "grid_template_areas": null,
      "grid_template_columns": null,
      "grid_template_rows": null,
      "height": null,
      "justify_content": null,
      "justify_items": null,
      "left": null,
      "margin": null,
      "max_height": null,
      "max_width": null,
      "min_height": null,
      "min_width": null,
      "object_fit": null,
      "object_position": null,
      "order": null,
      "overflow": null,
      "overflow_x": null,
      "overflow_y": null,
      "padding": null,
      "right": null,
      "top": null,
      "visibility": null,
      "width": null
     }
    },
    "90bfea074fb74029988d843be156887d": {
     "model_module": "@jupyter-widgets/controls",
     "model_name": "HBoxModel",
     "state": {
      "_dom_classes": [],
      "_model_module": "@jupyter-widgets/controls",
      "_model_module_version": "1.5.0",
      "_model_name": "HBoxModel",
      "_view_count": null,
      "_view_module": "@jupyter-widgets/controls",
      "_view_module_version": "1.5.0",
      "_view_name": "HBoxView",
      "box_style": "",
      "children": [
       "IPY_MODEL_2042a2bd748246de8e33be4c188715ca",
       "IPY_MODEL_79e1052f1ce14de09b93b29f36fcdf26"
      ],
      "layout": "IPY_MODEL_a73c84059bc649f8b21c25f32662de32"
     }
    },
    "93df6238747f46a687b94eaa17a756f2": {
     "model_module": "@jupyter-widgets/controls",
     "model_name": "HTMLModel",
     "state": {
      "_dom_classes": [],
      "_model_module": "@jupyter-widgets/controls",
      "_model_module_version": "1.5.0",
      "_model_name": "HTMLModel",
      "_view_count": null,
      "_view_module": "@jupyter-widgets/controls",
      "_view_module_version": "1.5.0",
      "_view_name": "HTMLView",
      "description": "",
      "description_tooltip": null,
      "layout": "IPY_MODEL_8c7006c2c348458d881cd0f82191e03c",
      "placeholder": "​",
      "style": "IPY_MODEL_cf5ab30e45634ad8834f8ba8130e11ad",
      "value": " 654M/654M [00:19&lt;00:00, 34.4MB/s]"
     }
    },
    "a21058481d204b6a98739c21527b9b53": {
     "model_module": "@jupyter-widgets/base",
     "model_name": "LayoutModel",
     "state": {
      "_model_module": "@jupyter-widgets/base",
      "_model_module_version": "1.2.0",
      "_model_name": "LayoutModel",
      "_view_count": null,
      "_view_module": "@jupyter-widgets/base",
      "_view_module_version": "1.2.0",
      "_view_name": "LayoutView",
      "align_content": null,
      "align_items": null,
      "align_self": null,
      "border": null,
      "bottom": null,
      "display": null,
      "flex": null,
      "flex_flow": null,
      "grid_area": null,
      "grid_auto_columns": null,
      "grid_auto_flow": null,
      "grid_auto_rows": null,
      "grid_column": null,
      "grid_gap": null,
      "grid_row": null,
      "grid_template_areas": null,
      "grid_template_columns": null,
      "grid_template_rows": null,
      "height": null,
      "justify_content": null,
      "justify_items": null,
      "left": null,
      "margin": null,
      "max_height": null,
      "max_width": null,
      "min_height": null,
      "min_width": null,
      "object_fit": null,
      "object_position": null,
      "order": null,
      "overflow": null,
      "overflow_x": null,
      "overflow_y": null,
      "padding": null,
      "right": null,
      "top": null,
      "visibility": null,
      "width": null
     }
    },
    "a73c84059bc649f8b21c25f32662de32": {
     "model_module": "@jupyter-widgets/base",
     "model_name": "LayoutModel",
     "state": {
      "_model_module": "@jupyter-widgets/base",
      "_model_module_version": "1.2.0",
      "_model_name": "LayoutModel",
      "_view_count": null,
      "_view_module": "@jupyter-widgets/base",
      "_view_module_version": "1.2.0",
      "_view_name": "LayoutView",
      "align_content": null,
      "align_items": null,
      "align_self": null,
      "border": null,
      "bottom": null,
      "display": null,
      "flex": null,
      "flex_flow": null,
      "grid_area": null,
      "grid_auto_columns": null,
      "grid_auto_flow": null,
      "grid_auto_rows": null,
      "grid_column": null,
      "grid_gap": null,
      "grid_row": null,
      "grid_template_areas": null,
      "grid_template_columns": null,
      "grid_template_rows": null,
      "height": null,
      "justify_content": null,
      "justify_items": null,
      "left": null,
      "margin": null,
      "max_height": null,
      "max_width": null,
      "min_height": null,
      "min_width": null,
      "object_fit": null,
      "object_position": null,
      "order": null,
      "overflow": null,
      "overflow_x": null,
      "overflow_y": null,
      "padding": null,
      "right": null,
      "top": null,
      "visibility": null,
      "width": null
     }
    },
    "b14647f6aae14ecc8a519df754f03037": {
     "model_module": "@jupyter-widgets/controls",
     "model_name": "ProgressStyleModel",
     "state": {
      "_model_module": "@jupyter-widgets/controls",
      "_model_module_version": "1.5.0",
      "_model_name": "ProgressStyleModel",
      "_view_count": null,
      "_view_module": "@jupyter-widgets/base",
      "_view_module_version": "1.2.0",
      "_view_name": "StyleView",
      "bar_color": null,
      "description_width": "initial"
     }
    },
    "c1cd492626094c28a241545b0fd13a58": {
     "model_module": "@jupyter-widgets/base",
     "model_name": "LayoutModel",
     "state": {
      "_model_module": "@jupyter-widgets/base",
      "_model_module_version": "1.2.0",
      "_model_name": "LayoutModel",
      "_view_count": null,
      "_view_module": "@jupyter-widgets/base",
      "_view_module_version": "1.2.0",
      "_view_name": "LayoutView",
      "align_content": null,
      "align_items": null,
      "align_self": null,
      "border": null,
      "bottom": null,
      "display": null,
      "flex": null,
      "flex_flow": null,
      "grid_area": null,
      "grid_auto_columns": null,
      "grid_auto_flow": null,
      "grid_auto_rows": null,
      "grid_column": null,
      "grid_gap": null,
      "grid_row": null,
      "grid_template_areas": null,
      "grid_template_columns": null,
      "grid_template_rows": null,
      "height": null,
      "justify_content": null,
      "justify_items": null,
      "left": null,
      "margin": null,
      "max_height": null,
      "max_width": null,
      "min_height": null,
      "min_width": null,
      "object_fit": null,
      "object_position": null,
      "order": null,
      "overflow": null,
      "overflow_x": null,
      "overflow_y": null,
      "padding": null,
      "right": null,
      "top": null,
      "visibility": null,
      "width": null
     }
    },
    "cf5ab30e45634ad8834f8ba8130e11ad": {
     "model_module": "@jupyter-widgets/controls",
     "model_name": "DescriptionStyleModel",
     "state": {
      "_model_module": "@jupyter-widgets/controls",
      "_model_module_version": "1.5.0",
      "_model_name": "DescriptionStyleModel",
      "_view_count": null,
      "_view_module": "@jupyter-widgets/base",
      "_view_module_version": "1.2.0",
      "_view_name": "StyleView",
      "description_width": ""
     }
    },
    "d1144a9b389f47df90b5c127031bfd3a": {
     "model_module": "@jupyter-widgets/base",
     "model_name": "LayoutModel",
     "state": {
      "_model_module": "@jupyter-widgets/base",
      "_model_module_version": "1.2.0",
      "_model_name": "LayoutModel",
      "_view_count": null,
      "_view_module": "@jupyter-widgets/base",
      "_view_module_version": "1.2.0",
      "_view_name": "LayoutView",
      "align_content": null,
      "align_items": null,
      "align_self": null,
      "border": null,
      "bottom": null,
      "display": null,
      "flex": null,
      "flex_flow": null,
      "grid_area": null,
      "grid_auto_columns": null,
      "grid_auto_flow": null,
      "grid_auto_rows": null,
      "grid_column": null,
      "grid_gap": null,
      "grid_row": null,
      "grid_template_areas": null,
      "grid_template_columns": null,
      "grid_template_rows": null,
      "height": null,
      "justify_content": null,
      "justify_items": null,
      "left": null,
      "margin": null,
      "max_height": null,
      "max_width": null,
      "min_height": null,
      "min_width": null,
      "object_fit": null,
      "object_position": null,
      "order": null,
      "overflow": null,
      "overflow_x": null,
      "overflow_y": null,
      "padding": null,
      "right": null,
      "top": null,
      "visibility": null,
      "width": null
     }
    },
    "e51c5802ddc848b68a80aa74f8ac7c81": {
     "model_module": "@jupyter-widgets/base",
     "model_name": "LayoutModel",
     "state": {
      "_model_module": "@jupyter-widgets/base",
      "_model_module_version": "1.2.0",
      "_model_name": "LayoutModel",
      "_view_count": null,
      "_view_module": "@jupyter-widgets/base",
      "_view_module_version": "1.2.0",
      "_view_name": "LayoutView",
      "align_content": null,
      "align_items": null,
      "align_self": null,
      "border": null,
      "bottom": null,
      "display": null,
      "flex": null,
      "flex_flow": null,
      "grid_area": null,
      "grid_auto_columns": null,
      "grid_auto_flow": null,
      "grid_auto_rows": null,
      "grid_column": null,
      "grid_gap": null,
      "grid_row": null,
      "grid_template_areas": null,
      "grid_template_columns": null,
      "grid_template_rows": null,
      "height": null,
      "justify_content": null,
      "justify_items": null,
      "left": null,
      "margin": null,
      "max_height": null,
      "max_width": null,
      "min_height": null,
      "min_width": null,
      "object_fit": null,
      "object_position": null,
      "order": null,
      "overflow": null,
      "overflow_x": null,
      "overflow_y": null,
      "padding": null,
      "right": null,
      "top": null,
      "visibility": null,
      "width": null
     }
    },
    "e8ccc221de014f9589d4c01db1576bee": {
     "model_module": "@jupyter-widgets/controls",
     "model_name": "DescriptionStyleModel",
     "state": {
      "_model_module": "@jupyter-widgets/controls",
      "_model_module_version": "1.5.0",
      "_model_name": "DescriptionStyleModel",
      "_view_count": null,
      "_view_module": "@jupyter-widgets/base",
      "_view_module_version": "1.2.0",
      "_view_name": "StyleView",
      "description_width": ""
     }
    },
    "f8753b1167d24669982f270213629a70": {
     "model_module": "@jupyter-widgets/base",
     "model_name": "LayoutModel",
     "state": {
      "_model_module": "@jupyter-widgets/base",
      "_model_module_version": "1.2.0",
      "_model_name": "LayoutModel",
      "_view_count": null,
      "_view_module": "@jupyter-widgets/base",
      "_view_module_version": "1.2.0",
      "_view_name": "LayoutView",
      "align_content": null,
      "align_items": null,
      "align_self": null,
      "border": null,
      "bottom": null,
      "display": null,
      "flex": null,
      "flex_flow": null,
      "grid_area": null,
      "grid_auto_columns": null,
      "grid_auto_flow": null,
      "grid_auto_rows": null,
      "grid_column": null,
      "grid_gap": null,
      "grid_row": null,
      "grid_template_areas": null,
      "grid_template_columns": null,
      "grid_template_rows": null,
      "height": null,
      "justify_content": null,
      "justify_items": null,
      "left": null,
      "margin": null,
      "max_height": null,
      "max_width": null,
      "min_height": null,
      "min_width": null,
      "object_fit": null,
      "object_position": null,
      "order": null,
      "overflow": null,
      "overflow_x": null,
      "overflow_y": null,
      "padding": null,
      "right": null,
      "top": null,
      "visibility": null,
      "width": null
     }
    }
   }
  }
 },
 "nbformat": 4,
 "nbformat_minor": 1
}
