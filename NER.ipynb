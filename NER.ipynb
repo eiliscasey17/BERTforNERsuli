{
 "cells": [
  {
   "cell_type": "markdown",
   "metadata": {
    "id": "ePokOkwMP9rm"
   },
   "source": [
    "# Install and import libraries"
   ]
  },
  {
   "cell_type": "code",
   "execution_count": 1,
   "metadata": {
    "id": "huXbO1hpiBfz"
   },
   "outputs": [
    {
     "name": "stderr",
     "output_type": "stream",
     "text": [
      "2023-06-28 15:01:58.436053: I tensorflow/core/platform/cpu_feature_guard.cc:182] This TensorFlow binary is optimized to use available CPU instructions in performance-critical operations.\n",
      "To enable the following instructions: AVX2 AVX512F FMA, in other operations, rebuild TensorFlow with the appropriate compiler flags.\n",
      "2023-06-28 15:01:58.957681: W tensorflow/compiler/tf2tensorrt/utils/py_utils.cc:38] TF-TRT Warning: Could not find TensorRT\n"
     ]
    }
   ],
   "source": [
    "import pandas as pd\n",
    "import numpy as np\n",
    "from tqdm import tqdm, trange\n",
    "import csv\n",
    "import matplotlib.pyplot as plt\n",
    "%matplotlib inline\n",
    "import seaborn as sns\n",
    "import statistics\n",
    "\n",
    "import torch\n",
    "from torch.utils.data import TensorDataset, DataLoader, RandomSampler, SequentialSampler\n",
    "from transformers import BertTokenizer, BertConfig\n",
    "\n",
    "from keras_preprocessing.sequence import pad_sequences\n",
    "from sklearn.model_selection import train_test_split\n",
    "\n",
    "import transformers\n",
    "from transformers import BertForTokenClassification, AdamW\n",
    "from transformers import get_linear_schedule_with_warmup\n",
    "\n",
    "from seqeval.metrics import f1_score, accuracy_score"
   ]
  },
  {
   "cell_type": "markdown",
   "metadata": {
    "id": "RitZN9B6RdGR"
   },
   "source": [
    "# Check GPU availability"
   ]
  },
  {
   "cell_type": "code",
   "execution_count": 2,
   "metadata": {
    "colab": {
     "base_uri": "https://localhost:8080/",
     "height": 35
    },
    "id": "bqXRG3DM10am",
    "outputId": "a09e99a5-a6f5-4a23-9e70-91b450061ee6"
   },
   "outputs": [
    {
     "data": {
      "text/plain": [
       "'NVIDIA GeForce RTX 2080 Ti'"
      ]
     },
     "execution_count": 2,
     "metadata": {},
     "output_type": "execute_result"
    }
   ],
   "source": [
    "device = torch.device(\"cuda\" if torch.cuda.is_available() else \"cpu\")\n",
    "n_gpu = torch.cuda.device_count()\n",
    "\n",
    "torch.cuda.get_device_name(0)"
   ]
  },
  {
   "cell_type": "markdown",
   "metadata": {
    "id": "oE4OVxV1LLH1"
   },
   "source": [
    "# **Preprocessing data**"
   ]
  },
  {
   "cell_type": "code",
   "execution_count": 3,
   "metadata": {
    "colab": {
     "base_uri": "https://localhost:8080/"
    },
    "id": "UwdutbL7A3zt",
    "outputId": "e1f76707-19c3-47d3-db09-4705663a4702",
    "scrolled": false
   },
   "outputs": [
    {
     "name": "stdout",
     "output_type": "stream",
     "text": [
      "[{'label': 6, 'start_offset': 17, 'end_offset': 28, 'user': 1, 'created_at': '2023-06-14T14:36:46.643706Z', 'updated_at': '2023-06-14T14:36:46.643737Z'}, {'label': 2, 'start_offset': 89, 'end_offset': 91, 'user': 1, 'created_at': '2023-06-14T14:37:01.615695Z', 'updated_at': '2023-06-26T13:46:16.108486Z'}, {'label': 6, 'start_offset': 247, 'end_offset': 258, 'user': 1, 'created_at': '2023-06-14T14:37:39.635439Z', 'updated_at': '2023-06-14T14:37:39.635488Z'}, {'label': 3, 'start_offset': 461, 'end_offset': 475, 'user': 1, 'created_at': '2023-06-14T14:38:01.779370Z', 'updated_at': '2023-06-14T14:38:01.779403Z'}, {'label': 1, 'start_offset': 477, 'end_offset': 481, 'user': 1, 'created_at': '2023-06-14T14:38:12.949077Z', 'updated_at': '2023-06-26T14:45:46.411185Z'}, {'label': 2, 'start_offset': 498, 'end_offset': 500, 'user': 1, 'created_at': '2023-06-14T14:39:21.688854Z', 'updated_at': '2023-06-26T13:46:09.687470Z'}, {'label': 6, 'start_offset': 540, 'end_offset': 551, 'user': 1, 'created_at': '2023-06-14T14:39:34.338738Z', 'updated_at': '2023-06-14T14:39:34.338768Z'}, {'label': 3, 'start_offset': 573, 'end_offset': 580, 'user': 1, 'created_at': '2023-06-14T14:39:42.590250Z', 'updated_at': '2023-06-14T14:39:42.590279Z'}, {'label': 3, 'start_offset': 608, 'end_offset': 615, 'user': 1, 'created_at': '2023-06-14T14:39:47.557756Z', 'updated_at': '2023-06-14T14:39:47.557783Z'}, {'label': 1, 'start_offset': 375, 'end_offset': 379, 'user': 1, 'created_at': '2023-06-14T14:39:54.769686Z', 'updated_at': '2023-06-26T14:45:43.762086Z'}, {'label': 1, 'start_offset': 328, 'end_offset': 332, 'user': 1, 'created_at': '2023-06-14T14:39:59.229334Z', 'updated_at': '2023-06-26T14:45:45.181608Z'}, {'label': 1, 'start_offset': 133, 'end_offset': 137, 'user': 1, 'created_at': '2023-06-26T14:45:06.175675Z', 'updated_at': '2023-06-26T14:45:42.647564Z'}, {'label': 1, 'start_offset': 116, 'end_offset': 131, 'user': 1, 'created_at': '2023-06-26T14:45:08.822924Z', 'updated_at': '2023-06-26T14:45:41.470871Z'}]\n",
      "The influence of γ-radiation on the physical characteristics and sorption properties for Am of the solid extractant AXIONIT MND 40T (TVEX) synthesized by Axion-Rare and Noble Metals JSC (Perm) was studied. With an increase of the absorbed dose of γ-radiation, the granulometric composition, bulk density, and specific volume of TVEX change insignificantly. The IR spectra of TVEX demonstrate significant radiation degradation at an absorbed radiation dose from 1.4 to 2.5 MGy. TVEX is an effective Am sorbent when irradiated to an absorbed γ-radiation dose of no more than 0.6 MGy. At an irradiation dose of 2.5 MGy sorption capacity is significantly reduced.\n",
      "17\n"
     ]
    }
   ],
   "source": [
    "# Reading data\n",
    "import json\n",
    "\n",
    "\n",
    "#open the file, and format correctly\n",
    "f =open('dataset.jsonl', 'r')\n",
    "helpme = json.dumps(f.readlines(), indent=4)\n",
    "f.close()\n",
    "\n",
    "#save better format into file\n",
    "p = open('sample.txt', 'w')\n",
    "for i in helpme:\n",
    "    p.write(i)\n",
    "p.close()\n",
    "\n",
    "#open new file, and save each \n",
    "j = open('sample.txt', 'r')\n",
    "parsed = json.loads(j.read())\n",
    "j.close()\n",
    "\n",
    "#compile all json dicts into a list\n",
    "temp = []\n",
    "for i in parsed:\n",
    "    parse = json.loads(str(i))\n",
    "    temp.append(parse)\n",
    "    \n",
    "\n",
    "\n",
    "#test it\n",
    "print(temp[0]['annotations'])\n",
    "print(temp[0]['text'])\n",
    "print(temp[0]['annotations'][0]['start_offset'])"
   ]
  },
  {
   "cell_type": "code",
   "execution_count": 4,
   "metadata": {},
   "outputs": [
    {
     "name": "stdout",
     "output_type": "stream",
     "text": [
      "\n",
      "[['The', '0'], ['influence', '0'], ['of', '0'], ['γ-radiation', 'R'], ['on', '0'], ['the', '0'], ['physical', '0'], ['characteristics', '0'], ['and', '0'], ['sorption', '0'], ['properties', '0'], ['for', '0'], ['Am', 'M'], ['of', '0'], ['the', '0'], ['solid', '0'], ['extractant', '0'], ['AXIONIT', '0'], ['MND', '0'], ['40T', '0'], ['(TVEX)', '0'], ['synthesized', '0'], ['by', '0'], ['Axion-Rare', '0'], ['and', '0'], ['Noble', '0'], ['Metals', '0'], ['JSC', '0'], ['(Perm)', '0'], ['was', '0'], ['studied.', '0'], ['With', '0'], ['an', '0'], ['increase', '0'], ['of', '0'], ['the', '0'], ['absorbed', '0'], ['dose', '0'], ['of', '0'], ['γ-radiation,', 'R'], ['the', '0'], ['granulometric', '0'], ['composition,', '0'], ['bulk', '0'], ['density,', '0'], ['and', '0'], ['specific', '0'], ['volume', '0'], ['of', '0'], ['TVEX', '0'], ['change', '0'], ['insignificantly.', '0'], ['The', '0'], ['IR', '0'], ['spectra', '0'], ['of', '0'], ['TVEX', '0'], ['demonstrate', '0'], ['significant', '0'], ['radiation', '0'], ['degradation', '0'], ['at', '0'], ['an', '0'], ['absorbed', '0'], ['radiation', '0'], ['dose', '0'], ['from', '0'], ['1.4', 'Q'], ['to', 'Q-cont'], ['2.5', 'Q-cont'], ['MGy.', 'Q-cont'], ['TVEX', '0'], ['is', '0'], ['an', '0'], ['effective', '0'], ['Am', 'M'], ['sorbent', '0'], ['when', '0'], ['irradiated', '0'], ['to', '0'], ['an', '0'], ['absorbed', '0'], ['γ-radiation', 'R'], ['dose', '0'], ['of', '0'], ['no', '0'], ['more', '0'], ['than', '0'], ['0.6', 'Q'], ['MGy.', 'Q-cont'], ['At', '0'], ['an', '0'], ['irradiation', '0'], ['dose', '0'], ['of', '0'], ['2.5', 'Q'], ['MGy', 'Q-cont'], ['sorption', '0'], ['capacity', '0'], ['is', '0'], ['significantly', '0'], ['reduced.', '0']]\n",
      "['0', '0', '0', 'R', '0', '0', '0', '0', '0', '0', '0', '0', 'M', '0', '0', '0', '0', '0', '0', '0', '0', '0', '0', '0', '0', '0', '0', '0', '0', '0', '0', '0', '0', '0', '0', '0', '0', '0', '0', 'R', '0', '0', '0', '0', '0', '0', '0', '0', '0', '0', '0', '0', '0', '0', '0', '0', '0', '0', '0', '0', '0', '0', '0', '0', '0', '0', '0', 'Q', 'Q', 'Q', 'Q', '0', '0', '0', '0', 'M', '0', '0', '0', '0', '0', '0', 'R', '0', '0', '0', '0', '0', 'Q', 'Q', '0', '0', '0', '0', '0', 'Q', 'Q', '0', '0', '0', '0', '0']\n",
      "\n",
      "\n",
      "[['Basic', '0'], ['physicochemical', '0'], ['properties', '0'], ['of', '0'], ['the', '0'], ['TVEX', 'C'], ['sample', '0'], ['used', '0'], ['in', '0'], ['the', '0'], ['work', '0'], ['are', '0'], ['given', '0'], ['in', '0'], ['Table', '0'], ['1.', '0'], ['TVEX', 'C'], ['was', '0'], ['synthesized', '0'], ['by', '0'], ['copolymerization', '0'], ['of', '0'], ['styrene', '0'], ['with', '0'], ['divinylbenzene', '0'], ['in', '0'], ['the', '0'], ['presence', '0'], ['of', '0'], ['the', '0'], ['active', '0'], ['component', '0'], ['(extractant)', '0'], ['N,N,Nꞌ,Nꞌ-tetra-n-octylamide', 'A'], ['diglycolic', 'A-cont'], ['acid', 'A-cont'], ['(40', '0'], ['wt%)', 'Q-cont'], ['and', '0'], ['solvent.', '0']]\n",
      "['0', '0', '0', '0', '0', 'C', '0', '0', '0', '0', '0', '0', '0', '0', '0', '0', 'C', '0', '0', '0', '0', '0', '0', '0', '0', '0', '0', '0', '0', '0', '0', '0', '0', 'A', 'A', 'A', '0', 'Q', '0', '0']\n",
      "\n",
      "\n",
      "[['Before', '0'], ['irradiation,', '0'], ['TVEX', 'C'], ['samples', '0'], ['were', '0'], ['kept', '0'], ['in', '0'], ['distilled', 'C'], ['water', 'C-cont'], ['until', '0'], ['complete', '0'], ['swelling', '0'], ['and', '0'], ['then', '0'], ['in', '0'], ['a', '0'], ['5.0', 'Q'], ['M', 'Q-cont'], ['HNO3', '0'], ['solution', 'A-cont'], ['for', '0'], ['24', 'T'], ['h.', 'T-cont']]\n",
      "['0', '0', 'C', '0', '0', '0', '0', 'C', 'C', '0', '0', '0', '0', '0', '0', '0', 'Q', 'Q', '0', 'A', '0', 'T', 'T']\n",
      "\n",
      "\n",
      "[['To', '0'], ['study', '0'], ['the', '0'], ['radiation', '0'], ['resistance,', '0'], ['the', '0'], ['prepared', '0'], ['TVEX', 'C'], ['samples', '0'], ['were', '0'], ['irradiated', '0'], ['on', '0'], ['the', '0'], ['Issledovatel’', '0'], ['unit', '0'], ['with', '0'], ['a', '0'], ['60Co-radiation', '0'], ['source', '0'], ['at', '0'], ['a', '0'], ['dose', '0'], ['rate', '0'], ['of', '0'], ['0.14', 'Q'], ['Gy/s', 'Q-cont'], ['at', '0'], ['room', '0'], ['temperature', '0'], ['until', '0'], ['the', '0'], ['absorbed', '0'], ['dose', '0'], ['0.6,', 'Q'], ['1.4,', 'Q-cont'], ['and', 'Q-cont'], ['2.5', 'Q-cont'], ['MGy', 'Q-cont'], ['was', '0'], ['received.', '0'], ['The', '0'], ['irradiation', '0'], ['of', '0'], ['TVEX', 'C'], ['samples', '0'], ['was', '0'], ['performed', '0'], ['in', '0'], ['a', '0'], ['5.0', 'Q'], ['M', 'Q-cont'], ['HNO3', '0'], ['solution,', 'A-cont'], ['since', '0'], ['under', '0']]\n",
      "['0', '0', '0', '0', '0', '0', '0', 'C', '0', '0', '0', '0', '0', '0', '0', '0', '0', '0', '0', '0', '0', '0', '0', '0', 'Q', 'Q', '0', '0', '0', '0', '0', '0', '0', 'Q', 'Q', 'Q', 'Q', 'Q', '0', '0', '0', '0', '0', 'C', '0', '0', '0', '0', '0', 'Q', 'Q', '0', 'A', '0', '0']\n",
      "\n",
      "\n",
      "[]\n",
      "[]\n",
      "\n",
      "\n",
      "[['Before', '0'], ['studying', '0'], ['the', '0'], ['physical', '0'], ['and', '0'], ['sorption', '0'], ['properties,', '0'], ['TVEX', 'C'], ['samples', '0'], ['were', '0'], ['washed', '0'], ['with', '0'], ['distilled', 'C'], ['water', 'C-cont'], ['and', '0']]\n",
      "['0', '0', '0', '0', '0', '0', '0', 'C', '0', '0', '0', '0', 'C', 'C', '0']\n",
      "\n",
      "\n",
      "[['In', '0'], ['the', '0'], ['course', '0'], ['of', '0'], ['the', '0'], ['work,', '0'], ['the', '0'], ['particle', '0'], ['size', '0'], ['distribution,', '0'], ['bulk', '0'], ['density', '0'], ['(d),', '0'], ['specific', '0'], ['volume', '0'], ['(Vsp),', '0'], ['and', '0'], ['swelling', '0'], ['coefficient', '0'], ['(Ksw)', '0'], ['of', '0'], ['the', '0'], ['irradiated', '0'], ['TVEX', 'C'], ['samples', 'C-cont'], ['were', '0']]\n",
      "['0', '0', '0', '0', '0', '0', '0', '0', '0', '0', '0', '0', '0', '0', '0', '0', '0', '0', '0', '0', '0', '0', '0', 'C', 'C', '0']\n",
      "\n",
      "\n",
      "[['To', '0'], ['assess', '0'], ['the', '0'], ['change', '0'], ['in', '0'], ['the', '0'], ['TVEX', 'C'], ['structure', '0'], ['under', '0'], ['the', '0'], ['influence', '0'], ['of', '0'], ['γ-radiation,', 'R'], ['the', '0'], ['IR', '0'], ['absorption', '0'], ['spectra', '0'], ['of', '0'], ['samples', '0'], ['before', '0'], ['and', '0'], ['after', '0'], ['the', '0'], ['γ-irradiation', 'R'], ['were', '0']]\n",
      "['0', '0', '0', '0', '0', '0', 'C', '0', '0', '0', '0', '0', 'R', '0', '0', '0', '0', '0', '0', '0', '0', '0', '0', 'R', '0']\n",
      "\n",
      "\n",
      "[['The', '0'], ['extraction', '0'], ['of', '0'], ['Am', 'M'], ['on', '0'], ['the', '0'], ['irradiated', '0'], ['TVEX', 'C'], ['samples', '0'], ['was', '0'], ['studied', '0'], ['in', '0'], ['the', '0'], ['dynamic', '0'], ['mode', '0'], ['using', '0'], ['preliminarily', '0'], ['prepared', '0'], ['real', '0'], ['ILW', '0'], ['of', '0'], ['CMP.', '0'], ['To', '0'], ['prepare', '0'], ['solutions', '0'], ['for', '0'], ['the', '0'], ['extraction', '0'], ['of', '0'], ['Am,', 'M'], ['preliminary,', '0'], ['the', '0'], ['concentration', '0'], ['of', '0'], ['HNO3', 'A'], ['solution', 'A-cont'], ['was', '0'], ['adjusted', '0'], ['to', '0'], ['5.0', 'Q'], ['M,', 'Q-cont'], ['and', '0'], ['then', '0'], ['Pu', 'M'], ['was', '0'], ['separated', '0'], ['on', '0'], ['the', '0'], ['Purolite', 'C'], ['S957', 'C-cont'], ['cation', '0'], ['exchanger.', '0'], ['The', '0'], ['concentrations', '0'], ['of', '0'], ['Am', 'M'], ['and', '0'], ['Pu', 'M'], ['in', '0'], ['solutions', '0'], ['were', '0'], ['measured', '0'], ['by', '0'], ['the', '0'], ['γ-spectrometric', '0'], ['and', '0'], ['X-ray', 'R'], ['γ-spectrometric', '0'], ['method,', '0'], ['respectively,', '0'], ['and', '0'], ['the', '0'], ['HNO3', 'A-cont'], ['concentration', '0']]\n",
      "['0', '0', '0', 'M', '0', '0', '0', 'C', '0', '0', '0', '0', '0', '0', '0', '0', '0', '0', '0', '0', '0', '0', '0', '0', '0', '0', '0', '0', '0', 'M', '0', '0', '0', '0', 'A', 'A', '0', '0', '0', 'Q', 'Q', '0', '0', 'M', '0', '0', '0', '0', 'C', 'C', '0', '0', '0', '0', '0', 'M', '0', 'M', '0', '0', '0', '0', '0', '0', '0', '0', 'R', '0', '0', '0', '0', '0', 'A', '0']\n",
      "\n",
      "\n",
      "[['To', '0'], ['sorb', '0'], ['Am,', 'M'], ['the', '0'], ['prepared', '0'], ['solution', '0'], ['was', '0'], ['passed', '0'], ['through', '0'], ['a', '0'], ['glass', '0'], ['sorption', '0'], ['column', '0'], ['filled', '0'], ['with', '0'], ['an', '0'], ['irradiated', '0'], ['TVEX', 'C-cont'], ['sample', '0'], ['at', '0'], ['a', '0'], ['rate', '0'], ['of', '0'], ['5', 'Q'], ['c.v./h.', 'Q-cont'], ['The', '0'], ['Am', 'M'], ['concentration', '0'], ['was', '0'], ['measured', '0'], ['in', '0'], ['the', '0'], ['filtrates.', '0'], ['From', '0'], ['the', '0'], ['obtained', '0'], ['values,', '0'], ['\\u200b\\u200bwe', '0'], ['evaluated', '0'], ['the', '0'], ['full', '0'], ['dynamic', '0'], ['exchange', '0'], ['capacity', '0'], ['of', '0'], ['TVEX', 'C'], ['for', '0'], ['Am', 'M'], ['(FDECAm),', 'M-cont'], ['corresponding', '0'], ['to', '0'], ['the', '0'], ['concentration', '0'], ['of', '0'], ['Am', 'M'], ['in', '0'], ['the', '0'], ['TVEX', 'C'], ['phase,', '0'], ['at', '0'], ['which', '0'], ['the', '0'], ['Am', 'M'], ['concentrations', '0'], ['in', '0'], ['the', '0'], ['initial', '0'], ['solution', '0'], ['and', '0'], ['in', '0'], ['the', '0'], ['filtrate', '0'], ['are', '0'], ['equal,', '0'], ['and', '0'], ['the', '0'], ['capacity', '0'], ['of', '0'], ['TVEX', 'C'], ['before', '0'], ['the', '0'], ['“breakthrough”', '0'], ['of', '0'], ['Am', 'M'], ['into', '0'], ['the', '0'], ['filtrate', '0'], ['(CBBAm),', '0'], ['corresponding', '0'], ['to', '0'], ['the', '0'], ['maximum', '0'], ['Am', '0'], ['concentration', '0'], ['in', '0'], ['the', '0'], ['TVEX', 'C'], ['phase,', '0'], ['at', '0'], ['which', '0'], ['the', '0'], ['Am', 'M'], ['concentration', '0'], ['in', '0'], ['the', '0'], ['filtrates', '0'], ['did', '0'], ['not', '0'], ['exceed', '0'], ['0.025', 'Q'], ['mg/L.', 'Q-cont']]\n",
      "['0', '0', 'M', '0', '0', '0', '0', '0', '0', '0', '0', '0', '0', '0', '0', '0', '0', 'C', '0', '0', '0', '0', '0', 'Q', 'Q', '0', 'M', '0', '0', '0', '0', '0', '0', '0', '0', '0', '0', '0', '0', '0', '0', '0', '0', '0', '0', 'C', '0', 'M', 'M', '0', '0', '0', '0', '0', 'M', '0', '0', 'C', '0', '0', '0', '0', 'M', '0', '0', '0', '0', '0', '0', '0', '0', '0', '0', '0', '0', '0', '0', '0', 'C', '0', '0', '0', '0', 'M', '0', '0', '0', '0', '0', '0', '0', '0', '0', '0', '0', '0', 'C', '0', '0', '0', '0', 'M', '0', '0', '0', '0', '0', '0', '0', 'Q', 'Q']\n",
      "\n",
      "\n",
      "[['The', '0'], ['“breakthrough”', '0'], ['point', '0'], ['was', '0'], ['found', '0'], ['experimentally', '0'], ['provided', '0'], ['that', '0'], ['at', '0'], ['the', '0'], ['concentration', '0'], ['of', '0'], ['Am', 'M'], ['in', '0'], ['the', '0'], ['filtrates', '0'], ['not', '0'], ['exceeding', '0'], ['0.025', 'Q'], ['mg/L,', 'Q-cont'], ['solid', '0']]\n",
      "['0', '0', '0', '0', '0', '0', '0', '0', '0', '0', '0', '0', 'M', '0', '0', '0', '0', '0', 'Q', 'Q', '0']\n",
      "\n",
      "\n",
      "[['Before', '0'], ['desorption,', '0'], ['TVEX', 'C'], ['samples', '0'], ['were', '0'], ['washed', '0'], ['with', '0'], ['a', '0'], ['5.0', 'Q'], ['M', 'Q-cont'], ['HNO3', '0'], ['to', '0'], ['displace', '0'], ['the', '0'], ['initial', '0'], ['solution.', '0'], ['The', '0'], ['concentration', '0'], ['of', '0'], ['Am', 'M'], ['in', '0'], ['the', '0'], ['desorbates', '0'], ['was', '0'], ['measured.', '0'], ['To', '0'], ['desorb', '0'], ['Am', 'M'], ['from', '0'], ['the', '0'], ['TVEX', 'C'], ['phase,', '0'], ['a', '0'], ['desorbing', '0'], ['solution', '0'], ['with', '0'], ['a', '0'], ['DTPA', '0'], ['concentration', '0'], ['of', '0'], ['10', 'Q'], ['g/L', 'Q-cont'], ['and', '0'], ['pH', 'Q-cont'], ['6', 'Q-cont'], ['was', '0'], ['passed', '0'], ['at', '0'], ['a', '0'], ['rate', '0'], ['of', '0'], ['1', 'Q'], ['c.v./h.', 'Q-cont']]\n",
      "['0', '0', 'C', '0', '0', '0', '0', '0', 'Q', 'Q', '0', '0', '0', '0', '0', '0', '0', '0', '0', 'M', '0', '0', '0', '0', '0', '0', '0', 'M', '0', '0', 'C', '0', '0', '0', '0', '0', '0', '0', '0', '0', 'Q', 'Q', '0', 'Q', 'Q', '0', '0', '0', '0', '0', '0', 'Q', 'Q']\n",
      "\n",
      "\n",
      "[['An', '0'], ['efficient', '0'], ['natural', '0'], ['bioextractant,', '0'], ['orange', '0'], ['peel', '0'], ['extractant,', '0'], ['was', '0'], ['applied', '0'], ['to', '0'], ['recover', '0'], ['uranium', 'M'], ['as', '0'], ['one', '0'], ['of', '0'], ['hazardous', '0'], ['elements.', '0'], ['Batch', '0'], ['experiments', '0'], ['were', '0'], ['carried', '0'], ['out', '0'], ['to', '0'], ['determine', '0'], ['the', '0'], ['effect', '0'], ['of', '0'], ['various', '0'], ['factors', '0'], ['on', '0'], ['the', '0'], ['uranium', 'M'], ['extraction', '0'], ['using', '0'], ['a', '0'], ['synthetic', '0'], ['standard', '0'], ['solution.', '0'], ['These', '0'], ['factors', '0'], ['include', '0'], ['the', '0'], ['diluent', '0'], ['type,', '0'], ['pH,', '0'], ['solvent', '0'], ['concentration,', '0'], ['contact', '0'], ['time,', '0'], ['and', '0'], ['temperature.', '0'], ['Under', '0'], ['the', '0'], ['optimum', '0'], ['conditions', '0'], ['(pH', '0'], ['4,', 'Q-cont'], ['A/O', '0'], ['=', 'Q-cont'], ['3/1),', 'Q-cont'], ['the', '0'], ['maximum', '0'], ['saturation', '0'], ['capacity', '0'], ['of', '0'], ['the', '0'], ['orange', '0'], ['peel', '0'], ['extractant', '0'], ['for', '0'], ['uranium', '0'], ['reaches', '0'], ['approximately', '0'], ['54.5', 'Q-cont'], ['mg/g.', 'Q-cont'], ['The', '0'], ['extracted', '0'], ['uranium', 'M'], ['ions', '0'], ['were', '0'], ['almost', '0'], ['completely', '0'], ['eluted', '0'], ['with', '0'], ['NaCl/H2SO4', 'A'], ['(1', '0'], ['M', 'Q-cont'], ['each).', '0'], ['The', '0'], ['procedure', '0'], ['was', '0'], ['applied', '0'], ['to', '0'], ['real', '0'], ['sulfate', 'C'], ['leach', 'C-cont'], ['liquor', 'C-cont'], ['of', '0']]\n",
      "['0', '0', '0', '0', '0', '0', '0', '0', '0', '0', '0', 'M', '0', '0', '0', '0', '0', '0', '0', '0', '0', '0', '0', '0', '0', '0', '0', '0', '0', '0', '0', 'M', '0', '0', '0', '0', '0', '0', '0', '0', '0', '0', '0', '0', '0', '0', '0', '0', '0', '0', '0', '0', '0', '0', '0', '0', 'Q', '0', 'Q', 'Q', '0', '0', '0', '0', '0', '0', '0', '0', '0', '0', '0', '0', '0', 'Q', 'Q', '0', '0', 'M', '0', '0', '0', '0', '0', '0', 'A', '0', 'Q', '0', '0', '0', '0', '0', '0', '0', 'C', 'C', 'C', '0']\n",
      "\n",
      "\n",
      "[['Preparation', '0'], ['of', '0'], ['uranium', 'M'], ['standard', '0'], ['solution', '0'], ['and', '0'], ['solutions', '0'], ['of', '0'], ['interfering', '0'], ['metal', '0'], ['ions.', '0'], ['To', '0'], ['prepare', '0'], ['a', '0'], ['synthetic', '0'], ['uranium', 'M-cont'], ['solution', '0'], ['(100', '0'], ['ppm),', 'Q-cont'], ['an', '0'], ['accurately', '0'], ['weighed', '0'], ['portion', '0'], ['of', '0'], ['uranyl', 'A'], ['acetate', 'A-cont'], ['was', '0'], ['dissolved', '0'], ['in', '0'], ['distilled', 'C'], ['water', 'C-cont'], ['acidified', '0'], ['with', '0'], ['sulfuric', 'A'], ['acid.', 'A-cont']]\n",
      "['0', '0', 'M', '0', '0', '0', '0', '0', '0', '0', '0', '0', '0', '0', '0', 'M', '0', '0', 'Q', '0', '0', '0', '0', '0', 'A', 'A', '0', '0', '0', 'C', 'C', '0', '0', 'A', 'A']\n",
      "\n",
      "\n",
      "[['The', '0'], ['pH', '0'], ['of', '0'], ['the', '0'], ['solution', '0'], ['was', '0'], ['adjusted', '0'], ['at', '0'], ['4', 'Q'], ['with', '0'], ['dilute', '0'], ['sulfuric', 'A'], ['acid.', 'A-cont'], ['Weighed', '0'], ['portions', '0'], ['of', '0'], ['compounds', '0'], ['of', '0'], ['interfering', '0'], ['metal', '0'], ['ions', '0'], ['were', '0'], ['dissolved', '0'], ['separately', '0'], ['in', '0'], ['distilled', '0'], ['water', '0'], ['to', '0'], ['obtain', '0'], ['1000', 'Q'], ['ppm', 'Q-cont'], ['solutions.', '0'], ['Experiments', '0'], ['on', '0'], ['interfering', '0'], ['effect', '0'], ['of', '0'], ['metal', '0'], ['ions', '0'], ['were', '0'], ['performed', '0'], ['with', '0'], ['a', '0'], ['1000', 'Q'], ['ppm', 'Q-cont'], ['uranium', '0'], ['solution.', '0']]\n",
      "['0', '0', '0', '0', '0', '0', '0', '0', 'Q', '0', '0', 'A', 'A', '0', '0', '0', '0', '0', '0', '0', '0', '0', '0', '0', '0', '0', '0', '0', '0', 'Q', 'Q', '0', '0', '0', '0', '0', '0', '0', '0', '0', '0', '0', '0', 'Q', 'Q', '0', '0']\n",
      "\n",
      "\n",
      "[['Preparation', '0'], ['of', '0'], ['orange', '0'], ['peel', '0'], ['extractant.', '0'], ['A', '0'], ['20-kg', 'Q'], ['portion', 'Q-cont'], ['of', '0'], ['orange', '0'], ['peels', '0'], ['was', '0'], ['placed', '0'], ['in', '0'], ['a', '0'], ['stainless', '0'], ['steel', '0'], ['extractor.', '0'], ['Extraction', '0'], ['was', '0'], ['performed', '0'], ['with', '0'], ['n-hexane,', 'C'], ['which', '0']]\n",
      "['0', '0', '0', '0', '0', '0', 'Q', 'Q', '0', '0', '0', '0', '0', '0', '0', '0', '0', '0', '0', '0', '0', '0', 'C', '0']\n",
      "\n",
      "\n",
      "[['The', '0'], ['solvent', '0'], ['was', '0'], ['stirred', '0'], ['with', '0'], ['the', '0'], ['orange', '0'], ['peels', '0'], ['in', '0'], ['the', '0'], ['extractor', '0'], ['for', '0'], ['30', 'T'], ['min', 'T-cont'], ['(first', '0'], ['wash).', '0'], ['Then,', '0'], ['the', '0'], ['solution', '0'], ['was', '0'], ['transferred', '0'], ['from', '0'], ['the', '0'], ['extractor', '0'], ['into', '0'], ['the', '0'], ['primary', '0'], ['evaporator;', '0'], ['the', '0'], ['solvent', '0'], ['was', '0'], ['vaporized', '0'], ['using', '0'], ['indirect', '0'], ['steam.', '0'], ['The', '0'], ['remaining', '0'], ['peels', '0'], ['were', '0'], ['extracted', '0'], ['similarly', '0'], ['two', 'T'], ['or', 'T-cont'], ['three', 'T-cont'], ['times', 'T-cont'], ['more', 'T-cont'], ['(second,', '0'], ['third,', '0'], ['fourth', '0'], ['wash;', '0'], ['each', '0'], ['contact', 'T'], ['for', 'T-cont'], ['1', 'T-cont'], ['h).', 'T-cont']]\n",
      "['0', '0', '0', '0', '0', '0', '0', '0', '0', '0', '0', '0', 'T', 'T', '0', '0', '0', '0', '0', '0', '0', '0', '0', '0', '0', '0', '0', '0', '0', '0', '0', '0', '0', '0', '0', '0', '0', '0', '0', '0', '0', 'T', 'T', 'T', 'T', 'T', '0', '0', '0', '0', '0', 'T', 'T', 'T', 'T']\n",
      "\n",
      "\n",
      "[['The', '0'], ['filtration', '0'], ['process', '0'], ['was', '0'], ['followed', '0'], ['by', '0'], ['evaporation.', '0'], ['To', '0'], ['obtain', '0'], ['the', '0'], ['final', '0'], ['product,', '0'], ['the', '0'], ['solvent', '0'], ['was', '0'], ['evaporated', '0'], ['using', '0'], ['heat', '0'], ['from', '0'], ['indirect', '0'], ['steam', '0'], ['and', '0'], ['then', '0'], ['kept', '0'], ['in', '0'], ['a', '0'], ['vacuum.', '0'], ['The', '0'], ['final', '0'], ['product', '0'], ['yield', '0'], ['was', '0'], ['about', '0'], ['150', 'Q'], ['mL', 'Q-cont'], ['of', '0'], ['orange', '0'], ['peel', '0'], ['extractant.', '0'], ['It', '0'], ['was', '0'], ['stored', '0'], ['at', '0'], ['10°C', 'Q'], ['to', '0']]\n",
      "['0', '0', '0', '0', '0', '0', '0', '0', '0', '0', '0', '0', '0', '0', '0', '0', '0', '0', '0', '0', '0', '0', '0', '0', '0', '0', '0', '0', '0', '0', '0', '0', '0', 'Q', 'Q', '0', '0', '0', '0', '0', '0', '0', '0', 'Q', '0']\n",
      "\n",
      "\n",
      "[['Uranium', '0'], ['extraction.', '0'], ['In', '0'], ['experiments', '0'], ['on', '0'], ['uranium', '0'], ['extraction', '0'], ['from', '0'], ['leach', '0'], ['liquor', '0'], ['solutions', '0'], ['or', '0'], ['from', '0'], ['the', '0'], ['synthetic', '0'], ['solution,', '0'], ['the', '0'], ['orange', '0'], ['peel', '0'], ['extractant', '0'], ['was', '0'], ['diluted', '0'], ['with', '0'], ['kerosene', 'C'], ['to', '0'], ['10', 'Q'], ['vol', 'Q-cont'], ['%.', 'Q-cont'], ['The', '0'], ['organic', '0'], ['and', '0'], ['aqueous', '0'], ['phases', '0'], ['were', '0'], ['shaken', '0'], ['in', '0'], ['separating', '0'], ['funnels.', '0'], ['The', '0'], ['aqueous', '0'], ['phase', '0'], ['was', '0'], ['analyzed', '0'], ['for', '0'], ['the', '0'], ['uranium', 'M'], ['content,', '0'], ['and', '0'], ['the', '0'], ['uranium', 'M'], ['amount', 'M-cont'], ['in', '0'], ['the', '0'], ['organic', '0'], ['phase', '0']]\n",
      "['0', '0', '0', '0', '0', '0', '0', '0', '0', '0', '0', '0', '0', '0', '0', '0', '0', '0', '0', '0', '0', '0', '0', 'C', '0', 'Q', 'Q', 'Q', '0', '0', '0', '0', '0', '0', '0', '0', '0', '0', '0', '0', '0', '0', '0', '0', '0', 'M', '0', '0', '0', 'M', 'M', '0', '0', '0', '0']\n",
      "\n",
      "\n",
      "[['Numerous', '0'], ['experiments', '0'], ['were', '0'], ['done', '0'], ['to', '0'], ['optimize', '0'], ['the', '0'], ['uranium', 'M'], ['loading', '0']]\n",
      "['0', '0', '0', '0', '0', '0', '0', 'M', '0']\n",
      "\n",
      "\n",
      "[['The', '0'], ['saturation', '0'], ['capacity', '0'], ['of', '0'], ['the', '0'], ['orange', '0'], ['peel', '0'], ['extractant', '0'], ['for', '0'], ['uranium', '0'], ['was', '0'], ['also', '0'], ['determined', '0'], ['using', '0'], ['the', '0'], ['multiple', '0'], ['contact', '0'], ['process.', '0'], ['The', '0'], ['temperature', '0'], ['in', '0'], ['the', '0'], ['extraction', '0'], ['and', '0'], ['stripping', '0'], ['experiments', '0'], ['was', '0'], ['kept', '0'], ['at', '0'], ['20–22°C', 'Q'], ['unless', 'Q-cont'], ['otherwise', '0'], ['indicated.', '0']]\n",
      "['0', '0', '0', '0', '0', '0', '0', '0', '0', '0', '0', '0', '0', '0', '0', '0', '0', '0', '0', '0', '0', '0', '0', '0', '0', '0', '0', '0', '0', 'Q', 'Q', '0', '0']\n",
      "\n",
      "\n",
      "[['Uranium', '0'], ['stripping.', '0'], ['Several', '0'], ['eluents,', '0'], ['namely,', '0'], ['mineral', '0'], ['acids,', '0'], ['alkalis,', '0'], ['and', '0'], ['/or', '0'], ['NaCl', 'C'], ['were', 'C-cont'], ['tested', '0'], ['for', '0'], ['uranium', 'M'], ['stripping', '0'], ['from', '0']]\n",
      "['0', '0', '0', '0', '0', '0', '0', '0', '0', '0', 'C', 'C', '0', '0', 'M', '0', '0']\n",
      "\n",
      "\n",
      "[['Characterization', '0'], ['of', '0'], ['orange', '0'], ['peel', '0'], ['extractant.', '0'], ['The', '0'], ['orange', '0'], ['peel', '0'], ['extractant', '0'], ['was', '0'], ['completely', '0'], ['analyzed', '0'], ['in', '0'], ['quality', '0'], ['control', '0'], ['laboratories', '0'], ['of', '0'], ['Hashem', '0'], ['Brothers', '0'], ['for', '0'], ['essential', '0'], ['and', '0'], ['aromatic', '0'], ['products', '0'], ['using', '0'], ['gas', '0'], ['chromatography–mass', '0'], ['spectrometry', '0'], ['(GC-MS,', '0'], ['HP', '0'], ['6890', '0'], ['Series,', '0'], ['Agilent)', '0'], ['using', '0'], ['a', '0'], ['Thermo', '0'], ['Scientific', '0'], ['(TR-5MS,', '0'], ['5%', '0'], ['phenyl–polysilphenylenesiloxane)', 'C'], ['capillary', '0'], ['column', '0'], ['(30', '0'], ['m', 'Q-cont'], ['Ã—', 'Q-cont'], ['0.25', 'Q-cont'], ['mm,', 'Q-cont'], ['film', '0'], ['thickness', '0'], ['0.25', 'Q'], ['Î¼m).', 'Q-cont'], ['The', '0'], ['FTIR', '0']]\n",
      "['0', '0', '0', '0', '0', '0', '0', '0', '0', '0', '0', '0', '0', '0', '0', '0', '0', '0', '0', '0', '0', '0', '0', '0', '0', '0', '0', '0', '0', '0', '0', '0', '0', '0', '0', '0', '0', '0', '0', 'C', '0', '0', '0', 'Q', 'Q', 'Q', 'Q', '0', '0', 'Q', 'Q', '0', '0']\n",
      "\n",
      "\n",
      "[['Uranium', '0'], ['analysis.', '0'], ['The', '0'], ['uranium', '0'], ['analysis', '0'], ['in', '0'], ['different', '0'], ['process', '0'], ['streams', '0'], ['was', '0'], ['performed', '0'], ['by', '0'], ['oxidimetric', '0'], ['titration', '0'], ['using', '0'], ['ammonium', 'A'], ['metavanadate.', 'A-cont'], ['Uranium', '0'], ['was', '0'], ['preliminarily', '0'], ['reduced', '0'], ['with', '0'], ['ammonium', 'A'], ['ferrous', 'A-cont'], ['sulfate', 'A-cont'], ['using', '0'], ['urea', '0'], ['as', '0'], ['a', '0'], ['masking', '0'], ['agent', '0'], ['in', '0'], ['the', '0'], ['presence', '0'], ['of', '0'], ['diphenylaminesulfonate', 'C'], ['as', '0'], ['indicator', '0'], ['until', '0'], ['its', '0'], ['color', '0'], ['changed', '0'], ['to', '0'], ['slightly', '0'], ['violet-red', '0'], ['[16].', '0'], ['The', '0'], ['accuracy', '0'], ['and', '0'], ['precision', '0'], ['were', '0'], ['±2%.', 'Q']]\n",
      "['0', '0', '0', '0', '0', '0', '0', '0', '0', '0', '0', '0', '0', '0', '0', 'A', 'A', '0', '0', '0', '0', '0', 'A', 'A', 'A', '0', '0', '0', '0', '0', '0', '0', '0', '0', '0', 'C', '0', '0', '0', '0', '0', '0', '0', '0', '0', '0', '0', '0', '0', '0', '0', 'Q']\n",
      "\n",
      "\n",
      "[['The', '0'], ['concentrations', '0'], ['of', '0'], ['interfering', '0'], ['metal', '0'], ['ions', '0'], ['(Ni,', '0'], ['Cu,', '0'], ['V,', '0'], ['etc.)', '0'], ['were', '0'], ['determined', '0'], ['by', '0'], ['atomic', '0'], ['absorption', '0'], ['spectrometry', '0'], ['with', '0'], ['the', '0'], ['the', '0'], ['accuracy', '0'], ['and', '0'], ['precision', '0'], ['of', '0'], ['approximately', '0'], ['±2%', 'Q'], ['(Unicam', '0']]\n",
      "['0', '0', '0', '0', '0', '0', '0', '0', '0', '0', '0', '0', '0', '0', '0', '0', '0', '0', '0', '0', '0', '0', '0', '0', 'Q', '0']\n",
      "\n",
      "\n",
      "[['Characteristics', '0'], ['of', '0'], ['claystone', '0'], ['ore.', '0'], ['A', '0'], ['claystone', '0'], ['ore', '0'], ['sample', '0'], ['was', '0'], ['subjected', '0'], ['to', '0'], ['complete', '0'], ['chemical', '0'], ['analysis', '0'], ['for', '0'], ['both', '0'], ['major', '0'], ['and', '0'], ['trace', '0'], ['elements.', '0'], ['A', '0'], ['suitable', '0'], ['representative', '0'], ['portion', '0'], ['of', '0'], ['the', '0'], ['claystone', '0'], ['was', '0'], ['prepared', '0'], ['by', '0'], ['crushing', '0'], ['and', '0'], ['grinding', '0'], ['to', '0'], ['–200', 'Q'], ['mesh', 'Q-cont'], ['size.', 'Q-cont']]\n",
      "['0', '0', '0', '0', '0', '0', '0', '0', '0', '0', '0', '0', '0', '0', '0', '0', '0', '0', '0', '0', '0', '0', '0', '0', '0', '0', '0', '0', '0', '0', '0', '0', '0', '0', 'Q', 'Q', 'Q']\n",
      "\n",
      "\n",
      "[['The', '0'], ['major', '0'], ['oxides', '0'], ['were', '0'], ['chemically', '0'], ['analyzed', '0'], ['using', '0'], ['wet', '0'], ['analytical', '0'], ['procedures', '0'], ['[17].', '0'], ['This', '0'], ['procedure', '0'], ['includes', '0'], ['the', '0'], ['preparation', '0'], ['of', '0'], ['two', '0'], ['solutions:', '0'], ['an', '0'], ['alkaline', '0'], ['solution', '0'], ['for', '0'], ['determining', '0'], ['SiO2', 'C'], ['and', '0'], ['Al2O3', 'C'], ['and', '0'], ['an', '0'], ['acid', '0'], ['solution', '0'], ['for', '0'], ['determining', '0'], ['other', '0'], ['oxides', '0'], ['(CaO,', '0'], ['MgO,', '0'], ['total', '0'], ['iron,', 'M-cont'], ['Na2O,', '0'], ['K2O,', '0'], ['etc.).', '0']]\n",
      "['0', '0', '0', '0', '0', '0', '0', '0', '0', '0', '0', '0', '0', '0', '0', '0', '0', '0', '0', '0', '0', '0', '0', '0', 'C', '0', 'C', '0', '0', '0', '0', '0', '0', '0', '0', '0', '0', '0', 'M', '0', '0', '0']\n",
      "\n",
      "\n",
      "[['Portions', '0'], ['of', '0'], ['the', '0'], ['sample', '0'], ['were', '0'], ['also', '0'], ['taken', '0'], ['for', '0'], ['determining', '0'], ['the', '0'], ['weight', '0'], ['loss', '0'], ['at', '0'], ['various', '0'], ['temperatures', '0'], ['and', '0'], ['estimating', '0'], ['the', '0'], ['loss', '0'], ['on', '0'], ['ignition.The', '0'], ['trace', '0'], ['elements', '0'], ['(V,', '0'], ['Cr,', '0'], ['Ni,', '0'], ['Cu,', '0'], ['Zn,', '0'], ['Ga,', '0'], ['Rb,', '0'], ['Sr,', '0'], ['Y,', '0'], ['Zr,', '0'], ['Nb,', '0'], ['Pb,', '0'], ['and', '0'], ['Ba)', '0'], ['were', '0'], ['examined', '0'], ['at', '0'], ['the', '0'], ['Nuclear', '0'], ['Materials', '0'], ['Authority', '0'], ['laboratories', '0'], ['by', '0'], ['the', '0'], ['X-ray', '0'], ['fluorescence', '0'], ['technique', '0'], ['(XRF)', '0'], ['using', '0'], ['a', '0'], ['Philips', '0'], ['Unique', '0'], ['II', '0'], ['unit', '0'], ['with', '0'], ['a', '0'], ['PW', 'Q'], ['1510', 'Q-cont'], ['automatic', '0'], ['sample', '0'], ['changer', '0'], ['(30', 'Q'], ['positions)', 'Q-cont'], ['connected', '0'], ['to', '0'], ['a', '0'], ['computer', '0'], ['system', '0'], ['using', '0'], ['X-40', '0'], ['program', '0'], ['for', '0'], ['spectrometry.', '0'], ['The', '0'], ['detection', '0'], ['limit', '0'], ['of', '0'], ['the', '0'], ['measured', '0'], ['elements', '0'], ['was', '0'], ['5', 'Q'], ['ppm.', 'Q-cont']]\n",
      "['0', '0', '0', '0', '0', '0', '0', '0', '0', '0', '0', '0', '0', '0', '0', '0', '0', '0', '0', '0', '0', '0', '0', '0', '0', '0', '0', '0', '0', '0', '0', '0', '0', '0', '0', '0', '0', '0', '0', '0', '0', '0', '0', '0', '0', '0', '0', '0', '0', '0', '0', '0', '0', '0', '0', '0', '0', '0', '0', 'Q', 'Q', '0', '0', '0', 'Q', 'Q', '0', '0', '0', '0', '0', '0', '0', '0', '0', '0', '0', '0', '0', '0', '0', '0', '0', '0', 'Q', 'Q']\n",
      "\n",
      "\n",
      "[['FTIR', '0'], ['spectra.', '0'], ['In', '0'], ['the', '0'], ['FTIR', '0'], ['spectrum', '0'], ['of', '0'], ['the', '0'], ['initial', '0'], ['orange', '0'], ['peel', '0'], ['extractant,', '0'], ['the', '0'], ['carboxylic', '0'], ['acid', '0'], ['O–H', '0'], ['and', '0'], ['C–H', '0'], ['groups', '0'], ['absorb', '0'], ['at', '0'], ['2920', 'Q'], ['cm–1;', 'Q-cont'], ['the', '0'], ['carbonyl', '0'], ['groups', '0'], ['(C=O),', '0'], ['at', '0'], ['1702', 'Q'], ['cm–1;', 'Q-cont'], ['and', '0'], ['aromatic', '0'], ['C=C', '0'], ['bonds,', '0'], ['at', '0'], ['1475', 'Q'], ['cm–1;', 'Q-cont'], ['there', '0'], ['is', '0'], ['no', '0'], ['peak', '0'], ['in', '0'], ['the', '0'], ['region', '0'], ['of', '0'], ['900', 'Q'], ['cm–1.', 'Q-cont']]\n",
      "['0', '0', '0', '0', '0', '0', '0', '0', '0', '0', '0', '0', '0', '0', '0', '0', '0', '0', '0', '0', '0', 'Q', 'Q', '0', '0', '0', '0', '0', 'Q', 'Q', '0', '0', '0', '0', '0', 'Q', 'Q', '0', '0', '0', '0', '0', '0', '0', '0', 'Q', 'Q']\n",
      "\n",
      "\n",
      "[['The', '0'], ['components', '0'], ['were', '0'], ['identified', '0'], ['by', '0'], ['comparison', '0'], ['of', '0'], ['their', '0'], ['mass', '0'], ['spectra', '0'], ['with', '0'], ['those', '0'], ['from', '0'], ['the', '0'], ['W9N11.L', '0'], ['(minimum', '0'], ['quality:', 'Q-cont'], ['50)', 'Q-cont'], ['and', '0'], ['NIST11.L', '0'], ['(minimum', '0'], ['quality:', 'Q-cont'], ['50)', 'Q-cont'], ['libraries', '0']]\n",
      "['0', '0', '0', '0', '0', '0', '0', '0', '0', '0', '0', '0', '0', '0', '0', '0', 'Q', 'Q', '0', '0', '0', 'Q', 'Q', '0']\n",
      "\n",
      "\n",
      "[['To', '0'], ['study', '0'], ['the', '0'], ['effect', '0'], ['of', '0'], ['the', '0'], ['diluent', '0'], ['type', '0'], ['on', '0'], ['the', '0'], ['uranium', 'M'], ['extraction', '0'], ['from', '0'], ['the', '0'], ['synthetic', '0'], ['solution', '0'], ['(100', '0'], ['ppm', 'Q-cont'], ['U),', '0'], ['we', '0'], ['took', '0'], ['three', '0'], ['cheap', '0'], ['organic', '0'], ['diluents:', '0'], ['benzene,', 'C'], ['kerosene,', '0'], ['and', '0'], ['toluene.', 'C'], ['The', '0'], ['other', '0'], ['conditions', '0'], ['were', '0'], ['fixed:', '0'], ['shaking', '0'], ['time', '0'], ['5', 'T'], ['min,', 'T-cont'], ['pH', '0'], ['3.5–4,', 'Q-cont'], ['A/O', '0'], ['=', 'Q-cont'], ['3', 'Q-cont'], [':', 'Q-cont'], ['1,', 'Q-cont'], ['20–22°C,', '0'], ['and', '0'], ['10%', 'Q'], ['concentration', '0']]\n",
      "['0', '0', '0', '0', '0', '0', '0', '0', '0', '0', 'M', '0', '0', '0', '0', '0', '0', 'Q', '0', '0', '0', '0', '0', '0', '0', 'C', '0', '0', 'C', '0', '0', '0', '0', '0', '0', '0', 'T', 'T', '0', 'Q', '0', 'Q', 'Q', 'Q', 'Q', '0', '0', 'Q', '0']\n",
      "\n",
      "\n",
      "[['The', '0'], ['results', '0'], ['obtained', '0'], ['show', '0'], ['that', '0'], ['kerosene', 'C-cont'], ['is', '0'], ['the', '0'], ['best', '0'], ['diluent', '0'], ['(90%', '0'], ['uranium', '0'], ['extraction),', '0'], ['whereas', '0'], ['with', '0'], ['toluene', 'C'], ['and', '0'], ['benzene', 'C'], ['diluents', '0'], ['only', '0'], ['75', 'Q'], ['and', 'Q-cont'], ['70%', 'Q-cont'], ['uranium', '0'], ['extraction', '0'], ['was', '0'], ['reached,', '0'], ['respectively.', '0'], ['Thus,', '0'], ['kerosene', 'C'], ['was', '0']]\n",
      "['0', '0', '0', '0', '0', 'C', '0', '0', '0', '0', '0', '0', '0', '0', '0', 'C', '0', 'C', '0', '0', 'Q', 'Q', 'Q', '0', '0', '0', '0', '0', '0', 'C', '0']\n",
      "\n",
      "\n",
      "[['The', '0'], ['pH', '0'], ['was', '0'], ['varied', '0'], ['from', '0'], ['1', 'Q'], ['to', 'Q-cont'], ['9,', 'Q-cont'], ['keeping', '0'], ['the', '0'], ['other', '0'], ['conditions', '0'], ['fixed:', '0'], ['A/O', 'Q'], ['=', 'Q-cont'], ['3', 'Q-cont'], [':', 'Q-cont'], ['1,', 'Q-cont'], ['10', '0'], ['vol', 'Q-cont'], ['%', 'Q-cont'], ['orange', '0'], ['peel', '0'], ['extractant,', '0'], ['contact', '0'], ['time', '0'], ['5', 'T'], ['min.', 'T-cont'], ['As', '0'], ['shown', '0'], ['in', '0'], ['Table', '0'], ['2,', '0'], ['at', '0'], ['pH', 'Q'], ['1–3', 'Q-cont'], ['the', '0'], ['extraction', '0'], ['is', '0'], ['low.', '0'], ['It', '0'], ['steeply', '0'], ['increases', '0'], ['with', '0'], ['increasing', '0'], ['pH,', '0'], ['reaching', '0'], ['a', '0'], ['maximum', '0'], ['at', '0'], ['pH', 'Q'], ['4.', 'Q-cont'], ['Low', '0'], ['extraction', '0'], ['at', '0'], ['low', '0'], ['pH', '0'], ['values', '0'], ['may', '0'], ['be', '0'], ['due', '0'], ['to', '0'], ['the', '0'], ['competing', '0'], ['effect', '0'], ['of', '0'], ['H+', '0'], ['ions,', '0'], ['which', '0'], ['is', '0'], ['less', '0'], ['pronounced', '0'], ['at', '0'], ['pH', 'Q'], ['4.', 'Q-cont'], ['As', '0'], ['pH', '0']]\n",
      "['0', '0', '0', '0', '0', 'Q', 'Q', 'Q', '0', '0', '0', '0', '0', 'Q', 'Q', 'Q', 'Q', 'Q', '0', 'Q', 'Q', '0', '0', '0', '0', '0', 'T', 'T', '0', '0', '0', '0', '0', '0', 'Q', 'Q', '0', '0', '0', '0', '0', '0', '0', '0', '0', '0', '0', '0', '0', '0', 'Q', 'Q', '0', '0', '0', '0', '0', '0', '0', '0', '0', '0', '0', '0', '0', '0', '0', '0', '0', '0', '0', '0', '0', 'Q', 'Q', '0', '0']\n",
      "\n",
      "\n",
      "[['As', '0'], ['shown', '0'], ['in', '0'], ['Table', '0'], ['3,', '0'], ['the', '0'], ['uranium', 'M'], ['extraction', '0'], ['efficiency', '0'], ['increases', '0'], ['from', '0'], ['50', 'Q'], ['to', 'Q-cont'], ['90%', 'Q-cont'], ['as', '0'], ['the', '0'], ['orange', '0'], ['peel', '0'], ['extractant', '0'], ['concentration', '0'], ['is', '0'], ['increased', '0'], ['from', '0'], ['2', 'Q'], ['to', 'Q-cont'], ['10%', 'Q-cont'], ['under', '0'], ['fixed', '0'], ['other', '0'], ['conditions:', '0'], ['pH', 'Q'], ['4,', 'Q-cont'], ['contact', '0'], ['time', '0'], ['5', 'T'], ['min,', 'T-cont'], ['20–22°C,', '0'], ['kerosene', '0'], ['diluent.', '0'], ['At', '0'], ['10%', 'Q'], ['concentration', '0'], ['of', '0'], ['the', '0'], ['orange', '0'], ['peel', '0'], ['extractaant,', '0'], ['the', '0'], ['uranium', 'M'], ['extraction', '0'], ['reached', '0'], ['95%.', 'Q']]\n",
      "['0', '0', '0', '0', '0', '0', 'M', '0', '0', '0', '0', 'Q', 'Q', 'Q', '0', '0', '0', '0', '0', '0', '0', '0', '0', 'Q', 'Q', 'Q', '0', '0', '0', '0', 'Q', 'Q', '0', '0', 'T', 'T', '0', '0', '0', '0', 'Q', '0', '0', '0', '0', '0', '0', '0', 'M', '0', '0', 'Q']\n",
      "\n",
      "\n",
      "[['The', '0'], ['results', '0'], ['obtained', '0'], ['(Table', '0'], ['4)', '0'], ['show', '0'], ['that', '0'], ['the', '0'], ['uranium', '0'], ['extraction', '0'], ['is', '0'], ['almost', '0'], ['complete', '0'], ['in', '0'], ['5', 'T'], ['min', 'T-cont'], ['(95%),', '0'], ['and', '0'], ['the', '0'], ['maximum', '0'], ['(98.5%)', '0'], ['is', '0'], ['reached', '0'], ['in', '0'], ['12', 'T-cont'], ['min.', 'T-cont'], ['Thus,', '0'], ['12', 'T'], ['min', 'T-cont'], ['is', '0'], ['the', '0']]\n",
      "['0', '0', '0', '0', '0', '0', '0', '0', '0', '0', '0', '0', '0', '0', 'T', 'T', '0', '0', '0', '0', '0', '0', '0', '0', 'T', 'T', '0', 'T', 'T', '0', '0']\n",
      "\n",
      "\n",
      "[['The', '0'], ['uranium', 'M'], ['extraction', '0'], ['efficiency', '0'], ['reached', '0'], ['97', 'Q-cont'], ['and', 'Q-cont'], ['98%', 'Q-cont'], ['at', '0'], ['the', '0'], ['A/O', 'Q'], ['ratios', 'Q-cont'], ['of', 'Q-cont'], ['2/1', 'Q-cont'], ['and', 'Q-cont'], ['3/1,', 'Q-cont'], ['respectively;', '0'], ['that', '0'], ['is,', '0'], ['1', 'Q'], ['mL', 'Q-cont'], ['of', '0'], ['the', '0'], ['orange', '0'], ['peel', '0'], ['extractant', '0'], ['takes', '0'], ['up', '0'], ['about', '0'], ['0.194', 'Q'], ['and', 'Q-cont'], ['0.', 'Q-cont'], ['291', 'Q-cont'], ['mg', 'Q-cont'], ['of', 'Q-cont'], ['U,', '0'], ['respectively.', '0']]\n",
      "['0', 'M', '0', '0', '0', 'Q', 'Q', 'Q', '0', '0', 'Q', 'Q', 'Q', 'Q', 'Q', 'Q', '0', '0', '0', 'Q', 'Q', '0', '0', '0', '0', '0', '0', '0', '0', 'Q', 'Q', 'Q', 'Q', 'Q', 'Q', '0', '0']\n",
      "\n",
      "\n",
      "[['As', '0'], ['shown', '0'], ['in', '0'], ['Fig.', '0'], ['1,', '0'], ['heating', '0'], ['has', '0'], ['an', '0'], ['adverse', '0'], ['effect', '0'], ['on', '0'], ['the', '0'], ['uranium', 'M'], ['extraction', '0'], ['efficiency:', '0'], ['It', '0'], ['decreases', '0'], ['from', '0'], ['98', 'Q'], ['to', 'Q-cont'], ['50%.', 'Q-cont'], ['This', '0']]\n",
      "['0', '0', '0', '0', '0', '0', '0', '0', '0', '0', '0', '0', 'M', '0', '0', '0', '0', '0', 'Q', 'Q', 'Q', '0']\n",
      "\n",
      "\n",
      "[['We', '0'], ['examined', '0'], ['the', '0'], ['interfering', '0'], ['effect', '0'], ['of', '0'], ['some', '0'], ['metals', '0'], ['ions', '0'], ['that', '0'], ['may', '0'], ['be', '0'], ['present', '0'], ['in', '0'], ['the', '0'], ['ore', '0'], ['together', '0'], ['with', '0'], ['uranium:', 'M'], ['Mg,', '0'], ['Fe,', '0'], ['Ca,', '0'], ['K,', '0'], ['Cu,', '0'], ['Ni,', '0'], ['Al,', '0'], ['V,', '0'], ['and', '0'], ['Ba.', 'M'], ['For', '0'], ['this', '0'], ['purpose,', '0'], ['1000', 'Q'], ['ppm', 'Q-cont'], ['solutions', '0'], ['of', '0'], ['these', '0'], ['elements', '0'], ['were', '0'], ['prepared', '0'], ['separately.', '0'], ['10-mL', 'Q'], ['portions', '0'], ['of', '0'], ['these', '0'], ['nine', '0'], ['solutions', '0'], ['were', '0'], ['combined', '0'], ['with', '0'], ['10', 'Q'], ['mL', 'Q-cont'], ['of', 'Q-cont'], ['a', 'Q-cont'], ['1000', 'Q-cont'], ['ppm', 'Q-cont'], ['uranium', '0'], ['solution,', 'M-cont'], ['so', '0'], ['that', '0'], ['the', '0'], ['combined', '0'], ['solution', '0'], ['contained', '0'], ['100', 'Q'], ['ppm', 'Q-cont'], ['of', '0']]\n",
      "['0', '0', '0', '0', '0', '0', '0', '0', '0', '0', '0', '0', '0', '0', '0', '0', '0', '0', 'M', '0', '0', '0', '0', '0', '0', '0', '0', '0', 'M', '0', '0', '0', 'Q', 'Q', '0', '0', '0', '0', '0', '0', '0', 'Q', '0', '0', '0', '0', '0', '0', '0', '0', 'Q', 'Q', 'Q', 'Q', 'Q', 'Q', '0', 'M', '0', '0', '0', '0', '0', '0', 'Q', 'Q', '0']\n",
      "\n",
      "\n",
      "[['The', '0'], ['experiments', '0'], ['were', '0'], ['performed', '0'], ['at', '0'], ['20–22°C', 'Q'], ['and', '0'], ['A/O', 'Q-cont'], ['ratio', 'Q-cont'], ['of', 'Q-cont'], ['3/1;', 'Q-cont'], ['the', '0'], ['contact', '0'], ['time', '0'], ['was', '0'], ['15', 'T'], ['min.', 'T-cont'], ['The', '0'], ['pH', 'Q'], ['was', 'Q-cont'], ['varied', 'Q-cont'], ['from', 'Q-cont'], ['1', 'Q-cont'], ['to', 'Q-cont'], ['4.', 'Q-cont'], ['As', '0'], ['seen', '0'], ['from', '0'], ['Table', '0'], ['5,', '0'], ['at', '0'], ['the', '0'], ['optimum', '0'], ['pH', '0'], ['value', '0'], ['(pH', '0'], ['4)', 'Q-cont'], ['the', '0'], ['interfering', '0'], ['effect', '0'], ['is', '0'], ['weak;', '0'], ['it', '0'], ['is', '0'], ['somewhat', '0'], ['more', '0'], ['pronounced', '0'], ['only', '0'], ['for', '0'], ['iron.', 'M']]\n",
      "['0', '0', '0', '0', '0', 'Q', '0', 'Q', 'Q', 'Q', 'Q', '0', '0', '0', '0', 'T', 'T', '0', 'Q', 'Q', 'Q', 'Q', 'Q', 'Q', 'Q', '0', '0', '0', '0', '0', '0', '0', '0', '0', '0', '0', 'Q', '0', '0', '0', '0', '0', '0', '0', '0', '0', '0', '0', '0', 'M']\n",
      "\n",
      "\n",
      "[['Thus,', '0'], ['the', '0'], ['optimum', '0'], ['extraction', '0'], ['conditions', '0'], ['ensuring', '0'], ['approximately', '0'], ['98%', 'Q'], ['uranium', '0'], ['extraction', '0'], ['from', '0'], ['sulfate', 'A'], ['solution', 'A-cont'], ['with', '0'], ['orange', '0'], ['peel', '0'], ['extractant', '0'], ['are', '0'], ['as', '0'], ['follows:', '0'], ['A/O', 'Q'], ['=', 'Q-cont'], ['3', 'Q-cont'], [':', 'Q-cont'], ['1,', 'Q-cont'], ['contact', '0'], ['time', '0'], ['12', 'T'], ['min,', 'T-cont'], ['orange', '0'], ['peel', '0'], ['extractant', '0'], ['concentration', '0'], ['10%,', 'Q-cont'], ['temperature', '0'], ['20–22°C,', 'Q'], ['pH', '0'], ['4.', 'Q-cont']]\n",
      "['0', '0', '0', '0', '0', '0', '0', 'Q', '0', '0', '0', 'A', 'A', '0', '0', '0', '0', '0', '0', '0', 'Q', 'Q', 'Q', 'Q', 'Q', '0', '0', 'T', 'T', '0', '0', '0', '0', 'Q', '0', 'Q', '0', 'Q']\n",
      "\n",
      "\n",
      "[['The', '0'], ['saturation', '0'], ['capacity', '0'], ['of', '0'], ['the', '0'], ['orange', '0'], ['peel', '0'], ['extractant', '0'], ['for', '0'], ['uranium', 'M'], ['was', '0'], ['estimated', '0'], ['by', '0'], ['repeated', '0'], ['contact', '0'], ['with', '0'], ['the', '0'], ['uranium', 'M'], ['synthetic', '0'], ['solution', '0'], ['under', '0'], ['the', '0'], ['previously', '0'], ['found', '0'], ['optimum', '0'], ['conditions', '0'], ['with', '0'], ['10', 'Q'], ['vol', 'Q-cont'], ['%', 'Q-cont'], ['orange', '0'], ['peels', '0'], ['extractant', '0'], ['in', '0'], ['kerosene.', 'C'], ['Uranium', '0'], ['was', '0']]\n",
      "['0', '0', '0', '0', '0', '0', '0', '0', '0', 'M', '0', '0', '0', '0', '0', '0', '0', 'M', '0', '0', '0', '0', '0', '0', '0', '0', '0', 'Q', 'Q', 'Q', '0', '0', '0', '0', 'C', '0', '0']\n",
      "\n",
      "\n",
      "[['The', '0'], ['results', '0'], ['obtained', '0'], ['(Table', '0'], ['6)', '0'], ['show', '0'], ['that', '0'], ['the', '0'], ['saturation', '0'], ['capacity', '0'], ['of', '0'], ['the', '0'], ['orange', '0'], ['peel', '0'], ['extractant', '0'], ['for', '0'], ['uranium', 'M'], ['is', '0'], ['about', '0'], ['55', 'Q'], ['mg/g.', 'Q-cont']]\n",
      "['0', '0', '0', '0', '0', '0', '0', '0', '0', '0', '0', '0', '0', '0', '0', '0', 'M', '0', '0', 'Q', 'Q']\n",
      "\n",
      "\n",
      "[['IR', '0'], ['analysis', '0'], ['of', '0'], ['the', '0'], ['orange', '0'], ['peels', '0'], ['after', '0'], ['the', '0'], ['uranium', 'M'], ['loading', '0'], ['(Table', '0'], ['7)', '0'], ['reveals', '0'], ['some', '0'], ['changes', '0'], ['in', '0'], ['the', '0'], ['characteristic', '0'], ['peaks.', '0'], ['For', '0'], ['example,', '0'], ['the', '0'], ['band', '0'], ['of', '0'], ['carboxyl', '0'], ['groups', '0'], ['is', '0'], ['shifted', '0'], ['from', '0'], ['2920', 'Q'], ['cm–1', 'Q-cont'], ['before', '0'], ['uranium', 'M'], ['extraction', '0'], ['of', '0'], ['uranium', 'M'], ['to', '0'], ['2940', 'Q'], ['cm–1', 'Q-cont'], ['after', '0'], ['the', '0']]\n",
      "['0', '0', '0', '0', '0', '0', '0', '0', 'M', '0', '0', '0', '0', '0', '0', '0', '0', '0', '0', '0', '0', '0', '0', '0', '0', '0', '0', '0', '0', 'Q', 'Q', '0', 'M', '0', '0', 'M', '0', 'Q', 'Q', '0', '0']\n",
      "\n",
      "\n",
      "[['On', '0'], ['other', '0'], ['hand,', '0'], ['carbonyl', '0'], ['(C=O)', '0'], ['and', '0'], ['aromatic', '0'], ['C=C', '0'], ['bands', '0'], ['are', '0'], ['shifted', '0'], ['from', '0'], ['1702', 'C'], ['and', 'C-cont'], ['1475', 'C-cont'], ['cm–1', 'C-cont'], ['before', '0'], ['uranium', 'M'], ['extraction', '0'], ['to', '0'], ['1730', 'Q'], ['and', 'Q-cont'], ['1245', 'Q-cont'], ['cm–1', 'Q-cont'], ['after', '0'], ['the', '0'], ['extraction,', '0'], ['respectively.', '0'], ['It', '0'], ['is', '0'], ['important', '0'], ['that', '0'], ['a', '0'], ['new', '0'], ['peak', '0'], ['at', '0'], ['930', '0'], ['cm–1,', '0'], ['assignable', '0'], ['to', '0'], ['uranyl', 'M'], ['ions,', 'M-cont'], ['appears', '0'], ['after', '0'], ['the', '0'], ['uranium', 'M'], ['extraction.', '0']]\n",
      "['0', '0', '0', '0', '0', '0', '0', '0', '0', '0', '0', '0', 'C', 'C', 'C', 'C', '0', 'M', '0', '0', 'Q', 'Q', 'Q', 'Q', '0', '0', '0', '0', '0', '0', '0', '0', '0', '0', '0', '0', '0', '0', '0', '0', 'M', 'M', '0', '0', '0', 'M', '0']\n",
      "\n",
      "\n",
      "[['Different', '0'], ['stripping', '0'], ['agents', '0'], ['were', '0'], ['applied', '0'], ['to', '0'], ['strip', '0'], ['uranium', 'M'], ['from', '0'], ['the', '0'], ['loaded', '0'], ['10%', 'Q'], ['orange', '0'], ['peels', '0'], ['extractant', '0'], ['in', '0'], ['kerosene.', 'C'], ['These', '0'], ['included', '0'], ['distilled', '0'], ['water', '0'], ['and', '0'], ['1', 'Q'], ['M', 'Q-cont'], ['solutions', 'Q-cont'], ['of', '0'], ['HCl,', 'A'], ['H2SO4,', '0'], ['HNO3,', '0'], ['Na2CO3,', '0'], ['and', '0'], ['NaOH,', 'A'], ['as', '0'], ['well', '0'], ['as', '0'], ['mixed', '0'], ['solutions', '0'], ['of', '0'], ['NaCl', 'C'], ['and', '0'], ['mineral', '0'], ['acids', '0'], ['(HCl,', '0'], ['H2SO4,', '0'], ['or', '0'], ['HNO3).', 'A']]\n",
      "['0', '0', '0', '0', '0', '0', '0', 'M', '0', '0', '0', 'Q', '0', '0', '0', '0', 'C', '0', '0', '0', '0', '0', 'Q', 'Q', 'Q', '0', 'A', '0', '0', '0', '0', 'A', '0', '0', '0', '0', '0', '0', 'C', '0', '0', '0', '0', '0', '0', 'A']\n",
      "\n",
      "\n",
      "[['The', '0'], ['stripping', '0'], ['experiments', '0'], ['were', '0'], ['carried', '0'], ['out', '0'], ['in', '0'], ['an', '0'], ['O/A', '0'], ['ratio', '0'], ['of', '0'], ['3/1', 'Q'], ['for', '0'], ['10', 'T'], ['min', 'T-cont'], ['at', '0'], ['room', 'Q'], ['temp.', 'Q-cont'], ['The', '0'], ['results', '0'], ['obtained', '0'], ['(Table', '0'], ['8)', '0'], ['show', '0'], ['that', '0'], ['NaCl', 'C'], ['acidified', '0'], ['with', '0'], ['H2SO4', 'A'], ['at', '0'], ['the', '0'], ['mentioned', '0'], ['molarity', '0'], ['is', '0'], ['the', '0'], ['most', '0'], ['efficient', '0'], ['stripping', '0'], ['agent', '0'], ['for', '0'], ['uranium', 'M'], ['(95%', '0'], ['efficiency).', '0']]\n",
      "['0', '0', '0', '0', '0', '0', '0', '0', '0', '0', '0', 'Q', '0', 'T', 'T', '0', 'Q', 'Q', '0', '0', '0', '0', '0', '0', '0', 'C', '0', '0', 'A', '0', '0', '0', '0', '0', '0', '0', '0', '0', '0', '0', 'M', '0', '0']\n",
      "\n",
      "\n",
      "[['The', '0'], ['effect', '0'], ['of', '0'], ['the', '0'], ['NaCl/H2SO4', 'C'], ['molarity', '0'], ['on', '0'], ['the', '0'], ['uranium', 'M'], ['stripping', '0'], ['from', '0'], ['the', '0'], ['loaded', '0'], ['10%', 'Q'], ['orange', '0'], ['peel', '0'], ['extractant', '0'], ['was', '0'], ['studied', '0'], ['while', '0'], ['keeping', '0'], ['the', '0'], ['other', '0'], ['factors', '0'], ['constant:', '0'], ['contact', '0'], ['time', '0'], ['10', 'T'], ['min,', 'T-cont'], ['settling', '0'], ['time', '0'], ['5', 'T'], ['min,', 'T-cont'], ['O/A', '0'], ['phase', '0'], ['ratio', '0'], ['3/1.', 'Q'], ['The', '0'], ['results', '0'], ['obtained', '0'], ['(Table', '0'], ['9)', '0'], ['show', '0'], ['that', '0'], ['1', 'Q'], ['M', 'Q-cont'], ['NaCl', '0'], ['+', '0'], ['1', 'Q'], ['M', 'Q-cont'], ['H2SO4', '0'], ['is', '0'], ['the', '0'], ['most', '0'], ['effective', '0'], ['composition', '0'], ['(95%', '0'], ['stripping', '0'], ['efficiency).', '0']]\n",
      "['0', '0', '0', '0', 'C', '0', '0', '0', 'M', '0', '0', '0', '0', 'Q', '0', '0', '0', '0', '0', '0', '0', '0', '0', '0', '0', '0', '0', 'T', 'T', '0', '0', 'T', 'T', '0', '0', '0', 'Q', '0', '0', '0', '0', '0', '0', '0', 'Q', 'Q', '0', '0', 'Q', 'Q', '0', '0', '0', '0', '0', '0', '0', '0', '0']\n",
      "\n",
      "\n",
      "[['To', '0'], ['increase', '0'], ['the', '0'], ['uranium', 'M'], ['concentration', '0'], ['in', '0'], ['the', '0'], ['stripping', '0'], ['aqueous', '0'], ['phase,', '0'], ['we', '0'], ['studied', '0'], ['how', '0'], ['the', '0'], ['O/A', '0'], ['phase', '0'], ['ratio', '0'], ['influences', '0'], ['the', '0'], ['efficiency', '0'], ['of', '0'], ['uranium', 'M-cont'], ['stripping', '0'], ['from', '0'], ['the', '0'], ['loaded', '0'], ['orange', '0'], ['peel', '0'], ['extractant.', '0'], ['The', '0'], ['other', '0'], ['conditions', '0'], ['were', '0'], ['fixed:', '0'], ['10%', 'Q-cont'], ['orange', '0'], ['peel', '0'], ['extractant,', '0'], ['contact', '0'], ['time', '0'], ['10', 'T'], ['min,', 'T-cont'], ['settling', '0'], ['time', '0'], ['5', 'T'], ['min,', 'T-cont'], ['20–22°C.', '0'], ['As', '0'], ['shown', '0'], ['in', '0'], ['Table', '0'], ['10,', '0'], ['at', '0'], ['the', '0'], ['O/A', '0'], ['ratio', '0'], ['from', '0'], ['1/1', 'Q'], ['to', 'Q-cont'], ['3/1', 'Q-cont'], ['the', '0'], ['degree', '0'], ['of', '0'], ['uranium', 'M'], ['stripping', '0'], ['is', '0'], ['about', '0'], ['95%,', 'Q'], ['and', '0'], ['only', '0'], ['at', '0'], ['a', '0'], ['larger', '0'], ['O/A', '0'], ['ratio', '0'], ['it', '0'], ['decreases.', '0'], ['Thus,', '0'], ['the', '0'], ['O/A', '0'], ['ratio', '0'], ['of', '0'], ['3/1', 'Q'], ['is', '0']]\n",
      "['0', '0', '0', 'M', '0', '0', '0', '0', '0', '0', '0', '0', '0', '0', '0', '0', '0', '0', '0', '0', '0', 'M', '0', '0', '0', '0', '0', '0', '0', '0', '0', '0', '0', '0', 'Q', '0', '0', '0', '0', '0', 'T', 'T', '0', '0', 'T', 'T', '0', '0', '0', '0', '0', '0', '0', '0', '0', '0', '0', 'Q', 'Q', 'Q', '0', '0', '0', 'M', '0', '0', '0', 'Q', '0', '0', '0', '0', '0', '0', '0', '0', '0', '0', '0', '0', '0', '0', 'Q', '0']\n",
      "\n",
      "\n",
      "[['Thus,', '0'], ['the', '0'], ['optimum', '0'], ['stripping', '0'], ['conditions', '0'], ['ensuring', '0'], ['approximately', '0'], ['98%', 'Q'], ['uranium', '0'], ['stripping', '0'], ['from', '0'], ['the', '0'], ['loaded', '0'], ['orange', '0'], ['peel', '0'], ['extractant', '0'], ['are', '0'], ['as', '0'], ['follows:', '0'], ['stripping', '0'], ['agent', '0'], ['1', 'Q'], ['M', 'Q-cont'], ['NaCl', '0'], ['+', '0'], ['1', 'Q'], ['M', 'Q-cont'], ['H2SO4;', '0'], ['O/A', '0'], ['=', 'Q-cont'], ['3', 'Q-cont'], [':', 'Q-cont'], ['1;', 'Q-cont'], ['contact', '0'], ['time', '0'], ['15', 'T'], ['min;', 'T-cont'], ['temperature', '0'], ['20–22°C', 'Q-cont']]\n",
      "['0', '0', '0', '0', '0', '0', '0', 'Q', '0', '0', '0', '0', '0', '0', '0', '0', '0', '0', '0', '0', '0', 'Q', 'Q', '0', '0', 'Q', 'Q', '0', '0', 'Q', 'Q', 'Q', 'Q', '0', '0', 'T', 'T', '0', 'Q']\n",
      "\n",
      "\n",
      "[['A', '0'], ['binary', '0'], ['extractant', '0'], ['based', '0'], ['on', '0'], ['trialkylbenzylammonium', 'C'], ['and', '0'], ['higher', '0'], ['isomeric', '0'], ['α,α′-branched', 'A'], ['carboxylic', 'A-cont'], ['acids', 'A-cont'], ['(R4NA)', '0'], ['was', '0'], ['synthesized.', '0'], ['The', '0'], ['extraction', '0'], ['of', '0'], ['uranyl', 'C'], ['nitrate', 'C-cont'], ['with', '0'], ['0.52', 'Q'], ['M', 'Q-cont'], ['solutions', '0'], ['of', '0'], ['R4NA', 'Q'], ['and', '0'], ['R4NNO3', 'Q'], ['in', '0'], ['toluene', 'C'], ['was', '0'], ['studied.', '0'], ['The', '0'], ['extraction', '0'], ['isotherms', '0'], ['were', '0'], ['constructed.', '0'], ['The', '0'], ['physicochemical', '0'], ['and', '0'], ['mathematical', '0'], ['models', '0'], ['of', '0'], ['the', '0'], ['extraction', '0'], ['of', '0'], ['uranyl', 'C'], ['nitrate', 'C-cont'], ['were', '0'], ['developed.', '0'], ['The', '0'], ['following', '0'], ['extractable', '0'], ['species', '0'], ['were', '0'], ['shown', '0'], ['to', '0'], ['be', '0'], ['formed', '0'], ['in', '0'], ['the', '0'], ['organic', '0'], ['phase:', '0'], ['(R4N)2[UO2(NO3)4],', 'A'], ['R4N[UO2A(NO3)2],', '0'], ['and', '0'], ['(R4N)2[UO2A2(NO3)2]', 'A-cont'], ['The', '0']]\n",
      "['0', '0', '0', '0', '0', 'C', '0', '0', '0', 'A', 'A', 'A', '0', '0', '0', '0', '0', '0', 'C', 'C', '0', 'Q', 'Q', '0', '0', 'Q', '0', 'Q', '0', 'C', '0', '0', '0', '0', '0', '0', '0', '0', '0', '0', '0', '0', '0', '0', '0', '0', 'C', 'C', '0', '0', '0', '0', '0', '0', '0', '0', '0', '0', '0', '0', '0', '0', '0', 'A', '0', '0', 'A', '0']\n",
      "\n",
      "\n",
      "[['The', '0'], ['sorption', '0'], ['ability', '0'], ['of', '0'], ['a', '0'], ['solid-phase', '0'], ['extractant', '0'], ['with', '0'], ['dipicolinic', 'A'], ['acid', 'A-cont'], ['N,N’-diethyl-N,N’-di(p-tolyl)', 'A-cont'], ['diamide', 'A-cont'], ['groups', 'A-cont'], ['on', '0'], ['fibrous', 'C'], ['polyacrylonitrile', 'C-cont'], ['(PAN)', 'C-cont'], ['matrix', 'C-cont'], ['was', '0'], ['studied.', '0'], ['The', '0'], ['conditions', '0'], ['for', '0'], ['immobilization', '0'], ['of', '0'], ['the', '0'], ['reagent', '0'], ['on', '0'], ['PAN', 'C'], ['disks', '0'], ['were', '0'], ['determined,', '0'], ['and', '0'], ['the', '0'], ['possibility', '0'], ['of', '0'], ['sorption', '0'], ['preconcentration', '0'], ['and', '0'], ['separation', '0'], ['of', '0'], ['U(VI),', 'M'], ['Pu(IV),', '0'], ['Am(III),', '0'], ['and', '0'], ['Eu(III)', 'M'], ['from', '0'], ['2–6', 'A'], ['M', 'A-cont'], ['HNO3', 'A-cont'], ['solutions', '0'], ['was', '0'], ['examined.', '0'], ['The', '0'], ['solid-phase', '0'], ['extractant', '0'], ['obtained', '0'], ['exhibits', '0'], ['good', '0'], ['kinetic', '0'], ['properties', '0'], ['and', '0'], ['can', '0'], ['be', '0'], ['used', '0'], ['for', '0'], ['separation', '0'], ['of', '0'], ['Am(III)', 'M'], ['+', '0'], ['EU(III).', 'M']]\n",
      "['0', '0', '0', '0', '0', '0', '0', '0', 'A', 'A', 'A', 'A', 'A', '0', 'C', 'C', 'C', 'C', '0', '0', '0', '0', '0', '0', '0', '0', '0', '0', 'C', '0', '0', '0', '0', '0', '0', '0', '0', '0', '0', '0', '0', 'M', '0', '0', '0', 'M', '0', 'A', 'A', 'A', '0', '0', '0', '0', '0', '0', '0', '0', '0', '0', '0', '0', '0', '0', '0', '0', '0', '0', 'M', '0', 'M']\n",
      "\n",
      "\n",
      "[['Thermal', '0'], ['properties', '0'], ['of', '0'], ['2,2′-bipyridine-6,6′-dicarboxylic', 'A'], ['acid', 'A-cont'], ['bis(N-ethyl-4-hexylanilide)', 'A-cont'], ['(DYP-7)', 'A-cont'], ['were', '0'], ['studied', '0'], ['by', '0'], ['DSC-TG', '0'], ['with', '0'], ['the', '0'], ['aim', '0'], ['of', '0'], ['evaluating', '0'], ['its', '0'], ['fire', '0'], ['and', '0'], ['explosion', '0'], ['hazard.', '0'], ['Heating', '0'], ['at', '0'], ['a', '0'], ['rate', '0'], ['of', '0'], ['1', 'Q'], ['K', 'Q-cont'], ['min–1', 'Q-cont'], ['is', '0'], ['accompanied', '0'], ['by', '0'], ['exothermic', '0'], ['effects', '0'], ['with', '0'], ['the', '0'], ['onset', '0'], ['temperatures', 'Q'], ['of', 'Q-cont'], ['202,', 'Q-cont'], ['312,', 'Q-cont'], ['and', 'Q-cont'], ['432°С', 'Q-cont'], ['for', '0'], ['the', '0'], ['initial', '0'], ['extractant', '0'], ['and', '0'], ['62,', 'Q'], ['297,', 'Q-cont'], ['and', 'Q-cont'], ['412°С', 'Q-cont'], ['for', '0'], ['the', '0'], ['extractant', '0'], ['saturated', '0'], ['with', '0'], ['nitric', 'A'], ['acid.', 'A-cont'], ['The', '0'], ['presence', '0'], ['of', '0'], ['extracted', '0'], ['nitric', 'A'], ['acid', 'A-cont'], ['decreases', '0'], ['the', '0'], ['self-ignition', '0'], ['point', '0'], ['of', '0'], ['DYP-7', '0'], ['by', '0'], ['at', '0'], ['least', '0'], ['20°С.', 'Q-cont']]\n",
      "['0', '0', '0', 'A', 'A', 'A', 'A', '0', '0', '0', '0', '0', '0', '0', '0', '0', '0', '0', '0', '0', '0', '0', '0', '0', '0', '0', 'Q', 'Q', 'Q', '0', '0', '0', '0', '0', '0', '0', '0', 'Q', 'Q', 'Q', 'Q', 'Q', 'Q', '0', '0', '0', '0', '0', 'Q', 'Q', 'Q', 'Q', '0', '0', '0', '0', '0', 'A', 'A', '0', '0', '0', '0', 'A', 'A', '0', '0', '0', '0', '0', '0', '0', '0', '0', 'Q']\n",
      "\n",
      "\n",
      "[['The', '0'], ['onset', '0'], ['temperatures', '0'], ['of', '0'], ['the', '0'], ['exothermic', '0'], ['effects', '0'], ['tend', '0'], ['to', '0'], ['increase', '0'], ['with', '0'], ['increasing', '0'], ['heating', '0'], ['rate.', '0'], ['The', '0'], ['extractant', '0'], ['thermolysis', '0'], ['products', '0'], ['characteristic', '0'], ['of', '0'], ['the', '0'], ['exothermic', '0'], ['effect', '0'], ['with', '0'], ['the', '0'], ['onset', '0'], ['temperature', '0'], ['of', '0'], ['202°C', 'Q'], ['were', '0'], ['identified', '0'], ['by', '0'], ['GC-MS.', '0'], ['These', '0'], ['are', '0'], ['the', '0'], ['deethylation', '0'], ['product,', '0'], ['2,2′-bipyridine-6,6′-dicarboxylic', 'A'], ['acid', 'A-cont'], ['N,N′-bis(4-hexylphenyl)amide,', 'A-cont'], ['and', '0'], ['product', '0'], ['of', '0'], ['further', '0'], ['dearylation/reduction,', '0'], ['6′-formyl-N-(4-hexylphenyl)-2,2′-bipyridine-6-carboxamide.', 'A']]\n",
      "['0', '0', '0', '0', '0', '0', '0', '0', '0', '0', '0', '0', '0', '0', '0', '0', '0', '0', '0', '0', '0', '0', '0', '0', '0', '0', '0', '0', 'Q', '0', '0', '0', '0', '0', '0', '0', '0', '0', 'A', 'A', 'A', '0', '0', '0', '0', '0', 'A']\n",
      "\n",
      "\n",
      "[['The', '0'], ['extraction', '0'], ['of', '0'], ['Nd(III),', 'M'], ['Eu(III),', '0'], ['Sm(III),', '0'], ['Gd(III),', '0'], ['and', '0'], ['Dy(III)', 'M'], ['from', '0'], ['nitrate', '0'], ['solutions', '0'], ['with', '0'], [\"N,N,N',N'-tetrabutylsuccinamide\", 'A'], ['(TBSA)', 'A-cont'], ['in', '0'], ['toluene', 'C'], ['was', '0'], ['studied.', '0'], ['The', '0'], ['distribution', '0'], ['ratios', '0'], ['of', '0'], ['the', '0'], ['investigated', '0'], ['metal', 'M'], ['ions', 'M-cont'], ['were', '0'], ['determined', '0'], ['in', '0'], ['relation', '0'], ['to', '0'], ['the', '0'], ['nitric', 'A'], ['acid', 'A-cont'], ['concentration,', '0'], ['kind', '0'], ['of', '0'], ['diluent,', '0'], ['concentrations', '0'], ['of', '0'], ['the', '0'], ['extractant', '0'], ['and', '0'], ['salting-out', '0'], ['agents,', '0'], ['and', '0'], ['temperature.', '0'], ['The', '0'], ['stoichiometry', '0'], ['of', '0'], ['the', '0'], ['TBSA–HNO3', 'A'], ['adducts', '0'], ['that', '0'], ['prevail', '0'], ['under', '0'], ['the', '0'], ['experimental', '0'], ['conditions', '0'], ['is', '0'], ['1:', 'Q'], ['1', 'Q-cont'], ['(HNO3·TBSA).', '0']]\n",
      "['0', '0', '0', 'M', '0', '0', '0', '0', 'M', '0', '0', '0', '0', 'A', 'A', '0', 'C', '0', '0', '0', '0', '0', '0', '0', '0', 'M', 'M', '0', '0', '0', '0', '0', '0', 'A', 'A', '0', '0', '0', '0', '0', '0', '0', '0', '0', '0', '0', '0', '0', '0', '0', '0', '0', 'A', '0', '0', '0', '0', '0', '0', '0', '0', 'Q', 'Q', '0']\n",
      "\n",
      "\n",
      "[['The', '0'], ['investigated', '0'], ['Ln(III)', 'M'], ['are', '0'], ['poorly', '0'], ['extracted', '0'], ['with', '0'], ['TBSA', 'A'], ['in', 'A-cont'], ['the', '0'], ['entire', '0'], ['range', '0'], ['of', '0'], ['nitric', 'A'], ['acid', 'A-cont'], ['concentration', '0'], ['(0.1–7', '0'], ['M).', 'Q-cont'], ['Good', '0'], ['separation', '0'], ['of', '0'], ['U(VI)', 'M'], ['or', '0'], ['Th(IV)', 'M'], ['from', '0'], ['the', '0'], ['investigated', '0'], ['lanthanides', 'M'], ['can', '0'], ['be', '0'], ['achieved', '0'], ['at', '0'], ['high', '0'], ['nitric', 'A'], ['acid', 'A-cont'], ['concentrations', '0'], ['(7', '0'], ['M).', 'Q-cont'], ['The', '0'], ['distribution', '0'], ['ratios', '0'], ['of', '0'], ['the', '0'], ['investigated', '0'], ['metal', '0'], ['ions', '0'], ['sharply', '0'], ['decrease', '0'], ['with', '0'], ['increasing', '0'], ['nitric', '0'], ['acid', '0'], ['concentration', '0'], ['in', '0'], ['the', '0'], ['presence', '0'], ['of', '0'], ['5', '0'], ['M', '0'], ['LiNO3.', 'A-cont']]\n",
      "['0', '0', 'M', '0', '0', '0', '0', 'A', 'A', '0', '0', '0', '0', 'A', 'A', '0', '0', 'Q', '0', '0', '0', 'M', '0', 'M', '0', '0', '0', 'M', '0', '0', '0', '0', '0', 'A', 'A', '0', '0', 'Q', '0', '0', '0', '0', '0', '0', '0', '0', '0', '0', '0', '0', '0', '0', '0', '0', '0', '0', '0', '0', '0', 'A']\n",
      "\n",
      "\n",
      "[['The', '0'], ['extractable', '0'], ['species', '0'], ['of', '0'], ['Nd(III),', 'M'], ['Eu(III),', '0'], ['Sm(III),', '0'], ['Gd(III),', '0'], ['and', '0'], ['Dy(III)', 'M'], ['with', '0'], ['TBSA', 'A'], ['were', '0'], ['found', '0'], ['to', '0'], ['be', '0'], ['trisolvates.', 'C'], ['The', '0'], ['extractable', '0'], ['species', '0'], ['were', '0'], ['also', '0'], ['studied', '0'], ['by', '0'], ['IR', '0'], ['spectroscopy.', '0'], ['The', '0'], ['thermodynamics', '0'], ['functions', '0'], ['for', '0'], ['the', '0'], ['extraction', '0'], ['of', '0'], ['the', '0'], ['investigated', '0'], ['Ln(III)', 'M-cont'], ['were', '0']]\n",
      "['0', '0', '0', '0', 'M', '0', '0', '0', '0', 'M', '0', 'A', '0', '0', '0', '0', 'C', '0', '0', '0', '0', '0', '0', '0', '0', '0', '0', '0', '0', '0', '0', '0', '0', '0', '0', 'M', '0']\n",
      "\n",
      "\n",
      "[['The', '0'], ['solvent', '0'], ['extraction', '0'], ['of', '0'], ['the', '0'], ['90Y/90Sr', '0'], ['pair', '0'], ['from', '0'], ['carbonate', '0'], ['media', '0'], ['with', '0'], ['mixtures', '0'], ['of', '0'], ['aromatic', 'A'], ['dihydroxy', 'A-cont'], ['compounds', '0'], ['and', '0'], ['a', '0'], ['quaternary', 'A'], ['ammonium', 'A-cont'], ['salt—methyltrioctylammonium', 'A-cont'], ['carbonate', 'A-cont'], ['(MTOAC)—in', 'A-cont'], ['toluene', '0'], ['and', '0'], ['butyl', 'A'], ['acetate', 'A-cont'], ['was', '0'], ['studied.', '0'], ['It', '0'], ['was', '0'], ['found', '0'], ['that', '0'], ['MTOAC', 'A'], ['increases', '0'], ['the', '0'], ['distribution', '0'], ['coefficients', '0'], ['of', '0'], ['both', '0'], ['the', '0'], ['extractant', '0'], ['itself', '0'], ['and', '0'], ['its', '0'], ['solvate', '0'], ['with', '0'], ['yttrium', 'M'], ['due', '0'], ['to', '0'], ['the', '0'], ['formation', '0'], ['of', '0'], ['a', '0'], ['mixed', '0'], ['complex', '0'], ['of', '0'], ['yttrium', 'M'], ['and', '0'], ['a', '0'], ['dihydroxyaromatic', 'C'], ['ligand', 'C-cont'], ['with', '0'], ['MTOAC.', 'M']]\n",
      "['0', '0', '0', '0', '0', '0', '0', '0', '0', '0', '0', '0', '0', 'A', 'A', '0', '0', '0', 'A', 'A', 'A', 'A', 'A', '0', '0', 'A', 'A', '0', '0', '0', '0', '0', '0', 'A', '0', '0', '0', '0', '0', '0', '0', '0', '0', '0', '0', '0', '0', 'M', '0', '0', '0', '0', '0', '0', '0', '0', '0', 'M', '0', '0', 'C', 'C', '0', 'M']\n",
      "\n",
      "\n",
      "[['During', '0'], ['extraction', '0'], ['from', '0'], ['alkaline', '0'], ['carbonate', '0'], ['media', '0'], ['in', '0'], ['the', '0'], ['pH', 'Q'], ['range', 'Q-cont'], ['of', 'Q-cont'], ['12–13.5', 'Q-cont'], ['with', '0'], ['mixtures', '0'], ['of', '0'], ['0.01', 'Q'], ['M', 'Q-cont'], ['2,3-dihydroxynaphthalene', '0'], ['and', '0'], ['0.015', 'Q'], ['M', 'Q-cont'], ['MTOAC', '0'], ['in', '0'], ['butyl', 'C'], ['acetate', 'C-cont'], ['or', '0'], ['toluene,', 'C-cont'], ['the', '0'], ['distribution', '0'], ['coefficients', '0'], ['of', '0'], ['yttrium', 'M'], ['exceed', '0'], ['80;', 'Q'], ['the', '0'], ['separation', '0'], ['factors', '0'], ['of', '0'], ['the', '0'], ['90Y/90Sr', '0'], ['pair', '0'], ['under', '0'], ['these', '0'], ['conditions', '0'], ['are', '0'], ['more', '0'], ['than', '0'], ['105.', 'Q']]\n",
      "['0', '0', '0', '0', '0', '0', '0', '0', 'Q', 'Q', 'Q', 'Q', '0', '0', '0', 'Q', 'Q', '0', '0', 'Q', 'Q', '0', '0', 'C', 'C', '0', 'C', '0', '0', '0', '0', 'M', '0', 'Q', '0', '0', '0', '0', '0', '0', '0', '0', '0', '0', '0', '0', '0', 'Q']\n",
      "\n",
      "\n",
      "[['Dilute', '0'], ['solutions', '0'], ['of', '0'], ['hydrochloric,', 'A'], ['nitric,', '0'], ['and', '0'], ['sulfuric', 'A'], ['acids', 'A-cont'], ['can', '0'], ['be', '0'], ['used', '0'], ['for', '0'], ['the', '0'], ['complete', '0'], ['stripping', '0'], ['of', '0'], ['yttrium.', 'M'], ['The', '0'], ['studied', '0'], ['mixtures', '0'], ['are', '0'], ['chemically', '0'], ['stable', '0'], ['and', '0'], ['do', '0'], ['not', '0'], ['change', '0'], ['the', '0'], ['extraction', '0'], ['properties', '0'], ['upon', '0'], ['multiple', '0'], ['extraction/stripping', '0'], ['cycles.', '0'], ['Model', '0'], ['experiments', '0'], ['on', '0'], ['the', '0'], ['leaching', '0'], ['of', '0'], ['yttrium', 'M'], ['from', '0'], ['natural', '0'], ['samples', '0'], ['showed', '0'], ['that', '0'], ['the', '0'], ['percentage', '0'], ['of', '0'], ['stable', '0'], ['yttrium', 'M'], ['extraction', '0'], ['from', '0'], ['sand', '0'], ['is', '0'], ['70–80%,', 'Q'], ['while', '0'], ['the', '0'], ['percentage', '0'], ['of', '0'], ['yttrium', 'M'], ['extraction', '0'], ['from', '0'], ['soil', '0'], ['is', '0'], ['50–60%.', 'Q']]\n",
      "['0', '0', '0', 'A', '0', '0', 'A', 'A', '0', '0', '0', '0', '0', '0', '0', '0', 'M', '0', '0', '0', '0', '0', '0', '0', '0', '0', '0', '0', '0', '0', '0', '0', '0', '0', '0', '0', '0', '0', '0', '0', 'M', '0', '0', '0', '0', '0', '0', '0', '0', '0', 'M', '0', '0', '0', '0', 'Q', '0', '0', '0', '0', 'M', '0', '0', '0', '0', 'Q']\n",
      "\n",
      "\n",
      "[['The', '0'], ['following', '0'], ['aromatic', '0'], ['dihydroxy', '0'], ['compounds', '0'], ['were', '0'], ['studied', '0'], ['in', '0'], ['the', '0'], ['work:', '0'], ['2,3-dihydroxynaphthalene', 'A'], ['(2,3DHN),', 'A-cont'], ['pyrocatechol', '0'], ['(1,2DHB),', 'A-cont'], ['alizarin,', '0'], ['and', '0'], ['4-tert-butylpyrocatechol', 'A'], ['(4TBC).', 'A-cont']]\n",
      "['0', '0', '0', '0', '0', '0', '0', '0', '0', '0', 'A', 'A', '0', 'A', '0', '0', 'A', 'A']\n",
      "\n",
      "\n",
      "[['Methyltrioctylammonium', 'A'], ['carbonate', 'A-cont'], ['(MTOAC)', 'A-cont'], ['was', '0'], ['used', '0'], ['as', '0'], ['the', '0'], ['alkylammonium', 'C'], ['salt', 'C-cont'], ['synthesized', '0'], ['at', '0'], ['the', '0'], ['Mendeleev', '0'], ['University', '0'], ['of', '0'], ['Chemical', '0'], ['Technologies', '0'], ['of', '0'], ['Russia', '0'], ['according', '0'], ['to', '0'], ['the', '0'], ['original', '0'], ['method', '0'], ['and', '0'], ['provided', '0'], ['by', '0'], ['S.I.', '0'], ['Stepanov.', '0'], ['2,3DHN', '0'], ['was', '0'], ['received', '0'], ['from', '0'], ['Schuhardt', '0'], ['(Munich,', '0'], ['Germany);', '0'], ['4TBC', 'A'], ['was', '0'], ['purchased', '0'], ['from', '0'], ['Sigma-Aldrich', '0'], ['(Germany);', '0'], ['1,2DHB', 'A'], ['and', '0'], ['alizarin', 'A'], ['were', '0'], ['manufactured', '0']]\n",
      "['A', 'A', 'A', '0', '0', '0', '0', 'C', 'C', '0', '0', '0', '0', '0', '0', '0', '0', '0', '0', '0', '0', '0', '0', '0', '0', '0', '0', '0', '0', '0', '0', '0', '0', '0', '0', '0', 'A', '0', '0', '0', '0', '0', 'A', '0', 'A', '0', '0']\n",
      "\n",
      "\n",
      "[['Solvents,', '0'], ['butyl', 'A'], ['acetate', 'A-cont'], ['(BuAc),', 'A-cont'], ['toluene', '0'], ['(PhMe),', 'C-cont'], ['inorganic', '0'], ['salts', 'C-cont'], ['and', '0']]\n",
      "['0', 'A', 'A', 'A', '0', 'C', '0', 'C', '0']\n",
      "\n",
      "\n",
      "[['Extraction', '0'], ['experiments', '0'], ['were', '0'], ['carried', '0'], ['out', '0'], ['as', '0'], ['follows:', '0'], ['1', 'Q'], ['mL', 'Q-cont'], ['of', '0'], ['the', '0'], ['aqueous', '0'], ['and', '0'], ['organic', '0'], ['phases', '0'], ['were', '0'], ['placed', '0'], ['into', '0'], ['a', '0'], ['5-mL', 'Q'], ['polypropylene', '0'], ['tube,', '0'], ['stirred', '0'], ['at', '0'], ['21', 'Q'], ['±', 'Q-cont'], ['1°C', 'Q-cont'], ['for', '0'], ['10', 'T'], ['min', 'T-cont'], ['(sufficient', '0'], ['to', '0'], ['attain', '0'], ['complete', '0'], ['equilibrium', '0'], ['according', '0'], ['to', '0'], ['the', '0'], ['data', '0'], ['of', '0'], ['preliminary', '0'], ['experiments),', '0'], ['and', '0'], ['the', '0'], ['phases', '0'], ['were', '0'], ['separated', '0'], ['by', '0'], ['centrifugation', '0'], ['(3000', '0'], ['rpm,', 'Q-cont'], ['5', '0'], ['min).', 'T-cont'], ['The', '0'], ['concentration', '0'], ['of', '0'], ['stable', '0'], ['strontium', 'M'], ['and', '0'], ['yttrium', 'M'], ['was', '0'], ['determined', '0'], ['on', '0'], ['a', '0'], ['Varian', '0'], ['725-ES', '0'], ['optical', '0'], ['emission', '0'], ['spectrometer', '0'], ['with', '0'], ['an', '0'], ['error', '0'], ['of', '0'], ['no', '0'], ['more', '0'], ['than', '0'], ['5%.', 'Q']]\n",
      "['0', '0', '0', '0', '0', '0', '0', 'Q', 'Q', '0', '0', '0', '0', '0', '0', '0', '0', '0', '0', 'Q', '0', '0', '0', '0', 'Q', 'Q', 'Q', '0', 'T', 'T', '0', '0', '0', '0', '0', '0', '0', '0', '0', '0', '0', '0', '0', '0', '0', '0', '0', '0', '0', '0', 'Q', '0', 'T', '0', '0', '0', '0', 'M', '0', 'M', '0', '0', '0', '0', '0', '0', '0', '0', '0', '0', '0', '0', '0', '0', '0', '0', 'Q']\n",
      "\n",
      "\n",
      "[['The', '0'], ['activity', '0'], ['of', '0'], ['the', '0'], ['90Sr', 'M'], ['and', '0'], ['90Y', 'M'], ['isotopes', '0'], ['in', '0'], ['the', '0'], ['initial', '0'], ['solution', '0'], ['was', '0'], ['found', '0'], ['on', '0'], ['a', '0'], ['Quantulus', '0'], ['1220', '0'], ['liquid', '0'], ['scintillation', '0'], ['spectrometer', '0'], ['(Perkin', '0'], ['Elmer),', '0'], ['measurement', '0'], ['geometry', '0'], ['4π,', 'Q'], ['with', '0'], ['an', '0'], ['error', '0'], ['not', '0'], ['exceeding', '0'], ['10%.', 'Q'], ['The', '0'], ['concentration', '0'], ['of', '0'], ['2,3-dihydroxynaphthalene', 'A'], ['in', '0'], ['the', '0'], ['aqueous', '0'], ['phase', '0'], ['was', '0'], ['determined', '0'], ['on', '0'], ['a', '0'], ['Shimadzu', '0'], ['UV-2600', '0'], ['UV', '0'], ['spectrometer', '0'], ['by', '0'], ['absorbance', '0'], ['at', '0'], ['237', 'Q'], ['nm.', 'Q-cont']]\n",
      "['0', '0', '0', '0', 'M', '0', 'M', '0', '0', '0', '0', '0', '0', '0', '0', '0', '0', '0', '0', '0', '0', '0', '0', '0', '0', 'Q', '0', '0', '0', '0', '0', 'Q', '0', '0', '0', 'A', '0', '0', '0', '0', '0', '0', '0', '0', '0', '0', '0', '0', '0', '0', '0', 'Q', 'Q']\n",
      "\n",
      "\n",
      "[['Aqueous', '0'], ['media', '0'], ['with', '0'], ['different', '0'], ['pH', '0'], ['and', '0'], ['constant', '0'], ['ionic', '0'], ['strength', '0'], ['were', '0'], ['prepared', '0'], ['by', '0'], ['mixing', '0'], ['solutions', '0'], ['of', '0'], ['1', 'Q'], ['M', 'Q-cont'], ['NaHCO3', '0'], ['and', '0'], ['1', 'Q'], ['M', 'Q-cont'], ['NaOH.', '0'], ['The', '0']]\n",
      "['0', '0', '0', '0', '0', '0', '0', '0', '0', '0', '0', '0', '0', '0', '0', 'Q', 'Q', '0', '0', 'Q', 'Q', '0', '0']\n",
      "\n",
      "\n",
      "[['Model', '0'], ['experiments', '0'], ['with', '0'], ['natural', '0'], ['samples', '0'], ['were', '0'], ['conducted', '0'], ['as', '0'], ['follows.', '0'], ['A', '0'], ['sample', '0'], ['of', '0'], ['building', '0'], ['sand', '0'], ['was', '0'], ['homogenized,', '0'], ['sifted', '0'], ['through', '0'], ['a', '0'], ['sieve', '0'], ['and', '0'], ['dried', '0'], ['in', '0'], ['an', '0'], ['oven.', '0'], ['After', '0'], ['that,', '0'], ['a', '0'], ['sample', '0'], ['of', '0'], ['sand', '0'], ['weighing', '0'], ['1', 'Q'], ['g', 'Q-cont'], ['was', '0'], ['taken.', '0'], ['A', '0'], ['solution', '0'], ['of', '0'], ['stable', '0'], ['yttrium', 'M'], ['nitrate', 'M-cont'], ['was', '0'], ['added', '0'], ['to', '0'], ['the', '0'], ['sample', '0'], ['in', '0'], ['such', '0'], ['an', '0'], ['amount', '0'], ['that', '0'], ['its', '0'], ['concentration', '0'], ['in', '0'], ['the', '0'], ['final', '0'], ['sample', '0'], ['was', '0'], ['30', 'Q'], ['mg/L,', 'Q-cont'], ['everything', '0'], ['was', '0'], ['thoroughly', '0'], ['mixed', '0'], ['and', '0'], ['dried', '0'], ['in', '0'], ['an', '0'], ['oven,', '0'], ['after', '0'], ['which', '0'], ['3', 'Q'], ['g', 'Q-cont'], ['of', '0'], ['Na2CO3', 'A'], ['and', '0'], ['K2CO3', 'A'], ['were', '0']]\n",
      "['0', '0', '0', '0', '0', '0', '0', '0', '0', '0', '0', '0', '0', '0', '0', '0', '0', '0', '0', '0', '0', '0', '0', '0', '0', '0', '0', '0', '0', '0', '0', '0', 'Q', 'Q', '0', '0', '0', '0', '0', '0', 'M', 'M', '0', '0', '0', '0', '0', '0', '0', '0', '0', '0', '0', '0', '0', '0', '0', '0', '0', 'Q', 'Q', '0', '0', '0', '0', '0', '0', '0', '0', '0', '0', '0', 'Q', 'Q', '0', 'A', '0', 'A', '0']\n",
      "\n",
      "\n",
      "[['The', '0'], ['resulting', '0'], ['mixture', '0'], ['was', '0'], ['calcined', '0'], ['in', '0'], ['a', '0'], ['muffle', '0'], ['for', '0'], ['1', 'T'], ['h', 'T-cont'], ['at', '0'], ['500°C.', 'Q'], ['After', '0'], ['cooling', '0'], ['the', '0'], ['mixture', '0'], ['to', '0'], ['room', '0'], ['temperature,', '0'], ['the', '0'], ['sample', '0'], ['was', '0'], ['placed', '0'], ['in', '0'], ['a', '0'], ['polypropylene', '0'], ['test', '0'], ['tube,', '0'], ['50', 'Q'], ['mL', 'Q-cont'], ['of', '0'], ['the', '0'], ['leaching', '0'], ['agent', '0'], ['solution', '0'], ['was', '0'], ['added', '0'], ['to', '0'], ['the', '0'], ['sample', '0'], ['(5', '0'], ['leaching', '0'], ['agents', '0'], ['were', '0'], ['tested', '0'], ['in', '0'], ['total—H2O/H2O2', '0'], ['(3', 'A-cont'], [':', 'A-cont'], ['2),', 'A-cont'], ['NaHCO3/H2O2,', '0'], ['NH4HCO3/H2O2,', '0'], ['and', '0'], ['(NH4)2CO3/H2O2,', 'A-cont'], ['(NH4)2CO3).', '0']]\n",
      "['0', '0', '0', '0', '0', '0', '0', '0', '0', 'T', 'T', '0', 'Q', '0', '0', '0', '0', '0', '0', '0', '0', '0', '0', '0', '0', '0', '0', '0', '0', 'Q', 'Q', '0', '0', '0', '0', '0', '0', '0', '0', '0', '0', '0', '0', '0', '0', '0', '0', '0', 'A', 'A', 'A', '0', '0', '0', 'A', '0']\n",
      "\n",
      "\n",
      "[['For', '0'], ['2', 'T'], ['h,', 'T-cont'], ['a', '0'], ['sample', '0'], ['of', '0'], ['sand', '0'], ['was', '0'], ['contacted', '0'], ['at', '0'], ['stirring', '0'], ['with', '0'], ['the', '0'], ['aqueous', '0'], ['phase', '0'], ['to', '0'], ['transfer', '0'], ['yttrium', '0'], ['carbonate', '0'], ['into', '0'], ['the', '0'], ['aqueous', '0'], ['phase.', '0'], ['Then', '0'], ['the', '0'], ['aqueous', '0'], ['phase', '0'], ['was', '0'], ['separated', '0'], ['and', '0'], ['sent', '0'], ['for', '0'], ['extraction', '0'], ['with', '0'], ['a', '0'], ['mixture', '0'], ['of', '0'], ['0.01', 'Q-cont'], ['M', 'Q-cont'], ['2.3DHN', '0'], ['+', '0'], ['0.015', 'Q'], ['M', 'Q-cont'], ['MTOAC', '0'], ['in', '0'], ['toluene', 'C'], ['at', '0'], ['a', '0'], ['volume', '0'], ['ratio', '0'], ['of', '0'], ['the', '0'], ['organic', '0'], ['and', '0'], ['aqueous', '0'], ['phases', '0'], ['O', 'Q'], [':', 'Q-cont'], ['A', 'Q-cont'], ['=', 'Q-cont'], ['1', 'Q-cont'], [':', 'Q-cont'], ['1', 'Q-cont'], ['and', '0'], ['a', '0'], ['contact', '0'], ['time', '0'], ['of', '0'], ['10', 'T'], ['min.', 'T-cont']]\n",
      "['0', 'T', 'T', '0', '0', '0', '0', '0', '0', '0', '0', '0', '0', '0', '0', '0', '0', '0', '0', '0', '0', '0', '0', '0', '0', '0', '0', '0', '0', '0', '0', '0', '0', '0', '0', '0', '0', 'Q', 'Q', '0', '0', 'Q', 'Q', '0', '0', 'C', '0', '0', '0', '0', '0', '0', '0', '0', '0', '0', 'Q', 'Q', 'Q', 'Q', 'Q', 'Q', 'Q', '0', '0', '0', '0', '0', 'T', 'T']\n",
      "\n",
      "\n",
      "[['Afterwards,', '0'], ['the', '0'], ['phases', '0'], ['were', '0'], ['separated', '0'], ['by', '0'], ['centrifugation.', '0'], ['Yttrium', 'M'], ['was', '0'], ['stripped', '0'], ['from', '0'], ['the', '0'], ['organic', '0'], ['phase', '0'], ['with', '0'], ['a', '0'], ['0.05', 'Q'], ['M', 'Q-cont'], ['HNO3', '0'], ['solution', '0'], ['at', '0'], ['O', 'Q'], [':', 'Q-cont'], ['A', 'Q-cont'], ['=', 'Q-cont'], ['5', 'Q-cont'], [':', 'Q-cont'], ['1,', 'Q-cont'], ['after', '0'], ['which', '0'], ['the', '0'], ['nitric', 'A'], ['acid', 'A-cont'], ['aqueous', '0'], ['solution', '0'], ['was', '0'], ['separated', '0'], ['by', '0'], ['centrifugation.', '0'], ['The', '0'], ['content', '0'], ['of', '0'], ['stable', '0'], ['yttrium', 'M'], ['was', '0']]\n",
      "['0', '0', '0', '0', '0', '0', '0', 'M', '0', '0', '0', '0', '0', '0', '0', '0', 'Q', 'Q', '0', '0', '0', 'Q', 'Q', 'Q', 'Q', 'Q', 'Q', 'Q', '0', '0', '0', 'A', 'A', '0', '0', '0', '0', '0', '0', '0', '0', '0', '0', 'M', '0']\n",
      "\n",
      "\n",
      "[['A', '0'], ['soil', '0'], ['sample', '0'], ['(500', '0'], ['g),', 'Q-cont'], ['taken', '0'], ['in', '0'], ['a', '0'], ['forest', '0'], ['belt', '0'], ['on', '0'], ['the', '0'], ['territory', '0'], ['of', '0'], ['the', '0'], ['Leningrad', '0'], ['Region,', '0'], ['was', '0'], ['homogenized,', '0'], ['sifted', '0'], ['through', '0'], ['a', '0'], ['sieve', '0'], ['and', '0'], ['mixed', '0'], ['with', '0'], ['a', '0'], ['radioactive', '0'], ['label', '0'], ['containing', '0'], ['a', '0'], ['90Y/90Sr', '0'], ['pair', '0'], ['being', '0'], ['in', '0'], ['radioactive', '0'], ['equilibrium', '0'], ['with', '0'], ['a', '0'], ['total', '0'], ['activity', '0'], ['of', '0'], ['530', 'Q'], ['Bq', 'Q-cont'], ['(the', '0'], ['specific', '0'], ['activity', '0'], ['of', '0'], ['the', '0'], ['soil', '0'], ['was', '0'], ['about', '0'], ['1', 'Q'], ['Bq/g', 'Q-cont'], [').', '0']]\n",
      "['0', '0', '0', '0', 'Q', '0', '0', '0', '0', '0', '0', '0', '0', '0', '0', '0', '0', '0', '0', '0', '0', '0', '0', '0', '0', '0', '0', '0', '0', '0', '0', '0', '0', '0', '0', '0', '0', '0', '0', '0', '0', '0', 'Q', 'Q', '0', '0', '0', '0', '0', '0', '0', '0', 'Q', 'Q', '0']\n",
      "\n",
      "\n",
      "[['A', '0'], ['soil', '0'], ['sample', '0'], ['labelled', '0'], ['with', '0'], ['90Y/90Sr', '0'], ['was', '0'], ['dried', '0'], ['in', '0'], ['an', '0'], ['oven,', '0'], ['after', '0'], ['which', '0'], ['a', '0'], ['sample', '0'], ['(2', '0'], ['g)', 'Q-cont'], ['was', '0'], ['taken.', '0'], ['Solutions', '0'], ['of', '0'], ['stable', '0'], ['yttrium', 'M-cont'], ['and', '0'], ['strontium', 'M'], ['nitrates', 'M-cont'], ['in', '0'], ['the', '0'], ['molar', '0'], ['ratio', '0'], ['Y', 'M'], [':', '0'], ['Sr', 'M'], ['=', '0'], ['10', 'Q'], [':', 'Q-cont'], ['1', 'Q-cont'], ['were', '0'], ['added', '0'], ['to', '0'], ['the', '0'], ['sample,', '0'], ['everything', '0'], ['was', '0'], ['thoroughly', '0'], ['stirred', '0'], ['and', '0'], ['dried', '0'], ['in', '0'], ['an', '0'], ['oven;', '0'], ['then', '0'], ['10', 'Q'], ['g', 'Q-cont'], ['of', '0'], ['Na2CO3', 'A'], ['and', '0'], ['K2CO3', 'A'], ['were', '0'], ['added', '0'], ['to', '0']]\n",
      "['0', '0', '0', '0', '0', '0', '0', '0', '0', '0', '0', '0', '0', '0', '0', '0', 'Q', '0', '0', '0', '0', '0', 'M', '0', 'M', 'M', '0', '0', '0', '0', 'M', '0', 'M', '0', 'Q', 'Q', 'Q', '0', '0', '0', '0', '0', '0', '0', '0', '0', '0', '0', '0', '0', '0', '0', 'Q', 'Q', '0', 'A', '0', 'A', '0', '0', '0']\n",
      "\n",
      "\n",
      "[['The', '0'], ['resulting', '0'], ['mixture', '0'], ['was', '0'], ['calcined', '0'], ['in', '0'], ['a', '0'], ['muffle', '0'], ['for', '0'], ['1', 'T'], ['h', 'T-cont'], ['at', '0'], ['a', '0'], ['temperature', '0'], ['of', '0'], ['300°С,', 'Q'], ['and', '0'], ['then', '0'], ['for', '0'], ['another', '0'], ['4', 'T'], ['h', 'T-cont'], ['at', '0'], ['a', '0'], ['temperature', '0'], ['of', '0'], ['550°С.', 'Q'], ['After', '0'], ['the', '0'], ['mixture', '0'], ['was', '0'], ['cooled', '0'], ['to', '0'], ['room', '0'], ['temperature,', '0'], ['the', '0'], ['sample', '0'], ['was', '0'], ['placed', '0'], ['in', '0'], ['a', '0'], ['polypropylene', 'C-cont'], ['test', '0'], ['tube,', '0'], ['and', '0'], ['50', 'Q'], ['mL', 'Q-cont'], ['of', '0'], ['distilled', 'C'], ['water', 'C-cont'], ['was', '0']]\n",
      "['0', '0', '0', '0', '0', '0', '0', '0', '0', 'T', 'T', '0', '0', '0', '0', 'Q', '0', '0', '0', '0', 'T', 'T', '0', '0', '0', '0', 'Q', '0', '0', '0', '0', '0', '0', '0', '0', '0', '0', '0', '0', '0', '0', 'C', '0', '0', '0', 'Q', 'Q', '0', 'C', 'C', '0']\n",
      "\n",
      "\n",
      "[['The', '0'], ['sample', '0'], ['was', '0'], ['contacted', '0'], ['for', '0'], ['2', 'T'], ['h', 'T-cont'], ['at', '0'], ['stirring', '0'], ['with', '0'], ['water', '0'], ['to', '0'], ['transfer', '0'], ['yttrium', 'C'], ['carbonate', 'C-cont'], ['into', '0'], ['the', '0'], ['aqueous', '0'], ['phase.', '0'], ['Then', '0'], ['the', '0'], ['aqueous', '0'], ['phase', '0'], ['was', '0'], ['separated.', '0'], ['Yttrium', 'M'], ['was', 'M-cont'], ['extracted', '0'], ['from', '0'], ['it', '0'], ['with', '0'], ['a', '0'], ['mixture', '0'], ['of', '0'], ['0.01', 'Q'], ['M', 'Q-cont'], ['2.3DHN', '0'], ['+', '0'], ['0.015', 'Q-cont'], ['M', 'Q-cont'], ['MTOAC', '0'], ['in', '0'], ['toluene', 'C'], ['according', '0'], ['to', '0'], ['the', '0'], ['standard', '0'], ['procedure', '0'], ['at', '0'], ['O', 'Q'], [':', 'Q-cont'], ['A', 'Q-cont'], ['=', 'Q-cont'], ['1', 'Q-cont'], [':', 'Q-cont'], ['1', 'Q-cont'], ['and', '0'], ['a', '0'], ['contact', '0'], ['time', '0'], ['of', '0'], ['10', 'T'], ['min.', 'T-cont']]\n",
      "['0', '0', '0', '0', '0', 'T', 'T', '0', '0', '0', '0', '0', '0', 'C', 'C', '0', '0', '0', '0', '0', '0', '0', '0', '0', '0', 'M', 'M', '0', '0', '0', '0', '0', '0', '0', 'Q', 'Q', '0', '0', 'Q', 'Q', '0', '0', 'C', '0', '0', '0', '0', '0', '0', 'Q', 'Q', 'Q', 'Q', 'Q', 'Q', 'Q', '0', '0', '0', '0', '0', 'T', 'T']\n",
      "\n",
      "\n",
      "[['Afterwards,', '0'], ['the', '0'], ['phases', '0'], ['were', '0'], ['separated', '0'], ['by', '0'], ['centrifugation.', '0'], ['Yttrium', 'M'], ['was', '0'], ['stripped', '0'], ['from', '0'], ['the', '0'], ['organic', '0'], ['phase', '0'], ['with', '0'], ['a', '0'], ['0.05', 'Q'], ['M', 'Q-cont'], ['HNO3', '0'], ['solution', '0'], ['at', '0'], ['O', 'Q'], [':', 'Q-cont'], ['A', 'Q-cont'], ['=', 'Q-cont'], ['4', 'Q-cont'], [':', 'Q-cont'], ['1,', 'Q-cont'], ['then', '0'], ['the', '0'], ['nitric', 'A'], ['acid', 'A-cont'], ['aqueous', '0'], ['solution', '0'], ['was', '0'], ['separated', '0'], ['by', '0'], ['centrifugation.', '0'], ['The', '0'], ['content', '0'], ['of', '0'], ['stable', '0'], ['yttrium', 'M'], ['was', '0'], ['measured', '0'], ['by', '0'], ['the', '0'], ['spectrophotometric', '0'], ['method', '0'], ['and', '0'], ['the', '0'], ['content', '0'], ['of', '0'], ['yttrium-90', 'M'], ['by', '0'], ['the', '0'], ['radiometric', '0'], ['method', '0'], ['on', '0'], ['a', '0'], ['Teflon', '0'], ['target', '0'], ['using', '0'], ['an', '0'], ['A-85', '0'], ['radiometer', '0'], ['with', '0'], ['a', '0'], ['plastic', '0'], ['scintillator', '0'], ['(the', '0'], ['counting', '0'], ['efficiency', '0'], ['was', '0'], ['25%,', 'Q'], ['the', '0'], ['measurement', '0'], ['error', '0'], ['at', '0'], ['the', '0'], ['selected', '0'], ['exposure', '0'], ['time', '0'], ['was', '0'], ['no', '0'], ['higher', '0'], ['than', '0'], ['5%).', 'Q'], ['The', '0'], ['percentage', '0'], ['of', '0'], ['yttrium-90', 'M'], ['extraction', '0']]\n",
      "['0', '0', '0', '0', '0', '0', '0', 'M', '0', '0', '0', '0', '0', '0', '0', '0', 'Q', 'Q', '0', '0', '0', 'Q', 'Q', 'Q', 'Q', 'Q', 'Q', 'Q', '0', '0', 'A', 'A', '0', '0', '0', '0', '0', '0', '0', '0', '0', '0', 'M', '0', '0', '0', '0', '0', '0', '0', '0', '0', '0', 'M', '0', '0', '0', '0', '0', '0', '0', '0', '0', '0', '0', '0', '0', '0', '0', '0', '0', '0', '0', '0', 'Q', '0', '0', '0', '0', '0', '0', '0', '0', '0', '0', '0', '0', 'Q', '0', '0', '0', 'M', '0']\n",
      "\n",
      "\n",
      "[['Preliminary', '0'], ['experiments', '0'], ['showed', '0'], ['that', '0'], ['all', '0'], ['the', '0'], ['studied', '0'], ['aromatic', 'C'], ['dihydroxy', 'C-cont'], ['compounds', '0'], ['weakly', '0'], ['extract', '0'], ['yttrium', 'M'], ['from', '0'], ['alkaline', '0'], ['media.', '0'], ['The', '0'], ['low', '0'], ['extraction', '0'], ['efficiency', '0'], ['may', '0'], ['be', '0'], ['due', '0'], ['to', '0'], ['the', '0'], ['washing', '0'], ['out', '0'], ['of', '0'], ['the', '0'], ['extractant', '0'], ['into', '0'], ['the', '0'], ['aqueous', '0'], ['phase', '0'], ['because', '0'], ['of', '0'], ['the', '0'], ['formation', '0'], ['of', '0'], ['hydrophilic', 'C'], ['sodium', 'C-cont'], ['phenolates.', 'C-cont'], ['According', '0'], ['to', '0'], ['the', '0'], ['literature', '0'], ['data', '0'], ['[5],', '0'], ['2,3-dihydroxynaphthalene', 'A'], ['has', '0'], ['pKa1', 'Q-cont'], ['=', 'Q-cont'], ['8.8,', 'Q-cont'], ['pKa2', '0'], ['=', 'Q-cont'], ['12.6,', 'Q-cont'], ['which', '0'], ['indicates', '0'], ['its', '0'], ['complete', '0'], ['transition', '0'], ['to', '0'], ['the', '0'], ['monosodium', 'C'], ['salt', 'C-cont'], ['in', '0']]\n",
      "['0', '0', '0', '0', '0', '0', '0', 'C', 'C', '0', '0', '0', 'M', '0', '0', '0', '0', '0', '0', '0', '0', '0', '0', '0', '0', '0', '0', '0', '0', '0', '0', '0', '0', '0', '0', '0', '0', '0', '0', 'C', 'C', 'C', '0', '0', '0', '0', '0', '0', 'A', '0', 'Q', 'Q', 'Q', '0', 'Q', 'Q', '0', '0', '0', '0', '0', '0', '0', 'C', 'C', '0']\n",
      "\n",
      "\n",
      "[['The', '0'], ['MTOAC', 'A'], ['cation', '0'], ['generates', '0'], ['hydrophobic', 'C'], ['salts', 'C-cont'], ['with', '0'], ['the', '0'], ['phenolate', 'M'], ['anion', 'M-cont'], ['and', '0'], ['helps', '0'], ['to', '0'], ['reduce', '0'], ['the', '0'], ['loss', '0'], ['of', '0'], ['the', '0'], ['extractant', '0'], ['with', '0'], ['the', '0'], ['aqueous', '0'], ['phase.', '0'], ['Figure', '0'], ['1', '0'], ['shows', '0'], ['data', '0'], ['on', '0'], ['the', '0'], ['distribution', '0'], ['of', '0'], ['2,3-dihydroxynaphthalene', 'A'], ['and', '0'], ['its', '0'], ['salt', '0'], ['with', '0'], ['MTOAC', 'A'], ['between', '0'], ['the', '0']]\n",
      "['0', 'A', '0', '0', 'C', 'C', '0', '0', 'M', 'M', '0', '0', '0', '0', '0', '0', '0', '0', '0', '0', '0', '0', '0', '0', '0', '0', '0', '0', '0', '0', '0', 'A', '0', '0', '0', '0', 'A', '0', '0']\n",
      "\n",
      "\n",
      "[['The', '0'], ['optimal', '0'], ['ratio', '0'], ['of', '0'], ['MTOAC/dihydroxy', 'A'], ['compound,', '0'], ['which', '0'], ['provides', '0'], ['the', '0'], ['maximum', '0'], ['synergistic', '0'], ['effect', '0'], ['in', '0'], ['the', '0'], ['yttrium', 'M'], ['extraction,', '0'], ['was', '0'], ['determined', '0'], ['by', '0'], ['the', '0'], ['method', '0'], ['of', '0'], ['isomolar', '0'], ['series', '0'], ['(Fig.', '0'], ['2).', '0'], ['It', '0'], ['can', '0'], ['be', '0'], ['seen', '0'], ['that', '0'], ['a', '0'], ['1.5-fold', 'Q'], ['excess', '0'], ['of', '0'], ['MTOAC', 'A'], ['with', '0'], ['respect', '0'], ['to', '0'], ['2,3DHN', 'A'], ['is', '0'], ['optimal,', '0'], ['which', '0'], ['suggests', '0'], ['the', '0'], ['formation', '0'], ['of', '0'], ['a', '0'], ['solvate', '0'], ['of', '0'], ['the', '0'], ['composition', '0'], ['[Y(2,3DHN)2(MTOAC)3]', 'A'], ['[6].', '0']]\n",
      "['0', '0', '0', '0', 'A', '0', '0', '0', '0', '0', '0', '0', '0', '0', 'M', '0', '0', '0', '0', '0', '0', '0', '0', '0', '0', '0', '0', '0', '0', '0', '0', '0', 'Q', '0', '0', 'A', '0', '0', '0', 'A', '0', '0', '0', '0', '0', '0', '0', '0', '0', '0', '0', '0', 'A', '0']\n",
      "\n",
      "\n",
      "[['The', '0'], ['existence', '0'], ['of', '0'], ['a', '0'], ['complex', '0'], ['of', '0'], ['this', '0'], ['composition', '0'], ['is', '0'], ['confirmed', '0'], ['by', '0'], ['the', '0'], ['MS-ESI(–)', '0'], ['data:', '0'], ['in', '0'], ['addition', '0'], ['to', '0'], ['the', '0'], ['2,3DHN', 'A'], ['monoanion', '0'], ['(m/z', '0'], ['=', 'Q-cont'], ['159.0448),', 'Q-cont'], ['there', '0'], ['is', '0'], ['a', '0'], ['signal', '0'], ['with', '0'], ['m/z', 'Q'], ['=', 'Q-cont'], ['404.8723', 'Q-cont'], ['of', '0'], ['the', '0'], ['[Y(2,3DHN)2]–', 'A'], ['monoanion.', '0'], ['The', '0'], ['MS-ESI(–)', '0'], ['spectra', '0'], ['contain', '0'], ['signals', '0'], ['from', '0'], ['anionic', '0'], ['complexes,', '0'], ['which,', '0'], ['in', '0'], ['addition', '0'], ['to', '0'], ['yttrium', 'M'], ['and', '0'], ['2,3DHN,', 'A'], ['include', '0'], ['carbonate', 'A'], ['and', '0'], ['hydroxyl', 'A-cont'], ['groups', '0'], ['and', '0'], ['water', 'C'], ['molecules.', '0']]\n",
      "['0', '0', '0', '0', '0', '0', '0', '0', '0', '0', '0', '0', '0', '0', '0', '0', '0', '0', 'A', '0', '0', 'Q', 'Q', '0', '0', '0', '0', '0', 'Q', 'Q', 'Q', '0', '0', 'A', '0', '0', '0', '0', '0', '0', '0', '0', '0', '0', '0', '0', '0', 'M', '0', 'A', '0', 'A', '0', 'A', '0', '0', 'C', '0']\n",
      "\n",
      "\n",
      "[['As', '0'], ['already', '0'], ['noted,', '0'], ['the', '0'], ['maximum', '0'], ['extraction', '0'], ['of', '0'], ['yttrium', 'M'], ['by', '0'], ['mixtures', '0'], ['of', '0'], ['dihydroxy', 'A'], ['compounds', '0'], ['with', '0'], ['MTOAC', 'A'], ['is', '0'], ['detected', '0'], ['at', '0'], ['pH', 'Q'], ['above', 'Q-cont'], ['11.', 'Q-cont'], ['We', '0'], ['found', '0'], ['that', '0'], ['the', '0'], ['specific', '0'], ['form', '0'], ['of', '0'], ['distribution', '0'], ['coefficient', '0'], ['curve', '0'], ['for', '0'], ['yttrium', 'M'], ['vs.', '0'], ['pH', '0'], ['of', '0'], ['the', '0'], ['aqueous', '0'], ['phase', '0'], ['is', '0'], ['determined', '0'], ['by', '0'], ['the', '0'], ['type', '0'], ['of', '0'], ['dihydroxy', 'C'], ['compound', '0']]\n",
      "['0', '0', '0', '0', '0', '0', '0', 'M', '0', '0', '0', 'A', '0', '0', 'A', '0', '0', '0', 'Q', 'Q', 'Q', '0', '0', '0', '0', '0', '0', '0', '0', '0', '0', '0', 'M', '0', '0', '0', '0', '0', '0', '0', '0', '0', '0', '0', '0', 'C', '0']\n",
      "\n",
      "\n",
      "[['The', '0'], ['most', '0'], ['effective', '0'], ['extractant', '0'], ['in', '0'], ['both', '0'], ['solvents', '0'], ['is', '0'], ['2,3-dihydroxynaphthalene.', 'A'], ['The', '0'], ['lowest', '0'], ['distribution', '0'], ['coefficients', '0'], ['of', '0'], ['yttrium,', 'M'], ['regardless', '0'], ['of', '0'], ['the', '0'], ['type', '0'], ['of', '0'], ['solvent,', '0'], ['are', '0'], ['demonstrated', '0'], ['by', '0'], ['4-tert-butylpyrocatechol.', 'A'], ['Its', '0'], ['unsubstituted', '0'], ['analog,', '0'], ['pyrocatechol,', '0'], ['extracts', '0'], ['yttrium', 'M'], ['well', '0'], ['only', '0'], ['into', '0'], ['toluene', 'C'], ['solutions.', '0']]\n",
      "['0', '0', '0', '0', '0', '0', '0', '0', 'A', '0', '0', '0', '0', '0', 'M', '0', '0', '0', '0', '0', '0', '0', '0', '0', 'A', '0', '0', '0', '0', '0', 'M', '0', '0', '0', 'C', '0']\n",
      "\n",
      "\n",
      "[['This', '0'], ['may', '0'], ['be', '0'], ['due', '0'], ['to', '0'], ['steric', '0'], ['factors,', '0'], ['since', '0'], ['the', '0'], ['properties', '0'], ['of', '0'], ['phenolic', 'A'], ['groups', '0'], ['in', '0'], ['these', '0'], ['extractants', '0'], ['are', '0'], ['very', '0'], ['similar.', '0'], ['High', '0'], ['distribution', '0'], ['coefficients', '0'], ['of', '0'], ['yttrium', 'M'], ['were', '0'], ['found', '0'], ['in', '0'], ['a', '0'], ['water-soluble', '0'], ['chelating', '0'], ['agent,', '0'], ['alizarin,', 'A'], ['giving', '0'], ['a', '0'], ['hydrophobic', '0'], ['complex', '0'], ['with', '0'], ['MTOAC,', 'A'], ['which', '0']]\n",
      "['0', '0', '0', '0', '0', '0', '0', '0', '0', '0', '0', 'A', '0', '0', '0', '0', '0', '0', '0', '0', '0', '0', '0', 'M', '0', '0', '0', '0', '0', '0', '0', 'A', '0', '0', '0', '0', '0', 'A', '0']\n",
      "\n",
      "\n",
      "[['The', '0'], ['possibility', '0'], ['of', '0'], ['efficient', '0'], ['separation', '0'], ['of', '0'], ['yttrium', 'M'], ['and', '0'], ['strontium', 'M'], ['was', '0'], ['demonstrated', '0'], ['by', '0'], ['the', '0'], ['example', '0'], ['of', '0'], ['2,3DHN,', 'A'], ['the', '0'], ['most', '0'], ['efficient', '0'], ['of', '0'], ['the', '0'], ['studied', '0'], ['extractants', '0'], ['(Fig.', '0'], ['4).', '0'], ['The', '0'], ['data', '0'], ['in', '0'], ['Fig.', '0'], ['4', '0'], ['show', '0'], ['that', '0'], ['at', '0'], ['pH', 'Q'], ['>', 'Q-cont'], ['12,', 'Q-cont'], ['Y/Sr', '0'], ['pair', '0'], ['separation', '0'], ['factors', '0'], ['exceed', '0'], ['105', 'Q'], ['in', '0'], ['both', '0'], ['toluene', 'C'], ['and', '0'], ['butyl', 'A'], ['acetate.', 'A-cont'], ['Such', '0'], ['a', '0'], ['high', '0'], ['selectivity', '0'], ['is', '0'], ['unattainable', '0'], ['in', '0'], ['the', '0'], ['extraction', '0'], ['of', '0'], ['strontium', 'M'], ['with', '0'], ['crown', '0'], ['ethers', '0'], ['[1]', '0'], ['or', '0'], ['yttrium', 'M'], ['with', '0'], ['alkyl', 'A'], ['phosphoric', 'A-cont'], ['acids', 'A-cont'], ['[2]', '0'], ['from', '0'], ['nitric', 'A'], ['acid', 'A-cont'], ['solutions.', 'A-cont']]\n",
      "['0', '0', '0', '0', '0', '0', 'M', '0', 'M', '0', '0', '0', '0', '0', '0', 'A', '0', '0', '0', '0', '0', '0', '0', '0', '0', '0', '0', '0', '0', '0', '0', '0', '0', 'Q', 'Q', 'Q', '0', '0', '0', '0', '0', 'Q', '0', '0', 'C', '0', 'A', 'A', '0', '0', '0', '0', '0', '0', '0', '0', '0', '0', 'M', '0', '0', '0', '0', '0', 'M', '0', 'A', 'A', 'A', '0', '0', 'A', 'A', 'A']\n",
      "\n",
      "\n",
      "[['Small', '0'], ['differences', '0'], ['in', '0'], ['the', '0'], ['behavior', '0'], ['of', '0'], ['stable', '0'], ['and', '0'], ['radioactive', '0'], ['isotopes', '0'], ['are', '0'], ['most', '0'], ['likely', '0'], ['associated', '0'], ['with', '0'], ['a', '0'], ['high', '0'], ['error', '0'], ['in', '0'], ['determining', '0'], ['the', '0'], ['low', '0'], ['activities', '0'], ['of', '0'], ['90Sr', 'M'], ['and', '0'], ['90Y', 'M'], ['in', '0'], ['saline', 'C'], ['solutions.', '0']]\n",
      "['0', '0', '0', '0', '0', '0', '0', '0', '0', '0', '0', '0', '0', '0', '0', '0', '0', '0', '0', '0', '0', '0', '0', '0', 'M', '0', 'M', '0', 'C', '0']\n",
      "\n",
      "\n",
      "[['An', '0'], ['additional', '0'], ['advantage', '0'], ['of', '0'], ['the', '0'], ['studied', '0'], ['extraction', '0'], ['systems', '0'], ['is', '0'], ['the', '0'], ['simplicity', '0'], ['of', '0'], ['yttrium', 'M'], ['stripping', '0'], ['with', '0'], ['dilute', '0'], ['acid', '0'], ['solutions.', '0'], ['For', '0'], ['the', '0'], ['quantitative', '0'], ['stripping', '0'], ['of', '0'], ['yttrium,', 'M'], ['one', '0'], ['contact', '0'], ['of', '0'], ['the', '0'], ['extract', '0'], ['with', '0'], ['0.05', 'Q'], ['M', 'Q-cont'], ['solutions', '0'], ['of', '0'], ['inorganic', '0'], ['acids:', '0'], ['HNO3,', 'A'], ['HCl,', '0'], ['and', '0'], ['H2SO4', 'A'], ['is', '0'], ['sufficient', '0'], ['(the', '0'], ['equilibrium', '0'], ['pH', '0'], ['of', '0'], ['the', '0'], ['strip', '0'], ['is', '0'], ['not', '0'], ['higher', '0'], ['than', '0'], ['1).', 'Q']]\n",
      "['0', '0', '0', '0', '0', '0', '0', '0', '0', '0', '0', '0', 'M', '0', '0', '0', '0', '0', '0', '0', '0', '0', '0', 'M', '0', '0', '0', '0', '0', '0', 'Q', 'Q', '0', '0', '0', '0', 'A', '0', '0', 'A', '0', '0', '0', '0', '0', '0', '0', '0', '0', '0', '0', '0', 'Q']\n",
      "\n",
      "\n",
      "[['The', '0'], ['extractant', '0'], ['after', '0'], ['stripping', '0'], ['of', '0'], ['yttrium', 'M'], ['with', '0'], ['acids', '0'], ['retains', '0'], ['its', '0'], ['properties.', '0'], ['Figure', '0'], ['5', '0'], ['shows', '0'], ['the', '0'], ['results', '0'], ['of', '0'], ['experiments', '0'], ['on', '0'], ['multiple', '0'], ['extraction/stripping', '0'], ['of', '0'], ['yttrium', 'M'], ['using', '0'], ['a', '0'], ['mixture', '0'], ['of', '0'], ['0.01', 'Q'], ['M', 'Q-cont'], ['2,3DHN', '0'], ['with', '0'], ['0.015', 'Q'], ['M', 'Q-cont'], ['MTOAC', '0'], ['in', '0'], ['toluene', 'C'], ['as', '0'], ['an', '0'], ['extractant', '0'], ['and', '0'], ['0.05', 'Q'], ['M', 'Q-cont'], ['HNO3,', '0'], ['HCl,', '0'], ['and', '0'], ['H2SO4', 'A'], ['solutions', '0'], ['as', '0'], ['strips.', '0'], ['It', '0'], ['can', '0'], ['be', '0'], ['seen', '0'], ['that', '0'], ['a', '0'], ['slight', '0'], ['decrease', '0'], ['in', '0'], ['the', '0'], ['extraction', '0'], ['capacity', '0'], ['after', '0'], ['4', 'T'], ['extraction/stripping', 'T-cont'], ['cycles', 'T-cont'], ['is', '0'], ['observed', '0'], ['only', '0'], ['in', '0'], ['the', '0'], ['case', '0'], ['of', '0'], ['using', '0'], ['sulfuric', 'A'], ['acid', 'A-cont'], ['(Fig.', '0']]\n",
      "['0', '0', '0', '0', '0', 'M', '0', '0', '0', '0', '0', '0', '0', '0', '0', '0', '0', '0', '0', '0', '0', '0', 'M', '0', '0', '0', '0', 'Q', 'Q', '0', '0', 'Q', 'Q', '0', '0', 'C', '0', '0', '0', '0', 'Q', 'Q', '0', '0', '0', 'A', '0', '0', '0', '0', '0', '0', '0', '0', '0', '0', '0', '0', '0', '0', '0', '0', 'T', 'T', 'T', '0', '0', '0', '0', '0', '0', '0', '0', 'A', 'A', '0']\n",
      "\n",
      "\n",
      "[['As', '0'], ['can', '0'], ['be', '0'], ['seen', '0'], ['from', '0'], ['the', '0'], ['data', '0'], ['in', '0'], ['Fig.', '0'], ['6,', '0'], ['in', '0'], ['all', '0'], ['the', '0'], ['systems', '0'], ['studied,', '0'], ['there', '0'], ['is', '0'], ['a', '0'], ['high', '0'], ['percentage', '0'], ['of', '0'], ['yttrium', 'M'], ['extraction', '0'], ['(70–80%),', '0'], ['therewith', '0'], ['aqueous', '0'], ['phases', '0'], ['consisting', '0'], ['of', '0'], ['ammonium', 'A'], ['carbonate', 'A-cont'], ['or', '0'], ['sodium', 'A'], ['bicarbonate', 'A-cont'], ['with', '0'], ['the', '0'], ['addition', '0'], ['of', '0'], ['hydrogen', 'A'], ['peroxide', 'A-cont'], ['proved', '0'], ['to', '0'], ['be', '0'], ['more', '0'], ['effective.', '0'], ['The', '0'], ['introduction', '0'], ['of', '0'], ['hydrogen', 'A'], ['peroxide', 'A-cont'], ['into', '0'], ['the', '0'], ['leaching', 'C-cont'], ['solution', 'C-cont'], ['was', '0']]\n",
      "['0', '0', '0', '0', '0', '0', '0', '0', '0', '0', '0', '0', '0', '0', '0', '0', '0', '0', '0', '0', '0', 'M', '0', '0', '0', '0', '0', '0', '0', 'A', 'A', '0', 'A', 'A', '0', '0', '0', '0', 'A', 'A', '0', '0', '0', '0', '0', '0', '0', '0', 'A', 'A', '0', '0', 'C', 'C', '0']\n",
      "\n",
      "\n",
      "[['Extraction', '0'], ['systems', '0'], ['based', '0'], ['on', '0'], ['extraction', '0'], ['of', '0'], ['tetrafluoroboric', 'A'], ['acid', 'A-cont'], ['(HBF4)', '0'], ['with', '0'], ['tributyl', 'A'], ['phosphate', 'A-cont'], ['(TBP)', 'A-cont'], ['and', '0'], ['triamylphosphine', 'A'], ['oxide', 'A-cont'], ['(TAPO)', 'A-cont'], ['for', '0'], ['boron', 'M'], ['isotope', 'M-cont'], ['separation', '0'], ['were', '0'], ['studied.', '0'], ['Tetrafluoroboric', 'A'], ['acid', 'A-cont'], ['was', '0'], ['studied', '0'], ['in', '0'], ['comparison', '0'], ['with', '0'], ['boric', 'A'], ['acid', 'A-cont'], ['(H3BO3).', 'A-cont'], ['The', '0'], ['extraction', '0'], ['isotherms', '0'], ['at', '0'], ['20°C', 'Q'], ['for', '0'], ['four', 'Q'], ['systems', '0'], ['(boric', '0'], ['and', '0'], ['tetrafluoroboric', 'A'], ['acids', 'A-cont'], ['extracted', '0'], ['with', '0'], ['TBP', 'A'], ['and', '0'], ['TAPO', 'A'], ['in', '0'], ['o-xylene)', 'C'], ['were', '0'], ['obtained,', '0'], ['and', '0'], ['single-stage', '0'], ['isotope', '0'], ['separation', '0'], ['factors', '0'], ['for', '0'], ['these', '0'], ['four', '0'], ['systems', '0'], ['were', '0'], ['determined.', '0'], ['The', '0'], ['lighter', '0'], ['boron', 'M'], ['isotope', 'M-cont'], ['(10B)', '0'], ['is', '0'], ['concentrated', '0'], ['in', '0'], ['the', '0'], ['aqueous', '0'], ['phase', '0'], ['in', '0'], ['the', '0'], ['systems', '0'], ['containing', '0'], ['tetrafluoroboric', 'A'], ['acid,', 'A-cont'], ['whereas', '0'], ['in', '0'], ['the', '0'], ['systems', '0'], ['with', '0'], ['boric', 'A'], ['acid', 'A-cont'], ['it', '0']]\n",
      "['0', '0', '0', '0', '0', '0', 'A', 'A', '0', '0', 'A', 'A', 'A', '0', 'A', 'A', 'A', '0', 'M', 'M', '0', '0', '0', 'A', 'A', '0', '0', '0', '0', '0', 'A', 'A', 'A', '0', '0', '0', '0', 'Q', '0', 'Q', '0', '0', '0', 'A', 'A', '0', '0', 'A', '0', 'A', '0', 'C', '0', '0', '0', '0', '0', '0', '0', '0', '0', '0', '0', '0', '0', '0', '0', 'M', 'M', '0', '0', '0', '0', '0', '0', '0', '0', '0', '0', '0', 'A', 'A', '0', '0', '0', '0', '0', 'A', 'A', '0']\n",
      "\n",
      "\n",
      "[['When', '0'], ['recording', '0'], ['the', '0'], ['extraction', '0'], ['isotherms', '0'], ['of', '0'], ['H3BO3', 'A-cont'], ['and', '0'], ['HBF4,', 'A'], ['the', '0'], ['boron', 'M'], ['concentrations', '0']]\n",
      "['0', '0', '0', '0', '0', '0', 'A', '0', 'A', '0', 'M', '0']\n",
      "\n",
      "\n",
      "[['Samples', '0'], ['for', '0'], ['determining', '0'], ['the', '0'], ['boron', 'M'], ['isotope', 'M-cont'], ['composition', '0'], ['were', '0'], ['prepared', '0'], ['by', '0'], ['dilution', '0'], ['of', '0'], ['the', '0'], ['initial', '0'], ['solutions', '0'], ['of', '0'], ['boron-containing', 'M'], ['components', '0'], ['(boric', '0'], ['and', '0'], ['tetrafluoroboric', 'A'], ['acids)', 'A-cont'], ['to', '0'], ['a', '0'], ['boron', 'M'], ['concentration', 'M-cont'], ['of', '0'], ['1–5', 'Q'], ['mg/L.', 'Q-cont'], ['In', '0'], ['the', '0'], ['case', '0'], ['of', '0'], ['tetrafluoroboric', 'A'], ['acid,', 'A-cont'], ['it', '0'], ['was', '0'], ['subjected', '0'], ['to', '0'], ['hydrolysis', '0'], ['in', '0'], ['the', '0'], ['presence', '0'], ['of', '0'], ['CaCl2', 'C'], ['to', '0'], ['remove', '0'], ['fluoride', 'M'], ['ions', 'M-cont'], ['interfering', '0']]\n",
      "['0', '0', '0', '0', 'M', 'M', '0', '0', '0', '0', '0', '0', '0', '0', '0', '0', 'M', '0', '0', '0', 'A', 'A', '0', '0', 'M', 'M', '0', 'Q', 'Q', '0', '0', '0', '0', 'A', 'A', '0', '0', '0', '0', '0', '0', '0', '0', '0', 'C', '0', '0', 'M', 'M', '0']\n",
      "\n",
      "\n",
      "[['As', '0'], ['organic', '0'], ['diluent', '0'], ['for', '0'], ['the', '0'], ['extractants', '0'], ['we', '0'], ['chose', '0'], ['o-xylene,', 'C'], ['because', '0'], ['this', '0'], ['diluent', '0'], ['prevents', '0'], ['the', '0'], ['third', '0'], ['phase', '0'], ['formation', '0'], ['in', '0'], ['extraction', '0'], ['systems', '0'], ['and', '0'], ['favors', '0'], ['fast', '0'], ['phase', '0'], ['separation,', '0'], ['in', '0'], ['contrast', '0'], ['to', '0'], ['aliphatic', '0'], ['diluents', '0'], ['such', '0'], ['as', '0'], ['dodecane.', 'C'], ['Prior', '0'], ['to', '0'], ['use,', '0'], ['o-xylene', 'C'], ['was', 'C-cont'], ['washed', '0'], ['four', '0'], ['times', '0'], ['with', '0'], ['equivalent', '0'], ['amounts', '0'], ['of', '0'], ['distilled', 'C'], ['water.', 'C-cont'], ['Chemically', '0'], ['pure', '0'], ['grade', '0'], ['boric', 'A'], ['and', '0'], ['tetrafluoroboric', 'A'], ['acids', 'A-cont'], ['were', 'A-cont'], ['used', '0']]\n",
      "['0', '0', '0', '0', '0', '0', '0', '0', 'C', '0', '0', '0', '0', '0', '0', '0', '0', '0', '0', '0', '0', '0', '0', '0', '0', '0', '0', '0', '0', '0', '0', '0', 'C', '0', '0', '0', 'C', 'C', '0', '0', '0', '0', '0', '0', '0', 'C', 'C', '0', '0', '0', 'A', '0', 'A', 'A', 'A', '0']\n",
      "\n",
      "\n",
      "[['Tartaric', 'A'], ['acid', 'A-cont'], ['was', '0'], ['recrystallized', '0'], ['from', '0'], ['water', 'C'], ['and', '0'], ['dried;', '0'], ['the', '0'], ['melting', '0'], ['point', '0'], ['after', '0'], ['the', '0'], ['purification', '0'], ['was', '0'], ['167°С.', 'Q'], ['Tributyl', '0'], ['phosphate', 'C-cont'], ['was', '0'], ['purified', '0'], ['as', '0'], ['described', '0'], ['in', '0'], ['[7].', '0'], ['Triamylphosphine', '0'], ['oxide', '0'], ['(TAPO)', '0'], ['chosen', '0'], ['among', '0'], ['trialkylphosphine', 'A'], ['oxides', 'A-cont'], ['was', 'A-cont'], ['purified', '0']]\n",
      "['A', 'A', '0', '0', '0', 'C', '0', '0', '0', '0', '0', '0', '0', '0', '0', 'Q', '0', 'C', '0', '0', '0', '0', '0', '0', '0', '0', '0', '0', '0', 'A', 'A', 'A', '0']\n",
      "\n",
      "\n",
      "[['We', '0'], ['determined', '0'], ['the', '0'], ['distribution', '0'], ['ratios', '0'], ['for', '0'], ['each', '0'], ['extraction', '0'], ['system.', '0'], ['The', '0'], ['highest', '0'], ['distribution', '0'], ['ratio', '0'], ['D', '0'], ['is', '0'], ['reached', '0'], ['in', '0'], ['the', '0'], ['HBF4–TAPO', 'A'], ['system:', '0'], ['1.5', 'Q'], ['at', '0'], ['low', '0'], ['acid', '0'], ['concentrations.', '0'], ['High', '0'], ['distribution', '0'], ['ratio', '0'], ['D', '0'], ['is', '0'], ['an', '0'], ['advantage', '0'], ['in', '0'], ['commercial', '0'], ['separation', '0'], ['of', '0'], ['boron', 'M'], ['isotopes,', 'M-cont'], ['because', '0']]\n",
      "['0', '0', '0', '0', '0', '0', '0', '0', '0', '0', '0', '0', '0', '0', '0', '0', '0', '0', 'A', '0', 'Q', '0', '0', '0', '0', '0', '0', '0', '0', '0', '0', '0', '0', '0', '0', '0', 'M', 'M', '0']\n",
      "\n",
      "\n",
      "[['The', '0'], ['extraction', '0'], ['mechanism', '0'], ['in', '0'], ['each', '0'], ['system', '0'], ['was', '0'], ['determined', '0'], ['from', '0'], ['the', '0'], ['shape', '0'], ['of', '0'], ['the', '0'], ['extraction', '0'], ['isotherm.', '0'], ['In', '0'], ['the', '0'], ['H3BO3∙C4H6O6–TBP,', 'A'], ['H3BO3∙C4H6O6–TAPO,', '0'], ['and', '0'], ['HBF4–TBP', 'A'], ['systems,', 'A-cont'], ['the', '0'], ['substance', '0'], ['distribution', '0'], ['is', '0'], ['mainly', '0'], ['physical.', '0'], ['In', '0'], ['the', '0'], ['HBF4–TAPO', 'A'], ['system,', 'A-cont'], ['the', '0'], ['extraction', '0'], ['occurs', '0'], ['by', '0'], ['the', '0'], ['chemical', '0'], ['mechanism', '0'], ['with', '0'], ['the', '0'], ['chemical', '0'], ['interaction', '0'], ['between', '0'], ['HBF4', 'A'], ['and', '0'], ['TAPO.', 'A'], ['The', '0']]\n",
      "['0', '0', '0', '0', '0', '0', '0', '0', '0', '0', '0', '0', '0', '0', '0', '0', '0', 'A', '0', '0', 'A', 'A', '0', '0', '0', '0', '0', '0', '0', '0', 'A', 'A', '0', '0', '0', '0', '0', '0', '0', '0', '0', '0', '0', '0', 'A', '0', 'A', '0']\n",
      "\n",
      "\n",
      "[['We', '0'], ['determined', '0'], ['the', '0'], ['single-stage', '0'], ['isotope', '0'], ['separation', '0'], ['factors', '0'], ['α', '0'], ['for', '0'], ['the', '0'], ['four', '0'], ['extraction', '0'], ['systems.', '0'], ['The', '0'], ['isotope', '0'], ['separation', '0'], ['in', '0'], ['the', '0'], ['systems', '0'], ['with', '0'], ['H3BO3', 'A-cont'], ['is', 'A-cont'], ['not', '0'], ['so', '0'], ['high,', '0'], ['which', '0'], ['may', '0'], ['be', '0'], ['due', '0'], ['to', '0'], ['a', '0'], ['significant', '0'], ['change', '0'], ['in', '0'], ['pH', '0'], ['of', '0'], ['the', '0'], ['aqueous', '0'], ['phase', '0'], ['upon', '0'], ['first', '0'], ['contact', '0'], ['and', '0'], ['cessation', '0'], ['of', '0'], ['isotope', '0'], ['separation', '0'], ['in', '0'], ['the', '0'], ['second', '0'], ['and', '0'], ['further', '0'], ['extractions.', '0'], ['On', '0'], ['the', '0'], ['other', '0'], ['hand,', '0'], ['the', '0'], ['enrichment', '0'], ['in', '0'], ['the', '0'], ['systems', '0'], ['with', '0'], ['HBF4', 'A'], ['is', '0'], ['higher', '0'], ['than', '0'], ['in', '0'], ['the', '0'], ['systems', '0'], ['with', '0'], ['H3BO3.', 'A']]\n",
      "['0', '0', '0', '0', '0', '0', '0', '0', '0', '0', '0', '0', '0', '0', '0', '0', '0', '0', '0', '0', 'A', 'A', '0', '0', '0', '0', '0', '0', '0', '0', '0', '0', '0', '0', '0', '0', '0', '0', '0', '0', '0', '0', '0', '0', '0', '0', '0', '0', '0', '0', '0', '0', '0', '0', '0', '0', '0', '0', '0', '0', '0', '0', '0', 'A', '0', '0', '0', '0', '0', '0', '0', 'A']\n",
      "\n",
      "\n",
      "[['Variation', '0'], ['of', '0'], ['the', '0'], ['extractants', '0'], ['influences', '0'], ['the', '0'], ['isotope', '0'], ['separation', '0'], ['not', '0'], ['so', '0'], ['strongly', '0'], ['as', '0'], ['the', '0'], ['kind', '0'], ['of', '0'], ['the', '0'], ['extractable', '0'], ['substance', '0'], ['does.', '0'], ['The', '0'], ['isotope', '0'], ['separation', '0'], ['factors', '0'], ['in', '0'], ['the', '0'], ['HBF4TBP', 'A'], ['and', '0'], ['HBF4–TAPO', 'A'], ['systems', '0']]\n",
      "['0', '0', '0', '0', '0', '0', '0', '0', '0', '0', '0', '0', '0', '0', '0', '0', '0', '0', '0', '0', '0', '0', '0', '0', '0', 'A', '0', 'A', '0']\n",
      "\n",
      "\n",
      "[['Studies', '0'], ['of', '0'], ['extraction', '0'], ['isotherms', '0'], ['have', '0'], ['shown', '0'], ['that', '0'], ['the', '0'], ['HBF4–TAPO', 'A'], ['system', '0'], ['gives', '0'], ['the', '0'], ['highest', '0'], ['distribution', '0'], ['ratio', '0'], ['despite', '0'], ['the', '0'], ['fact', '0'], ['that', '0'], ['the', '0'], ['TAPO', 'A'], ['concentration', 'A-cont'], ['in', '0'], ['the', '0'], ['organic', '0'], ['phase', '0'], ['(0.5', '0'], ['М', 'Q-cont'], ['solution', '0'], ['in', '0'], ['o-xylene)', 'C'], ['in', '0'], ['all', '0'], ['the', '0'], ['experiments', '0'], ['was', '0'], ['lower', '0'], ['than', '0'], ['the', '0'], ['TBP', 'A'], ['concentration', 'A-cont'], ['(1.5', '0'], ['М', 'Q-cont'], ['solution', '0'], ['in', '0'], ['o-xylene).', 'C']]\n",
      "['0', '0', '0', '0', '0', '0', '0', '0', 'A', '0', '0', '0', '0', '0', '0', '0', '0', '0', '0', '0', 'A', 'A', '0', '0', '0', '0', '0', 'Q', '0', '0', 'C', '0', '0', '0', '0', '0', '0', '0', '0', 'A', 'A', '0', 'Q', '0', '0', 'C']\n",
      "\n",
      "\n",
      "[['Thus,', '0'], ['the', '0'], ['use', '0'], ['of', '0'], ['TAPO', 'A'], ['as', '0'], ['an', '0'], ['extractant', '0'], ['is', '0'], ['more', '0'], ['advantageous', '0'], ['from', '0'], ['the', '0'], ['viewpoint', '0'], ['of', '0'], ['the', '0'], ['reagent', '0'], ['consumption.', '0'], ['As', '0'], ['we', '0'], ['found,', '0'], ['in', '0'], ['the', '0'], ['extraction', '0'], ['of', '0'], ['HBF4,', 'A'], ['10B', '0'], ['is', '0'], ['accumulated', '0'], ['in', '0'], ['the', '0'], ['aqueous', '0'], ['phase', '0'], ['in', '0'], ['contrast', '0'], ['to', '0'], ['the', '0'], ['systems', '0'], ['with', '0'], ['H3BO3,', '0'], ['in', '0'], ['which', '0'], ['10B', 'M'], ['is', '0'], ['concentrated', '0']]\n",
      "['0', '0', '0', '0', 'A', '0', '0', '0', '0', '0', '0', '0', '0', '0', '0', '0', '0', '0', '0', '0', '0', '0', '0', '0', '0', 'A', '0', '0', '0', '0', '0', '0', '0', '0', '0', '0', '0', '0', '0', '0', '0', '0', 'M', '0', '0']\n",
      "\n",
      "\n",
      "[['Thus,', '0'], ['it', '0'], ['can', '0'], ['be', '0'], ['concluded', '0'], ['that,', '0'], ['among', '0'], ['all', '0'], ['the', '0'], ['systems', '0'], ['under', '0'], ['consideration,', '0'], ['the', '0'], ['HBF4–TAPO', 'A'], ['is', '0'], ['the', '0'], ['most', '0'], ['suitable', '0'], ['system', '0'], ['for', '0'], ['the', '0'], ['boron', 'M'], ['isotope', 'M-cont'], ['separation', '0']]\n",
      "['0', '0', '0', '0', '0', '0', '0', '0', '0', '0', '0', '0', '0', 'A', '0', '0', '0', '0', '0', '0', '0', 'M', 'M', '0']\n",
      "\n",
      "\n",
      "[['A', '0'], ['procedure', '0'], ['for', '0'], ['studying', '0'], ['the', '0'], ['extraction', '0'], ['kinetics', '0'], ['of', '0'], ['components', '0'], ['of', '0'], ['long-lived', '0'], ['spent', '0'], ['nuclear', '0'], ['fuel', '0'], ['and', '0'], ['high-level', '0'], ['waste', '0'], ['by', '0'], ['recording', '0'], ['the', '0'], ['IR', '0'], ['absorption', '0'], ['spectra', '0'], ['in', '0'], ['the', '0'], ['attenuated', '0'], ['total', '0'], ['reflection', '0'], ['geometry', '0'], ['was', '0'], ['developed.', '0'], ['The', '0'], ['procedure', '0'], ['was', '0'], ['applied', '0'], ['to', '0'], ['the', '0'], ['extraction', '0'], ['of', '0'], ['Eu(NO3)3', 'C-cont'], ['with', '0'], ['triamylphosphine', 'A'], ['oxide', 'A-cont'], ['(TAPO)', '0'], ['and', '0'], ['octyl(phenyl)-N,N-diisobutylcarbamoylmethylphosphine', 'A'], ['oxide', 'A-cont'], ['(CMPO).', '0'], ['The', '0'], ['extraction', '0'], ['rate', '0'], ['constant', '0'], ['was', '0'], ['calculated', '0'], ['for', '0'], ['the', '0'], ['system', '0'], ['with', '0'], ['TAPO.', 'A'], ['A', '0'], ['mechanism', '0'], ['of', '0'], ['the', '0'], ['interaction', '0'], ['of', '0'], ['CMPO', 'A'], ['with', '0'], ['Eu3+', 'M'], ['ions', 'M-cont'], ['was', '0']]\n",
      "['0', '0', '0', '0', '0', '0', '0', '0', '0', '0', '0', '0', '0', '0', '0', '0', '0', '0', '0', '0', '0', '0', '0', '0', '0', '0', '0', '0', '0', '0', '0', '0', '0', '0', '0', '0', '0', '0', '0', 'C', '0', 'A', 'A', '0', '0', 'A', 'A', '0', '0', '0', '0', '0', '0', '0', '0', '0', '0', '0', 'A', '0', '0', '0', '0', '0', '0', 'A', '0', 'M', 'M', '0']\n",
      "\n",
      "\n",
      "[['Experiments', '0'], ['were', '0'], ['performed', '0'], ['with', '0'], ['triamylphosphine', '0'], ['oxide', 'A-cont'], ['(TAPO),', '0'], ['octyl(phenyl)-N,N-diisobutylcarbamoylmethylphosphine', '0'], ['oxide', 'A-cont'], ['(CMPO)', '0'], ['(Ekos,', '0'], ['Russia),', '0'], ['and', '0'], ['Eu(NO3)3·6H2O', 'C'], ['(Vekton,', 'C-cont'], ['Russia).', '0']]\n",
      "['0', '0', '0', '0', '0', 'A', '0', '0', 'A', '0', '0', '0', '0', 'C', 'C', '0']\n",
      "\n",
      "\n",
      "[['The', '0'], ['Fourier', '0'], ['IR', '0'], ['absorption', '0'], ['spectra', '0'], ['were', '0'], ['recorded', '0'], ['with', '0'], ['a', '0'], ['Simex', '0'], ['FT-800', '0'], ['spectrometer', '0'], ['using', '0'], ['a', '0'], ['Simex', '0'], ['ATR-А', '0'], ['attachment', '0'], ['with', '0'], ['a', '0'], ['diamond', '0'], ['crystal', '0'], ['(diameter', '0'], ['of', '0'], ['the', '0'], ['working', '0'], ['surface', '0'], ['2.4', 'Q'], ['mm).', 'Q-cont'], ['Measurements', '0'], ['were', '0'], ['performed', '0'], ['in', '0'], ['the', '0'], ['range', '0'], ['500–4000', 'Q'], ['cm−1', 'Q-cont'], ['with', '0'], ['2', 'Q-cont'], ['cm−1', 'Q-cont'], ['resolution.', '0']]\n",
      "['0', '0', '0', '0', '0', '0', '0', '0', '0', '0', '0', '0', '0', '0', '0', '0', '0', '0', '0', '0', '0', '0', '0', '0', '0', '0', 'Q', 'Q', '0', '0', '0', '0', '0', '0', 'Q', 'Q', '0', 'Q', 'Q', '0']\n",
      "\n",
      "\n",
      "[['An', '0'], ['aqueous', '0'], ['0.2', 'Q'], ['М', 'Q-cont'], ['Eu(NO3)3·6H2O', '0'], ['solution', '0'], ['was', '0'], ['prepared', '0'], ['by', '0'], ['dissolving', '0'], ['in', '0'], ['distilled', '0'], ['water', '0'], ['a', '0'], ['portion', '0'], ['of', '0'], ['the', '0'], ['salt', '0'], ['weighed', '0'], ['on', '0'], ['an', '0'], ['analytical', '0'], ['balance.', '0'], ['0.6', 'Q'], ['М', 'Q-cont'], ['solutions', '0'], ['of', '0'], ['TAPO', 'A'], ['and', '0'], ['CMPO', 'A'], ['in', '0'], ['dichloroethane', 'C'], ['were', '0']]\n",
      "['0', '0', 'Q', 'Q', '0', '0', '0', '0', '0', '0', '0', '0', '0', '0', '0', '0', '0', '0', '0', '0', '0', '0', '0', 'Q', 'Q', '0', '0', 'A', '0', 'A', '0', 'C', '0']\n",
      "\n",
      "\n",
      "[['Complete', '0'], ['extraction', '0'], ['was', '0'], ['performed', '0'], ['at', '0'], ['25°С', 'Q'], ['by', '0'], ['stirring', '0'], ['0.5-mL', 'Q'], ['portions', '0'], ['of', '0'], ['the', '0'], ['solutions', '0'], ['of', '0'], ['europium', 'M'], ['and', '0'], ['one', '0'], ['of', '0'], ['the', '0'], ['extractants;', '0'], ['the', '0'], ['phase', '0'], ['contact', '0'], ['time', '0'], ['was', '0'], ['4', 'T'], ['h.', 'T-cont'], ['After', '0'], ['that,', '0'], ['the', '0'], ['residual', '0'], ['europium', 'M'], ['content', '0']]\n",
      "['0', '0', '0', '0', '0', 'Q', '0', '0', 'Q', '0', '0', '0', '0', '0', 'M', '0', '0', '0', '0', '0', '0', '0', '0', '0', '0', 'T', 'T', '0', '0', '0', '0', 'M', '0']\n",
      "\n",
      "\n",
      "[['The', '0'], ['experiment', '0'], ['was', '0'], ['performed', '0'], ['in', '0'], ['a', '0'], ['microcell', '0'], ['in', '0'], ['the', '0'], ['form', '0'], ['of', '0'], ['a', '0'], ['polypropylene', 'C'], ['tube', '0'], ['with', '0'], ['a', '0'], ['hole', '0'], ['in', '0'], ['the', '0'], ['upper', '0'], ['lateral', '0'], ['part', '0'], ['for', '0'], ['introducing', '0'], ['liquid', '0'], ['samples.', '0'], ['When', '0'], ['performing', '0'], ['the', '0'], ['experiments,', '0'], ['the', '0'], ['microcell', '0'], ['was', '0'], ['arranged', '0'], ['so', '0'], ['that', '0'], ['the', '0'], ['cell', '0'], ['material', '0'], ['was', '0'], ['not', '0'], ['in', '0'], ['contact', '0'], ['with', '0'], ['the', '0'], ['ATR', 'C'], ['crystal.', 'C-cont']]\n",
      "['0', '0', '0', '0', '0', '0', '0', '0', '0', '0', '0', '0', 'C', '0', '0', '0', '0', '0', '0', '0', '0', '0', '0', '0', '0', '0', '0', '0', '0', '0', '0', '0', '0', '0', '0', '0', '0', '0', '0', '0', '0', '0', '0', '0', '0', 'C', 'C']\n",
      "\n",
      "\n",
      "[['Then,', '0'], ['the', '0'], ['cell', '0'], ['was', '0'], ['pressed', '0'], ['with', '0'], ['a', '0'], ['press', '0'], ['to', '0'], ['reduce', '0'], ['the', '0'], ['liquid', '0'], ['vaporization.', '0'], ['A', '0'], ['50-μL', 'Q'], ['portion', '0'], ['of', '0'], ['the', '0'], ['extractant', '0'], ['solution', '0'], ['in', '0'], ['dichloroethane', 'C'], ['was', '0'], ['introduced', '0'], ['into', '0'], ['the', '0'], ['cell,', '0'], ['and', '0'], ['the', '0'], ['initial', '0'], ['spectrum', '0'], ['was', '0'], ['recorded.', '0'], ['Then,', '0'], ['50', 'Q'], ['μL', 'Q-cont'], ['of', '0'], ['the', '0'], ['europium', 'C'], ['nitrate', 'C-cont'], ['solution', '0'], ['was', '0'], ['introduced', '0'], ['into', '0'], ['the', '0'], ['cell,', '0'], ['and', '0'], ['the', '0'], ['spectra', '0'], ['were', '0'], ['recorded', '0'], ['at', '0'], ['3–s', 'Q-cont'], ['intervals.', 'Q-cont'], ['The', '0'], ['recording', '0'], ['was', '0'], ['stopped', '0'], ['when', '0'], ['no', '0'], ['changes', '0'], ['at', '0'], ['characteristic', '0'], ['wavelengths', '0'], ['were', '0'], ['observed', '0'], ['in', '0'], ['the', '0'], ['course', '0'], ['of', '0'], ['four', 'T'], ['or', 'T-cont'], ['five', 'T-cont'], ['scans.', 'T-cont']]\n",
      "['0', '0', '0', '0', '0', '0', '0', '0', '0', '0', '0', '0', '0', '0', 'Q', '0', '0', '0', '0', '0', '0', 'C', '0', '0', '0', '0', '0', '0', '0', '0', '0', '0', '0', '0', 'Q', 'Q', '0', '0', 'C', 'C', '0', '0', '0', '0', '0', '0', '0', '0', '0', '0', '0', '0', 'Q', 'Q', '0', '0', '0', '0', '0', '0', '0', '0', '0', '0', '0', '0', '0', '0', '0', '0', 'T', 'T', 'T', 'T']\n",
      "\n",
      "\n",
      "[['Figure', '0'], ['1', '0'], ['shows', '0'], ['the', '0'], ['range', '0'], ['1200–1080', 'Q'], ['cm–1', 'Q-cont'], ['of', '0'], ['the', '0'], ['Fourier', '0'], ['IR', '0'], ['spectrum', '0'], ['of', '0'], ['the', '0'], ['system', '0'], ['consisting', '0'], ['of', '0'], ['0.6', 'Q-cont'], ['М', 'Q-cont'], ['TAPO', '0'], ['in', '0'], ['dichloroethane', 'C'], ['and', '0'], ['0.2', 'Q'], ['М', 'Q-cont'], ['aqueous', '0'], ['Eu(NO3)3.', 'C'], ['This', '0'], ['range', '0'], ['was', '0'], ['monitored', '0'], ['for', '0'], ['180', 'T'], ['s;', 'T-cont'], ['the', '0'], ['time', '0'], ['of', '0'], ['recording', '0'], ['a', '0'], ['single', '0'], ['spectrum', '0'], ['was', '0'], ['3', 'T'], ['s.', 'T-cont'], ['This', '0'], ['range', '0'], ['contains', '0'], ['the', '0'], ['stretching', '0'], ['vibration', '0'], ['band', '0'], ['νP=O', '0'], ['of', '0'], ['free', '0'], ['TAPO', '0'], ['molecules', '0'], ['at', '0'], ['1152', 'Q'], ['cm–1;', 'Q-cont'], ['its', '0'], ['intensity', '0'], ['decreases', '0'], ['with', '0'], ['an', '0'], ['increase', '0'], ['in', '0'], ['the', '0'], ['phase', '0'], ['contact', '0'], ['time.', '0'], ['Also,', '0'], ['with', '0'], ['the', '0'], ['start', '0'], ['of', '0'], ['extraction,', '0'], ['the', '0'], ['stretching', '0'], ['vibration', '0'], ['band', '0'], ['νP=O', '0'], ['of', '0'], ['TAPO', 'A'], ['solvates', 'A-cont'], ['with', '0'], ['the', '0'], ['Eu3+', 'M'], ['ion', 'M-cont'], ['appears', '0'], ['at', '0'], ['1124', 'Q'], ['cm–1.', 'Q-cont']]\n",
      "['0', '0', '0', '0', '0', 'Q', 'Q', '0', '0', '0', '0', '0', '0', '0', '0', '0', '0', 'Q', 'Q', '0', '0', 'C', '0', 'Q', 'Q', '0', 'C', '0', '0', '0', '0', '0', 'T', 'T', '0', '0', '0', '0', '0', '0', '0', '0', 'T', 'T', '0', '0', '0', '0', '0', '0', '0', '0', '0', '0', '0', '0', '0', 'Q', 'Q', '0', '0', '0', '0', '0', '0', '0', '0', '0', '0', '0', '0', '0', '0', '0', '0', '0', '0', '0', '0', '0', '0', '0', 'A', 'A', '0', '0', 'M', 'M', '0', '0', 'Q', 'Q']\n",
      "\n",
      "\n",
      "[['Similar', '0'], ['experiment', '0'], ['was', '0'], ['performed', '0'], ['for', '0'], ['the', '0'], ['system', '0'], ['with', '0'], ['CMPO.', 'A'], ['Because', '0'], ['of', '0'], ['the', '0'], ['more', '0'], ['complex', '0'], ['structure', '0'], ['of', '0'], ['the', '0'], ['extractant,', '0'], ['we', '0'], ['chose', '0'], ['four', '0'], ['bands', '0'], ['as', '0'], ['analytical', '0'], ['bands', '0'], ['for', '0'], ['determining', '0'], ['the', '0'], ['europium', 'M'], ['extraction', '0'], ['kinetics.', '0'], ['Namely,', '0'], ['we', '0'], ['chose', '0'], ['the', '0'], ['range', '0'], ['1220–1080', 'Q'], ['cm–1', 'Q-cont'], ['(Fig.', '0'], ['4)', '0'], ['containing', '0'], ['the', '0'], ['stretching', '0'], ['vibration', '0'], ['band', '0'], ['νP=O', '0'], ['of', '0'], ['free', '0'], ['CMPO', 'A'], ['molecules', 'A-cont'], ['at', '0'], ['1194', 'Q'], ['cm–1,', 'Q-cont'], ['whose', '0'], ['intensity', '0'], ['decreases', '0'], ['with', '0'], ['increasing', '0'], ['phase', '0'], ['contact', '0'], ['time,', '0'], ['and', '0'], ['the', '0'], ['stretching', '0'], ['vibration', '0'], ['band', '0'], ['νP=O', '0'], ['at', '0'], ['1150', 'Q'], ['cm–1,', 'Q-cont'], ['corresponding', '0'], ['to', '0'], ['vibrations', '0'], ['of', '0'], ['the', '0'], ['coordinated', '0'], ['P=O', '0'], ['groups', '0'], ['in', '0'], ['solvates', '0'], ['of', '0'], ['the', '0'], ['extractant', '0'], ['with', '0'], ['the', '0'], ['Eu3+', 'M'], ['ion.', 'M-cont']]\n",
      "['0', '0', '0', '0', '0', '0', '0', '0', 'A', '0', '0', '0', '0', '0', '0', '0', '0', '0', '0', '0', '0', '0', '0', '0', '0', '0', '0', '0', 'M', '0', '0', '0', '0', '0', '0', '0', 'Q', 'Q', '0', '0', '0', '0', '0', '0', '0', '0', '0', '0', 'A', 'A', '0', 'Q', 'Q', '0', '0', '0', '0', '0', '0', '0', '0', '0', '0', '0', '0', '0', '0', '0', 'Q', 'Q', '0', '0', '0', '0', '0', '0', '0', '0', '0', '0', '0', '0', '0', '0', '0', 'M', 'M']\n",
      "\n",
      "\n",
      "[['Also,', '0'], ['we', '0'], ['considered', '0'], ['the', '0'], ['range', '0'], ['1660–1570', 'Q'], ['cm–1', 'Q-cont'], ['(Fig.', '0'], ['5)', '0'], ['containing', '0'], ['the', '0'], ['stretching', '0'], ['vibration', '0'], ['band', '0'], ['νС=O', '0'], ['of', '0'], ['CO', 'C'], ['groups', '0'], ['that', '0'], ['are', '0'], ['not', '0'], ['coordinated', '0'], ['to', '0'], ['the', '0'], ['metal', '0'], ['ion', '0'], ['at', '0'], ['1632', 'Q'], ['cm–1', 'Q-cont'], ['(its', '0'], ['intensity', '0'], ['decreases', '0'], ['upon', '0'], ['formation', '0'], ['of', '0'], ['solvates', '0'], ['with', '0'], ['Eu3+', 'M'], ['ions)', 'M-cont'], ['and', '0'], ['the', '0'], ['stretching', '0'], ['vibration', '0'], ['band', '0'], ['νС=O', '0'], ['at', '0'], ['1590', 'Q'], ['cm–1,', 'Q-cont'], ['corresponding', '0'], ['to', '0'], ['the', '0'], ['vibrations', '0'], ['of', '0'], ['the', '0'], ['CMPO', 'A'], ['molecule', 'A-cont'], ['coordinated', '0'], ['to', '0'], ['Eu3+', 'M'], ['ions', 'M-cont'], ['via', '0'], ['С=О', 'A'], ['groups.', 'A-cont']]\n",
      "['0', '0', '0', '0', '0', 'Q', 'Q', '0', '0', '0', '0', '0', '0', '0', '0', '0', 'C', '0', '0', '0', '0', '0', '0', '0', '0', '0', '0', 'Q', 'Q', '0', '0', '0', '0', '0', '0', '0', '0', 'M', 'M', '0', '0', '0', '0', '0', '0', '0', 'Q', 'Q', '0', '0', '0', '0', '0', '0', 'A', 'A', '0', '0', 'M', 'M', '0', 'A', 'A']\n",
      "\n",
      "\n",
      "[['The', '0'], ['conditions', '0'], ['for', '0'], ['the', '0'], ['oxidation', '0'], ['of', '0'], ['Am(III)', 'A'], ['to', '0'], ['Am(VI)', 'A'], ['and', '0'], ['its', '0'], ['reduction', '0'], ['to', '0'], ['Am(V)', 'A'], ['are', 'A-cont'], ['shown,', '0'], ['and', '0'], ['the', '0'], ['stability', '0'], ['of', '0'], ['these', '0'], ['forms', '0'], ['in', '0'], ['a', '0'], ['0.1', 'Q'], ['M', 'Q-cont'], ['nitric', '0'], ['acid', 'A-cont'], ['model', '0'], ['solution', '0'], ['of', '0'], ['the', '0'], ['actinide-lanthanide', 'M'], ['fraction', '0'], ['of', '0'], ['high-level', '0'], ['waste', '0'], ['(HLW)', '0'], ['containing', '0'], ['isotopes', '0'], ['of', '0'], ['americium', 'M'], ['and', '0'], ['curium', 'M'], ['and', '0'], ['also', '0'], ['praseodymium', 'M'], ['as', '0'], ['a', '0'], ['simulant', '0'], ['of', '0'], ['the', '0'], ['behavior', '0'], ['of', '0'], ['fragmented', '0'], ['lanthanides', 'M'], ['is', '0']]\n",
      "['0', '0', '0', '0', '0', '0', 'A', '0', 'A', '0', '0', '0', '0', 'A', 'A', '0', '0', '0', '0', '0', '0', '0', '0', '0', 'Q', 'Q', '0', 'A', '0', '0', '0', '0', 'M', '0', '0', '0', '0', '0', '0', '0', '0', 'M', '0', 'M', '0', '0', 'M', '0', '0', '0', '0', '0', '0', '0', '0', 'M', '0']\n",
      "\n",
      "\n",
      "[['It', '0'], ['was', '0'], ['found', '0'], ['that', '0'], ['about', '0'], ['30%', 'Q'], ['of', '0'], ['americium', 'M'], ['in', '0'], ['the', '0'], ['Am(V)', 'M'], ['oxidation', '0'], ['state', '0'], ['of', '0'], ['its', '0'], ['initial', '0'], ['content', '0'], ['in', '0'], ['a', '0'], ['model', '0'], ['solution', '0'], ['containing', '0'], ['a', '0'], ['salting-out', '0'], ['agent', '0'], ['(ammonium', '0'], ['nitrate)', 'C-cont'], ['in', '0'], ['an', '0'], ['amount', '0'], ['of', '0'], ['8', 'Q'], ['M,', 'Q-cont'], ['passes', '0'], ['into', '0'], ['the', '0'], ['organic', '0'], ['phase', '0'], ['in', '0'], ['one', '0'], ['stage', '0'], ['of', '0'], ['extraction', '0'], ['with', '0'], ['a', '0'], ['30%', 'Q'], ['solution', '0'], ['of', '0'], ['tributyl', 'A'], ['phosphate', 'A-cont'], ['in', '0'], ['Isopar-M.', '0'], ['In', '0'], ['this', '0'], ['case,', '0'], ['Cm', 'M'], ['and', '0'], ['Pr', 'M'], ['are', '0'], ['extracted', '0'], ['by', '0'], ['80–85%.', 'Q'], ['The', '0'], ['distribution', '0'], ['coefficient', '0'], ['of', '0'], ['Am', 'M'], ['was', '0'], ['about', '0'], ['0.1,', 'Q'], ['of', '0'], ['Cm', 'M'], ['and', '0'], ['Pr,', 'M-cont'], ['about', '0'], ['1,', 'Q-cont'], ['and', '0'], ['the', '0'], ['separation', '0'], ['factor', '0'], ['of', '0'], ['Am', 'M'], ['from', '0'], ['Cm', 'M'], ['and', '0'], ['Pr', 'M-cont'], ['was', '0'], ['about', '0'], ['10.', 'Q'], ['Thus,', '0'], ['the', '0'], ['possibility', '0'], ['of', '0'], ['selective', '0'], ['separation', '0'], ['of', '0'], ['americium', 'M'], ['from', '0']]\n",
      "['0', '0', '0', '0', '0', 'Q', '0', 'M', '0', '0', 'M', '0', '0', '0', '0', '0', '0', '0', '0', '0', '0', '0', '0', '0', '0', '0', 'C', '0', '0', '0', '0', 'Q', 'Q', '0', '0', '0', '0', '0', '0', '0', '0', '0', '0', '0', '0', 'Q', '0', '0', 'A', 'A', '0', '0', '0', '0', '0', 'M', '0', 'M', '0', '0', '0', 'Q', '0', '0', '0', '0', 'M', '0', '0', 'Q', '0', 'M', '0', 'M', '0', 'Q', '0', '0', '0', '0', '0', 'M', '0', 'M', '0', 'M', '0', '0', 'Q', '0', '0', '0', '0', '0', '0', '0', 'M', '0']\n",
      "\n",
      "\n",
      "[['Deep', '0'], ['purification', '0'], ['of', '0'], ['the', '0'], ['stripped', '0'], ['90Y', 'M'], ['obtained', '0'], ['after', '0'], ['the', '0'], ['90Sr/90Y', '0'], ['pair', '0'], ['extraction', '0'], ['separation', '0'], ['with', '0'], ['D2EHPA', 'A'], ['from', '0'], ['chemical', '0'], ['impurities', '0'], ['(Cr,', '0'], ['Mn,', '0'], ['Ni,', '0'], ['Pb,', '0'], ['Fe,', '0'], ['Zr)', '0'], ['employing', '0'], ['the', '0'], ['TODGA-containing', 'A'], ['sorbent', '0'], ['AXIONIT', '0'], ['MND', '0'], ['40T', '0'], ['was', '0'], ['considered.', '0'], ['Also,', '0'], ['a', '0'], ['two-stage', '0'], ['sorption', '0'], ['separation', '0'], ['of', '0'], ['the', '0'], ['90Sr/90Y', '0'], ['pair', '0'], ['without', '0'], ['using', '0'], ['the', '0'], ['extraction', '0'], ['method', '0'], ['was', '0'], ['developed.', '0'], ['At', '0'], ['the', '0'], ['first', '0'], ['stage', '0'], ['the', '0'], ['90Y', 'M-cont'], ['was', '0'], ['separated', '0'], ['from', '0'], ['90Sr', 'M'], ['with', '0'], ['Purolite', 'A'], ['D5041', 'A-cont'], ['phosphate', 'A-cont'], ['cation', '0'], ['exchange', '0'], ['resin,', '0'], ['and', '0'], ['at', '0'], ['the', '0'], ['second', '0'], ['stage,', '0'], ['90Y', 'M'], ['deep', '0'], ['purification', '0'], ['was', '0'], ['carried', '0'], ['out', '0'], ['on', '0'], ['the', '0'], ['AXIONIT', '0'], ['MND', '0'], ['40T', '0'], ['sorbent.', '0'], ['The', '0'], ['prepared', '0'], ['90Y', 'M'], ['in', '0'], ['radiochemical', '0'], ['purity', '0'], ['meets', '0'], ['the', '0'], ['requirements', '0'], ['for', '0'], ['radiopharmaceuticals.In', '0'], ['the', '0'], ['extraction', '0'], ['separation', '0'], ['of', '0'], ['the', '0'], ['90Sr/90Y', 'M'], ['pair', '0'], ['using', '0'], ['D2EHPA,', 'A'], ['the', '0'], ['stripped', '0'], ['90Y', 'M'], ['is', '0'], ['obtained', '0'], ['containing', '0'], ['5', 'Q'], ['M', 'Q-cont'], ['nitric', '0'], ['acid,', 'A-cont'], ['trace', '0'], ['amounts', '0'], ['of', '0'], ['90Sr,', 'M'], ['and', '0'], ['chemical', '0'], ['impurities,', '0'], ['mainly', '0'], ['corrosion', '0'], ['products', '0'], ['of', '0'], ['structural', '0'], ['materials.', '0'], ['Table', '0'], ['1', '0'], ['shows', '0'], ['the', '0'], ['composition', '0'], ['of', '0'], ['the', '0'], ['model', '0'], ['solution', '0'], ['simulating', '0'], ['the', '0'], ['stripped', '0'], ['90Y.', 'M']]\n",
      "['0', '0', '0', '0', '0', 'M', '0', '0', '0', '0', '0', '0', '0', '0', 'A', '0', '0', '0', '0', '0', '0', '0', '0', '0', '0', '0', 'A', '0', '0', '0', '0', '0', '0', '0', '0', '0', '0', '0', '0', '0', '0', '0', '0', '0', '0', '0', '0', '0', '0', '0', '0', '0', '0', '0', 'M', '0', '0', '0', 'M', '0', 'A', 'A', 'A', '0', '0', '0', '0', '0', '0', '0', '0', 'M', '0', '0', '0', '0', '0', '0', '0', '0', '0', '0', '0', '0', '0', 'M', '0', '0', '0', '0', '0', '0', '0', '0', '0', '0', '0', '0', '0', 'M', '0', '0', 'A', '0', '0', 'M', '0', '0', '0', 'Q', 'Q', '0', 'A', '0', '0', '0', 'M', '0', '0', '0', '0', '0', '0', '0', '0', '0', '0', '0', '0', '0', '0', '0', '0', '0', '0', '0', '0', '0', 'M']\n",
      "\n",
      "\n",
      "[['The', '0'], ['experiments', '0'], ['were', '0'], ['carried', '0'], ['out', '0'], ['under', '0'], ['dynamic', '0'], ['conditions', '0'], ['employing', '0'], ['a', '0'], ['TODGA-containing', 'A'], ['TVEX', '0'], ['of', '0'], ['AXIONIT', '0'], ['MND', '0'], ['40T', '0'], ['grade', '0'], ['(“Axion–Rare', '0'], ['and', '0'], ['Precious', '0'], ['Metals”', '0'], ['JSC,', '0'], ['Russia).', '0'], ['A', '0'], ['styrene–divinylbenzene', 'C'], ['copolymer', 'C-cont'], ['was', '0'], ['used', '0'], ['as', '0'], ['a', '0'], ['carrier.', '0'], ['The', '0'], ['TODGA', 'A'], ['content', '0'], ['in', '0'], ['the', '0'], ['sorbent', '0'], ['was', '0'], ['40', 'Q'], ['wt', 'Q-cont'], ['%,', 'Q-cont'], ['the', '0'], ['granule', '0'], ['size', '0'], ['was', '0'], ['0.315–0.50', 'Q'], ['mm.', 'Q-cont'], ['For', '0'], ['purification,', '0'], ['the', '0'], ['initial', '0'], ['solution', '0'], ['was', '0'], ['passed', '0'], ['through', '0'], ['a', '0'], ['plastic', 'C'], ['column', 'C-cont'], ['filled', '0'], ['with', '0'], ['AXIONIT', '0'], ['MND', '0'], ['40T', '0'], ['sorbent,', '0'], ['the', '0'], ['volume', '0'], ['of', '0'], ['the', '0'], ['sorbent', '0'], ['in', '0'], ['the', '0'], ['column', '0'], ['was', '0'], ['4', 'Q'], ['cm3.', 'Q-cont']]\n",
      "['0', '0', '0', '0', '0', '0', '0', '0', '0', '0', 'A', '0', '0', '0', '0', '0', '0', '0', '0', '0', '0', '0', '0', '0', 'C', 'C', '0', '0', '0', '0', '0', '0', 'A', '0', '0', '0', '0', '0', 'Q', 'Q', 'Q', '0', '0', '0', '0', 'Q', 'Q', '0', '0', '0', '0', '0', '0', '0', '0', '0', 'C', 'C', '0', '0', '0', '0', '0', '0', '0', '0', '0', '0', '0', '0', '0', '0', '0', 'Q', 'Q']\n",
      "\n",
      "\n",
      "[['Before', '0'], ['the', '0'], ['experiments,', '0'], ['the', '0'], ['sorbent', '0'], ['was', '0'], ['treated', '0'], ['in', '0'], ['a', '0'], ['column', '0'], ['with', '0'], ['a', '0'], ['5', 'Q'], ['M', 'Q-cont'], ['nitric', '0'], ['acid', 'A-cont'], ['solution', '0'], ['for', '0'], ['2', 'T'], ['h.', 'T-cont'], ['At', '0'], ['the', '0'], ['sorption', '0'], ['stage', '0'], ['the', '0'], ['initial', '0'], ['solution', '0'], ['was', '0'], ['passed', '0'], ['through', '0'], ['the', '0'], ['column', '0'], ['at', '0'], ['a', '0'], ['rate', '0'], ['of', '0'], ['6.0', 'Q'], ['column', '0'], ['volumes', '0'], ['per', 'T'], ['an', 'T-cont'], ['hour', 'T-cont'], ['[(c.v.)/h].', '0']]\n",
      "['0', '0', '0', '0', '0', '0', '0', '0', '0', '0', '0', '0', 'Q', 'Q', '0', 'A', '0', '0', 'T', 'T', '0', '0', '0', '0', '0', '0', '0', '0', '0', '0', '0', '0', '0', '0', '0', '0', 'Q', '0', '0', 'T', 'T', 'T', '0']\n",
      "\n",
      "\n",
      "[['After', '0'], ['the', '0'], ['end', '0'], ['of', '0'], ['the', '0'], ['sorption,', '0'], ['a', '0'], ['3', 'Q'], ['M', 'Q-cont'], ['HCl', '0'], ['solution', '0'], ['was', '0'], ['passed', '0'], ['through', '0'], ['the', '0'], ['column', '0'], ['at', '0'], ['a', '0'], ['rate', '0'], ['of', '0'], ['3.0', 'Q'], ['c.v./h', 'Q-cont'], ['to', '0'], ['remove', '0'], ['the', '0'], ['initial', '0'], ['solution', '0'], ['residues.', '0'], ['Desorption', '0'], ['of', '0'], ['90Y', 'M'], ['was', '0'], ['performed', '0'], ['with', '0'], ['0.01', 'Q'], ['M', 'Q-cont'], ['HCl.', '0'], ['The', '0'], ['passing', '0'], ['rate', '0'], ['was', '0'], ['3.0', 'Q'], ['c.v./h,', 'Q-cont'], ['the', '0'], ['solution', '0'], ['volume', '0'], ['was', '0'], ['6', 'Q'], ['c.v.', 'Q-cont'], ['The', '0'], ['supply', '0'], ['of', '0'], ['the', '0'], ['solutions', '0'], ['during', '0'], ['pre-treatment', '0'], ['and', '0'], ['at', '0'], ['all', '0'], ['stages', '0'], ['was', '0'], ['carried', '0'], ['out', '0'], ['using', '0'], ['a', '0'], ['peristaltic', 'C'], ['pump', '0'], ['from', '0'], ['bottom', '0'], ['to', '0'], ['top.', '0'], ['The', '0'], ['total', '0'], ['time', '0'], ['of', '0'], ['sorption', '0'], ['purification', '0'], ['was', '0'], ['5–6', 'T'], ['h.', 'T-cont']]\n",
      "['0', '0', '0', '0', '0', '0', '0', 'Q', 'Q', '0', '0', '0', '0', '0', '0', '0', '0', '0', '0', '0', 'Q', 'Q', '0', '0', '0', '0', '0', '0', '0', '0', 'M', '0', '0', '0', 'Q', 'Q', '0', '0', '0', '0', '0', 'Q', 'Q', '0', '0', '0', '0', 'Q', 'Q', '0', '0', '0', '0', '0', '0', '0', '0', '0', '0', '0', '0', '0', '0', '0', '0', 'C', '0', '0', '0', '0', '0', '0', '0', '0', '0', '0', '0', '0', 'T', 'T']\n",
      "\n",
      "\n",
      "[['The', '0'], ['90Sr/90Y', 'M'], ['pair', '0'], ['separation', '0'], ['experiments', '0'], ['were', '0'], ['carried', '0'], ['out', '0'], ['employing', '0'], ['a', '0'], ['model', '0'], ['solution', '0'], ['containing', '0'], ['1.5', 'Q'], ['g/dm3', 'Q-cont'], ['strontium', '0'], ['and', '0'], ['0.15', 'Q'], ['mg/dm3', 'Q-cont'], ['yttrium', '0'], ['nitrates', 'C-cont'], ['and', '0'], ['0.01–0.3', 'Q'], ['M', 'Q-cont'], ['nitric', '0'], ['acid', 'A-cont'], ['therewith', '0'], ['a', '0'], ['label', '0'], ['of', '0'], ['the', '0'], ['equilibrium', '0'], ['90Sr/90Y', 'M'], ['pair', '0'], ['was', '0'], ['introduced', '0'], ['into', '0'], ['the', '0'], ['model', '0'], ['solution', '0'], ['in', '0'], ['an', '0'], ['amount', '0'], ['of', '0'], ['about', '0'], ['105', 'Q'], ['Bq/dm3.', 'Q-cont']]\n",
      "['0', 'M', '0', '0', '0', '0', '0', '0', '0', '0', '0', '0', '0', 'Q', 'Q', '0', '0', 'Q', 'Q', '0', 'C', '0', 'Q', 'Q', '0', 'A', '0', '0', '0', '0', '0', '0', 'M', '0', '0', '0', '0', '0', '0', '0', '0', '0', '0', '0', '0', 'Q', 'Q']\n",
      "\n",
      "\n",
      "[['At', '0'], ['the', '0'], ['first', '0'], ['stage', '0'], ['of', '0'], ['separation,', '0'], ['the', '0'], ['initial', '0'], ['solution', '0'], ['was', '0'], ['passed', '0'], ['through', '0'], ['a', '0'], ['plastic', '0'], ['column', '0'], ['filled', '0'], ['with', '0'], ['4.5', 'Q'], ['cm3', 'Q-cont'], ['D5041', '0'], ['phosphate', 'A-cont'], ['cation', 'A-cont'], ['exchange', '0'], ['resin', 'C'], ['(Purolite,', '0'], ['Great', '0'], ['Britain).', '0'], ['Then', '0'], ['the', '0'], ['sorbent', '0'], ['was', '0'], ['washed', '0'], ['with', '0'], ['a', '0'], ['0.01–0.3', 'Q'], ['M', 'Q-cont'], ['HCl', '0'], ['solution', '0'], ['and', '0'], ['90Y', 'M'], ['was', '0'], ['stripped', '0'], ['with', '0'], ['a', '0'], ['3', 'Q'], ['M', 'Q-cont'], ['HCl', 'Q-cont'], ['solution.', '0'], ['The', '0'], ['flow', '0'], ['rate', '0'], ['of', '0'], ['the', '0'], ['solutions', '0'], ['was', '0'], ['3.0', 'Q'], ['c.v./h,', 'Q-cont'], ['the', '0'], ['solution', '0'], ['volume', '0'], ['was', '0'], ['6', 'Q'], ['c.v.', 'Q-cont'], ['In', '0'], ['the', '0'], ['filtrate', '0'], ['and', '0'], ['desorbate,', '0'], ['the', '0'], ['specific', '0'], ['total', '0'], ['beta', 'R'], ['activity', '0']]\n",
      "['0', '0', '0', '0', '0', '0', '0', '0', '0', '0', '0', '0', '0', '0', '0', '0', '0', 'Q', 'Q', '0', 'A', 'A', '0', 'C', '0', '0', '0', '0', '0', '0', '0', '0', '0', '0', 'Q', 'Q', '0', '0', '0', 'M', '0', '0', '0', '0', 'Q', 'Q', 'Q', '0', '0', '0', '0', '0', '0', '0', '0', 'Q', 'Q', '0', '0', '0', '0', 'Q', 'Q', '0', '0', '0', '0', '0', '0', '0', '0', 'R', '0']\n",
      "\n",
      "\n",
      "[['At', '0'], ['the', '0'], ['second', '0'], ['stage', '0'], ['of', '0'], ['separation,', '0'], ['hydrochloric', 'A'], ['acid', 'A-cont'], ['desorbate', '0'], ['was', '0'], ['passed', '0'], ['through', '0'], ['a', '0'], ['plastic', 'C'], ['column', '0'], ['filled', '0'], ['with', '0'], ['4.5', 'Q'], ['cm3', 'Q-cont'], ['AXIONIT', 'Q-cont'], ['MND', '0'], ['40T', '0'], ['sorbent.', '0'], ['Then', '0'], ['the', '0'], ['sorbent', '0'], ['was', '0'], ['washed', '0'], ['with', '0'], ['a', '0'], ['3', 'Q-cont'], ['M', 'Q-cont'], ['HCl', '0'], ['solution', '0'], ['and', '0'], ['90Y', 'M'], ['was', '0'], ['stripped', '0'], ['with', '0'], ['a', '0'], ['0.01', 'Q'], ['M', 'Q-cont'], ['HCl', '0'], ['solution.', '0'], ['The', '0'], ['flow', '0'], ['rate', '0'], ['of', '0'], ['the', '0'], ['solutions', '0'], ['was', '0'], ['3.0', 'Q'], ['c.v./h,', 'Q-cont'], ['the', '0'], ['solution', '0'], ['volume', '0'], ['was', '0'], ['6', 'Q'], ['c.v.', 'Q-cont'], ['In', '0'], ['the', '0'], ['filtrate', '0'], ['and', '0'], ['desorbate,', '0'], ['the', '0'], ['specific', '0'], ['total', '0'], ['beta', 'R'], ['activity', '0'], ['was', '0'], ['determined', '0'], ['for', '0'], ['at', '0'], ['least', '0'], ['35', 'T'], ['days.', 'T-cont'], ['The', '0'], ['setup', '0']]\n",
      "['0', '0', '0', '0', '0', '0', 'A', 'A', '0', '0', '0', '0', '0', 'C', '0', '0', '0', 'Q', 'Q', 'Q', '0', '0', '0', '0', '0', '0', '0', '0', '0', '0', 'Q', 'Q', '0', '0', '0', 'M', '0', '0', '0', '0', 'Q', 'Q', '0', '0', '0', '0', '0', '0', '0', '0', '0', 'Q', 'Q', '0', '0', '0', '0', 'Q', 'Q', '0', '0', '0', '0', '0', '0', '0', '0', 'R', '0', '0', '0', '0', '0', '0', 'T', 'T', '0', '0']\n",
      "\n",
      "\n",
      "[['The', '0'], ['analysis', '0'], ['of', '0'], ['solutions', '0'], ['for', '0'], ['the', '0'], ['content', '0'], ['of', '0'], ['chemical', '0'], ['elements', '0'], ['was', '0'], ['carried', '0'], ['out', '0'], ['by', '0'], ['mass', '0'], ['spectrometry', '0'], ['by', '0'], ['an', '0'], ['Agilent', '0'], ['7500ce', '0'], ['inductively', '0'], ['coupled', '0'], ['plasma', '0'], ['mass', '0'], ['spectrometer', '0'], ['(ICP-MS)', '0'], ['(Agilent', '0'], ['Technologies,', '0'], ['Japan).', '0'], ['The', '0'], ['specific', '0'], ['activities', '0'], ['of', '0'], ['90Sr', 'M'], ['and', '0'], ['90Y', 'M-cont'], ['in', '0']]\n",
      "['0', '0', '0', '0', '0', '0', '0', '0', '0', '0', '0', '0', '0', '0', '0', '0', '0', '0', '0', '0', '0', '0', '0', '0', '0', '0', '0', '0', '0', '0', '0', '0', '0', 'M', '0', 'M', '0']\n",
      "\n",
      "\n",
      "[['The', '0'], ['presented', '0'], ['results', '0'], ['show', '0'], ['that', '0'], ['when', '0'], ['using', '0'], ['the', '0'], ['sorption', '0'], ['method', '0'], ['of', '0'], ['purification,', '0'], ['which', '0'], ['includes', '0'], ['the', '0'], ['90Y', 'M'], ['sorption', '0'], ['stages', '0'], ['on', '0'], ['the', '0'], ['AXIONIT', '0'], ['MND', '0'], ['40T', '0'], ['sorbent,', '0'], ['washing', '0'], ['and', '0'], ['elution', '0'], ['of', '0'], ['yttrium', '0'], ['with', '0'], ['0.01', 'Q'], ['M', 'Q-cont'], ['HCl,', '0'], ['deep', '0'], ['purification', '0'], ['of', '0'], ['the', '0'], ['stripped', '0'], ['90Y', 'M-cont'], ['from', '0'], ['residual', '0'], ['strontium', 'M'], ['amounts', '0'], ['as', '0']]\n",
      "['0', '0', '0', '0', '0', '0', '0', '0', '0', '0', '0', '0', '0', '0', '0', 'M', '0', '0', '0', '0', '0', '0', '0', '0', '0', '0', '0', '0', '0', '0', 'Q', 'Q', '0', '0', '0', '0', '0', '0', 'M', '0', '0', 'M', '0', '0']\n",
      "\n",
      "\n",
      "[['The', '0'], ['purification', '0'], ['factors', '0'], ['(Kpur)', '0'], ['of', '0'], ['yttrium', 'M'], ['from', '0'], ['strontium,', 'M-cont'], ['chromium,', '0'], ['manganese,', '0'], ['nickel,', '0'], ['and', '0'], ['lead', 'M'], ['are', '0'], ['more', '0'], ['than', '0'], ['100.', 'Q'], ['The', '0'], ['Kpur', '0'], ['for', '0'], ['iron', 'M-cont'], ['and', 'M-cont'], ['zirconium', '0'], ['ions', 'M-cont'], ['is', 'M-cont'], ['54', '0'], ['and', '0'], ['40,', 'Q'], ['respectively.', '0'], ['The', '0'], ['lowest', '0'], ['purification', '0'], ['efficiency', '0'], ['is', '0'], ['observed', '0'], ['for', '0'], ['impurities', '0'], ['of', '0'], ['aluminum,', 'M'], ['phosphorus,', '0'], ['and', '0'], ['calcium', 'M'], ['(Kpur', '0'], ['=', 'Q-cont'], ['2.7–3.9).', 'Q-cont']]\n",
      "['0', '0', '0', '0', '0', 'M', '0', 'M', '0', '0', '0', '0', 'M', '0', '0', '0', 'Q', '0', '0', '0', 'M', 'M', '0', 'M', 'M', '0', '0', 'Q', '0', '0', '0', '0', '0', '0', '0', '0', '0', '0', 'M', '0', '0', 'M', '0', 'Q', 'Q']\n",
      "\n",
      "\n",
      "[['The', '0'], ['sorption', '0'], ['method', '0'], ['was', '0'], ['tested', '0'], ['for', '0'], ['direct', '0'], ['separation', '0'], ['of', '0'], ['the', '0'], ['90Sr/90Y', '0'], ['pair', '0'], ['without', '0'], ['using', '0'], ['the', '0'], ['extraction', '0'], ['method.', '0'], ['The', '0'], ['sorption', '0'], ['completeness', '0'], ['of', '0'], ['90Y', 'M'], ['and', '0'], ['90Sr', 'M'], ['on', '0'], ['the', '0'], ['first', '0'], ['column', '0'], ['filled', '0'], ['with', '0'], ['phosphate', '0'], ['cation', '0'], ['exchange', '0'], ['resin', '0'], ['D5041', '0'], ['can', '0'], ['be', '0'], ['evidenced', '0'], ['by', '0'], ['the', '0'], ['change', '0'], ['in', '0'], ['the', '0'], ['relative', '0'], ['beta', 'R-cont'], ['activity', 'R-cont'], ['(A/Ain)', '0'], ['of', '0'], ['the', '0'], ['filtrate', '0'], ['over', '0'], ['35–50', 'T'], ['days.', 'T-cont']]\n",
      "['0', '0', '0', '0', '0', '0', '0', '0', '0', '0', '0', '0', '0', '0', '0', '0', '0', '0', '0', '0', '0', 'M', '0', 'M', '0', '0', '0', '0', '0', '0', '0', '0', '0', '0', '0', '0', '0', '0', '0', '0', '0', '0', '0', '0', 'R', 'R', '0', '0', '0', '0', '0', 'T', 'T']\n",
      "\n",
      "\n",
      "[['These', '0'], ['results', '0'], ['demonstrate', '0'], ['that', '0'], ['sorption', '0'], ['from', '0'], ['a', '0'], ['0.01', 'Q'], ['M', 'Q-cont'], ['HNO3', '0'], ['solution', '0'], ['is', '0'], ['accompanied', '0'], ['by', '0'], ['the', '0'], ['combined', '0'], ['sorption', '0'], ['of', '0'], ['90Sr', 'M'], ['and', '0'], ['90Y.', 'M'], ['The', '0'], ['relative', '0'], ['beta', 'R'], ['activity', 'R-cont'], ['of', '0'], ['the', '0'], ['filtrate', '0'], ['changes', '0'], ['relatively', '0'], ['little', '0'], ['over', '0'], ['time', '0'], ['and', '0'], ['its', '0'], ['equilibrium', '0'], ['value', '0'], ['is', '0'], ['about', '0'], ['20%', 'Q'], ['of', '0']]\n",
      "['0', '0', '0', '0', '0', '0', '0', 'Q', 'Q', '0', '0', '0', '0', '0', '0', '0', '0', '0', 'M', '0', 'M', '0', '0', 'R', 'R', '0', '0', '0', '0', '0', '0', '0', '0', '0', '0', '0', '0', '0', '0', 'Q', '0']\n",
      "\n",
      "\n",
      "[['With', '0'], ['an', '0'], ['increase', '0'], ['in', '0'], ['the', '0'], ['nitric', 'A'], ['acid', 'A-cont'], ['concentration', '0'], ['the', '0'], ['time', '0'], ['dependence', '0'], ['of', '0'], ['the', '0'], ['A/Ain', '0'], ['value', '0'], ['of', '0'], ['the', '0'], ['filtrate', '0'], ['changes', '0'], ['sharply.', '0'], ['At', '0'], ['a', '0'], ['0.2–0.3', 'Q'], ['M', 'Q-cont'], ['HNO3', '0'], ['concentration', '0'], ['at', '0'], ['first', '0'], ['the', '0'], ['A/Ain', '0'], ['value', '0'], ['is', '0'], ['~0.4,', 'Q'], ['and', '0'], ['the', '0'], ['equilibrium', '0'], ['value,', '0'], ['0.8–0.9.', 'Q']]\n",
      "['0', '0', '0', '0', '0', 'A', 'A', '0', '0', '0', '0', '0', '0', '0', '0', '0', '0', '0', '0', '0', '0', '0', 'Q', 'Q', '0', '0', '0', '0', '0', '0', '0', '0', 'Q', '0', '0', '0', '0', 'Q']\n",
      "\n",
      "\n",
      "[['This', '0'], ['fact', '0'], ['indicates', '0'], ['that', '0'], ['during', '0'], ['the', '0'], ['sorption', '0'], ['of', '0'], ['the', '0'], ['equilibrium', '0'], ['90Sr/90Y', 'M'], ['mixture', '0'], ['in', '0'], ['this', '0'], ['acidity', '0'], ['range,', '0'], ['almost', '0'], ['all', '0'], ['90Sr', 'M'], ['remains', '0'], ['in', '0'], ['the', '0'], ['filtrate,', '0'], ['and', '0'], ['90Y', 'M'], ['is', '0'], ['completely', '0'], ['sorbed', '0'], ['on', '0'], ['the', '0'], ['column.', '0'], ['When', '0'], ['the', '0'], ['sorbent', '0'], ['is', '0'], ['washed', '0'], ['after', '0'], ['sorption', '0'], ['with', '0'], ['0.2–0.3', 'Q'], ['M', 'Q-cont'], ['HCl,', '0'], ['additional', '0'], ['elution', '0'], ['of', '0'], ['residual', '0'], ['amounts', '0'], ['of', '0'], ['90Sr', 'M'], ['occurs.', '0']]\n",
      "['0', '0', '0', '0', '0', '0', '0', '0', '0', '0', 'M', '0', '0', '0', '0', '0', '0', '0', 'M', '0', '0', '0', '0', '0', 'M', '0', '0', '0', '0', '0', '0', '0', '0', '0', '0', '0', '0', '0', '0', 'Q', 'Q', '0', '0', '0', '0', '0', '0', '0', 'M', '0']\n",
      "\n",
      "\n",
      "[['The', '0'], ['results', '0'], ['on', '0'], ['Fig.', '0'], ['2b', '0'], ['show', '0'], ['that', '0'], ['hydrochloric', 'A'], ['acid', 'A-cont'], ['desorbates', '0'], ['obtained', '0'], ['after', '0'], ['the', '0'], ['90Sr/90Y', '0'], ['pair', '0'], ['sorption', '0'], ['by', '0'], ['the', '0'], ['D5041', '0'], ['cation', '0'], ['exchange', '0'], ['resin', '0'], ['from', '0'], ['0.2–0.3', 'Q'], ['M', 'Q-cont'], ['HNO3', '0'], ['solutions', 'A-cont'], ['and', '0'], ['washing', '0'], ['with', '0'], ['HCl', 'A'], ['solutions', '0'], ['of', '0'], ['the', '0'], ['same', '0'], ['concentrations', '0'], ['contain', '0'], ['almost', '0'], ['pure', '0'], ['90Y.', 'M-cont'], ['The', '0'], ['residual', '0'], ['activity', '0'], ['of', '0'], ['desorbates', '0'], ['after', '0'], ['keeping', '0'], ['for', '0'], ['45', 'T'], ['days', 'T-cont'], ['does', '0'], ['not', '0'], ['exceed', '0'], ['0.1%', 'Q'], ['of', '0'], ['the', '0'], ['initial', '0'], ['activity', '0']]\n",
      "['0', '0', '0', '0', '0', '0', '0', 'A', 'A', '0', '0', '0', '0', '0', '0', '0', '0', '0', '0', '0', '0', '0', '0', 'Q', 'Q', '0', 'A', '0', '0', '0', 'A', '0', '0', '0', '0', '0', '0', '0', '0', 'M', '0', '0', '0', '0', '0', '0', '0', '0', 'T', 'T', '0', '0', '0', 'Q', '0', '0', '0', '0']\n",
      "\n",
      "\n",
      "[['Due', '0'], ['to', '0'], ['the', '0'], ['fact', '0'], ['that', '0'], ['even', '0'], ['deeper', '0'], ['purification', '0'], ['of', '0'], ['90Y', 'M'], ['from', '0'], ['90Sr', 'M'], ['is', '0'], ['required', '0'], ['for', '0'], ['use', '0'], ['in', '0'], ['the', '0'], ['production', '0'], ['of', '0'], ['radiopharmaceuticals,', '0'], ['the', '0'], ['obtained', '0'], ['hydrochloric', 'A'], ['acid', 'A-cont'], ['desorbates', '0'], ['were', '0'], ['subjected', '0'], ['to', '0'], ['additional', '0'], ['purification', '0'], ['with', '0'], ['the', '0'], ['TODGA-containing', 'A'], ['sorbent', '0'], ['AXIONIT', 'C'], ['MND', 'C-cont'], ['40T.', 'C-cont']]\n",
      "['0', '0', '0', '0', '0', '0', '0', '0', '0', 'M', '0', 'M', '0', '0', '0', '0', '0', '0', '0', '0', '0', '0', '0', 'A', 'A', '0', '0', '0', '0', '0', '0', '0', '0', 'A', '0', 'C', 'C', 'C']\n",
      "\n",
      "\n",
      "[['Sorbents', '0'], ['of', '0'], ['this', '0'], ['type', '0'], ['are', '0'], ['capable', '0'], ['of', '0'], ['efficient', '0'], ['sorption', '0'], ['of', '0'], ['REE', 'M-cont'], ['and', '0'], ['Y', 'M'], ['in', '0'], ['strongly', '0'], ['acidic', '0'], ['media', '0'], ['including', '0'], ['hydrochloric', 'A'], ['acid.', 'A-cont'], ['In', '0'], ['acid', '0'], ['solutions', '0'], ['with', '0'], ['a', '0'], ['concentration', '0'], ['of', '0'], ['less', '0'], ['than', '0'], ['0.1', 'Q'], ['M', 'Q-cont'], ['the', '0'], ['sorption', '0'], ['of', '0'], ['REE(Y)', 'M'], ['sharply', '0']]\n",
      "['0', '0', '0', '0', '0', '0', '0', '0', '0', '0', 'M', '0', 'M', '0', '0', '0', '0', '0', 'A', 'A', '0', '0', '0', '0', '0', '0', '0', '0', '0', 'Q', 'Q', '0', '0', '0', 'M', '0']\n",
      "\n",
      "\n",
      "[['To', '0'], ['experimentally', '0'], ['verify', '0'], ['this', '0'], ['fact', '0'], ['we', '0'], ['used', '0'], ['hydrochloric', 'A'], ['acid', 'A-cont'], ['desorbate', '0'], ['obtained', '0'], ['after', '0'], ['90Sr/90Y', 'M'], ['pair', '0'], ['sorption', '0'], ['by', '0'], ['the', '0'], ['cation', '0'], ['exchange', '0'], ['resin', '0'], ['D5041', '0'], ['from', '0'], ['a', '0'], ['0.2', 'Q'], ['M', 'Q-cont'], ['HNO3', 'Q-cont'], ['solution', '0'], ['and', '0'], ['washing', '0'], ['with', '0'], ['0.2', 'Q'], ['M', 'Q-cont'], ['HCl.', '0'], ['Desorbate', '0'], ['containing', '0'], ['3', 'Q'], ['M', 'Q-cont'], ['HCl,', '0'], ['90Y', '0'], ['desorbed', '0'], ['from', '0'], ['the', '0'], ['first', '0'], ['column,', '0'], ['and', '0'], ['residual', '0'], ['impurities', '0'], ['were', '0'], ['passed', '0'], ['through', '0'], ['a', '0'], ['plastic', 'C'], ['column', '0'], ['filled', '0'], ['with', '0'], ['4.5', 'Q'], ['cm3', 'Q-cont'], ['AXIONIT', 'Q-cont'], ['MND', '0'], ['40T', 'C-cont'], ['sorbent.', '0']]\n",
      "['0', '0', '0', '0', '0', '0', '0', 'A', 'A', '0', '0', '0', 'M', '0', '0', '0', '0', '0', '0', '0', '0', '0', '0', 'Q', 'Q', 'Q', '0', '0', '0', '0', 'Q', 'Q', '0', '0', '0', 'Q', 'Q', '0', '0', '0', '0', '0', '0', '0', '0', '0', '0', '0', '0', '0', '0', 'C', '0', '0', '0', 'Q', 'Q', 'Q', '0', 'C', '0']\n",
      "\n",
      "\n",
      "[['Then', '0'], ['the', '0'], ['sorbent', '0'], ['was', '0'], ['washed', '0'], ['with', '0'], ['a', '0'], ['3', 'Q-cont'], ['M', 'Q-cont'], ['HCl', 'Q-cont'], ['solution', '0'], ['and', '0'], ['90Y', 'M'], ['was', '0'], ['desorbed', '0'], ['with', '0'], ['a', '0'], ['0.01', 'A'], ['M', 'A-cont'], ['HCl', '0'], ['solution.', '0'], ['The', '0'], ['passing', '0'], ['rate', '0'], ['of', '0'], ['solutions', '0'], ['was', '0'], ['3.0', 'Q'], ['c.v./h,', 'Q-cont'], ['the', '0'], ['solution', '0'], ['volume', '0'], ['was', '0'], ['6', 'Q'], ['c.v.', 'Q-cont'], ['Figure', '0'], ['3', '0'], ['shows', '0'], ['the', '0'], ['experimental', '0'], ['and', '0'], ['calculated', '0'], ['curves', '0'], ['of', '0'], ['the', '0'], ['relative', '0'], ['beta', 'R'], ['activity', 'R-cont'], ['(A/Ain)', '0'], ['vs.', '0'], ['the', '0'], ['exposure', '0'], ['time', '0'], ['of', '0'], ['the', '0'], ['desorbate', '0'], ['(0.01', '0'], ['M', 'Q-cont'], ['HCl)', '0'], ['after', '0'], ['sorption', '0'], ['by', '0'], ['the', '0'], ['AXIONIT', 'C'], ['MND', 'C-cont'], ['40T', 'C-cont'], ['sorbent.', '0']]\n",
      "['0', '0', '0', '0', '0', '0', '0', 'Q', 'Q', 'Q', '0', '0', 'M', '0', '0', '0', '0', 'A', 'A', '0', '0', '0', '0', '0', '0', '0', '0', 'Q', 'Q', '0', '0', '0', '0', 'Q', 'Q', '0', '0', '0', '0', '0', '0', '0', '0', '0', '0', '0', 'R', 'R', '0', '0', '0', '0', '0', '0', '0', '0', '0', 'Q', '0', '0', '0', '0', '0', 'C', 'C', 'C', '0']\n",
      "\n",
      "\n",
      "[['The', '0'], ['results', '0'], ['in', '0'], ['Fig.', '0'], ['3', '0'], ['show', '0'], ['that', '0'], ['hydrochloric', 'A'], ['acid', 'A-cont'], ['desorbates', '0'], ['obtained', '0'], ['after', '0'], ['additional', '0'], ['purification', '0'], ['with', '0'], ['the', '0'], ['AXIONIT', '0'], ['MND', '0'], ['40T', '0'], ['sorbent', '0'], ['contain', '0'], ['only', '0'], ['90Y.', 'M-cont'], ['The', '0'], ['residual', '0'], ['activity', '0'], ['of', '0'], ['desorbates', '0'], ['after', '0'], ['keeping', '0'], ['for', '0'], ['45', 'T'], ['days', 'T-cont'], ['is', '0'], ['at', '0'], ['the', '0'], ['near', '0'], ['the', '0'], ['detection', '0'], ['limits', '0'], ['of', '0'], ['the', '0'], ['recording', '0'], ['equipment.', '0'], ['The', '0'], ['portion', '0'], ['of', '0'], ['90Sr', 'M'], ['activity', '0'], ['in', '0'], ['90Y-containing', 'M'], ['desorbate', '0'], ['is', '0'], ['less', '0'], ['than', '0'], ['10–6%.', 'Q']]\n",
      "['0', '0', '0', '0', '0', '0', '0', 'A', 'A', '0', '0', '0', '0', '0', '0', '0', '0', '0', '0', '0', '0', '0', 'M', '0', '0', '0', '0', '0', '0', '0', '0', 'T', 'T', '0', '0', '0', '0', '0', '0', '0', '0', '0', '0', '0', '0', '0', '0', 'M', '0', '0', 'M', '0', '0', '0', '0', 'Q']\n",
      "\n"
     ]
    }
   ],
   "source": [
    "data_tags = ['0','C', 'C-cont' , 'M', 'M-cont', 'Q', 'Q-cont', 'T' , 'T-cont', 'A' , 'A-cont', 'R', 'R-cont']\n",
    "\n",
    "\n",
    "sentences = []\n",
    "for i in range(0, len(temp)):\n",
    "    text = temp[i]['text'].split()\n",
    "    sentences.append(text)\n",
    "\n",
    "\n",
    "\n",
    "labeled_parse = []\n",
    "labels = []\n",
    "for i in range(0, len(sentences)):\n",
    "    label_temp =[]\n",
    "    annotated=[]\n",
    "    index = 0\n",
    "    entities = 0\n",
    "    for j in range(0, len(sentences[i])):\n",
    "        if len(temp[i]['annotations'])==0:\n",
    "            break\n",
    "       \n",
    "        if index == temp[i]['annotations'][entities]['start_offset']:\n",
    "            annotated.append([sentences[i][j],data_tags[2*temp[i]['annotations'][entities]['label']-1]])\n",
    "            label_temp.append(data_tags[2 * temp[i]['annotations'][entities]['label']-1])\n",
    "            \n",
    "        elif index >= temp[i]['annotations'][entities]['start_offset'] and index <= temp[i]['annotations'][entities]['end_offset']:\n",
    "            annotated.append([sentences[i][j],data_tags[(2 * temp[i]['annotations'][entities]['label'] )]])\n",
    "            label_temp.append(data_tags[(2 * temp[i]['annotations'][entities]['label']-1 ) ])\n",
    "            \n",
    "        elif index > temp[i]['annotations'][entities]['end_offset']:\n",
    "            entities+=1\n",
    "            annotated.append([sentences[i][j], data_tags[0]])\n",
    "            label_temp.append(data_tags[0])\n",
    "            if entities>=len(temp[i]['annotations']):\n",
    "                break\n",
    "        else:\n",
    "            annotated.append([sentences[i][j], data_tags[0]])\n",
    "            label_temp.append(data_tags[0])\n",
    "            \n",
    "        index += (len(sentences[i][j])+1)\n",
    "    \n",
    "    labeled_parse.append(annotated)\n",
    "    labels.append(label_temp)\n",
    "\n",
    "\n",
    "        \n",
    "for i in range(0, len(labeled_parse)):\n",
    "    print()\n",
    "    print(labeled_parse[i])\n",
    "    print(labels[i])\n",
    "    print()"
   ]
  },
  {
   "cell_type": "code",
   "execution_count": 5,
   "metadata": {
    "id": "iipz8_yRZ39E"
   },
   "outputs": [
    {
     "name": "stdout",
     "output_type": "stream",
     "text": [
      "['0', 'C', 'C-cont', 'M', 'M-cont', 'Q', 'Q-cont', 'T', 'T-cont', 'A', 'A-cont', 'R', 'R-cont']\n",
      "['0', 'C', 'C-cont', 'M', 'M-cont', 'Q', 'Q-cont', 'T', 'T-cont', 'A', 'A-cont', 'R', 'R-cont', 'PAD']\n",
      "{'0': 0, 'C': 1, 'C-cont': 2, 'M': 3, 'M-cont': 4, 'Q': 5, 'Q-cont': 6, 'T': 7, 'T-cont': 8, 'A': 9, 'A-cont': 10, 'R': 11, 'R-cont': 12, 'PAD': 13}\n"
     ]
    }
   ],
   "source": [
    "\n",
    "# Determine the list of tags\n",
    "tag_values = data_tags\n",
    "print(tag_values)\n",
    "\n",
    "tag_values.append(\"PAD\")\n",
    "print(tag_values)\n",
    "\n",
    "tag2idx = {t: i for i, t in enumerate(tag_values)}\n",
    "print(tag2idx)\n",
    "     "
   ]
  },
  {
   "cell_type": "code",
   "execution_count": 6,
   "metadata": {
    "colab": {
     "base_uri": "https://localhost:8080/"
    },
    "id": "kXahgP-Vao7q",
    "outputId": "1b6313f7-b619-4a2b-e714-8f585a8f3b50"
   },
   "outputs": [
    {
     "name": "stdout",
     "output_type": "stream",
     "text": [
      "['The', 'influence', 'of', 'γ-radiation', 'on', 'the', 'physical', 'characteristics', 'and', 'sorption', 'properties', 'for', 'Am', 'of', 'the', 'solid', 'extractant', 'AXIONIT', 'MND', '40T', '(TVEX)', 'synthesized', 'by', 'Axion-Rare', 'and', 'Noble', 'Metals', 'JSC', '(Perm)', 'was', 'studied.', 'With', 'an', 'increase', 'of', 'the', 'absorbed', 'dose', 'of', 'γ-radiation,', 'the', 'granulometric', 'composition,', 'bulk', 'density,', 'and', 'specific', 'volume', 'of', 'TVEX', 'change', 'insignificantly.', 'The', 'IR', 'spectra', 'of', 'TVEX', 'demonstrate', 'significant', 'radiation', 'degradation', 'at', 'an', 'absorbed', 'radiation', 'dose', 'from', '1.4', 'to', '2.5', 'MGy.', 'TVEX', 'is', 'an', 'effective', 'Am', 'sorbent', 'when', 'irradiated', 'to', 'an', 'absorbed', 'γ-radiation', 'dose', 'of', 'no', 'more', 'than', '0.6', 'MGy.', 'At', 'an', 'irradiation', 'dose', 'of', '2.5', 'MGy', 'sorption', 'capacity', 'is', 'significantly', 'reduced.'] \n",
      " ['0', '0', '0', 'R', '0', '0', '0', '0', '0', '0', '0', '0', 'M', '0', '0', '0', '0', '0', '0', '0', '0', '0', '0', '0', '0', '0', '0', '0', '0', '0', '0', '0', '0', '0', '0', '0', '0', '0', '0', 'R', '0', '0', '0', '0', '0', '0', '0', '0', '0', '0', '0', '0', '0', '0', '0', '0', '0', '0', '0', '0', '0', '0', '0', '0', '0', '0', '0', 'Q', 'Q', 'Q', 'Q', '0', '0', '0', '0', 'M', '0', '0', '0', '0', '0', '0', 'R', '0', '0', '0', '0', '0', 'Q', 'Q', '0', '0', '0', '0', '0', 'Q', 'Q', '0', '0', '0', '0', '0'] \n",
      " [['The', '0'], ['influence', '0'], ['of', '0'], ['γ-radiation', 'R'], ['on', '0'], ['the', '0'], ['physical', '0'], ['characteristics', '0'], ['and', '0'], ['sorption', '0'], ['properties', '0'], ['for', '0'], ['Am', 'M'], ['of', '0'], ['the', '0'], ['solid', '0'], ['extractant', '0'], ['AXIONIT', '0'], ['MND', '0'], ['40T', '0'], ['(TVEX)', '0'], ['synthesized', '0'], ['by', '0'], ['Axion-Rare', '0'], ['and', '0'], ['Noble', '0'], ['Metals', '0'], ['JSC', '0'], ['(Perm)', '0'], ['was', '0'], ['studied.', '0'], ['With', '0'], ['an', '0'], ['increase', '0'], ['of', '0'], ['the', '0'], ['absorbed', '0'], ['dose', '0'], ['of', '0'], ['γ-radiation,', 'R'], ['the', '0'], ['granulometric', '0'], ['composition,', '0'], ['bulk', '0'], ['density,', '0'], ['and', '0'], ['specific', '0'], ['volume', '0'], ['of', '0'], ['TVEX', '0'], ['change', '0'], ['insignificantly.', '0'], ['The', '0'], ['IR', '0'], ['spectra', '0'], ['of', '0'], ['TVEX', '0'], ['demonstrate', '0'], ['significant', '0'], ['radiation', '0'], ['degradation', '0'], ['at', '0'], ['an', '0'], ['absorbed', '0'], ['radiation', '0'], ['dose', '0'], ['from', '0'], ['1.4', 'Q'], ['to', 'Q-cont'], ['2.5', 'Q-cont'], ['MGy.', 'Q-cont'], ['TVEX', '0'], ['is', '0'], ['an', '0'], ['effective', '0'], ['Am', 'M'], ['sorbent', '0'], ['when', '0'], ['irradiated', '0'], ['to', '0'], ['an', '0'], ['absorbed', '0'], ['γ-radiation', 'R'], ['dose', '0'], ['of', '0'], ['no', '0'], ['more', '0'], ['than', '0'], ['0.6', 'Q'], ['MGy.', 'Q-cont'], ['At', '0'], ['an', '0'], ['irradiation', '0'], ['dose', '0'], ['of', '0'], ['2.5', 'Q'], ['MGy', 'Q-cont'], ['sorption', '0'], ['capacity', '0'], ['is', '0'], ['significantly', '0'], ['reduced.', '0']]\n"
     ]
    }
   ],
   "source": [
    "print(sentences[0],\"\\n\",labels[0], \"\\n\", labeled_parse[0])"
   ]
  },
  {
   "cell_type": "code",
   "execution_count": null,
   "metadata": {
    "colab": {
     "base_uri": "https://localhost:8080/"
    },
    "id": "UqdCmpI0XWbN",
    "outputId": "2f94e3d1-7416-4f05-f2ff-51651567bad4"
   },
   "outputs": [],
   "source": []
  },
  {
   "cell_type": "code",
   "execution_count": 7,
   "metadata": {
    "colab": {
     "base_uri": "https://localhost:8080/",
     "height": 66,
     "referenced_widgets": [
      "90bfea074fb74029988d843be156887d",
      "a73c84059bc649f8b21c25f32662de32",
      "2042a2bd748246de8e33be4c188715ca",
      "79e1052f1ce14de09b93b29f36fcdf26",
      "b14647f6aae14ecc8a519df754f03037",
      "d1144a9b389f47df90b5c127031bfd3a",
      "5cd5dba2aea04e8ab8f4d6571e1d8ad7",
      "f8753b1167d24669982f270213629a70"
     ]
    },
    "id": "qhpKOKSr136j",
    "outputId": "3d599ff1-d06d-43ec-cf91-053d8f241bdf"
   },
   "outputs": [
    {
     "name": "stdout",
     "output_type": "stream",
     "text": [
      "130\n"
     ]
    }
   ],
   "source": [
    "# To use the BERT, you must use the BERT Tokenizer\n",
    "tokenizer = BertTokenizer.from_pretrained('allenai/scibert_scivocab_uncased', do_lower_case=False)\n"
   ]
  },
  {
   "cell_type": "code",
   "execution_count": 8,
   "metadata": {
    "id": "4UEvE5GD19Yp"
   },
   "outputs": [],
   "source": [
    "def tokenize_and_preserve_labels(sentence, text_labels):\n",
    "    tokenized_sentence = []\n",
    "    labels = []\n",
    "\n",
    "    for word, label in zip(sentence, text_labels):\n",
    "\n",
    "        # Tokenize the word and count # of subwords the word is broken into\n",
    "        tokenized_word = tokenizer.tokenize(word)\n",
    "        n_subwords = len(tokenized_word)\n",
    "\n",
    "        # Add the tokenized word to the final tokenized word list\n",
    "        tokenized_sentence.extend(tokenized_word)\n",
    "\n",
    "        # Add the same label to the new list of labels `n_subwords` times\n",
    "        labels.extend([label] * n_subwords)\n",
    "\n",
    "    return tokenized_sentence, labels\n"
   ]
  },
  {
   "cell_type": "code",
   "execution_count": 9,
   "metadata": {
    "id": "SOZqX8q52BOr"
   },
   "outputs": [],
   "source": [
    "tokenized_texts_and_labels = [ tokenize_and_preserve_labels(sent, labs) for sent, labs in zip(sentences, labels)]\n",
    "\n",
    "tokenized_texts = [token_label_pair[0] for token_label_pair in tokenized_texts_and_labels]\n",
    "labels = [token_label_pair[1] for token_label_pair in tokenized_texts_and_labels]"
   ]
  },
  {
   "cell_type": "code",
   "execution_count": 10,
   "metadata": {
    "id": "7pJxaAwrXMCr"
   },
   "outputs": [],
   "source": [
    "# MAX_LEN is the maximum length of a sequence\n",
    "MAX_LEN = 64 # 64 or 128 or ...\n",
    "bs = 5 # batch size\n"
   ]
  },
  {
   "cell_type": "code",
   "execution_count": 11,
   "metadata": {
    "id": "ACWaTEQ12T_q"
   },
   "outputs": [],
   "source": [
    "# Use Padding to equalize the length of sentences\n",
    "input_ids = pad_sequences([tokenizer.convert_tokens_to_ids(txt) for txt in tokenized_texts],\n",
    "                          maxlen=MAX_LEN, dtype=\"long\", value=0.0,\n",
    "                          truncating=\"post\", padding=\"post\")\n",
    "\n",
    "tags = pad_sequences([[tag2idx.get(l) for l in lab] for lab in labels],\n",
    "                     maxlen=MAX_LEN, value=tag2idx[\"PAD\"], padding=\"post\",\n",
    "                     dtype=\"long\", truncating=\"post\")\n"
   ]
  },
  {
   "cell_type": "code",
   "execution_count": 12,
   "metadata": {
    "id": "HK8j0_fU2Xc7"
   },
   "outputs": [],
   "source": [
    "# Do not mask values that are zero\n",
    "attention_masks = [[float(i != 0.0) for i in ii] for ii in input_ids]"
   ]
  },
  {
   "cell_type": "code",
   "execution_count": 13,
   "metadata": {
    "id": "8MgKNvMf2e4x"
   },
   "outputs": [
    {
     "name": "stdout",
     "output_type": "stream",
     "text": [
      "<torch.utils.data.sampler.RandomSampler object at 0x7fed8e7fd6d0>\n"
     ]
    }
   ],
   "source": [
    "# Split data to train and validation. %90 for train and %10 for validation\n",
    "tr_inputs, val_inputs, tr_tags, val_tags = train_test_split(input_ids, tags,\n",
    "                                                            random_state=2018, test_size=0.1)\n",
    "\n",
    "# Each mask contains 10% of a sentence\n",
    "tr_masks, val_masks, _, _ = train_test_split(attention_masks, input_ids,\n",
    "                                             random_state=2018, test_size=0.1)\n",
    "\n",
    "# The input of the BERT should be the tensors produced using PyTorch\n",
    "# So convert all inputs and labels into torch tensors\n",
    "tr_inputs = torch.tensor(tr_inputs)\n",
    "val_inputs = torch.tensor(val_inputs)\n",
    "\n",
    "tr_tags = torch.tensor(tr_tags)\n",
    "val_tags = torch.tensor(val_tags)\n",
    "\n",
    "tr_masks = torch.tensor(tr_masks)\n",
    "val_masks = torch.tensor(val_masks)\n",
    "\n",
    "# Create the DataLoader for our training set\n",
    "train_data = TensorDataset(tr_inputs, tr_masks, tr_tags)\n",
    "train_sampler = RandomSampler(train_data)\n",
    "train_dataloader = DataLoader(train_data, sampler=train_sampler, batch_size=bs)\n",
    "\n",
    "print(train_sampler)\n",
    "\n",
    "# Create the DataLoader for our validation set\n",
    "valid_data = TensorDataset(val_inputs, val_masks, val_tags)\n",
    "valid_sampler = SequentialSampler(valid_data)\n",
    "valid_dataloader = DataLoader(valid_data, sampler=valid_sampler, batch_size=bs)\n"
   ]
  },
  {
   "cell_type": "markdown",
   "metadata": {
    "id": "fIlayjaxK1ac"
   },
   "source": [
    "# **Build model**"
   ]
  },
  {
   "cell_type": "code",
   "execution_count": 14,
   "metadata": {
    "colab": {
     "base_uri": "https://localhost:8080/",
     "height": 218,
     "referenced_widgets": [
      "185d34a6bb6b4439814040da0f2853dc",
      "c1cd492626094c28a241545b0fd13a58",
      "04bec66c474c43b2abf55df9493c1ad3",
      "28c5ada5e413494d875958479bce1bf8",
      "153c7c4195394cd987cd27224c076792",
      "0aa2f68932aa46e08d79b503cdb066d5",
      "e8ccc221de014f9589d4c01db1576bee",
      "a21058481d204b6a98739c21527b9b53",
      "3a57498cc92f475289ed438778ad901a",
      "339741a64cde4ae781225b14a9c2cb76",
      "53b2be4adc4e42879082de9dc5e7e288",
      "93df6238747f46a687b94eaa17a756f2",
      "0e77fed9e8004154922761880363a58f",
      "e51c5802ddc848b68a80aa74f8ac7c81",
      "cf5ab30e45634ad8834f8ba8130e11ad",
      "8c7006c2c348458d881cd0f82191e03c"
     ]
    },
    "id": "wruwJ-wz4HxW",
    "outputId": "193933c8-307c-4f72-92c0-98cabc3f134b",
    "scrolled": true
   },
   "outputs": [
    {
     "name": "stderr",
     "output_type": "stream",
     "text": [
      "Some weights of the model checkpoint at allenai/scibert_scivocab_uncased were not used when initializing BertForTokenClassification: ['cls.predictions.transform.dense.weight', 'cls.seq_relationship.bias', 'cls.predictions.transform.dense.bias', 'cls.seq_relationship.weight', 'cls.predictions.decoder.weight', 'cls.predictions.decoder.bias', 'cls.predictions.bias', 'cls.predictions.transform.LayerNorm.bias', 'cls.predictions.transform.LayerNorm.weight']\n",
      "- This IS expected if you are initializing BertForTokenClassification from the checkpoint of a model trained on another task or with another architecture (e.g. initializing a BertForSequenceClassification model from a BertForPreTraining model).\n",
      "- This IS NOT expected if you are initializing BertForTokenClassification from the checkpoint of a model that you expect to be exactly identical (initializing a BertForSequenceClassification model from a BertForSequenceClassification model).\n",
      "Some weights of BertForTokenClassification were not initialized from the model checkpoint at allenai/scibert_scivocab_uncased and are newly initialized: ['classifier.bias', 'classifier.weight']\n",
      "You should probably TRAIN this model on a down-stream task to be able to use it for predictions and inference.\n"
     ]
    }
   ],
   "source": [
    "# Load BERT Model\n",
    "\n",
    "model = BertForTokenClassification.from_pretrained(\n",
    "    \"allenai/scibert_scivocab_uncased\",\n",
    "    num_labels=len(tag2idx), # The number of output labels\n",
    "    output_attentions = False, # Whether the model returns attention weights.\n",
    "    output_hidden_states = False # Whether the model returns all hidden-states.\n",
    ")"
   ]
  },
  {
   "cell_type": "code",
   "execution_count": 15,
   "metadata": {
    "id": "WybQNyPM4Ks0"
   },
   "outputs": [],
   "source": [
    "# Tell PyTorch to run this model on the GPU\n",
    "model.cuda();"
   ]
  },
  {
   "cell_type": "code",
   "execution_count": 16,
   "metadata": {
    "id": "dhWWhnfV4Vl-"
   },
   "outputs": [
    {
     "name": "stderr",
     "output_type": "stream",
     "text": [
      "/home/ecasey/anaconda3/envs/torch/lib/python3.8/site-packages/transformers/optimization.py:411: FutureWarning: This implementation of AdamW is deprecated and will be removed in a future version. Use the PyTorch implementation torch.optim.AdamW instead, or set `no_deprecation_warning=True` to disable this warning\n",
      "  warnings.warn(\n"
     ]
    }
   ],
   "source": [
    "FULL_FINETUNING = True\n",
    "if FULL_FINETUNING:\n",
    "    param_optimizer = list(model.named_parameters())\n",
    "    no_decay = ['bias', 'gamma', 'beta']\n",
    "    optimizer_grouped_parameters = [\n",
    "        {'params': [p for n, p in param_optimizer if not any(nd in n for nd in no_decay)],\n",
    "         'weight_decay_rate': 0.01},\n",
    "        {'params': [p for n, p in param_optimizer if any(nd in n for nd in no_decay)],\n",
    "         'weight_decay_rate': 0.0}\n",
    "    ]\n",
    "else:\n",
    "    param_optimizer = list(model.classifier.named_parameters())\n",
    "    optimizer_grouped_parameters = [{\"params\": [p for n, p in param_optimizer]}]\n",
    "\n",
    "optimizer = AdamW(\n",
    "    optimizer_grouped_parameters,\n",
    "    lr= 1e-5, # learning-rate default is 3e-5\n",
    "    eps=1e-8 # adam-epsilon default is 1e-8\n",
    ")\n"
   ]
  },
  {
   "cell_type": "code",
   "execution_count": 17,
   "metadata": {
    "id": "oKuYyYbY4dJP"
   },
   "outputs": [],
   "source": [
    "epochs = 100\n",
    "\n",
    "max_grad_norm = 1.0\n",
    "\n",
    "# Total number of training steps is number of batches * number of epochs.\n",
    "total_steps = len(train_dataloader) * epochs\n",
    "\n",
    "# Create the learning rate scheduler.\n",
    "scheduler = get_linear_schedule_with_warmup(\n",
    "    optimizer,\n",
    "    num_warmup_steps=0,\n",
    "    num_training_steps=total_steps\n",
    ")"
   ]
  },
  {
   "cell_type": "markdown",
   "metadata": {
    "id": "POhQTWIpJwlb"
   },
   "source": [
    "# **Training**"
   ]
  },
  {
   "cell_type": "code",
   "execution_count": 18,
   "metadata": {
    "id": "74x245VwbjzK"
   },
   "outputs": [],
   "source": [
    "def acc():\n",
    "    accuracy_list = []\n",
    "\n",
    "    for i in range(len(sentences)):\n",
    "\n",
    "        tokenized_sentence = tokenizer.encode(sentences[i])\n",
    "        input_ids = torch.tensor([tokenized_sentence]).cuda()\n",
    "\n",
    "        with torch.no_grad():\n",
    "            output = model(input_ids)\n",
    "\n",
    "        label_indices = np.argmax(output[0].to('cpu').numpy(), axis=2)\n",
    "\n",
    "        # join bpe split tokens\n",
    "        tokens = tokenizer.convert_ids_to_tokens(input_ids.to('cpu').numpy()[0])\n",
    "        new_tokens, new_labels = [], []\n",
    "        for token, label_idx in zip(tokens, label_indices[0]):\n",
    "            if token.startswith(\"##\"):\n",
    "                new_tokens[-1] = new_tokens[-1] + token[2:]\n",
    "            else:\n",
    "                new_labels.append(tag_values[label_idx])\n",
    "                new_tokens.append(token)\n",
    "\n",
    "        new_labels = new_labels[1:-2]\n",
    "        accuracy_list.append(accuracy_score(new_labels, labels[i]))\n",
    "\n",
    "        #print(\"\\nPredict labels: \",new_labels)\n",
    "        #print(\"Actual labels: \",labels[i])\n",
    "\n",
    "        return statistics.mean(accuracy_list)\n",
    "\n"
   ]
  },
  {
   "cell_type": "code",
   "execution_count": 19,
   "metadata": {
    "colab": {
     "base_uri": "https://localhost:8080/"
    },
    "id": "7I9lOiM94kKg",
    "outputId": "eac63c54-d19d-4261-8de8-1ef85d09fb77"
   },
   "outputs": [
    {
     "name": "stderr",
     "output_type": "stream",
     "text": [
      "\r",
      "Epoch:   0%|                                                                                                 | 0/100 [00:00<?, ?it/s]"
     ]
    },
    {
     "name": "stdout",
     "output_type": "stream",
     "text": [
      "\n",
      "Average train loss: 1.6536811639865239\n",
      "\n",
      "Validation loss: 1.2292462189992268\n",
      "Validation Accuracy: 0.7357954545454546\n",
      "\n"
     ]
    },
    {
     "name": "stderr",
     "output_type": "stream",
     "text": [
      "\r",
      "Epoch:   1%|▉                                                                                        | 1/100 [00:05<09:04,  5.50s/it]"
     ]
    },
    {
     "name": "stdout",
     "output_type": "stream",
     "text": [
      "\n",
      "Average train loss: 0.9440392404794693\n",
      "\n",
      "Validation loss: 0.8920196294784546\n",
      "Validation Accuracy: 0.7727272727272727\n",
      "\n"
     ]
    },
    {
     "name": "stderr",
     "output_type": "stream",
     "text": [
      "\r",
      "Epoch:   2%|█▊                                                                                       | 2/100 [00:10<08:18,  5.08s/it]"
     ]
    },
    {
     "name": "stdout",
     "output_type": "stream",
     "text": [
      "\n",
      "Average train loss: 0.6579387995103995\n",
      "\n",
      "Validation loss: 0.6238118410110474\n",
      "Validation Accuracy: 0.8210227272727273\n",
      "\n"
     ]
    },
    {
     "name": "stderr",
     "output_type": "stream",
     "text": [
      "\r",
      "Epoch:   3%|██▋                                                                                      | 3/100 [00:15<07:58,  4.93s/it]"
     ]
    },
    {
     "name": "stdout",
     "output_type": "stream",
     "text": [
      "\n",
      "Average train loss: 0.46598633751273155\n",
      "\n",
      "Validation loss: 0.47238777081171673\n",
      "Validation Accuracy: 0.8409090909090909\n",
      "\n"
     ]
    },
    {
     "name": "stderr",
     "output_type": "stream",
     "text": [
      "\r",
      "Epoch:   4%|███▌                                                                                     | 4/100 [00:19<07:47,  4.87s/it]"
     ]
    },
    {
     "name": "stdout",
     "output_type": "stream",
     "text": [
      "\n",
      "Average train loss: 0.33838585453728837\n",
      "\n",
      "Validation loss: 0.36431049307187396\n",
      "Validation Accuracy: 0.8636363636363636\n",
      "\n"
     ]
    },
    {
     "name": "stderr",
     "output_type": "stream",
     "text": [
      "\r",
      "Epoch:   5%|████▍                                                                                    | 5/100 [00:24<07:40,  4.85s/it]"
     ]
    },
    {
     "name": "stdout",
     "output_type": "stream",
     "text": [
      "\n",
      "Average train loss: 0.25613070900241536\n",
      "\n",
      "Validation loss: 0.3285170296827952\n",
      "Validation Accuracy: 0.8849431818181818\n",
      "\n"
     ]
    },
    {
     "name": "stderr",
     "output_type": "stream",
     "text": [
      "\r",
      "Epoch:   6%|█████▎                                                                                   | 6/100 [00:29<07:46,  4.97s/it]"
     ]
    },
    {
     "name": "stdout",
     "output_type": "stream",
     "text": [
      "\n",
      "Average train loss: 0.2130391194174687\n",
      "\n",
      "Validation loss: 0.31426069140434265\n",
      "Validation Accuracy: 0.8877840909090909\n",
      "\n"
     ]
    },
    {
     "name": "stderr",
     "output_type": "stream",
     "text": [
      "\r",
      "Epoch:   7%|██████▏                                                                                  | 7/100 [00:34<07:39,  4.94s/it]"
     ]
    },
    {
     "name": "stdout",
     "output_type": "stream",
     "text": [
      "\n",
      "Average train loss: 0.16996790251384178\n",
      "\n",
      "Validation loss: 0.3135000964005788\n",
      "Validation Accuracy: 0.8792613636363636\n",
      "\n"
     ]
    },
    {
     "name": "stderr",
     "output_type": "stream",
     "text": [
      "\r",
      "Epoch:   8%|███████                                                                                  | 8/100 [00:39<07:31,  4.91s/it]"
     ]
    },
    {
     "name": "stdout",
     "output_type": "stream",
     "text": [
      "\n",
      "Average train loss: 0.13338749995455146\n",
      "\n",
      "Validation loss: 0.293809711933136\n",
      "Validation Accuracy: 0.8920454545454546\n",
      "\n"
     ]
    },
    {
     "name": "stderr",
     "output_type": "stream",
     "text": [
      "\r",
      "Epoch:   9%|████████                                                                                 | 9/100 [00:44<07:17,  4.81s/it]"
     ]
    },
    {
     "name": "stdout",
     "output_type": "stream",
     "text": [
      "\n",
      "Average train loss: 0.10818821207309763\n",
      "\n",
      "Validation loss: 0.3197685480117798\n",
      "Validation Accuracy: 0.8892045454545454\n",
      "\n"
     ]
    },
    {
     "name": "stderr",
     "output_type": "stream",
     "text": [
      "\r",
      "Epoch:  10%|████████▊                                                                               | 10/100 [00:48<07:13,  4.81s/it]"
     ]
    },
    {
     "name": "stdout",
     "output_type": "stream",
     "text": [
      "\n",
      "Average train loss: 0.07993984323305388\n",
      "\n",
      "Validation loss: 0.27266330520311993\n",
      "Validation Accuracy: 0.8991477272727273\n",
      "\n"
     ]
    },
    {
     "name": "stderr",
     "output_type": "stream",
     "text": [
      "\r",
      "Epoch:  11%|█████████▋                                                                              | 11/100 [00:53<07:06,  4.79s/it]"
     ]
    },
    {
     "name": "stdout",
     "output_type": "stream",
     "text": [
      "\n",
      "Average train loss: 0.07019880359681945\n",
      "\n",
      "Validation loss: 0.31171463429927826\n",
      "Validation Accuracy: 0.890625\n",
      "\n"
     ]
    },
    {
     "name": "stderr",
     "output_type": "stream",
     "text": [
      "\r",
      "Epoch:  12%|██████████▌                                                                             | 12/100 [00:58<07:00,  4.78s/it]"
     ]
    },
    {
     "name": "stdout",
     "output_type": "stream",
     "text": [
      "\n",
      "Average train loss: 0.0566821718433251\n",
      "\n",
      "Validation loss: 0.2971290399630864\n",
      "Validation Accuracy: 0.8977272727272727\n",
      "\n"
     ]
    },
    {
     "name": "stderr",
     "output_type": "stream",
     "text": [
      "\r",
      "Epoch:  13%|███████████▍                                                                            | 13/100 [01:03<06:56,  4.79s/it]"
     ]
    },
    {
     "name": "stdout",
     "output_type": "stream",
     "text": [
      "\n",
      "Average train loss: 0.0520008122936512\n",
      "\n",
      "Validation loss: 0.32028352717558545\n",
      "Validation Accuracy: 0.9005681818181818\n",
      "\n"
     ]
    },
    {
     "name": "stderr",
     "output_type": "stream",
     "text": [
      "\r",
      "Epoch:  14%|████████████▎                                                                           | 14/100 [01:08<06:52,  4.80s/it]"
     ]
    },
    {
     "name": "stdout",
     "output_type": "stream",
     "text": [
      "\n",
      "Average train loss: 0.032883912596541144\n",
      "\n",
      "Validation loss: 0.3176076064507167\n",
      "Validation Accuracy: 0.8991477272727273\n",
      "\n"
     ]
    },
    {
     "name": "stderr",
     "output_type": "stream",
     "text": [
      "\r",
      "Epoch:  15%|█████████████▏                                                                          | 15/100 [01:13<06:52,  4.86s/it]"
     ]
    },
    {
     "name": "stdout",
     "output_type": "stream",
     "text": [
      "\n",
      "Average train loss: 0.0314978517126292\n",
      "\n",
      "Validation loss: 0.3091258853673935\n",
      "Validation Accuracy: 0.9105113636363636\n",
      "\n"
     ]
    },
    {
     "name": "stderr",
     "output_type": "stream",
     "text": [
      "\r",
      "Epoch:  16%|██████████████                                                                          | 16/100 [01:17<06:47,  4.85s/it]"
     ]
    },
    {
     "name": "stdout",
     "output_type": "stream",
     "text": [
      "\n",
      "Average train loss: 0.02586421765348253\n",
      "\n",
      "Validation loss: 0.31994643807411194\n",
      "Validation Accuracy: 0.9048295454545454\n",
      "\n"
     ]
    },
    {
     "name": "stderr",
     "output_type": "stream",
     "text": [
      "\r",
      "Epoch:  17%|██████████████▉                                                                         | 17/100 [01:22<06:43,  4.86s/it]"
     ]
    },
    {
     "name": "stdout",
     "output_type": "stream",
     "text": [
      "\n",
      "Average train loss: 0.020431595054105856\n",
      "\n",
      "Validation loss: 0.3293658643960953\n",
      "Validation Accuracy: 0.9019886363636364\n",
      "\n"
     ]
    },
    {
     "name": "stderr",
     "output_type": "stream",
     "text": [
      "\r",
      "Epoch:  18%|███████████████▊                                                                        | 18/100 [01:27<06:40,  4.88s/it]"
     ]
    },
    {
     "name": "stdout",
     "output_type": "stream",
     "text": [
      "\n",
      "Average train loss: 0.020457200803017866\n",
      "\n",
      "Validation loss: 0.2968879093726476\n",
      "Validation Accuracy: 0.9161931818181818\n",
      "\n"
     ]
    },
    {
     "name": "stderr",
     "output_type": "stream",
     "text": [
      "\r",
      "Epoch:  19%|████████████████▋                                                                       | 19/100 [01:32<06:34,  4.87s/it]"
     ]
    },
    {
     "name": "stdout",
     "output_type": "stream",
     "text": [
      "\n",
      "Average train loss: 0.0161713884153869\n",
      "\n",
      "Validation loss: 0.3236422886451085\n",
      "Validation Accuracy: 0.9133522727272727\n",
      "\n"
     ]
    },
    {
     "name": "stderr",
     "output_type": "stream",
     "text": [
      "\r",
      "Epoch:  20%|█████████████████▌                                                                      | 20/100 [01:37<06:29,  4.87s/it]"
     ]
    },
    {
     "name": "stdout",
     "output_type": "stream",
     "text": [
      "\n",
      "Average train loss: 0.01638325159243929\n",
      "\n",
      "Validation loss: 0.30162298679351807\n",
      "Validation Accuracy: 0.921875\n",
      "\n"
     ]
    },
    {
     "name": "stderr",
     "output_type": "stream",
     "text": [
      "\r",
      "Epoch:  21%|██████████████████▍                                                                     | 21/100 [01:42<06:23,  4.86s/it]"
     ]
    },
    {
     "name": "stdout",
     "output_type": "stream",
     "text": [
      "\n",
      "Average train loss: 0.011810219322796911\n",
      "\n",
      "Validation loss: 0.3322021613518397\n",
      "Validation Accuracy: 0.9090909090909091\n",
      "\n"
     ]
    },
    {
     "name": "stderr",
     "output_type": "stream",
     "text": [
      "\r",
      "Epoch:  22%|███████████████████▎                                                                    | 22/100 [01:47<06:18,  4.85s/it]"
     ]
    },
    {
     "name": "stdout",
     "output_type": "stream",
     "text": [
      "\n",
      "Average train loss: 0.010734397365013137\n",
      "\n",
      "Validation loss: 0.30699458221594494\n",
      "Validation Accuracy: 0.9232954545454546\n",
      "\n"
     ]
    },
    {
     "name": "stderr",
     "output_type": "stream",
     "text": [
      "\r",
      "Epoch:  23%|████████████████████▏                                                                   | 23/100 [01:51<06:12,  4.84s/it]"
     ]
    },
    {
     "name": "stdout",
     "output_type": "stream",
     "text": [
      "\n",
      "Average train loss: 0.008078838625806384\n",
      "\n",
      "Validation loss: 0.3561393866936366\n",
      "Validation Accuracy: 0.9147727272727273\n",
      "\n"
     ]
    },
    {
     "name": "stderr",
     "output_type": "stream",
     "text": [
      "\r",
      "Epoch:  24%|█████████████████████                                                                   | 24/100 [01:56<06:09,  4.86s/it]"
     ]
    },
    {
     "name": "stdout",
     "output_type": "stream",
     "text": [
      "\n",
      "Average train loss: 0.006089327764736178\n",
      "\n",
      "Validation loss: 0.3137824088335037\n",
      "Validation Accuracy: 0.9176136363636364\n",
      "\n"
     ]
    },
    {
     "name": "stderr",
     "output_type": "stream",
     "text": [
      "\r",
      "Epoch:  25%|██████████████████████                                                                  | 25/100 [02:01<06:04,  4.85s/it]"
     ]
    },
    {
     "name": "stdout",
     "output_type": "stream",
     "text": [
      "\n",
      "Average train loss: 0.005798573440794523\n",
      "\n",
      "Validation loss: 0.32791795829931897\n",
      "Validation Accuracy: 0.9190340909090909\n",
      "\n"
     ]
    },
    {
     "name": "stderr",
     "output_type": "stream",
     "text": [
      "\r",
      "Epoch:  26%|██████████████████████▉                                                                 | 26/100 [02:06<05:58,  4.84s/it]"
     ]
    },
    {
     "name": "stdout",
     "output_type": "stream",
     "text": [
      "\n",
      "Average train loss: 0.00663840970567738\n",
      "\n",
      "Validation loss: 0.3558294822772344\n",
      "Validation Accuracy: 0.9133522727272727\n",
      "\n"
     ]
    },
    {
     "name": "stderr",
     "output_type": "stream",
     "text": [
      "\r",
      "Epoch:  27%|███████████████████████▊                                                                | 27/100 [02:11<05:53,  4.85s/it]"
     ]
    },
    {
     "name": "stdout",
     "output_type": "stream",
     "text": [
      "\n",
      "Average train loss: 0.006502018300428365\n",
      "\n",
      "Validation loss: 0.35163438816865283\n",
      "Validation Accuracy: 0.9119318181818182\n",
      "\n"
     ]
    },
    {
     "name": "stderr",
     "output_type": "stream",
     "text": [
      "\r",
      "Epoch:  28%|████████████████████████▋                                                               | 28/100 [02:16<05:51,  4.89s/it]"
     ]
    },
    {
     "name": "stdout",
     "output_type": "stream",
     "text": [
      "\n",
      "Average train loss: 0.0072479805870292085\n",
      "\n",
      "Validation loss: 0.35770854353904724\n",
      "Validation Accuracy: 0.9161931818181818\n",
      "\n"
     ]
    },
    {
     "name": "stderr",
     "output_type": "stream",
     "text": [
      "\r",
      "Epoch:  29%|█████████████████████████▌                                                              | 29/100 [02:21<05:46,  4.88s/it]"
     ]
    },
    {
     "name": "stdout",
     "output_type": "stream",
     "text": [
      "\n",
      "Average train loss: 0.0034993714968247027\n",
      "\n",
      "Validation loss: 0.35035479565461475\n",
      "Validation Accuracy: 0.9204545454545454\n",
      "\n"
     ]
    },
    {
     "name": "stderr",
     "output_type": "stream",
     "text": [
      "\r",
      "Epoch:  30%|██████████████████████████▍                                                             | 30/100 [02:26<05:43,  4.91s/it]"
     ]
    },
    {
     "name": "stdout",
     "output_type": "stream",
     "text": [
      "\n",
      "Average train loss: 0.006540082104038447\n",
      "\n",
      "Validation loss: 0.33353959520657855\n",
      "Validation Accuracy: 0.9275568181818182\n",
      "\n"
     ]
    },
    {
     "name": "stderr",
     "output_type": "stream",
     "text": [
      "\r",
      "Epoch:  31%|███████████████████████████▎                                                            | 31/100 [02:31<05:43,  4.97s/it]"
     ]
    },
    {
     "name": "stdout",
     "output_type": "stream",
     "text": [
      "\n",
      "Average train loss: 0.002755335754045518\n",
      "\n",
      "Validation loss: 0.3978376140197118\n",
      "Validation Accuracy: 0.9090909090909091\n",
      "\n"
     ]
    },
    {
     "name": "stderr",
     "output_type": "stream",
     "text": [
      "\r",
      "Epoch:  32%|████████████████████████████▏                                                           | 32/100 [02:36<05:40,  5.01s/it]"
     ]
    },
    {
     "name": "stdout",
     "output_type": "stream",
     "text": [
      "\n",
      "Average train loss: 0.0022315750781369084\n",
      "\n",
      "Validation loss: 0.3753049323956172\n",
      "Validation Accuracy: 0.9105113636363636\n",
      "\n"
     ]
    },
    {
     "name": "stderr",
     "output_type": "stream",
     "text": [
      "\r",
      "Epoch:  33%|█████████████████████████████                                                           | 33/100 [02:41<05:30,  4.94s/it]"
     ]
    },
    {
     "name": "stdout",
     "output_type": "stream",
     "text": [
      "\n",
      "Average train loss: 0.0030384814090211876\n",
      "\n",
      "Validation loss: 0.4368400226036708\n",
      "Validation Accuracy: 0.9119318181818182\n",
      "\n"
     ]
    },
    {
     "name": "stderr",
     "output_type": "stream",
     "text": [
      "\r",
      "Epoch:  34%|█████████████████████████████▉                                                          | 34/100 [02:45<05:22,  4.89s/it]"
     ]
    },
    {
     "name": "stdout",
     "output_type": "stream",
     "text": [
      "\n",
      "Average train loss: 0.0015026434751537938\n",
      "\n",
      "Validation loss: 0.39769916236400604\n",
      "Validation Accuracy: 0.9119318181818182\n",
      "\n"
     ]
    },
    {
     "name": "stderr",
     "output_type": "stream",
     "text": [
      "\r",
      "Epoch:  35%|██████████████████████████████▊                                                         | 35/100 [02:50<05:17,  4.88s/it]"
     ]
    },
    {
     "name": "stdout",
     "output_type": "stream",
     "text": [
      "\n",
      "Average train loss: 0.002192967088679628\n",
      "\n",
      "Validation loss: 0.40745694438616437\n",
      "Validation Accuracy: 0.9105113636363636\n",
      "\n"
     ]
    },
    {
     "name": "stderr",
     "output_type": "stream",
     "text": [
      "\r",
      "Epoch:  36%|███████████████████████████████▋                                                        | 36/100 [02:55<05:12,  4.88s/it]"
     ]
    },
    {
     "name": "stdout",
     "output_type": "stream",
     "text": [
      "\n",
      "Average train loss: 0.0014657665572788876\n",
      "\n",
      "Validation loss: 0.3867751012245814\n",
      "Validation Accuracy: 0.9105113636363636\n",
      "\n"
     ]
    },
    {
     "name": "stderr",
     "output_type": "stream",
     "text": [
      "\r",
      "Epoch:  37%|████████████████████████████████▌                                                       | 37/100 [03:00<05:06,  4.86s/it]"
     ]
    },
    {
     "name": "stdout",
     "output_type": "stream",
     "text": [
      "\n",
      "Average train loss: 0.0037274760397849604\n",
      "\n",
      "Validation loss: 0.40852339069048565\n",
      "Validation Accuracy: 0.9090909090909091\n",
      "\n"
     ]
    },
    {
     "name": "stderr",
     "output_type": "stream",
     "text": [
      "\r",
      "Epoch:  38%|█████████████████████████████████▍                                                      | 38/100 [03:05<05:04,  4.90s/it]"
     ]
    },
    {
     "name": "stdout",
     "output_type": "stream",
     "text": [
      "\n",
      "Average train loss: 0.005098702281732888\n",
      "\n",
      "Validation loss: 0.3943282465140025\n",
      "Validation Accuracy: 0.9133522727272727\n",
      "\n"
     ]
    },
    {
     "name": "stderr",
     "output_type": "stream",
     "text": [
      "\r",
      "Epoch:  39%|██████████████████████████████████▎                                                     | 39/100 [03:10<04:59,  4.91s/it]"
     ]
    },
    {
     "name": "stdout",
     "output_type": "stream",
     "text": [
      "\n",
      "Average train loss: 0.0033843879888687902\n",
      "\n",
      "Validation loss: 0.4285958607991536\n",
      "Validation Accuracy: 0.9105113636363636\n",
      "\n"
     ]
    },
    {
     "name": "stderr",
     "output_type": "stream",
     "text": [
      "\r",
      "Epoch:  40%|███████████████████████████████████▏                                                    | 40/100 [03:15<04:54,  4.91s/it]"
     ]
    },
    {
     "name": "stdout",
     "output_type": "stream",
     "text": [
      "\n",
      "Average train loss: 0.0031349924865935463\n",
      "\n",
      "Validation loss: 0.4286766896645228\n",
      "Validation Accuracy: 0.9076704545454546\n",
      "\n"
     ]
    },
    {
     "name": "stderr",
     "output_type": "stream",
     "text": [
      "\r",
      "Epoch:  41%|████████████████████████████████████                                                    | 41/100 [03:20<04:53,  4.97s/it]"
     ]
    },
    {
     "name": "stdout",
     "output_type": "stream",
     "text": [
      "\n",
      "Average train loss: 0.0013762304879492149\n",
      "\n",
      "Validation loss: 0.438317875067393\n",
      "Validation Accuracy: 0.9090909090909091\n",
      "\n"
     ]
    },
    {
     "name": "stderr",
     "output_type": "stream",
     "text": [
      "\r",
      "Epoch:  42%|████████████████████████████████████▉                                                   | 42/100 [03:25<04:47,  4.95s/it]"
     ]
    },
    {
     "name": "stdout",
     "output_type": "stream",
     "text": [
      "\n",
      "Average train loss: 0.0020017152031262717\n",
      "\n",
      "Validation loss: 0.43306201696395874\n",
      "Validation Accuracy: 0.9090909090909091\n",
      "\n"
     ]
    },
    {
     "name": "stderr",
     "output_type": "stream",
     "text": [
      "\r",
      "Epoch:  43%|█████████████████████████████████████▊                                                  | 43/100 [03:30<04:40,  4.93s/it]"
     ]
    },
    {
     "name": "stdout",
     "output_type": "stream",
     "text": [
      "\n",
      "Average train loss: 0.0034915468022518326\n",
      "\n",
      "Validation loss: 0.4294838110605876\n",
      "Validation Accuracy: 0.9105113636363636\n",
      "\n"
     ]
    },
    {
     "name": "stderr",
     "output_type": "stream",
     "text": [
      "\r",
      "Epoch:  44%|██████████████████████████████████████▋                                                 | 44/100 [03:35<04:34,  4.91s/it]"
     ]
    },
    {
     "name": "stdout",
     "output_type": "stream",
     "text": [
      "\n",
      "Average train loss: 0.0035904719225072768\n",
      "\n",
      "Validation loss: 0.369632825255394\n",
      "Validation Accuracy: 0.9176136363636364\n",
      "\n"
     ]
    },
    {
     "name": "stderr",
     "output_type": "stream",
     "text": [
      "\r",
      "Epoch:  45%|███████████████████████████████████████▌                                                | 45/100 [03:39<04:28,  4.88s/it]"
     ]
    },
    {
     "name": "stdout",
     "output_type": "stream",
     "text": [
      "\n",
      "Average train loss: 0.0009406354887081155\n",
      "\n",
      "Validation loss: 0.40602321922779083\n",
      "Validation Accuracy: 0.9176136363636364\n",
      "\n"
     ]
    },
    {
     "name": "stderr",
     "output_type": "stream",
     "text": [
      "\r",
      "Epoch:  46%|████████████████████████████████████████▍                                               | 46/100 [03:44<04:23,  4.88s/it]"
     ]
    },
    {
     "name": "stdout",
     "output_type": "stream",
     "text": [
      "\n",
      "Average train loss: 0.0009435904272928989\n",
      "\n",
      "Validation loss: 0.3770313213268916\n",
      "Validation Accuracy: 0.9176136363636364\n",
      "\n"
     ]
    },
    {
     "name": "stderr",
     "output_type": "stream",
     "text": [
      "\r",
      "Epoch:  47%|█████████████████████████████████████████▎                                              | 47/100 [03:49<04:20,  4.91s/it]"
     ]
    },
    {
     "name": "stdout",
     "output_type": "stream",
     "text": [
      "\n",
      "Average train loss: 0.00222623296334253\n",
      "\n",
      "Validation loss: 0.39920436839262646\n",
      "Validation Accuracy: 0.9147727272727273\n",
      "\n"
     ]
    },
    {
     "name": "stderr",
     "output_type": "stream",
     "text": [
      "\r",
      "Epoch:  48%|██████████████████████████████████████████▏                                             | 48/100 [03:54<04:15,  4.92s/it]"
     ]
    },
    {
     "name": "stdout",
     "output_type": "stream",
     "text": [
      "\n",
      "Average train loss: 0.0006796339706246121\n",
      "\n",
      "Validation loss: 0.39768968522548676\n",
      "Validation Accuracy: 0.9190340909090909\n",
      "\n"
     ]
    },
    {
     "name": "stderr",
     "output_type": "stream",
     "text": [
      "\r",
      "Epoch:  49%|███████████████████████████████████████████                                             | 49/100 [03:59<04:10,  4.91s/it]"
     ]
    },
    {
     "name": "stdout",
     "output_type": "stream",
     "text": [
      "\n",
      "Average train loss: 0.0012393362461201225\n",
      "\n",
      "Validation loss: 0.37779149909814197\n",
      "Validation Accuracy: 0.9204545454545454\n",
      "\n"
     ]
    },
    {
     "name": "stderr",
     "output_type": "stream",
     "text": [
      "\r",
      "Epoch:  50%|████████████████████████████████████████████                                            | 50/100 [04:04<04:04,  4.89s/it]"
     ]
    },
    {
     "name": "stdout",
     "output_type": "stream",
     "text": [
      "\n",
      "Average train loss: 0.0014371117746729094\n",
      "\n",
      "Validation loss: 0.39099080860614777\n",
      "Validation Accuracy: 0.9204545454545454\n",
      "\n"
     ]
    },
    {
     "name": "stderr",
     "output_type": "stream",
     "text": [
      "\r",
      "Epoch:  51%|████████████████████████████████████████████▉                                           | 51/100 [04:09<04:02,  4.95s/it]"
     ]
    },
    {
     "name": "stdout",
     "output_type": "stream",
     "text": [
      "\n",
      "Average train loss: 0.002945665328297764\n",
      "\n",
      "Validation loss: 0.3992471595605214\n",
      "Validation Accuracy: 0.9161931818181818\n",
      "\n"
     ]
    },
    {
     "name": "stderr",
     "output_type": "stream",
     "text": [
      "\r",
      "Epoch:  52%|█████████████████████████████████████████████▊                                          | 52/100 [04:14<03:55,  4.92s/it]"
     ]
    },
    {
     "name": "stdout",
     "output_type": "stream",
     "text": [
      "\n",
      "Average train loss: 0.0008680492925729292\n",
      "\n",
      "Validation loss: 0.382272665699323\n",
      "Validation Accuracy: 0.9147727272727273\n",
      "\n"
     ]
    },
    {
     "name": "stderr",
     "output_type": "stream",
     "text": [
      "\r",
      "Epoch:  53%|██████████████████████████████████████████████▋                                         | 53/100 [04:19<03:49,  4.88s/it]"
     ]
    },
    {
     "name": "stdout",
     "output_type": "stream",
     "text": [
      "\n",
      "Average train loss: 0.0009426862173616731\n",
      "\n",
      "Validation loss: 0.36564334233601886\n",
      "Validation Accuracy: 0.9204545454545454\n",
      "\n"
     ]
    },
    {
     "name": "stderr",
     "output_type": "stream",
     "text": [
      "\r",
      "Epoch:  54%|███████████████████████████████████████████████▌                                        | 54/100 [04:23<03:42,  4.85s/it]"
     ]
    },
    {
     "name": "stdout",
     "output_type": "stream",
     "text": [
      "\n",
      "Average train loss: 0.0007003378256437524\n",
      "\n",
      "Validation loss: 0.4061354969938596\n",
      "Validation Accuracy: 0.9147727272727273\n",
      "\n"
     ]
    },
    {
     "name": "stderr",
     "output_type": "stream",
     "text": [
      "\r",
      "Epoch:  55%|████████████████████████████████████████████████▍                                       | 55/100 [04:29<03:45,  5.00s/it]"
     ]
    },
    {
     "name": "stdout",
     "output_type": "stream",
     "text": [
      "\n",
      "Average train loss: 0.0011876364163375304\n",
      "\n",
      "Validation loss: 0.38799819846947986\n",
      "Validation Accuracy: 0.9161931818181818\n",
      "\n"
     ]
    },
    {
     "name": "stderr",
     "output_type": "stream",
     "text": [
      "\r",
      "Epoch:  56%|█████████████████████████████████████████████████▎                                      | 56/100 [04:34<03:37,  4.95s/it]"
     ]
    },
    {
     "name": "stdout",
     "output_type": "stream",
     "text": [
      "\n",
      "Average train loss: 0.0021420994780783076\n",
      "\n",
      "Validation loss: 0.3872162103652954\n",
      "Validation Accuracy: 0.9133522727272727\n",
      "\n"
     ]
    },
    {
     "name": "stderr",
     "output_type": "stream",
     "text": [
      "\r",
      "Epoch:  57%|██████████████████████████████████████████████████▏                                     | 57/100 [04:38<03:31,  4.91s/it]"
     ]
    },
    {
     "name": "stdout",
     "output_type": "stream",
     "text": [
      "\n",
      "Average train loss: 0.0005178116346845248\n",
      "\n",
      "Validation loss: 0.3850729564825694\n",
      "Validation Accuracy: 0.9133522727272727\n",
      "\n"
     ]
    },
    {
     "name": "stderr",
     "output_type": "stream",
     "text": [
      "\r",
      "Epoch:  58%|███████████████████████████████████████████████████                                     | 58/100 [04:43<03:26,  4.91s/it]"
     ]
    },
    {
     "name": "stdout",
     "output_type": "stream",
     "text": [
      "\n",
      "Average train loss: 0.0006235603783958746\n",
      "\n",
      "Validation loss: 0.38929350674152374\n",
      "Validation Accuracy: 0.9133522727272727\n",
      "\n"
     ]
    },
    {
     "name": "stderr",
     "output_type": "stream",
     "text": [
      "\r",
      "Epoch:  59%|███████████████████████████████████████████████████▉                                    | 59/100 [04:48<03:21,  4.91s/it]"
     ]
    },
    {
     "name": "stdout",
     "output_type": "stream",
     "text": [
      "\n",
      "Average train loss: 0.0005436410113664655\n",
      "\n",
      "Validation loss: 0.4204198593894641\n",
      "Validation Accuracy: 0.9161931818181818\n",
      "\n"
     ]
    },
    {
     "name": "stderr",
     "output_type": "stream",
     "text": [
      "\r",
      "Epoch:  60%|████████████████████████████████████████████████████▊                                   | 60/100 [04:53<03:14,  4.87s/it]"
     ]
    },
    {
     "name": "stdout",
     "output_type": "stream",
     "text": [
      "\n",
      "Average train loss: 0.000406297117175806\n",
      "\n",
      "Validation loss: 0.4114360511302948\n",
      "Validation Accuracy: 0.9176136363636364\n",
      "\n"
     ]
    },
    {
     "name": "stderr",
     "output_type": "stream",
     "text": [
      "\r",
      "Epoch:  61%|█████████████████████████████████████████████████████▋                                  | 61/100 [04:58<03:09,  4.87s/it]"
     ]
    },
    {
     "name": "stdout",
     "output_type": "stream",
     "text": [
      "\n",
      "Average train loss: 0.0006536060985429989\n",
      "\n",
      "Validation loss: 0.39264824489752453\n",
      "Validation Accuracy: 0.9133522727272727\n",
      "\n"
     ]
    },
    {
     "name": "stderr",
     "output_type": "stream",
     "text": [
      "\r",
      "Epoch:  62%|██████████████████████████████████████████████████████▌                                 | 62/100 [05:03<03:05,  4.87s/it]"
     ]
    },
    {
     "name": "stdout",
     "output_type": "stream",
     "text": [
      "\n",
      "Average train loss: 0.0005038596009399043\n",
      "\n",
      "Validation loss: 0.3976898441712062\n",
      "Validation Accuracy: 0.9176136363636364\n",
      "\n"
     ]
    },
    {
     "name": "stderr",
     "output_type": "stream",
     "text": [
      "\r",
      "Epoch:  63%|███████████████████████████████████████████████████████▍                                | 63/100 [05:08<03:01,  4.89s/it]"
     ]
    },
    {
     "name": "stdout",
     "output_type": "stream",
     "text": [
      "\n",
      "Average train loss: 0.00040206979307792307\n",
      "\n",
      "Validation loss: 0.3953719139099121\n",
      "Validation Accuracy: 0.9190340909090909\n",
      "\n"
     ]
    },
    {
     "name": "stderr",
     "output_type": "stream",
     "text": [
      "\r",
      "Epoch:  64%|████████████████████████████████████████████████████████▎                               | 64/100 [05:13<02:55,  4.88s/it]"
     ]
    },
    {
     "name": "stdout",
     "output_type": "stream",
     "text": [
      "\n",
      "Average train loss: 0.00037175306655020296\n",
      "\n",
      "Validation loss: 0.39057255287965137\n",
      "Validation Accuracy: 0.9190340909090909\n",
      "\n"
     ]
    },
    {
     "name": "stderr",
     "output_type": "stream",
     "text": [
      "\r",
      "Epoch:  65%|█████████████████████████████████████████████████████████▏                              | 65/100 [05:18<02:51,  4.90s/it]"
     ]
    },
    {
     "name": "stdout",
     "output_type": "stream",
     "text": [
      "\n",
      "Average train loss: 0.0003418070185337759\n",
      "\n",
      "Validation loss: 0.4003082563479741\n",
      "Validation Accuracy: 0.9161931818181818\n",
      "\n"
     ]
    },
    {
     "name": "stderr",
     "output_type": "stream",
     "text": [
      "\r",
      "Epoch:  66%|██████████████████████████████████████████████████████████                              | 66/100 [05:22<02:45,  4.88s/it]"
     ]
    },
    {
     "name": "stdout",
     "output_type": "stream",
     "text": [
      "\n",
      "Average train loss: 0.0003661195720875791\n",
      "\n",
      "Validation loss: 0.3994755099217097\n",
      "Validation Accuracy: 0.9161931818181818\n",
      "\n"
     ]
    },
    {
     "name": "stderr",
     "output_type": "stream",
     "text": [
      "\r",
      "Epoch:  67%|██████████████████████████████████████████████████████████▉                             | 67/100 [05:27<02:41,  4.90s/it]"
     ]
    },
    {
     "name": "stdout",
     "output_type": "stream",
     "text": [
      "\n",
      "Average train loss: 0.00037192644413153175\n",
      "\n",
      "Validation loss: 0.41414110859235126\n",
      "Validation Accuracy: 0.9147727272727273\n",
      "\n"
     ]
    },
    {
     "name": "stderr",
     "output_type": "stream",
     "text": [
      "\r",
      "Epoch:  68%|███████████████████████████████████████████████████████████▊                            | 68/100 [05:32<02:36,  4.90s/it]"
     ]
    },
    {
     "name": "stdout",
     "output_type": "stream",
     "text": [
      "\n",
      "Average train loss: 0.0006690767980520226\n",
      "\n",
      "Validation loss: 0.40925069401661557\n",
      "Validation Accuracy: 0.9147727272727273\n",
      "\n"
     ]
    },
    {
     "name": "stderr",
     "output_type": "stream",
     "text": [
      "\r",
      "Epoch:  69%|████████████████████████████████████████████████████████████▋                           | 69/100 [05:37<02:31,  4.89s/it]"
     ]
    },
    {
     "name": "stdout",
     "output_type": "stream",
     "text": [
      "\n",
      "Average train loss: 0.0008243186039180728\n",
      "\n",
      "Validation loss: 0.41712002207835513\n",
      "Validation Accuracy: 0.9147727272727273\n",
      "\n"
     ]
    },
    {
     "name": "stderr",
     "output_type": "stream",
     "text": [
      "\r",
      "Epoch:  70%|█████████████████████████████████████████████████████████████▌                          | 70/100 [05:42<02:26,  4.90s/it]"
     ]
    },
    {
     "name": "stdout",
     "output_type": "stream",
     "text": [
      "\n",
      "Average train loss: 0.00085278126061894\n",
      "\n",
      "Validation loss: 0.4123299221197764\n",
      "Validation Accuracy: 0.9176136363636364\n",
      "\n"
     ]
    },
    {
     "name": "stderr",
     "output_type": "stream",
     "text": [
      "\r",
      "Epoch:  71%|██████████████████████████████████████████████████████████████▍                         | 71/100 [05:47<02:21,  4.89s/it]"
     ]
    },
    {
     "name": "stdout",
     "output_type": "stream",
     "text": [
      "\n",
      "Average train loss: 0.0003451371903793188\n",
      "\n",
      "Validation loss: 0.40613796810309094\n",
      "Validation Accuracy: 0.9190340909090909\n",
      "\n"
     ]
    },
    {
     "name": "stderr",
     "output_type": "stream",
     "text": [
      "\r",
      "Epoch:  72%|███████████████████████████████████████████████████████████████▎                        | 72/100 [05:52<02:16,  4.89s/it]"
     ]
    },
    {
     "name": "stdout",
     "output_type": "stream",
     "text": [
      "\n",
      "Average train loss: 0.0003619288145273458\n",
      "\n",
      "Validation loss: 0.4031415929396947\n",
      "Validation Accuracy: 0.9204545454545454\n",
      "\n"
     ]
    },
    {
     "name": "stderr",
     "output_type": "stream",
     "text": [
      "\r",
      "Epoch:  73%|████████████████████████████████████████████████████████████████▏                       | 73/100 [05:57<02:12,  4.91s/it]"
     ]
    },
    {
     "name": "stdout",
     "output_type": "stream",
     "text": [
      "\n",
      "Average train loss: 0.0003568680319100774\n",
      "\n",
      "Validation loss: 0.40278565883636475\n",
      "Validation Accuracy: 0.9161931818181818\n",
      "\n"
     ]
    },
    {
     "name": "stderr",
     "output_type": "stream",
     "text": [
      "\r",
      "Epoch:  74%|█████████████████████████████████████████████████████████████████                       | 74/100 [06:02<02:07,  4.91s/it]"
     ]
    },
    {
     "name": "stdout",
     "output_type": "stream",
     "text": [
      "\n",
      "Average train loss: 0.0004048572463943856\n",
      "\n",
      "Validation loss: 0.4122234731912613\n",
      "Validation Accuracy: 0.9161931818181818\n",
      "\n"
     ]
    },
    {
     "name": "stderr",
     "output_type": "stream",
     "text": [
      "\r",
      "Epoch:  75%|██████████████████████████████████████████████████████████████████                      | 75/100 [06:07<02:02,  4.91s/it]"
     ]
    },
    {
     "name": "stdout",
     "output_type": "stream",
     "text": [
      "\n",
      "Average train loss: 0.001699792161161895\n",
      "\n",
      "Validation loss: 0.41644978026549023\n",
      "Validation Accuracy: 0.9147727272727273\n",
      "\n"
     ]
    },
    {
     "name": "stderr",
     "output_type": "stream",
     "text": [
      "\r",
      "Epoch:  76%|██████████████████████████████████████████████████████████████████▉                     | 76/100 [06:11<01:57,  4.91s/it]"
     ]
    },
    {
     "name": "stdout",
     "output_type": "stream",
     "text": [
      "\n",
      "Average train loss: 0.0005158552915721278\n",
      "\n",
      "Validation loss: 0.4199876089890798\n",
      "Validation Accuracy: 0.9147727272727273\n",
      "\n"
     ]
    },
    {
     "name": "stderr",
     "output_type": "stream",
     "text": [
      "\r",
      "Epoch:  77%|███████████████████████████████████████████████████████████████████▊                    | 77/100 [06:16<01:53,  4.93s/it]"
     ]
    },
    {
     "name": "stdout",
     "output_type": "stream",
     "text": [
      "\n",
      "Average train loss: 0.0013413567812676774\n",
      "\n",
      "Validation loss: 0.4065476655960083\n",
      "Validation Accuracy: 0.9176136363636364\n",
      "\n"
     ]
    },
    {
     "name": "stderr",
     "output_type": "stream",
     "text": [
      "\r",
      "Epoch:  78%|████████████████████████████████████████████████████████████████████▋                   | 78/100 [06:21<01:49,  4.96s/it]"
     ]
    },
    {
     "name": "stdout",
     "output_type": "stream",
     "text": [
      "\n",
      "Average train loss: 0.00039112355079851113\n",
      "\n",
      "Validation loss: 0.4086548214157422\n",
      "Validation Accuracy: 0.9190340909090909\n",
      "\n"
     ]
    },
    {
     "name": "stderr",
     "output_type": "stream",
     "text": [
      "\r",
      "Epoch:  79%|█████████████████████████████████████████████████████████████████████▌                  | 79/100 [06:26<01:43,  4.92s/it]"
     ]
    },
    {
     "name": "stdout",
     "output_type": "stream",
     "text": [
      "\n",
      "Average train loss: 0.0014808547415062396\n",
      "\n",
      "Validation loss: 0.4123399779200554\n",
      "Validation Accuracy: 0.9176136363636364\n",
      "\n"
     ]
    },
    {
     "name": "stderr",
     "output_type": "stream",
     "text": [
      "\r",
      "Epoch:  80%|██████████████████████████████████████████████████████████████████████▍                 | 80/100 [06:32<01:40,  5.03s/it]"
     ]
    },
    {
     "name": "stdout",
     "output_type": "stream",
     "text": [
      "\n",
      "Average train loss: 0.00034946763419914834\n",
      "\n",
      "Validation loss: 0.4009787042935689\n",
      "Validation Accuracy: 0.9204545454545454\n",
      "\n"
     ]
    },
    {
     "name": "stderr",
     "output_type": "stream",
     "text": [
      "\r",
      "Epoch:  81%|███████████████████████████████████████████████████████████████████████▎                | 81/100 [06:36<01:34,  4.99s/it]"
     ]
    },
    {
     "name": "stdout",
     "output_type": "stream",
     "text": [
      "\n",
      "Average train loss: 0.0002812228867696831\n",
      "\n",
      "Validation loss: 0.4002254381775856\n",
      "Validation Accuracy: 0.9204545454545454\n",
      "\n"
     ]
    },
    {
     "name": "stderr",
     "output_type": "stream",
     "text": [
      "\r",
      "Epoch:  82%|████████████████████████████████████████████████████████████████████████▏               | 82/100 [06:41<01:29,  4.96s/it]"
     ]
    },
    {
     "name": "stdout",
     "output_type": "stream",
     "text": [
      "\n",
      "Average train loss: 0.00033206378611794207\n",
      "\n",
      "Validation loss: 0.4013766869902611\n",
      "Validation Accuracy: 0.9204545454545454\n",
      "\n"
     ]
    },
    {
     "name": "stderr",
     "output_type": "stream",
     "text": [
      "\r",
      "Epoch:  83%|█████████████████████████████████████████████████████████████████████████               | 83/100 [06:46<01:24,  4.94s/it]"
     ]
    },
    {
     "name": "stdout",
     "output_type": "stream",
     "text": [
      "\n",
      "Average train loss: 0.0002680871202755952\n",
      "\n",
      "Validation loss: 0.3988156815369924\n",
      "Validation Accuracy: 0.9204545454545454\n",
      "\n"
     ]
    },
    {
     "name": "stderr",
     "output_type": "stream",
     "text": [
      "\r",
      "Epoch:  84%|█████████████████████████████████████████████████████████████████████████▉              | 84/100 [06:51<01:19,  4.94s/it]"
     ]
    },
    {
     "name": "stdout",
     "output_type": "stream",
     "text": [
      "\n",
      "Average train loss: 0.001340876492880246\n",
      "\n",
      "Validation loss: 0.4051152567068736\n",
      "Validation Accuracy: 0.9190340909090909\n",
      "\n"
     ]
    },
    {
     "name": "stderr",
     "output_type": "stream",
     "text": [
      "\r",
      "Epoch:  85%|██████████████████████████████████████████████████████████████████████████▊             | 85/100 [06:56<01:13,  4.92s/it]"
     ]
    },
    {
     "name": "stdout",
     "output_type": "stream",
     "text": [
      "\n",
      "Average train loss: 0.00031646472962165717\n",
      "\n",
      "Validation loss: 0.4060971389214198\n",
      "Validation Accuracy: 0.9176136363636364\n",
      "\n"
     ]
    },
    {
     "name": "stderr",
     "output_type": "stream",
     "text": [
      "\r",
      "Epoch:  86%|███████████████████████████████████████████████████████████████████████████▋            | 86/100 [07:01<01:08,  4.91s/it]"
     ]
    },
    {
     "name": "stdout",
     "output_type": "stream",
     "text": [
      "\n",
      "Average train loss: 0.00037146618524275254\n",
      "\n",
      "Validation loss: 0.4097670614719391\n",
      "Validation Accuracy: 0.9176136363636364\n",
      "\n"
     ]
    },
    {
     "name": "stderr",
     "output_type": "stream",
     "text": [
      "\r",
      "Epoch:  87%|████████████████████████████████████████████████████████████████████████████▌           | 87/100 [07:06<01:04,  4.93s/it]"
     ]
    },
    {
     "name": "stdout",
     "output_type": "stream",
     "text": [
      "\n",
      "Average train loss: 0.00030892733472380013\n",
      "\n",
      "Validation loss: 0.4011230319738388\n",
      "Validation Accuracy: 0.9161931818181818\n",
      "\n"
     ]
    },
    {
     "name": "stderr",
     "output_type": "stream",
     "text": [
      "\r",
      "Epoch:  88%|█████████████████████████████████████████████████████████████████████████████▍          | 88/100 [07:11<00:59,  4.94s/it]"
     ]
    },
    {
     "name": "stdout",
     "output_type": "stream",
     "text": [
      "\n",
      "Average train loss: 0.00037027164701915655\n",
      "\n",
      "Validation loss: 0.41046154002348584\n",
      "Validation Accuracy: 0.9161931818181818\n",
      "\n"
     ]
    },
    {
     "name": "stderr",
     "output_type": "stream",
     "text": [
      "\r",
      "Epoch:  89%|██████████████████████████████████████████████████████████████████████████████▎         | 89/100 [07:16<00:54,  4.93s/it]"
     ]
    },
    {
     "name": "stdout",
     "output_type": "stream",
     "text": [
      "\n",
      "Average train loss: 0.00042589720275524695\n",
      "\n",
      "Validation loss: 0.4195936744411786\n",
      "Validation Accuracy: 0.9147727272727273\n",
      "\n"
     ]
    },
    {
     "name": "stderr",
     "output_type": "stream",
     "text": [
      "\r",
      "Epoch:  90%|███████████████████████████████████████████████████████████████████████████████▏        | 90/100 [07:21<00:49,  4.94s/it]"
     ]
    },
    {
     "name": "stdout",
     "output_type": "stream",
     "text": [
      "\n",
      "Average train loss: 0.0004060161524345555\n",
      "\n",
      "Validation loss: 0.41223899523417157\n",
      "Validation Accuracy: 0.9176136363636364\n",
      "\n"
     ]
    },
    {
     "name": "stderr",
     "output_type": "stream",
     "text": [
      "\r",
      "Epoch:  91%|████████████████████████████████████████████████████████████████████████████████        | 91/100 [07:26<00:44,  4.94s/it]"
     ]
    },
    {
     "name": "stdout",
     "output_type": "stream",
     "text": [
      "\n",
      "Average train loss: 0.0007319958179626459\n",
      "\n",
      "Validation loss: 0.4291603888074557\n",
      "Validation Accuracy: 0.9147727272727273\n",
      "\n"
     ]
    },
    {
     "name": "stderr",
     "output_type": "stream",
     "text": [
      "\r",
      "Epoch:  92%|████████████████████████████████████████████████████████████████████████████████▉       | 92/100 [07:31<00:39,  5.00s/it]"
     ]
    },
    {
     "name": "stdout",
     "output_type": "stream",
     "text": [
      "\n",
      "Average train loss: 0.00035030570810098044\n",
      "\n",
      "Validation loss: 0.4311852976679802\n",
      "Validation Accuracy: 0.9147727272727273\n",
      "\n"
     ]
    },
    {
     "name": "stderr",
     "output_type": "stream",
     "text": [
      "\r",
      "Epoch:  93%|█████████████████████████████████████████████████████████████████████████████████▊      | 93/100 [07:36<00:35,  5.02s/it]"
     ]
    },
    {
     "name": "stdout",
     "output_type": "stream",
     "text": [
      "\n",
      "Average train loss: 0.0006474120746133849\n",
      "\n",
      "Validation loss: 0.42946632703145343\n",
      "Validation Accuracy: 0.9147727272727273\n",
      "\n"
     ]
    },
    {
     "name": "stderr",
     "output_type": "stream",
     "text": [
      "\r",
      "Epoch:  94%|██████████████████████████████████████████████████████████████████████████████████▋     | 94/100 [07:41<00:30,  5.06s/it]"
     ]
    },
    {
     "name": "stdout",
     "output_type": "stream",
     "text": [
      "\n",
      "Average train loss: 0.0004055155416911778\n",
      "\n",
      "Validation loss: 0.4262688681483269\n",
      "Validation Accuracy: 0.9147727272727273\n",
      "\n"
     ]
    },
    {
     "name": "stderr",
     "output_type": "stream",
     "text": [
      "\r",
      "Epoch:  95%|███████████████████████████████████████████████████████████████████████████████████▌    | 95/100 [07:46<00:25,  5.03s/it]"
     ]
    },
    {
     "name": "stdout",
     "output_type": "stream",
     "text": [
      "\n",
      "Average train loss: 0.0002511716793378582\n",
      "\n",
      "Validation loss: 0.4263988882303238\n",
      "Validation Accuracy: 0.9147727272727273\n",
      "\n"
     ]
    },
    {
     "name": "stderr",
     "output_type": "stream",
     "text": [
      "\r",
      "Epoch:  96%|████████████████████████████████████████████████████████████████████████████████████▍   | 96/100 [07:51<00:19,  4.98s/it]"
     ]
    },
    {
     "name": "stdout",
     "output_type": "stream",
     "text": [
      "\n",
      "Average train loss: 0.000262442891956501\n",
      "\n",
      "Validation loss: 0.42680395146210987\n",
      "Validation Accuracy: 0.9161931818181818\n",
      "\n"
     ]
    },
    {
     "name": "stderr",
     "output_type": "stream",
     "text": [
      "\r",
      "Epoch:  97%|█████████████████████████████████████████████████████████████████████████████████████▎  | 97/100 [07:56<00:14,  4.97s/it]"
     ]
    },
    {
     "name": "stdout",
     "output_type": "stream",
     "text": [
      "\n",
      "Average train loss: 0.0002550471926952014\n",
      "\n",
      "Validation loss: 0.4269491086403529\n",
      "Validation Accuracy: 0.9161931818181818\n",
      "\n"
     ]
    },
    {
     "name": "stderr",
     "output_type": "stream",
     "text": [
      "\r",
      "Epoch:  98%|██████████████████████████████████████████████████████████████████████████████████████▏ | 98/100 [08:01<00:09,  4.95s/it]"
     ]
    },
    {
     "name": "stdout",
     "output_type": "stream",
     "text": [
      "\n",
      "Average train loss: 0.00029674897632503416\n",
      "\n",
      "Validation loss: 0.42667606969674426\n",
      "Validation Accuracy: 0.9161931818181818\n",
      "\n"
     ]
    },
    {
     "name": "stderr",
     "output_type": "stream",
     "text": [
      "\r",
      "Epoch:  99%|███████████████████████████████████████████████████████████████████████████████████████ | 99/100 [08:06<00:04,  4.91s/it]"
     ]
    },
    {
     "name": "stdout",
     "output_type": "stream",
     "text": [
      "\n",
      "Average train loss: 0.0002687297243634627\n",
      "\n",
      "Validation loss: 0.42653899888197583\n",
      "Validation Accuracy: 0.9161931818181818\n",
      "\n"
     ]
    },
    {
     "name": "stderr",
     "output_type": "stream",
     "text": [
      "Epoch: 100%|███████████████████████████████████████████████████████████████████████████████████████| 100/100 [08:10<00:00,  4.91s/it]\n"
     ]
    }
   ],
   "source": [
    "## Store the average loss after each epoch so we can plot them.\n",
    "import copy\n",
    "loss_values, validation_loss_values = [], []\n",
    "\n",
    "test_acc = []\n",
    "\n",
    "for e in trange(epochs, desc=\"Epoch\"):\n",
    "    \n",
    "    max_test = 0\n",
    "    \n",
    "    # ========================================\n",
    "    #               Training\n",
    "    # ========================================\n",
    "    # Perform one full pass over the training set.\n",
    "\n",
    "    # Put the model into training mode.\n",
    "    model.train()\n",
    "    # Reset the total loss for this epoch.\n",
    "    total_loss = 0\n",
    "\n",
    "    # Training loop\n",
    "    for step, batch in enumerate(train_dataloader):\n",
    "        # add batch to gpu\n",
    "        batch = tuple(t.to(device) for t in batch)\n",
    "        b_input_ids, b_input_mask, b_labels = batch\n",
    "        # Always clear any previously calculated gradients before performing a backward pass.\n",
    "        model.zero_grad()\n",
    "        # forward pass\n",
    "        # This will return the loss (rather than the model output)\n",
    "        # because we have provided the `labels`.\n",
    "        outputs = model(b_input_ids, token_type_ids=None,\n",
    "                        attention_mask=b_input_mask, labels=b_labels)\n",
    "        # get the loss\n",
    "        loss = outputs[0]\n",
    "        # Perform a backward pass to calculate the gradients.\n",
    "        loss.backward()\n",
    "        # track train loss\n",
    "        total_loss += loss.item()\n",
    "        # Clip the norm of the gradient\n",
    "        # This is to help prevent the \"exploding gradients\" problem.\n",
    "        torch.nn.utils.clip_grad_norm_(parameters=model.parameters(), max_norm=max_grad_norm)\n",
    "        # update parameters\n",
    "        optimizer.step()\n",
    "        # Update the learning rate.\n",
    "        scheduler.step()\n",
    "\n",
    "    # Calculate the average loss over the training data.\n",
    "    avg_train_loss = total_loss / len(train_dataloader)\n",
    "    print(\"\\nAverage train loss: {}\".format(avg_train_loss))\n",
    "\n",
    "    # Store the loss value for plotting the learning curve.\n",
    "    loss_values.append(avg_train_loss)\n",
    "\n",
    "\n",
    "    # ========================================\n",
    "    #               Validation\n",
    "    # ========================================\n",
    "    # After the completion of each training epoch, measure our performance on\n",
    "    # our validation set.\n",
    "\n",
    "    # Put the model into evaluation mode\n",
    "    model.eval()\n",
    "    # Reset the validation loss for this epoch.\n",
    "    eval_loss, eval_accuracy = 0, 0\n",
    "    nb_eval_steps, nb_eval_examples = 0, 0\n",
    "    predictions , true_labels = [], []\n",
    "    for batch in valid_dataloader:\n",
    "        batch = tuple(t.to(device) for t in batch)\n",
    "        b_input_ids, b_input_mask, b_labels = batch\n",
    "\n",
    "        # Telling the model not to compute or store gradients,\n",
    "        # saving memory and speeding up validation\n",
    "        with torch.no_grad():\n",
    "            # Forward pass, calculate logit predictions.\n",
    "            # This will return the logits rather than the loss because we have not provided labels.\n",
    "            outputs = model(b_input_ids, token_type_ids=None,\n",
    "                            attention_mask=b_input_mask, labels=b_labels)\n",
    "        # Move logits and labels to CPU\n",
    "        logits = outputs[1].detach().cpu().numpy()\n",
    "        label_ids = b_labels.to('cpu').numpy()\n",
    "\n",
    "        # Calculate the accuracy for this batch of test sentences.\n",
    "        eval_loss += outputs[0].mean().item()\n",
    "        predictions.extend([list(p) for p in np.argmax(logits, axis=2)])\n",
    "        true_labels.extend(label_ids)\n",
    "\n",
    "    eval_loss = eval_loss / len(valid_dataloader)\n",
    "    validation_loss_values.append(eval_loss)\n",
    "    print(\"\\nValidation loss: {}\".format(eval_loss))\n",
    "    pred_tags = [tag_values[p_i] for p, l in zip(predictions, true_labels)\n",
    "                                 for p_i, l_i in zip(p, l) if tag_values[l_i] != \"PAD\"]\n",
    "    valid_tags = [tag_values[l_i] for l in true_labels\n",
    "                                  for l_i in l if tag_values[l_i] != \"PAD\"]\n",
    "\n",
    "    print(\"Validation Accuracy: {}\".format(accuracy_score(pred_tags, valid_tags)))\n",
    "    #print(\"Validation F1-Score: {}\".format(f1_score(pred_tags, valid_tags)))\n",
    "    print()\n",
    "    a = acc()\n",
    "    test_acc.append(a)\n",
    "    if a >= max_test:\n",
    "        max = a\n",
    "        torch.save(model, \"test.txt\")\n",
    "    "
   ]
  },
  {
   "cell_type": "code",
   "execution_count": 20,
   "metadata": {
    "colab": {
     "base_uri": "https://localhost:8080/",
     "height": 427
    },
    "id": "DY0dJeiF5Xao",
    "outputId": "ff5516fd-e7c1-4817-a764-1709cf212126"
   },
   "outputs": [
    {
     "data": {
      "image/png": "[encoded data removed]",
      "text/plain": [
       "<Figure size 1200x600 with 1 Axes>"
      ]
     },
     "metadata": {},
     "output_type": "display_data"
    }
   ],
   "source": [
    "# Use plot styling from seaborn.\n",
    "sns.set(style='darkgrid')\n",
    "\n",
    "# Increase the plot size and font size.\n",
    "sns.set(font_scale=1.5)\n",
    "plt.rcParams[\"figure.figsize\"] = (12,6)\n",
    "\n",
    "# Plot the learning curve.\n",
    "plt.plot(loss_values, 'b-o', label=\"training loss\")\n",
    "plt.plot(validation_loss_values, 'r-o', label=\"validation loss\")\n",
    "\n",
    "# Label the plot.\n",
    "plt.title(\"Learning curve\")\n",
    "plt.xlabel(\"Epoch\")\n",
    "plt.ylabel(\"Loss\")\n",
    "plt.legend()\n",
    "\n",
    "plt.show()"
   ]
  },
  {
   "cell_type": "markdown",
   "metadata": {
    "id": "cOYQWNFEJeHC"
   },
   "source": [
    "# Performance on test data"
   ]
  },
  {
   "cell_type": "code",
   "execution_count": 21,
   "metadata": {
    "colab": {
     "base_uri": "https://localhost:8080/"
    },
    "id": "0B82QAERQMpJ",
    "outputId": "9874451d-4769-408a-d83c-72cbca107e97"
   },
   "outputs": [
    {
     "name": "stdout",
     "output_type": "stream",
     "text": [
      "0.8316831683168316\n"
     ]
    }
   ],
   "source": [
    "print(acc())"
   ]
  },
  {
   "cell_type": "code",
   "execution_count": 22,
   "metadata": {
    "colab": {
     "base_uri": "https://localhost:8080/"
    },
    "id": "8WcmlxmjWXz2",
    "outputId": "77aade8e-a9ce-4e06-dfb7-2055864ddc57"
   },
   "outputs": [
    {
     "name": "stdout",
     "output_type": "stream",
     "text": [
      "[0.9108910891089109, 0.8910891089108911, 0.8613861386138614, 0.8613861386138614, 0.8613861386138614, 0.8514851485148515, 0.8613861386138614, 0.8613861386138614, 0.8514851485148515, 0.8415841584158416, 0.8316831683168316, 0.8118811881188119, 0.8415841584158416, 0.8415841584158416, 0.8415841584158416, 0.8415841584158416, 0.8217821782178217, 0.8316831683168316, 0.8316831683168316, 0.8316831683168316, 0.8316831683168316, 0.8316831683168316, 0.8415841584158416, 0.8316831683168316, 0.8316831683168316, 0.8316831683168316, 0.8118811881188119, 0.8118811881188119, 0.801980198019802, 0.8217821782178217, 0.8415841584158416, 0.801980198019802, 0.8316831683168316, 0.8217821782178217, 0.8118811881188119, 0.8118811881188119, 0.8118811881188119, 0.8118811881188119, 0.8316831683168316, 0.8316831683168316, 0.8316831683168316, 0.8316831683168316, 0.8316831683168316, 0.8217821782178217, 0.8316831683168316, 0.8118811881188119, 0.8415841584158416, 0.8415841584158416, 0.8217821782178217, 0.8316831683168316, 0.8217821782178217, 0.8316831683168316, 0.8316831683168316, 0.8415841584158416, 0.8316831683168316, 0.8316831683168316, 0.8316831683168316, 0.8316831683168316, 0.8316831683168316, 0.8217821782178217, 0.8217821782178217, 0.8316831683168316, 0.8316831683168316, 0.8415841584158416, 0.8415841584158416, 0.8415841584158416, 0.8415841584158416, 0.8316831683168316, 0.8415841584158416, 0.8316831683168316, 0.8316831683168316, 0.8316831683168316, 0.8415841584158416, 0.8415841584158416, 0.8415841584158416, 0.8415841584158416, 0.8316831683168316, 0.8316831683168316, 0.8316831683168316, 0.8118811881188119, 0.8316831683168316, 0.8316831683168316, 0.8316831683168316, 0.8316831683168316, 0.8316831683168316, 0.8316831683168316, 0.8316831683168316, 0.8316831683168316, 0.8316831683168316, 0.8118811881188119, 0.8316831683168316, 0.801980198019802, 0.801980198019802, 0.8118811881188119, 0.8316831683168316, 0.8316831683168316, 0.8316831683168316, 0.8316831683168316, 0.8316831683168316, 0.8316831683168316]\n"
     ]
    }
   ],
   "source": [
    "print(test_acc)"
   ]
  },
  {
   "cell_type": "code",
   "execution_count": 24,
   "metadata": {},
   "outputs": [
    {
     "data": {
      "image/png": "[encoded data removed]",
      "text/plain": [
       "<Figure size 1200x600 with 1 Axes>"
      ]
     },
     "metadata": {},
     "output_type": "display_data"
    }
   ],
   "source": [
    "sns.set(style='darkgrid')\n",
    "\n",
    "# Increase the plot size and font size.\n",
    "sns.set(font_scale=1.5)\n",
    "plt.rcParams[\"figure.figsize\"] = (12,6)\n",
    "\n",
    "# Plot the learning curve.\n",
    "plt.plot(test_acc, 'b-o', label=\"test accuracy\")\n",
    "\n",
    "\n",
    "# Label the plot.\n",
    "plt.title(\"\")\n",
    "plt.xlabel(\"Epoch\")\n",
    "plt.ylabel(\"Test Accuracy\")\n",
    "plt.legend()\n",
    "\n",
    "plt.show()"
   ]
  },
  {
   "cell_type": "code",
   "execution_count": 28,
   "metadata": {},
   "outputs": [],
   "source": [
    "def acc():\n",
    "    accuracy_list = []\n",
    "\n",
    "    for i in range(len(sentences)):\n",
    "        tokenized_sentence = tokenizer.encode(sentences[i])\n",
    "        input_ids = torch.tensor([tokenized_sentence]).cuda()\n",
    "\n",
    "        with torch.no_grad():\n",
    "            output = model(input_ids)\n",
    "\n",
    "        label_indices = np.argmax(output[0].to('cpu').numpy(), axis=2)\n",
    "\n",
    "        # join bpe split tokens\n",
    "        tokens = tokenizer.convert_ids_to_tokens(input_ids.to('cpu').numpy()[0])\n",
    "        new_tokens, new_labels = [], []\n",
    "        for token, label_idx in zip(tokens, label_indices[0]):\n",
    "            if token.startswith(\"##\"):\n",
    "                new_tokens[-1] = new_tokens[-1] + token[2:]\n",
    "            else:\n",
    "                new_labels.append(tag_values[label_idx])\n",
    "                new_tokens.append(token)\n",
    "\n",
    "        new_labels = new_labels[1:-2]\n",
    "        accuracy_list.append(accuracy_score(new_labels, labels[i]))\n",
    "\n",
    "        print(\"\\nPredict labels: \",new_labels)\n",
    "        print(\"Actual labels: \",labels[i])\n",
    "\n",
    "        return statistics.mean(accuracy_list)"
   ]
  },
  {
   "cell_type": "code",
   "execution_count": 29,
   "metadata": {},
   "outputs": [
    {
     "name": "stdout",
     "output_type": "stream",
     "text": [
      "0\n",
      "\n",
      "Predict labels:  ['0', '0', '0', 'A', '0', '0', '0', '0', '0', '0', '0', '0', 'M', '0', '0', '0', '0', '0', '0', '0', '0', '0', '0', '0', '0', '0', '0', '0', '0', '0', '0', '0', '0', '0', '0', '0', '0', '0', '0', '0', '0', '0', '0', '0', '0', '0', '0', '0', '0', '0', '0', '0', '0', '0', '0', '0', '0', '0', '0', '0', '0', '0', '0', '0', '0', '0', '0', 'Q', 'Q', 'Q', 'Q', '0', '0', '0', '0', '0', '0', '0', '0', '0', '0', '0', '0', '0', '0', '0', 'Q', 'Q', 'Q', 'Q', '0', '0', '0', '0', '0', 'Q', 'A', '0', '0', '0', '0']\n",
      "Actual labels:  ['0', '0', '0', '0', 'R', 'R', 'R', '0', '0', '0', '0', '0', '0', '0', '0', 'M', 'M', '0', '0', '0', '0', '0', '0', '0', '0', '0', '0', '0', '0', '0', '0', '0', '0', '0', '0', '0', '0', '0', '0', '0', '0', '0', '0', '0', '0', '0', '0', '0', '0', '0', '0', '0', '0', '0', '0', '0', '0', '0', '0', '0', '0', '0', '0', '0', '0', '0', '0', 'R', 'R', 'R', 'R', '0', '0', '0', '0', '0', '0', '0', '0', '0', '0', '0', '0', '0', '0', '0', '0', '0', '0', '0', '0', '0', '0', '0', '0', '0', '0', '0', '0', '0', '0', '0', '0', '0', '0', '0', '0', '0', '0', '0', '0', 'Q', 'Q', 'Q', 'Q', 'Q', 'Q', 'Q', 'Q', 'Q', '0', '0', '0', '0', '0', '0', '0', 'M', 'M', '0', '0', '0', '0', '0', '0', '0', '0', 'R', 'R', 'R', '0', '0', '0', '0', '0', 'Q', 'Q', 'Q', 'Q', 'Q', '0', '0', '0', '0', '0', '0', 'Q', 'Q', 'Q', 'Q', '0', '0', '0', '0', '0', '0']\n"
     ]
    },
    {
     "data": {
      "text/plain": [
       "0.8316831683168316"
      ]
     },
     "execution_count": 29,
     "metadata": {},
     "output_type": "execute_result"
    }
   ],
   "source": [
    "acc()"
   ]
  },
  {
   "cell_type": "markdown",
   "metadata": {},
   "source": []
  }
 ],
 "metadata": {
  "accelerator": "GPU",
  "colab": {
   "collapsed_sections": [
    "NZDhhU5ZP1oC",
    "ePokOkwMP9rm",
    "RitZN9B6RdGR",
    "oE4OVxV1LLH1",
    "fIlayjaxK1ac",
    "POhQTWIpJwlb",
    "cOYQWNFEJeHC"
   ],
   "name": "NER.ipynb",
   "provenance": []
  },
  "kernelspec": {
   "display_name": "Python 3 (ipykernel)",
   "language": "python",
   "name": "python3"
  },
  "language_info": {
   "codemirror_mode": {
    "name": "ipython",
    "version": 3
   },
   "file_extension": ".py",
   "mimetype": "text/x-python",
   "name": "python",
   "nbconvert_exporter": "python",
   "pygments_lexer": "ipython3",
   "version": "3.8.16"
  },
  "widgets": {
   "application/vnd.jupyter.widget-state+json": {
    "04bec66c474c43b2abf55df9493c1ad3": {
     "model_module": "@jupyter-widgets/controls",
     "model_name": "FloatProgressModel",
     "state": {
      "_dom_classes": [],
      "_model_module": "@jupyter-widgets/controls",
      "_model_module_version": "1.5.0",
      "_model_name": "FloatProgressModel",
      "_view_count": null,
      "_view_module": "@jupyter-widgets/controls",
      "_view_module_version": "1.5.0",
      "_view_name": "ProgressView",
      "bar_style": "success",
      "description": "Downloading: 100%",
      "description_tooltip": null,
      "layout": "IPY_MODEL_0aa2f68932aa46e08d79b503cdb066d5",
      "max": 440,
      "min": 0,
      "orientation": "horizontal",
      "style": "IPY_MODEL_153c7c4195394cd987cd27224c076792",
      "value": 440
     }
    },
    "0aa2f68932aa46e08d79b503cdb066d5": {
     "model_module": "@jupyter-widgets/base",
     "model_name": "LayoutModel",
     "state": {
      "_model_module": "@jupyter-widgets/base",
      "_model_module_version": "1.2.0",
      "_model_name": "LayoutModel",
      "_view_count": null,
      "_view_module": "@jupyter-widgets/base",
      "_view_module_version": "1.2.0",
      "_view_name": "LayoutView",
      "align_content": null,
      "align_items": null,
      "align_self": null,
      "border": null,
      "bottom": null,
      "display": null,
      "flex": null,
      "flex_flow": null,
      "grid_area": null,
      "grid_auto_columns": null,
      "grid_auto_flow": null,
      "grid_auto_rows": null,
      "grid_column": null,
      "grid_gap": null,
      "grid_row": null,
      "grid_template_areas": null,
      "grid_template_columns": null,
      "grid_template_rows": null,
      "height": null,
      "justify_content": null,
      "justify_items": null,
      "left": null,
      "margin": null,
      "max_height": null,
      "max_width": null,
      "min_height": null,
      "min_width": null,
      "object_fit": null,
      "object_position": null,
      "order": null,
      "overflow": null,
      "overflow_x": null,
      "overflow_y": null,
      "padding": null,
      "right": null,
      "top": null,
      "visibility": null,
      "width": null
     }
    },
    "0e77fed9e8004154922761880363a58f": {
     "model_module": "@jupyter-widgets/controls",
     "model_name": "ProgressStyleModel",
     "state": {
      "_model_module": "@jupyter-widgets/controls",
      "_model_module_version": "1.5.0",
      "_model_name": "ProgressStyleModel",
      "_view_count": null,
      "_view_module": "@jupyter-widgets/base",
      "_view_module_version": "1.2.0",
      "_view_name": "StyleView",
      "bar_color": null,
      "description_width": "initial"
     }
    },
    "153c7c4195394cd987cd27224c076792": {
     "model_module": "@jupyter-widgets/controls",
     "model_name": "ProgressStyleModel",
     "state": {
      "_model_module": "@jupyter-widgets/controls",
      "_model_module_version": "1.5.0",
      "_model_name": "ProgressStyleModel",
      "_view_count": null,
      "_view_module": "@jupyter-widgets/base",
      "_view_module_version": "1.2.0",
      "_view_name": "StyleView",
      "bar_color": null,
      "description_width": "initial"
     }
    },
    "185d34a6bb6b4439814040da0f2853dc": {
     "model_module": "@jupyter-widgets/controls",
     "model_name": "HBoxModel",
     "state": {
      "_dom_classes": [],
      "_model_module": "@jupyter-widgets/controls",
      "_model_module_version": "1.5.0",
      "_model_name": "HBoxModel",
      "_view_count": null,
      "_view_module": "@jupyter-widgets/controls",
      "_view_module_version": "1.5.0",
      "_view_name": "HBoxView",
      "box_style": "",
      "children": [
       "IPY_MODEL_04bec66c474c43b2abf55df9493c1ad3",
       "IPY_MODEL_28c5ada5e413494d875958479bce1bf8"
      ],
      "layout": "IPY_MODEL_c1cd492626094c28a241545b0fd13a58"
     }
    },
    "2042a2bd748246de8e33be4c188715ca": {
     "model_module": "@jupyter-widgets/controls",
     "model_name": "FloatProgressModel",
     "state": {
      "_dom_classes": [],
      "_model_module": "@jupyter-widgets/controls",
      "_model_module_version": "1.5.0",
      "_model_name": "FloatProgressModel",
      "_view_count": null,
      "_view_module": "@jupyter-widgets/controls",
      "_view_module_version": "1.5.0",
      "_view_name": "ProgressView",
      "bar_style": "success",
      "description": "Downloading: 100%",
      "description_tooltip": null,
      "layout": "IPY_MODEL_d1144a9b389f47df90b5c127031bfd3a",
      "max": 1198122,
      "min": 0,
      "orientation": "horizontal",
      "style": "IPY_MODEL_b14647f6aae14ecc8a519df754f03037",
      "value": 1198122
     }
    },
    "28c5ada5e413494d875958479bce1bf8": {
     "model_module": "@jupyter-widgets/controls",
     "model_name": "HTMLModel",
     "state": {
      "_dom_classes": [],
      "_model_module": "@jupyter-widgets/controls",
      "_model_module_version": "1.5.0",
      "_model_name": "HTMLModel",
      "_view_count": null,
      "_view_module": "@jupyter-widgets/controls",
      "_view_module_version": "1.5.0",
      "_view_name": "HTMLView",
      "description": "",
      "description_tooltip": null,
      "layout": "IPY_MODEL_a21058481d204b6a98739c21527b9b53",
      "placeholder": "​",
      "style": "IPY_MODEL_e8ccc221de014f9589d4c01db1576bee",
      "value": " 440/440 [00:00&lt;00:00, 734B/s]"
     }
    },
    "339741a64cde4ae781225b14a9c2cb76": {
     "model_module": "@jupyter-widgets/base",
     "model_name": "LayoutModel",
     "state": {
      "_model_module": "@jupyter-widgets/base",
      "_model_module_version": "1.2.0",
      "_model_name": "LayoutModel",
      "_view_count": null,
      "_view_module": "@jupyter-widgets/base",
      "_view_module_version": "1.2.0",
      "_view_name": "LayoutView",
      "align_content": null,
      "align_items": null,
      "align_self": null,
      "border": null,
      "bottom": null,
      "display": null,
      "flex": null,
      "flex_flow": null,
      "grid_area": null,
      "grid_auto_columns": null,
      "grid_auto_flow": null,
      "grid_auto_rows": null,
      "grid_column": null,
      "grid_gap": null,
      "grid_row": null,
      "grid_template_areas": null,
      "grid_template_columns": null,
      "grid_template_rows": null,
      "height": null,
      "justify_content": null,
      "justify_items": null,
      "left": null,
      "margin": null,
      "max_height": null,
      "max_width": null,
      "min_height": null,
      "min_width": null,
      "object_fit": null,
      "object_position": null,
      "order": null,
      "overflow": null,
      "overflow_x": null,
      "overflow_y": null,
      "padding": null,
      "right": null,
      "top": null,
      "visibility": null,
      "width": null
     }
    },
    "3a57498cc92f475289ed438778ad901a": {
     "model_module": "@jupyter-widgets/controls",
     "model_name": "HBoxModel",
     "state": {
      "_dom_classes": [],
      "_model_module": "@jupyter-widgets/controls",
      "_model_module_version": "1.5.0",
      "_model_name": "HBoxModel",
      "_view_count": null,
      "_view_module": "@jupyter-widgets/controls",
      "_view_module_version": "1.5.0",
      "_view_name": "HBoxView",
      "box_style": "",
      "children": [
       "IPY_MODEL_53b2be4adc4e42879082de9dc5e7e288",
       "IPY_MODEL_93df6238747f46a687b94eaa17a756f2"
      ],
      "layout": "IPY_MODEL_339741a64cde4ae781225b14a9c2cb76"
     }
    },
    "53b2be4adc4e42879082de9dc5e7e288": {
     "model_module": "@jupyter-widgets/controls",
     "model_name": "FloatProgressModel",
     "state": {
      "_dom_classes": [],
      "_model_module": "@jupyter-widgets/controls",
      "_model_module_version": "1.5.0",
      "_model_name": "FloatProgressModel",
      "_view_count": null,
      "_view_module": "@jupyter-widgets/controls",
      "_view_module_version": "1.5.0",
      "_view_name": "ProgressView",
      "bar_style": "success",
      "description": "Downloading: 100%",
      "description_tooltip": null,
      "layout": "IPY_MODEL_e51c5802ddc848b68a80aa74f8ac7c81",
      "max": 654226731,
      "min": 0,
      "orientation": "horizontal",
      "style": "IPY_MODEL_0e77fed9e8004154922761880363a58f",
      "value": 654226731
     }
    },
    "5cd5dba2aea04e8ab8f4d6571e1d8ad7": {
     "model_module": "@jupyter-widgets/controls",
     "model_name": "DescriptionStyleModel",
     "state": {
      "_model_module": "@jupyter-widgets/controls",
      "_model_module_version": "1.5.0",
      "_model_name": "DescriptionStyleModel",
      "_view_count": null,
      "_view_module": "@jupyter-widgets/base",
      "_view_module_version": "1.2.0",
      "_view_name": "StyleView",
      "description_width": ""
     }
    },
    "79e1052f1ce14de09b93b29f36fcdf26": {
     "model_module": "@jupyter-widgets/controls",
     "model_name": "HTMLModel",
     "state": {
      "_dom_classes": [],
      "_model_module": "@jupyter-widgets/controls",
      "_model_module_version": "1.5.0",
      "_model_name": "HTMLModel",
      "_view_count": null,
      "_view_module": "@jupyter-widgets/controls",
      "_view_module_version": "1.5.0",
      "_view_name": "HTMLView",
      "description": "",
      "description_tooltip": null,
      "layout": "IPY_MODEL_f8753b1167d24669982f270213629a70",
      "placeholder": "​",
      "style": "IPY_MODEL_5cd5dba2aea04e8ab8f4d6571e1d8ad7",
      "value": " 1.20M/1.20M [00:03&lt;00:00, 353kB/s]"
     }
    },
    "8c7006c2c348458d881cd0f82191e03c": {
     "model_module": "@jupyter-widgets/base",
     "model_name": "LayoutModel",
     "state": {
      "_model_module": "@jupyter-widgets/base",
      "_model_module_version": "1.2.0",
      "_model_name": "LayoutModel",
      "_view_count": null,
      "_view_module": "@jupyter-widgets/base",
      "_view_module_version": "1.2.0",
      "_view_name": "LayoutView",
      "align_content": null,
      "align_items": null,
      "align_self": null,
      "border": null,
      "bottom": null,
      "display": null,
      "flex": null,
      "flex_flow": null,
      "grid_area": null,
      "grid_auto_columns": null,
      "grid_auto_flow": null,
      "grid_auto_rows": null,
      "grid_column": null,
      "grid_gap": null,
      "grid_row": null,
      "grid_template_areas": null,
      "grid_template_columns": null,
      "grid_template_rows": null,
      "height": null,
      "justify_content": null,
      "justify_items": null,
      "left": null,
      "margin": null,
      "max_height": null,
      "max_width": null,
      "min_height": null,
      "min_width": null,
      "object_fit": null,
      "object_position": null,
      "order": null,
      "overflow": null,
      "overflow_x": null,
      "overflow_y": null,
      "padding": null,
      "right": null,
      "top": null,
      "visibility": null,
      "width": null
     }
    },
    "90bfea074fb74029988d843be156887d": {
     "model_module": "@jupyter-widgets/controls",
     "model_name": "HBoxModel",
     "state": {
      "_dom_classes": [],
      "_model_module": "@jupyter-widgets/controls",
      "_model_module_version": "1.5.0",
      "_model_name": "HBoxModel",
      "_view_count": null,
      "_view_module": "@jupyter-widgets/controls",
      "_view_module_version": "1.5.0",
      "_view_name": "HBoxView",
      "box_style": "",
      "children": [
       "IPY_MODEL_2042a2bd748246de8e33be4c188715ca",
       "IPY_MODEL_79e1052f1ce14de09b93b29f36fcdf26"
      ],
      "layout": "IPY_MODEL_a73c84059bc649f8b21c25f32662de32"
     }
    },
    "93df6238747f46a687b94eaa17a756f2": {
     "model_module": "@jupyter-widgets/controls",
     "model_name": "HTMLModel",
     "state": {
      "_dom_classes": [],
      "_model_module": "@jupyter-widgets/controls",
      "_model_module_version": "1.5.0",
      "_model_name": "HTMLModel",
      "_view_count": null,
      "_view_module": "@jupyter-widgets/controls",
      "_view_module_version": "1.5.0",
      "_view_name": "HTMLView",
      "description": "",
      "description_tooltip": null,
      "layout": "IPY_MODEL_8c7006c2c348458d881cd0f82191e03c",
      "placeholder": "​",
      "style": "IPY_MODEL_cf5ab30e45634ad8834f8ba8130e11ad",
      "value": " 654M/654M [00:19&lt;00:00, 34.4MB/s]"
     }
    },
    "a21058481d204b6a98739c21527b9b53": {
     "model_module": "@jupyter-widgets/base",
     "model_name": "LayoutModel",
     "state": {
      "_model_module": "@jupyter-widgets/base",
      "_model_module_version": "1.2.0",
      "_model_name": "LayoutModel",
      "_view_count": null,
      "_view_module": "@jupyter-widgets/base",
      "_view_module_version": "1.2.0",
      "_view_name": "LayoutView",
      "align_content": null,
      "align_items": null,
      "align_self": null,
      "border": null,
      "bottom": null,
      "display": null,
      "flex": null,
      "flex_flow": null,
      "grid_area": null,
      "grid_auto_columns": null,
      "grid_auto_flow": null,
      "grid_auto_rows": null,
      "grid_column": null,
      "grid_gap": null,
      "grid_row": null,
      "grid_template_areas": null,
      "grid_template_columns": null,
      "grid_template_rows": null,
      "height": null,
      "justify_content": null,
      "justify_items": null,
      "left": null,
      "margin": null,
      "max_height": null,
      "max_width": null,
      "min_height": null,
      "min_width": null,
      "object_fit": null,
      "object_position": null,
      "order": null,
      "overflow": null,
      "overflow_x": null,
      "overflow_y": null,
      "padding": null,
      "right": null,
      "top": null,
      "visibility": null,
      "width": null
     }
    },
    "a73c84059bc649f8b21c25f32662de32": {
     "model_module": "@jupyter-widgets/base",
     "model_name": "LayoutModel",
     "state": {
      "_model_module": "@jupyter-widgets/base",
      "_model_module_version": "1.2.0",
      "_model_name": "LayoutModel",
      "_view_count": null,
      "_view_module": "@jupyter-widgets/base",
      "_view_module_version": "1.2.0",
      "_view_name": "LayoutView",
      "align_content": null,
      "align_items": null,
      "align_self": null,
      "border": null,
      "bottom": null,
      "display": null,
      "flex": null,
      "flex_flow": null,
      "grid_area": null,
      "grid_auto_columns": null,
      "grid_auto_flow": null,
      "grid_auto_rows": null,
      "grid_column": null,
      "grid_gap": null,
      "grid_row": null,
      "grid_template_areas": null,
      "grid_template_columns": null,
      "grid_template_rows": null,
      "height": null,
      "justify_content": null,
      "justify_items": null,
      "left": null,
      "margin": null,
      "max_height": null,
      "max_width": null,
      "min_height": null,
      "min_width": null,
      "object_fit": null,
      "object_position": null,
      "order": null,
      "overflow": null,
      "overflow_x": null,
      "overflow_y": null,
      "padding": null,
      "right": null,
      "top": null,
      "visibility": null,
      "width": null
     }
    },
    "b14647f6aae14ecc8a519df754f03037": {
     "model_module": "@jupyter-widgets/controls",
     "model_name": "ProgressStyleModel",
     "state": {
      "_model_module": "@jupyter-widgets/controls",
      "_model_module_version": "1.5.0",
      "_model_name": "ProgressStyleModel",
      "_view_count": null,
      "_view_module": "@jupyter-widgets/base",
      "_view_module_version": "1.2.0",
      "_view_name": "StyleView",
      "bar_color": null,
      "description_width": "initial"
     }
    },
    "c1cd492626094c28a241545b0fd13a58": {
     "model_module": "@jupyter-widgets/base",
     "model_name": "LayoutModel",
     "state": {
      "_model_module": "@jupyter-widgets/base",
      "_model_module_version": "1.2.0",
      "_model_name": "LayoutModel",
      "_view_count": null,
      "_view_module": "@jupyter-widgets/base",
      "_view_module_version": "1.2.0",
      "_view_name": "LayoutView",
      "align_content": null,
      "align_items": null,
      "align_self": null,
      "border": null,
      "bottom": null,
      "display": null,
      "flex": null,
      "flex_flow": null,
      "grid_area": null,
      "grid_auto_columns": null,
      "grid_auto_flow": null,
      "grid_auto_rows": null,
      "grid_column": null,
      "grid_gap": null,
      "grid_row": null,
      "grid_template_areas": null,
      "grid_template_columns": null,
      "grid_template_rows": null,
      "height": null,
      "justify_content": null,
      "justify_items": null,
      "left": null,
      "margin": null,
      "max_height": null,
      "max_width": null,
      "min_height": null,
      "min_width": null,
      "object_fit": null,
      "object_position": null,
      "order": null,
      "overflow": null,
      "overflow_x": null,
      "overflow_y": null,
      "padding": null,
      "right": null,
      "top": null,
      "visibility": null,
      "width": null
     }
    },
    "cf5ab30e45634ad8834f8ba8130e11ad": {
     "model_module": "@jupyter-widgets/controls",
     "model_name": "DescriptionStyleModel",
     "state": {
      "_model_module": "@jupyter-widgets/controls",
      "_model_module_version": "1.5.0",
      "_model_name": "DescriptionStyleModel",
      "_view_count": null,
      "_view_module": "@jupyter-widgets/base",
      "_view_module_version": "1.2.0",
      "_view_name": "StyleView",
      "description_width": ""
     }
    },
    "d1144a9b389f47df90b5c127031bfd3a": {
     "model_module": "@jupyter-widgets/base",
     "model_name": "LayoutModel",
     "state": {
      "_model_module": "@jupyter-widgets/base",
      "_model_module_version": "1.2.0",
      "_model_name": "LayoutModel",
      "_view_count": null,
      "_view_module": "@jupyter-widgets/base",
      "_view_module_version": "1.2.0",
      "_view_name": "LayoutView",
      "align_content": null,
      "align_items": null,
      "align_self": null,
      "border": null,
      "bottom": null,
      "display": null,
      "flex": null,
      "flex_flow": null,
      "grid_area": null,
      "grid_auto_columns": null,
      "grid_auto_flow": null,
      "grid_auto_rows": null,
      "grid_column": null,
      "grid_gap": null,
      "grid_row": null,
      "grid_template_areas": null,
      "grid_template_columns": null,
      "grid_template_rows": null,
      "height": null,
      "justify_content": null,
      "justify_items": null,
      "left": null,
      "margin": null,
      "max_height": null,
      "max_width": null,
      "min_height": null,
      "min_width": null,
      "object_fit": null,
      "object_position": null,
      "order": null,
      "overflow": null,
      "overflow_x": null,
      "overflow_y": null,
      "padding": null,
      "right": null,
      "top": null,
      "visibility": null,
      "width": null
     }
    },
    "e51c5802ddc848b68a80aa74f8ac7c81": {
     "model_module": "@jupyter-widgets/base",
     "model_name": "LayoutModel",
     "state": {
      "_model_module": "@jupyter-widgets/base",
      "_model_module_version": "1.2.0",
      "_model_name": "LayoutModel",
      "_view_count": null,
      "_view_module": "@jupyter-widgets/base",
      "_view_module_version": "1.2.0",
      "_view_name": "LayoutView",
      "align_content": null,
      "align_items": null,
      "align_self": null,
      "border": null,
      "bottom": null,
      "display": null,
      "flex": null,
      "flex_flow": null,
      "grid_area": null,
      "grid_auto_columns": null,
      "grid_auto_flow": null,
      "grid_auto_rows": null,
      "grid_column": null,
      "grid_gap": null,
      "grid_row": null,
      "grid_template_areas": null,
      "grid_template_columns": null,
      "grid_template_rows": null,
      "height": null,
      "justify_content": null,
      "justify_items": null,
      "left": null,
      "margin": null,
      "max_height": null,
      "max_width": null,
      "min_height": null,
      "min_width": null,
      "object_fit": null,
      "object_position": null,
      "order": null,
      "overflow": null,
      "overflow_x": null,
      "overflow_y": null,
      "padding": null,
      "right": null,
      "top": null,
      "visibility": null,
      "width": null
     }
    },
    "e8ccc221de014f9589d4c01db1576bee": {
     "model_module": "@jupyter-widgets/controls",
     "model_name": "DescriptionStyleModel",
     "state": {
      "_model_module": "@jupyter-widgets/controls",
      "_model_module_version": "1.5.0",
      "_model_name": "DescriptionStyleModel",
      "_view_count": null,
      "_view_module": "@jupyter-widgets/base",
      "_view_module_version": "1.2.0",
      "_view_name": "StyleView",
      "description_width": ""
     }
    },
    "f8753b1167d24669982f270213629a70": {
     "model_module": "@jupyter-widgets/base",
     "model_name": "LayoutModel",
     "state": {
      "_model_module": "@jupyter-widgets/base",
      "_model_module_version": "1.2.0",
      "_model_name": "LayoutModel",
      "_view_count": null,
      "_view_module": "@jupyter-widgets/base",
      "_view_module_version": "1.2.0",
      "_view_name": "LayoutView",
      "align_content": null,
      "align_items": null,
      "align_self": null,
      "border": null,
      "bottom": null,
      "display": null,
      "flex": null,
      "flex_flow": null,
      "grid_area": null,
      "grid_auto_columns": null,
      "grid_auto_flow": null,
      "grid_auto_rows": null,
      "grid_column": null,
      "grid_gap": null,
      "grid_row": null,
      "grid_template_areas": null,
      "grid_template_columns": null,
      "grid_template_rows": null,
      "height": null,
      "justify_content": null,
      "justify_items": null,
      "left": null,
      "margin": null,
      "max_height": null,
      "max_width": null,
      "min_height": null,
      "min_width": null,
      "object_fit": null,
      "object_position": null,
      "order": null,
      "overflow": null,
      "overflow_x": null,
      "overflow_y": null,
      "padding": null,
      "right": null,
      "top": null,
      "visibility": null,
      "width": null
     }
    }
   }
  }
 },
 "nbformat": 4,
 "nbformat_minor": 1
}
